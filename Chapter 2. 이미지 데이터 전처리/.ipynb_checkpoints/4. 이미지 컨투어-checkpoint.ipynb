{
 "cells": [
  {
   "cell_type": "markdown",
   "metadata": {},
   "source": [
    "#### 컨투어(contour)란 동일한 색 또는 동일한 픽셀값(강도,intensity)을 가지고 있는 영역의 경계선 정보이다. \n",
    "\n",
    "물체의 윤곽선, 외형을 파악하는데 사용된다.\n",
    "\n",
    "OpenCV의 findContours 함수로 이미지의 컨투어 정보, 컨투어의 상하구조(hierachy) 정보를 출력한다. 흑백이미지 또는 이진화된 이미지만 적용할 수 있다.\n",
    "\n",
    "#### contours, hierachy = cv2.findContours(image, mode, method)\n",
    "\n",
    "+ image: 흑백이미지 또는 이진화된 이미지\n",
    "+ mode : 컨투어를 찾는 방법\n",
    "    + cv2.RETR_EXTERNAL: 컨투어 라인 중 가장 바깥쪽의 라인만 찾음\n",
    "    + cv2.RETR_LIST: 모든 컨투어 라인을 찾지만, 상하구조(hierachy)관계를 구성하지 않음\n",
    "    + cv2.RETR_CCOMP: 모든 컨투어 라인을 찾고, 상하구조는 2 단계로 구성함\n",
    "    + cv2.RETR_TREE: 모든 컨투어 라인을 찾고, 모든 상하구조를 구성함\n",
    "+ method : 컨투어를 찾을 때 사용하는 근사화 방법\n",
    "    + cv2.CHAIN_APPROX_NONE: 모든 컨투어 포인트를 반환\n",
    "    + cv2.CHAIN_APPROX_SIMPLE: 컨투어 라인을 그릴 수 있는 포인트만 반환\n",
    "    + cv2.CHAIN_APPROX_TC89_L1: Teh_Chin 연결 근사 알고리즘 L1 버전을 적용하여 컨투어 포인트를 줄임\n",
    "    + cv2.CHAIN_APPROX_TC89_KCOS: Teh_Chin 연결 근사 알고리즘 KCOS 버전을 적용하여 컨투어 포인트를 줄임"
   ]
  },
  {
   "cell_type": "code",
   "execution_count": 1,
   "metadata": {},
   "outputs": [],
   "source": [
    "import numpy as np\n",
    "import cv2\n",
    "from skimage.data import horse"
   ]
  },
  {
   "cell_type": "code",
   "execution_count": 2,
   "metadata": {},
   "outputs": [],
   "source": [
    "img_raw = horse().astype('uint8')\n",
    "img_raw = np.ones(img_raw.shape) - img_raw\n",
    "\n",
    "img = img_raw.copy().astype('uint8')\n",
    "\n",
    "contours, hierarchy = cv2.findContours(img, cv2.RETR_TREE, cv2.CHAIN_APPROX_TC89_KCOS)  \n",
    "# 모든 라인을 찾고 모든 상하구조를 구성, Teh_chin 연결 근사 알고리즘 KCOS 버전 적용하여 컨투어 포인트 줄임"
   ]
  },
  {
   "cell_type": "markdown",
   "metadata": {},
   "source": [
    "컨투어 정보는 컨투어를 구성하는 점들로 이루어진 배열의 리스트다. 리스트의 원소의 갯수는 컨투어의 갯수와 같다."
   ]
  },
  {
   "cell_type": "code",
   "execution_count": 3,
   "metadata": {},
   "outputs": [
    {
     "data": {
      "text/plain": [
       "2"
      ]
     },
     "execution_count": 3,
     "metadata": {},
     "output_type": "execute_result"
    }
   ],
   "source": [
    "len(contours)"
   ]
  },
  {
   "cell_type": "code",
   "execution_count": 4,
   "metadata": {},
   "outputs": [
    {
     "data": {
      "text/plain": [
       "(312, 1, 2)"
      ]
     },
     "execution_count": 4,
     "metadata": {},
     "output_type": "execute_result"
    }
   ],
   "source": [
    "contours[0].shape"
   ]
  },
  {
   "cell_type": "code",
   "execution_count": 10,
   "metadata": {},
   "outputs": [
    {
     "data": {
      "text/plain": [
       "array([[350,   9],\n",
       "       [346,  13],\n",
       "       [345,  13],\n",
       "       [339,  19],\n",
       "       [330,  20]], dtype=int32)"
      ]
     },
     "execution_count": 10,
     "metadata": {},
     "output_type": "execute_result"
    }
   ],
   "source": [
    "np.squeeze(contours[0])[:5] # np.squeeze: (5, 1, 2) -> (5, 2)로 차원 축소"
   ]
  },
  {
   "cell_type": "code",
   "execution_count": 11,
   "metadata": {},
   "outputs": [],
   "source": [
    "import matplotlib.pylab as plt\n",
    "import matplotlib as mpl\n",
    "import matplotlib.font_manager as fm\n",
    "import seaborn as sns\n",
    "import numpy as np\n",
    "\n",
    "sns.set_style(\"whitegrid\")\n",
    "mpl.rcParams['axes.unicode_minus'] = False\n",
    "plt.rcParams['font.size'] = 12\n",
    "\n",
    "path = \"/Library/Fonts/NanumGothic.otf\"\n",
    "font_name = fm.FontProperties(fname=path, size=20).get_name()\n",
    "\n",
    "plt.rc('font', family=font_name)"
   ]
  },
  {
   "cell_type": "code",
   "execution_count": 12,
   "metadata": {},
   "outputs": [
    {
     "data": {
      "image/png": "[encoded data removed]",
      "text/plain": [
       "<Figure size 432x288 with 1 Axes>"
      ]
     },
     "metadata": {
      "needs_background": "light"
     },
     "output_type": "display_data"
    }
   ],
   "source": [
    "x0, y0 = zip(*np.squeeze(contours[0])) # 차원 축소하고 x, y 분리\n",
    "plt.plot(x0, y0, c='b')\n",
    "plt.show()"
   ]
  },
  {
   "cell_type": "markdown",
   "metadata": {},
   "source": [
    "상하구조(hierarchy)는 1, 0, -1 값으로 이루어진 (컨투어 수 x 4) 크기의 행렬이다.\n",
    "\n",
    "+ 1번 원소: 같은 수준의 다음 컨투어의 인덱스. 같은 수준의 다음 컨투어가 없으면 -1\n",
    "+ 2번 원소: 같은 수준의 이전 컨투어의 인덱스. 같은 수준의 이전 컨투어가 없으면 -1\n",
    "+ 3번 원소: 하위 자식 컨투어의 인덱스. 가장 하위의 컨투어면 -1\n",
    "+ 4번 원소: 부모 컨투어의 인덱스. 가장 상위의 컨투어면 -1"
   ]
  },
  {
   "cell_type": "markdown",
   "metadata": {},
   "source": [
    "다음 값에서 첫번째 컨투어라인이 가장 상위 컨투어라는 것을 알 수 있다."
   ]
  },
  {
   "cell_type": "code",
   "execution_count": 13,
   "metadata": {},
   "outputs": [
    {
     "data": {
      "text/plain": [
       "(1, 2, 4)"
      ]
     },
     "execution_count": 13,
     "metadata": {},
     "output_type": "execute_result"
    }
   ],
   "source": [
    "hierarchy.shape"
   ]
  },
  {
   "cell_type": "code",
   "execution_count": 14,
   "metadata": {},
   "outputs": [
    {
     "data": {
      "text/plain": [
       "array([[[-1, -1,  1, -1],\n",
       "        [-1, -1, -1,  0]]], dtype=int32)"
      ]
     },
     "execution_count": 14,
     "metadata": {},
     "output_type": "execute_result"
    }
   ],
   "source": [
    "hierarchy"
   ]
  },
  {
   "cell_type": "markdown",
   "metadata": {},
   "source": [
    "drawContours 함수를 사용하면 컨투어 정보에서 비트맵 이미지를 만들 수 있다.\n",
    "\n",
    "#### drawContours(image, contours, contourIdx, color)\n",
    "\n",
    "+ image: 원본 이미지\n",
    "+ contours: 컨투어 라인 정보\n",
    "+ contourIdx: 컨투어 라인 번호\n",
    "+ color: 색상"
   ]
  },
  {
   "cell_type": "code",
   "execution_count": 15,
   "metadata": {},
   "outputs": [
    {
     "data": {
      "image/png": "[encoded data removed]",
      "text/plain": [
       "<Figure size 432x288 with 2 Axes>"
      ]
     },
     "metadata": {
      "needs_background": "light"
     },
     "output_type": "display_data"
    }
   ],
   "source": [
    "image = cv2.drawContours(img, contours, 0, 2)\n",
    "\n",
    "plt.subplot(1, 2, 1)\n",
    "plt.imshow(img_raw, cmap='bone')\n",
    "plt.title(\"원본 이미지\")\n",
    "plt.axis('off')\n",
    "\n",
    "plt.subplot(1, 2, 2)\n",
    "plt.imshow(image, cmap='bone')\n",
    "plt.title(\"컨투어 이미지\")\n",
    "plt.axis('off')\n",
    "\n",
    "plt.tight_layout()\n",
    "plt.show()"
   ]
  },
  {
   "cell_type": "markdown",
   "metadata": {},
   "source": [
    "## 컨투어 특징\n",
    "\n",
    "### 1. 이미지 모멘트\n",
    "#### 이미지 모멘트는 컨투어에 관한 특징값을 뜻한다. \n",
    "\n",
    "OpenCV에서는 moments 함수로 이미지 모멘트를 구한다. 컨투어 포인트 배열을 입력하면 해당 컨투어의 모멘트를 딕셔너리 타입으로 반환한다. 반환하는 모멘트는 총 24개로 10개의 위치 모멘트, 7개의 중심 모멘트, 7개의 정규화된 중심 모멘트로 이루어져 있다.\n",
    "\n",
    "+ Spatial Moments : M00, M01, M02, M03, M10, M11, M12, M20, M21, M30\n",
    "+ Central Moments : Mu02, Mu03, Mu11, Mu12, Mu20, Mu21, Mu30\n",
    "+ Central Normalized Moments : Nu02, Nu03, Nu11, Nu12, Nu20, Nu21, Nu30"
   ]
  },
  {
   "cell_type": "code",
   "execution_count": 16,
   "metadata": {},
   "outputs": [
    {
     "data": {
      "text/plain": [
       "{'m00': 42355.0,\n",
       " 'm10': 7943000.166666666,\n",
       " 'm01': 6115675.833333333,\n",
       " 'm20': 1914995009.1666665,\n",
       " 'm11': 1043128904.8333333,\n",
       " 'm02': 1041817606.0,\n",
       " 'm30': 517465951777.85004,\n",
       " 'm21': 233874687443.69998,\n",
       " 'm12': 169430720481.3,\n",
       " 'm03': 200904428563.85,\n",
       " 'mu20': 425412866.6175771,\n",
       " 'mu11': -103767899.87557864,\n",
       " 'mu02': 158769774.61250484,\n",
       " 'mu30': -1219318387.8395386,\n",
       " 'mu21': -3713125246.697487,\n",
       " 'mu12': 4020833974.2852783,\n",
       " 'mu03': 4625649126.278534,\n",
       " 'nu20': 0.2371380524771235,\n",
       " 'nu11': -0.0578433790256196,\n",
       " 'nu02': 0.08850309451896964,\n",
       " 'nu30': -0.003302595676372647,\n",
       " 'nu21': -0.010057218449154588,\n",
       " 'nu12': 0.010890665663146169,\n",
       " 'nu03': 0.012528843128440374}"
      ]
     },
     "execution_count": 16,
     "metadata": {},
     "output_type": "execute_result"
    }
   ],
   "source": [
    "c0 = contours[0]\n",
    "M = cv2.moments(c0)\n",
    "M"
   ]
  },
  {
   "cell_type": "markdown",
   "metadata": {},
   "source": [
    "컨투어의 면적은 모멘트의 m00 값이고, cv2.contourArea() 함수로도 구할 수 있다."
   ]
  },
  {
   "cell_type": "code",
   "execution_count": 17,
   "metadata": {},
   "outputs": [
    {
     "data": {
      "text/plain": [
       "42355.0"
      ]
     },
     "execution_count": 17,
     "metadata": {},
     "output_type": "execute_result"
    }
   ],
   "source": [
    "cv2.contourArea(c0)"
   ]
  },
  {
   "cell_type": "code",
   "execution_count": 18,
   "metadata": {},
   "outputs": [
    {
     "data": {
      "text/plain": [
       "42355.0"
      ]
     },
     "execution_count": 18,
     "metadata": {},
     "output_type": "execute_result"
    }
   ],
   "source": [
    "M['m00']"
   ]
  },
  {
   "cell_type": "markdown",
   "metadata": {},
   "source": [
    "#### 컨투어의 둘레는 arcLength 함수로 구할 수 있다. \n",
    "\n",
    "두번째 파라미터인 closed의 의미는 폐곡선의 여부로, 설정한 값이 True 일 때는 컨투어의 시작점과 끝점을 이어 도형을 구성하고 그 둘레 값을 계산한다. False인 경우 시작점과 끝점을 잇지 않고 둘레를 계산한다."
   ]
  },
  {
   "cell_type": "code",
   "execution_count": 19,
   "metadata": {},
   "outputs": [
    {
     "data": {
      "text/plain": [
       "(2203.678272008896, 2199.678272008896)"
      ]
     },
     "execution_count": 19,
     "metadata": {},
     "output_type": "execute_result"
    }
   ],
   "source": [
    "cv2.arcLength(c0, closed=True), cv2.arcLength(c0, closed=False)"
   ]
  },
  {
   "cell_type": "markdown",
   "metadata": {},
   "source": [
    "컨투어를 둘러싸는 박스는 boundingRect 함수로 구한다."
   ]
  },
  {
   "cell_type": "code",
   "execution_count": 20,
   "metadata": {},
   "outputs": [
    {
     "data": {
      "text/plain": [
       "(18, 9, 371, 304)"
      ]
     },
     "execution_count": 20,
     "metadata": {},
     "output_type": "execute_result"
    }
   ],
   "source": [
    "x, y, w, h = cv2.boundingRect(c0)\n",
    "x, y, w, h"
   ]
  },
  {
   "cell_type": "code",
   "execution_count": 21,
   "metadata": {},
   "outputs": [
    {
     "data": {
      "image/png": "[encoded data removed]",
      "text/plain": [
       "<Figure size 432x288 with 1 Axes>"
      ]
     },
     "metadata": {
      "needs_background": "light"
     },
     "output_type": "display_data"
    }
   ],
   "source": [
    "plt.plot(x0, y0, c='b')\n",
    "plt.plot(\n",
    "    [x, x+w, x+w, x, x],\n",
    "    [y, y, y+h, y+h, y],\n",
    "    c='r'\n",
    ")\n",
    "plt.show()"
   ]
  },
  {
   "cell_type": "markdown",
   "metadata": {},
   "source": [
    "가로 세로 비율은 바운딩 박스에서 구할 수 있다."
   ]
  },
  {
   "cell_type": "code",
   "execution_count": 22,
   "metadata": {},
   "outputs": [
    {
     "data": {
      "text/plain": [
       "1.2203947368421053"
      ]
     },
     "execution_count": 22,
     "metadata": {},
     "output_type": "execute_result"
    }
   ],
   "source": [
    "aspect_ratio = float(w) / h\n",
    "aspect_ratio"
   ]
  },
  {
   "cell_type": "markdown",
   "metadata": {},
   "source": [
    "컨투어 라인의 중심점과 좌우상하의 끝점은 다음과 같이 구한다."
   ]
  },
  {
   "cell_type": "code",
   "execution_count": 28,
   "metadata": {},
   "outputs": [],
   "source": [
    "cx = int(M['m10'] / M['m00']) # 컨투어의 면적은 모멘트의 m00 값\n",
    "cy = int(M['m01'] / M['m00']) \n",
    "\n",
    "leftmost = tuple(c0[c0[:, :, 0].argmin()][0])  # 312개 값 중 가장 작은 값\n",
    "rightmost = tuple(c0[c0[:, :, 0].argmax()][0]) # 312개 값 중 가장 큰 값\n",
    "topmost = tuple(c0[c0[:, :, 1].argmin()])[0]\n",
    "bottommost = tuple(c0[c0[:, :, 1].argmax()])[0]"
   ]
  },
  {
   "cell_type": "code",
   "execution_count": 30,
   "metadata": {},
   "outputs": [
    {
     "data": {
      "image/png": "[encoded data removed]",
      "text/plain": [
       "<Figure size 432x288 with 2 Axes>"
      ]
     },
     "metadata": {
      "needs_background": "light"
     },
     "output_type": "display_data"
    }
   ],
   "source": [
    "plt.subplot(121)\n",
    "plt.imshow(image, cmap='bone')\n",
    "plt.title('컨투어의 중심점')\n",
    "plt.axis('off')\n",
    "plt.scatter([cx], [cy], c='r', s=30)\n",
    "\n",
    "plt.subplot(122)\n",
    "plt.imshow(img_raw, cmap='bone')\n",
    "plt.axis('off')\n",
    "plt.scatter(\n",
    "    [leftmost[0], rightmost[0], topmost[0], bottommost[0]],\n",
    "    [leftmost[1], rightmost[1], topmost[1], bottommost[1]],\n",
    "    c='b', s=30\n",
    ")\n",
    "plt.title(\"Extreme Points\")\n",
    "\n",
    "plt.show()"
   ]
  },
  {
   "cell_type": "markdown",
   "metadata": {},
   "source": [
    "## 컨투어 추정\n",
    "\n",
    "#### 컨투어 추정은 Douglas-Peucker 알고리즘을 이용해 컨투어 포인트의 수를 줄여 실제 컨투어 라인과 근사한 라인을 그릴 때 사용된다.\n",
    "\n",
    "OpenCV에서는 approxPolyDP 라는 함수로 구현되어 있다. 입력값으로는 컨투어 포인트 배열, 실제 컨투어 라인과 근사치의 최대거리, 폐곡선 여부가 있다. 다음 코드는 실제 컨투어 라인과 근사치의 최대거리를 0.01, 0.05 로 설정하여 실제 컨투어 라인과 비교한다."
   ]
  },
  {
   "cell_type": "code",
   "execution_count": 73,
   "metadata": {},
   "outputs": [],
   "source": [
    "img_raw = horse().astype('uint8')\n",
    "img_raw = np.ones(img_raw.shape) - img_raw\n",
    "\n",
    "img = img_raw.copy().astype('uint8')\n",
    "\n",
    "contours, hierarchy = cv2.findContours(img, cv2.RETR_TREE, cv2.CHAIN_APPROX_TC89_KCOS)  "
   ]
  },
  {
   "cell_type": "code",
   "execution_count": 74,
   "metadata": {},
   "outputs": [
    {
     "data": {
      "image/png": "[encoded data removed]",
      "text/plain": [
       "<Figure size 432x288 with 3 Axes>"
      ]
     },
     "metadata": {
      "needs_background": "light"
     },
     "output_type": "display_data"
    }
   ],
   "source": [
    "img1 = img_raw.copy().astype('uint8')\n",
    "img2 = img_raw.copy().astype('uint8')\n",
    "img3 = img_raw.copy().astype('uint8')\n",
    "\n",
    "c0 = contours[0]\n",
    "\n",
    "epsilon1 = 0.01 * cv2.arcLength(c0, True)\n",
    "epsilon2 = 0.05 * cv2.arcLength(c0, True)\n",
    "\n",
    "approx1 = cv2.approxPolyDP(c0, epsilon1, True)\n",
    "approx2 = cv2.approxPolyDP(c0, epsilon2, True)\n",
    "\n",
    "image1 = cv2.drawContours(img1, [c0], -1, 7)\n",
    "image2 = cv2.drawContours(img2, [approx1], -1, 7)\n",
    "image3 = cv2.drawContours(img3, [approx2], -1, 7)\n",
    "\n",
    "titles = ['Original', '$\\epsilon=0.01$', '$\\epsilon=0.05$']\n",
    "images = [image1, image2, image3]\n",
    "\n",
    "for i in range(3):\n",
    "    plt.subplot(1, 3, i+1)\n",
    "    plt.title(titles[i])\n",
    "    plt.imshow(images[i], cmap='gray')\n",
    "    plt.axis('off')\n",
    "    \n",
    "plt.tight_layout()\n",
    "plt.show( )"
   ]
  },
  {
   "cell_type": "markdown",
   "metadata": {},
   "source": [
    "## Convex Hull\n",
    "\n",
    "#### Convex Hull이란 컨투어 포인트를 모두 포함하는 볼록한 외곽선을 의미한다. 결과는 컨투어 추정과 비슷하지만 방법이 다르다. \n",
    "\n",
    "먼저, cv2.isContourConvex() 함수를 사용해 이미지의 컨투어가 볼록(convex)한지 확인할 수 있다. 입력한 컨투어 배열이 볼록(convex)하다면 True, 아니라면 False 값을 반환한다. 이때 볼록하다는 것은 컨투어 라인이 볼록하거나 평평한 선이라는 의미이다. 이전에 확인했듯이 말 이미지의 컨투어 라인은 볼록한 선으로만 이루어져있지 않다. 따라서 다음 코드의 결과는 False를 반환한다."
   ]
  },
  {
   "cell_type": "code",
   "execution_count": 75,
   "metadata": {},
   "outputs": [
    {
     "data": {
      "image/png": "[encoded data removed]",
      "text/plain": [
       "<Figure size 432x288 with 2 Axes>"
      ]
     },
     "metadata": {
      "needs_background": "light"
     },
     "output_type": "display_data"
    }
   ],
   "source": [
    "img4 = img_raw.copy().astype('uint8')\n",
    "\n",
    "c0 = contours[0]\n",
    "hull = cv2.convexHull(c0)\n",
    "image4 = cv2.drawContours(img4, [hull], 0, 3)\n",
    "titles = ['원본 이미지', 'Convex Hull']\n",
    "images = [img_raw, img4]\n",
    "\n",
    "for i in range(2):\n",
    "    plt.subplot(1, 2, i+1)\n",
    "    plt.title(titles[i])\n",
    "    plt.imshow(images[i], 'gray')\n",
    "    plt.axis('off')\n",
    "    \n",
    "plt.show()"
   ]
  },
  {
   "cell_type": "markdown",
   "metadata": {},
   "source": [
    "## Bounding Rectangle\n",
    "\n",
    "#### Bounding Rectangle은 컨투어 라인을 둘러싸는 사각형을 그리는 방법이다. 사각형을 그리는 방법은 2가지가 있다.\n",
    "\n",
    "+ boundingRect: Straight Bounding Rectangle : 물체의 회전은 고려하지 않은 사각형\n",
    "+ minAreaRect: Rotated Rectangle : 물체의 회전을 고려한 사각형\n",
    "\n",
    "다음 코드는 컨투어 라인 위에 두 가지 종류의 사각형을 그린다."
   ]
  },
  {
   "cell_type": "code",
   "execution_count": 76,
   "metadata": {},
   "outputs": [],
   "source": [
    "img1 = img_raw.copy().astype('uint8')\n",
    "img2 = img_raw.copy().astype('uint8')\n",
    "\n",
    "# Straight Rectangle\n",
    "x, y, h, w = cv2.boundingRect(c0)\n",
    "img1 = cv2.rectangle(img1, (x, y), (x+w, y+h), 7)\n",
    "\n",
    "# Rotated Rectangle\n",
    "rect = cv2.minAreaRect(c0)\n",
    "box = cv2.boxPoints(rect)\n",
    "box = box.astype('int')\n",
    "img2 = cv2.drawContours(img2, [box], -1, 7) # blue"
   ]
  },
  {
   "cell_type": "code",
   "execution_count": 77,
   "metadata": {},
   "outputs": [
    {
     "data": {
      "image/png": "[encoded data removed]",
      "text/plain": [
       "<Figure size 432x288 with 2 Axes>"
      ]
     },
     "metadata": {
      "needs_background": "light"
     },
     "output_type": "display_data"
    }
   ],
   "source": [
    "plt.subplot(121)\n",
    "plt.imshow(img1, cmap='gray')\n",
    "plt.axis('off')\n",
    "plt.title(\"Straight Rectangle\")\n",
    "plt.subplot(122)\n",
    "plt.imshow(img2, cmap='gray')\n",
    "plt.axis('off')\n",
    "plt.title('Rotated Rectangle')\n",
    "plt.show()"
   ]
  },
  {
   "cell_type": "markdown",
   "metadata": {},
   "source": [
    "## Minumum Enclosing Circle 과 Fitting Ellipse\n",
    "\n",
    "Minumum Enclosing Circle과 Fitting Ellipse는 각각 컨투어 라인을 완전히 포함하는 가장 작은 원과 타원을 그리는 것이다."
   ]
  },
  {
   "cell_type": "code",
   "execution_count": 78,
   "metadata": {},
   "outputs": [
    {
     "data": {
      "image/png": "[encoded data removed]",
      "text/plain": [
       "<Figure size 432x288 with 2 Axes>"
      ]
     },
     "metadata": {
      "needs_background": "light"
     },
     "output_type": "display_data"
    }
   ],
   "source": [
    "img3 = img_raw.copy().astype('uint8')\n",
    "img4 = img_raw.copy().astype('uint8')\n",
    "\n",
    "(x, y), radius = cv2.minEnclosingCircle(c0)\n",
    "center = int(x), int(y)\n",
    "radius = int(radius)\n",
    "img3 = cv2.circle(img3, center, radius, 7)\n",
    "\n",
    "ellipse = cv2.fitEllipse(c0)\n",
    "img4 = cv2.ellipse(img4, ellipse, 7)\n",
    "\n",
    "plt.subplot(121)\n",
    "plt.imshow(img3, cmap='gray')\n",
    "plt.title('Minumum Enclosing Circle')\n",
    "plt.axis('off')\n",
    "plt.subplot(122)\n",
    "plt.imshow(img4, cmap='gray')\n",
    "plt.title('Fitting Ellipse')\n",
    "plt.axis('off')\n",
    "plt.show()"
   ]
  },
  {
   "cell_type": "code",
   "execution_count": null,
   "metadata": {},
   "outputs": [],
   "source": []
  }
 ],
 "metadata": {
  "kernelspec": {
   "display_name": "Python 3",
   "language": "python",
   "name": "python3"
  },
  "language_info": {
   "codemirror_mode": {
    "name": "ipython",
    "version": 3
   },
   "file_extension": ".py",
   "mimetype": "text/x-python",
   "name": "python",
   "nbconvert_exporter": "python",
   "pygments_lexer": "ipython3",
   "version": "3.7.3"
  }
 },
 "nbformat": 4,
 "nbformat_minor": 2
}
