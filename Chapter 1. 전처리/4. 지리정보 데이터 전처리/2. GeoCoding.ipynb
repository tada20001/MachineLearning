{
 "cells": [
  {
   "cell_type": "markdown",
   "metadata": {},
   "source": [
    "#### Geopandas가 제공하는 유용한 기능인 geocoding는 주소를 좌표로 바꾸거나, 좌표를 주소로 바꾸는 기능을 한다. \n",
    "\n",
    "여기에서는 geocoding을 위해서 google의 map API를 사용한다. \n",
    "\n",
    "이 때, API를 사용하기 위해서 접근 키가 필요한데 이는 실습을 원한다면 본인이 직접 만들어야 한다. 만드는 방법은 이 페이지를 참고한다.(https://developers.googleblog.com/2016/03/introducing-google-api-console.html) (이 페이지에 나와 있는 Google Maps Android API 대신에, Geocoding API를 사용하도록 한다.)"
   ]
  },
  {
   "cell_type": "markdown",
   "metadata": {},
   "source": [
    "다음 예제는 서울열린데이터광장에서 제공하는 서울시 행정구역 읍면동 위치정보 데이터를 이용해 서울의 지도를 시각화하고, 서울시 전통시장 현황 데이터에 있는 전통시장의 주소를 좌표로 바꾸어 지도 위에 점으로 나타내는 것이다.\n",
    "\n",
    "+ 서울시 행정구역 읍면동 위치정보 데이터 다운로드 링크\n",
    "\n",
    "    + https://data.seoul.go.kr/dataList/datasetView.do?infId=OA-13223&srvType=S&serviceKind=1¤tPageNo=1&searchValue=&searchKey=null\n",
    "    + 위 링크의 MAP  →  TL_SCCO_EMD_2015_W_SHP.zip을 다운로드 받는다.\n",
    "\n",
    "+ 서울시 전통시장 현황 데이터 다운로드 링크\n",
    "\n",
    "    + http://data.seoul.go.kr/dataList/datasetView.do?infId=OA-1176&srvType=F&serviceKind=1¤tPageNo=1\n",
    "    + 위 링크의 File  →  contents.xlsx을 다운로드 받는다."
   ]
  },
  {
   "cell_type": "code",
   "execution_count": 1,
   "metadata": {},
   "outputs": [],
   "source": [
    "import geopandas as gpd"
   ]
  },
  {
   "cell_type": "code",
   "execution_count": null,
   "metadata": {},
   "outputs": [],
   "source": []
  }
 ],
 "metadata": {
  "kernelspec": {
   "display_name": "Python 3",
   "language": "python",
   "name": "python3"
  },
  "language_info": {
   "codemirror_mode": {
    "name": "ipython",
    "version": 3
   },
   "file_extension": ".py",
   "mimetype": "text/x-python",
   "name": "python",
   "nbconvert_exporter": "python",
   "pygments_lexer": "ipython3",
   "version": "3.7.4"
  }
 },
 "nbformat": 4,
 "nbformat_minor": 2
}
