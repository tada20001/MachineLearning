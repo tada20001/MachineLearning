{
 "cells": [
  {
   "cell_type": "markdown",
   "metadata": {},
   "source": [
    "확률론적 언어 모형(Probabilistic Language Model)은  𝑚 개의 단어  𝑤1,𝑤2,…,𝑤𝑚  열(word sequence)이 주어졌을 때 문장으로써 성립될 확률  𝑃(𝑤1,𝑤2,…,𝑤𝑚)  을 출력함으로써 이 단어 열이 실제로 현실에서 사용될 수 있는 문장(sentence)인지를 판별하는 모형이다.\n",
    "\n",
    "이 확률은 각 단어의 확률과 단어들의 조건부 확률을 이용하여 다음과 같이 계산할 수 있다.\n",
    "\n",
    "\\begin{eqnarray}\n",
    "P(w_1, w_2, \\ldots, w_m) &=& P(w_1, w_2, \\ldots, w_{m-1}) \\cdot P(w_m\\;|\\; w_1, w_2, \\ldots, w_{m-1}) \\\\\n",
    "&=& P(w_1, w_2, \\ldots, w_{m-2}) \\cdot P(w_{m-1}\\;|\\; w_1, w_2, \\ldots, w_{m-2}) \\cdot P(w_m\\;|\\; w_1, w_2, \\ldots, w_{m-1}) \\\\\n",
    "&=& P(w_1) \\cdot P(w_2 \\;|\\; w_1) \\cdot  P(w_3 \\;|\\; w_1, w_2) P(w_4 \\;|\\; w_1, w_2, w_3) \\cdots P(w_m\\;|\\; w_1, w_2, \\ldots, w_{m-1})\n",
    "\\end{eqnarray}"
   ]
  },
  {
   "cell_type": "markdown",
   "metadata": {},
   "source": [
    "여기에서  𝑃(𝑤𝑚|𝑤1,𝑤2,…,𝑤𝑚−1)  은 지금까지  𝑤1,𝑤2,…,𝑤𝑚−1 라는 단어 열이 나왔을 때, 그 다음 단어로  𝑤𝑚 이 나올 조건부 확률을 말한다. \n",
    "\n",
    "#### 여기에서 지금까지 나온 단어를 문맥(context) 정보라고 한다.\n",
    "\n",
    "이 때 조건부 확률을 어떻게 모형화하는냐에 따라\n",
    "\n",
    "+ 유니그램 모형(Unigram Model)\n",
    "+ 바이그램 모형(Bigram Model)\n",
    "+ N그램 모형(N-gram Model)\n",
    "\n",
    "등으로 나뉘어 진다."
   ]
  },
  {
   "cell_type": "markdown",
   "metadata": {},
   "source": [
    "## 유니그램 모형\n",
    "\n",
    "#### 만약 모든 단어의 활용이 완전히 서로 독립이라면 \n",
    "단어 열의 확률은 다음과 같이 각 단어의 확률의 곱이 된다. 이러한 모형을 유니그램 모형이라고 한다.\n",
    "\n",
    "$$P(w_1, w_2, \\ldots, w_m) = \\prod_{i=1}^m P(w_i)$$"
   ]
  },
  {
   "cell_type": "markdown",
   "metadata": {},
   "source": [
    "## 바이그램 모형\n",
    "\n",
    "#### 만약 단어의 활용이 바로 전 단어에만 의존한다면 \n",
    "단어 열의 확률은 다음과 같다. 이러한 모형을 바이그램 모형 또는 마코프 모형(Markov Model)이라고 한다.\n",
    "\n",
    "$$P(w_1, w_2, \\ldots, w_m) = P(w_1) \\prod_{i=2}^{m} P(w_{i}\\;|\\; w_{i-1})$$"
   ]
  },
  {
   "cell_type": "markdown",
   "metadata": {},
   "source": [
    "## N그램 모형\n",
    "\n",
    "#### 만약 단어의 활용이 바로 전  𝑛−1 개의 단어에만 의존한다면 \n",
    "단어 열의 확률은 다음과 같다. 이러한 모형을 N그램 모형이라고 한다.\n",
    "\n",
    "$$P(w_1, w_2, \\ldots, w_m) = P(w_1) \\prod_{i=n}^{m} P(w_{i}\\;|\\; w_{i-1}, \\ldots, w_{i-n})$$"
   ]
  },
  {
   "cell_type": "markdown",
   "metadata": {},
   "source": [
    "## NLTK의 N그램 기능\n",
    "\n",
    "NLTK 패키지에는 바이그램과 N-그램을 생성하는 bigrams, ngrams 명령이 있다."
   ]
  },
  {
   "cell_type": "code",
   "execution_count": 1,
   "metadata": {},
   "outputs": [],
   "source": [
    "from nltk import bigrams, word_tokenize\n",
    "from nltk.util import ngrams"
   ]
  },
  {
   "cell_type": "code",
   "execution_count": 2,
   "metadata": {},
   "outputs": [
    {
     "data": {
      "text/plain": [
       "['I', 'am', 'a', 'boy', '.']"
      ]
     },
     "execution_count": 2,
     "metadata": {},
     "output_type": "execute_result"
    }
   ],
   "source": [
    "sentence = 'I am a boy.'\n",
    "tokens = word_tokenize(sentence)\n",
    "tokens"
   ]
  },
  {
   "cell_type": "code",
   "execution_count": 3,
   "metadata": {},
   "outputs": [
    {
     "name": "stdout",
     "output_type": "stream",
     "text": [
      "\n",
      "bigram:\n",
      "('I', 'am')\n",
      "('am', 'a')\n",
      "('a', 'boy')\n",
      "('boy', '.')\n"
     ]
    }
   ],
   "source": [
    "bigram = bigrams(tokens)\n",
    "trigram = ngrams(tokens, 3)\n",
    "\n",
    "print(\"\\nbigram:\") # 인접해 있는 단어들까지 튜플로 묶음\n",
    "for t in bigram:\n",
    "    print(t)"
   ]
  },
  {
   "cell_type": "code",
   "execution_count": 4,
   "metadata": {},
   "outputs": [
    {
     "name": "stdout",
     "output_type": "stream",
     "text": [
      "\n",
      "trigram:\n",
      "('I', 'am', 'a')\n",
      "('am', 'a', 'boy')\n",
      "('a', 'boy', '.')\n"
     ]
    }
   ],
   "source": [
    "print(\"\\ntrigram:\")\n",
    "for t in trigram: # 인접해 있는 세개 단어를 하나로 묶음\n",
    "    print(t)"
   ]
  },
  {
   "cell_type": "markdown",
   "metadata": {},
   "source": [
    "#### 조건부 확률을 추정할 때는 문장의 시작과 끝이라는 조건을 표시하기 위해 모든 문장에 문장의 시작과 끝을 나타내는 특별 토큰을 추가한다. \n",
    "\n",
    "예를 들어 문장의 시작은 SS, 문장의 끝은 SE 이라는 토큰을 사용할 수 있다.\n",
    "\n",
    "예를 들어 [\"I\", \"am\", \"a\", \"boy\", \".\"]라는 토큰열(문장)은 [\"SS\", \"I\", \"am\", \"a\", \"boy\", \".\", \"SE\"]라는 토큰열이 된다. ngrams 명령은 padding 기능을 사용하여 이런 특별 토큰을 추가할 수 있다."
   ]
  },
  {
   "cell_type": "code",
   "execution_count": 6,
   "metadata": {},
   "outputs": [
    {
     "name": "stdout",
     "output_type": "stream",
     "text": [
      "('SS', 'I')\n",
      "('I', 'am')\n",
      "('am', 'a')\n",
      "('a', 'boy')\n",
      "('boy', '.')\n",
      "('.', 'SE')\n"
     ]
    }
   ],
   "source": [
    "bigram = ngrams(tokens, 2, pad_left=True, pad_right=True, left_pad_symbol=\"SS\", right_pad_symbol=\"SE\")\n",
    "for t in bigram:\n",
    "    print(t)"
   ]
  },
  {
   "cell_type": "code",
   "execution_count": 7,
   "metadata": {},
   "outputs": [
    {
     "name": "stdout",
     "output_type": "stream",
     "text": [
      "('SS', 'SS', 'I')\n",
      "('SS', 'I', 'am')\n",
      "('I', 'am', 'a')\n",
      "('am', 'a', 'boy')\n",
      "('a', 'boy', '.')\n",
      "('boy', '.', 'SE')\n",
      "('.', 'SE', 'SE')\n"
     ]
    }
   ],
   "source": [
    "trigram = ngrams(tokens, 3, pad_left=True, pad_right=True, left_pad_symbol=\"SS\", right_pad_symbol=\"SE\")\n",
    "for t in trigram:\n",
    "    print(t)"
   ]
  },
  {
   "cell_type": "markdown",
   "metadata": {},
   "source": [
    "## 조건부 확률 추정 방법\n",
    "\n",
    "#### NLTK패키지를 사용하면 바이그램 형태의 조건부 확률을 쉽게 추정할 수 있다. \n",
    "\n",
    "우선 ConditionalFreqDist 클래스로 각 문맥별 단어 빈도를 측정한 후에 ConditionalProbDist 클래스를 사용하면 조건부 확률을 추정한다."
   ]
  },
  {
   "cell_type": "code",
   "execution_count": 10,
   "metadata": {},
   "outputs": [],
   "source": [
    "from nltk import ConditionalFreqDist\n",
    "\n",
    "sentence = \"I am a boy.\"\n",
    "tokens = word_tokenize(sentence)\n",
    "bigram = ngrams(tokens, 2, pad_left=True, pad_right=True, left_pad_symbol=\"SS\", right_pad_symbol=\"SE\")\n",
    "cfd = ConditionalFreqDist([(t[0], t[1]) for t in bigram])  # 문맥별 단어 빈도 측정"
   ]
  },
  {
   "cell_type": "code",
   "execution_count": 11,
   "metadata": {},
   "outputs": [
    {
     "data": {
      "text/plain": [
       "<ConditionalFreqDist with 6 conditions>"
      ]
     },
     "execution_count": 11,
     "metadata": {},
     "output_type": "execute_result"
    }
   ],
   "source": [
    "cfd  # 6개의 조건부 확률"
   ]
  },
  {
   "cell_type": "markdown",
   "metadata": {},
   "source": [
    "ConditionalFreqDist 클래스는 문맥을 조건으로 가지는 사전 자료형과 비슷하다."
   ]
  },
  {
   "cell_type": "code",
   "execution_count": 12,
   "metadata": {},
   "outputs": [
    {
     "data": {
      "text/plain": [
       "['SS', 'I', 'am', 'a', 'boy', '.']"
      ]
     },
     "execution_count": 12,
     "metadata": {},
     "output_type": "execute_result"
    }
   ],
   "source": [
    "cfd.conditions()"
   ]
  },
  {
   "cell_type": "code",
   "execution_count": 13,
   "metadata": {},
   "outputs": [
    {
     "data": {
      "text/plain": [
       "FreqDist({'I': 1})"
      ]
     },
     "execution_count": 13,
     "metadata": {},
     "output_type": "execute_result"
    }
   ],
   "source": [
    "cfd[\"SS\"]  # SS의 다음 단어와 빈도 도출"
   ]
  },
  {
   "cell_type": "code",
   "execution_count": 15,
   "metadata": {},
   "outputs": [
    {
     "data": {
      "text/plain": [
       "FreqDist({'am': 1})"
      ]
     },
     "execution_count": 15,
     "metadata": {},
     "output_type": "execute_result"
    }
   ],
   "source": [
    "cfd[\"I\"]"
   ]
  },
  {
   "cell_type": "markdown",
   "metadata": {},
   "source": [
    "### nltk 패키지의 샘플 코퍼스인 movie_reviews의 텍스트로부터 바이그램 확률을 추정하는 예제"
   ]
  },
  {
   "cell_type": "code",
   "execution_count": 17,
   "metadata": {},
   "outputs": [
    {
     "name": "stderr",
     "output_type": "stream",
     "text": [
      "[nltk_data] Downloading package movie_reviews to\n",
      "[nltk_data]     /Users/imjunghee/nltk_data...\n",
      "[nltk_data]   Package movie_reviews is already up-to-date!\n",
      "[nltk_data] Downloading package punkt to /Users/imjunghee/nltk_data...\n",
      "[nltk_data]   Package punkt is already up-to-date!\n"
     ]
    }
   ],
   "source": [
    "import nltk\n",
    "nltk.download(\"movie_reviews\")\n",
    "nltk.download(\"punkt\")\n",
    "\n",
    "from nltk.corpus import movie_reviews"
   ]
  },
  {
   "cell_type": "code",
   "execution_count": 18,
   "metadata": {},
   "outputs": [
    {
     "data": {
      "text/plain": [
       "[['plot', ':', 'two', 'teen', 'couples', 'go', 'to', 'a', 'church', 'party', ',', 'drink', 'and', 'then', 'drive', '.'], ['they', 'get', 'into', 'an', 'accident', '.'], ...]"
      ]
     },
     "execution_count": 18,
     "metadata": {},
     "output_type": "execute_result"
    }
   ],
   "source": [
    "movie_reviews.sents()"
   ]
  },
  {
   "cell_type": "code",
   "execution_count": 19,
   "metadata": {},
   "outputs": [
    {
     "data": {
      "text/plain": [
       "[('SS', 'plot'),\n",
       " ('plot', ':'),\n",
       " (':', 'two'),\n",
       " ('two', 'teen'),\n",
       " ('teen', 'couples'),\n",
       " ('couples', 'go'),\n",
       " ('go', 'to'),\n",
       " ('to', 'a'),\n",
       " ('a', 'church'),\n",
       " ('church', 'party'),\n",
       " ('party', ','),\n",
       " (',', 'drink'),\n",
       " ('drink', 'and'),\n",
       " ('and', 'then'),\n",
       " ('then', 'drive'),\n",
       " ('drive', '.'),\n",
       " ('.', 'SE'),\n",
       " ('SS', 'they'),\n",
       " ('they', 'get'),\n",
       " ('get', 'into')]"
      ]
     },
     "execution_count": 19,
     "metadata": {},
     "output_type": "execute_result"
    }
   ],
   "source": [
    "sentences = []\n",
    "for tokens in movie_reviews.sents():\n",
    "    bigram = ngrams(tokens, 2, pad_left=True, pad_right=True, left_pad_symbol=\"SS\", right_pad_symbol=\"SE\")\n",
    "    sentences += [t for t in bigram]\n",
    "    \n",
    "sentences[:20]"
   ]
  },
  {
   "cell_type": "markdown",
   "metadata": {},
   "source": [
    "문장의 처음(SS 문맥), i라는 단어 다음, 마침표 다음에 나오는 단어의 빈도는 다음과 같다."
   ]
  },
  {
   "cell_type": "code",
   "execution_count": 21,
   "metadata": {},
   "outputs": [],
   "source": [
    "cfd = ConditionalFreqDist(sentences) # 각 단어별로 사전확률 추출"
   ]
  },
  {
   "cell_type": "markdown",
   "metadata": {},
   "source": [
    "#### 문장의 처음에 올 수 있는 단어들"
   ]
  },
  {
   "cell_type": "code",
   "execution_count": 22,
   "metadata": {},
   "outputs": [
    {
     "data": {
      "text/plain": [
       "[('the', 8071), ('.', 3173), ('it', 3136), ('i', 2471), ('but', 1814)]"
      ]
     },
     "execution_count": 22,
     "metadata": {},
     "output_type": "execute_result"
    }
   ],
   "source": [
    "cfd[\"SS\"].most_common(5)  # SS 다음에 가장 많이 나오는 단어 5개 추출"
   ]
  },
  {
   "cell_type": "markdown",
   "metadata": {},
   "source": [
    "#### i 다음에 올 수 있는 단어들"
   ]
  },
  {
   "cell_type": "code",
   "execution_count": 23,
   "metadata": {},
   "outputs": [
    {
     "data": {
      "text/plain": [
       "[(\"'\", 1357), ('was', 506), ('can', 351), ('have', 330), ('don', 276)]"
      ]
     },
     "execution_count": 23,
     "metadata": {},
     "output_type": "execute_result"
    }
   ],
   "source": [
    "cfd[\"i\"].most_common(5)"
   ]
  },
  {
   "cell_type": "code",
   "execution_count": 25,
   "metadata": {},
   "outputs": [],
   "source": [
    "import matplotlib.pylab as plt\n",
    "import matplotlib as mpl\n",
    "import matplotlib.font_manager as fm\n",
    "import seaborn as sns\n",
    "import numpy as np\n",
    "\n",
    "sns.set_style(\"whitegrid\")\n",
    "mpl.rcParams['axes.unicode_minus'] = False\n",
    "plt.rcParams['font.size'] = 12\n",
    "\n",
    "path = \"/Library/Fonts/NanumGothic.otf\"\n",
    "font_name = fm.FontProperties(fname=path, size=20).get_name()\n",
    "\n",
    "plt.rc('font', family=font_name)"
   ]
  },
  {
   "cell_type": "markdown",
   "metadata": {},
   "source": [
    "그림으로 그리면 다음과 같다."
   ]
  },
  {
   "cell_type": "code",
   "execution_count": 27,
   "metadata": {},
   "outputs": [
    {
     "data": {
      "image/png": "[encoded data removed]",
      "text/plain": [
       "<Figure size 432x288 with 1 Axes>"
      ]
     },
     "metadata": {},
     "output_type": "display_data"
    },
    {
     "data": {
      "image/png": "[encoded data removed]",
      "text/plain": [
       "<Figure size 432x288 with 1 Axes>"
      ]
     },
     "metadata": {},
     "output_type": "display_data"
    },
    {
     "data": {
      "image/png": "[encoded data removed]",
      "text/plain": [
       "<Figure size 432x288 with 1 Axes>"
      ]
     },
     "metadata": {},
     "output_type": "display_data"
    }
   ],
   "source": [
    "plt.subplot(311)\n",
    "cfd[\"SS\"].plot(5, title=\"문장의 첫단어 분포\")\n",
    "plt.subplot(312)\n",
    "cfd[\"i\"].plot(5, title=\"i 다음 단어의 분포\")\n",
    "plt.subplot(313)\n",
    "cfd[\".\"].plot(5, title=\". 다음 단어의 분포\")\n",
    "plt.show()"
   ]
  },
  {
   "cell_type": "markdown",
   "metadata": {},
   "source": [
    "빈도를 추정하면 각각의 조건부 확률은 기본적으로 다음과 같이 추정할 수 있다.\n",
    "\n",
    "$$P(w\\;|\\; w_c) = \\dfrac{C((w_c, w))}{C((w_c))}$$\n",
    "\n",
    "위 식에서  𝐶(𝑤𝑐,𝑤) 은 전체 말뭉치에서  (𝑤𝑐,𝑤) 라는 바이그램이 나타나는 횟수이고  𝐶(𝑤𝑐) 은 전체 말뭉치에서  (𝑤𝑐) 라는 유니그램(단어)이 나타나는 횟수이다.\n",
    "\n",
    "NLTK의 ConditionalProbDist 클래스에 MLEProbDist 클래스 팩토리를 인수로 넣어 위와 같이 빈도를 추정할 수 있다."
   ]
  },
  {
   "cell_type": "code",
   "execution_count": 28,
   "metadata": {},
   "outputs": [],
   "source": [
    "from nltk.probability import ConditionalProbDist, MLEProbDist"
   ]
  },
  {
   "cell_type": "code",
   "execution_count": 29,
   "metadata": {},
   "outputs": [],
   "source": [
    "cpd = ConditionalProbDist(cfd, MLEProbDist)"
   ]
  },
  {
   "cell_type": "markdown",
   "metadata": {},
   "source": [
    "트레이닝이 끝나면 조건부 확률의 값을 보거나 샘플 문장을 입력해서 문장의 로그 확률을 구할 수 있다."
   ]
  },
  {
   "cell_type": "code",
   "execution_count": 30,
   "metadata": {},
   "outputs": [
    {
     "data": {
      "text/plain": [
       "0.018562267971650354"
      ]
     },
     "execution_count": 30,
     "metadata": {},
     "output_type": "execute_result"
    }
   ],
   "source": [
    "cpd[\"i\"].prob('am')  # i 다음에 am이 나올 조건부확률"
   ]
  },
  {
   "cell_type": "code",
   "execution_count": 31,
   "metadata": {},
   "outputs": [
    {
     "data": {
      "text/plain": [
       "0.0002249971875351558"
      ]
     },
     "execution_count": 31,
     "metadata": {},
     "output_type": "execute_result"
    }
   ],
   "source": [
    "cpd[\"i\"].prob(\"is\")"
   ]
  },
  {
   "cell_type": "code",
   "execution_count": 32,
   "metadata": {},
   "outputs": [
    {
     "data": {
      "text/plain": [
       "0.08504504504504505"
      ]
     },
     "execution_count": 32,
     "metadata": {},
     "output_type": "execute_result"
    }
   ],
   "source": [
    "cpd[\"we\"].prob(\"are\")"
   ]
  },
  {
   "cell_type": "code",
   "execution_count": 33,
   "metadata": {},
   "outputs": [
    {
     "data": {
      "text/plain": [
       "0.0"
      ]
     },
     "execution_count": 33,
     "metadata": {},
     "output_type": "execute_result"
    }
   ],
   "source": [
    "cpd[\"we\"].prob(\"is\")"
   ]
  },
  {
   "cell_type": "markdown",
   "metadata": {},
   "source": [
    "## 바이그램 언어 모형\n",
    "\n",
    "조건부 확률을 알게 되면 각 문장의 확률을 구할 수 있다.\n",
    "\n",
    "다음으로 이 토큰열을 N-그램형태로 분해한다. 바이그램 모형에서는 전체 문장의 확률은 다음과 같이 조건부 확률의 곱으로 나타난다.\n",
    "\n",
    "$$P(\\text{SS I am a boy SE}) = P(\\text{I}\\;|\\; \\text{SS}) \\cdot P(\\text{am}\\;|\\; \\text{I}) \\cdot P(\\text{a}\\;|\\; \\text{am}) \\cdot P(\\text{boy}\\;|\\; \\text{a}) \\cdot P(.\\;|\\; \\text{boy}) \\cdot P(\\text{SE}\\;|\\; .)$$"
   ]
  },
  {
   "cell_type": "code",
   "execution_count": 34,
   "metadata": {},
   "outputs": [],
   "source": [
    "# 각 단어의 조합의 조건부 확률을 곱하여 전체 문장의 확률을 구하는 함수 만들기\n",
    "\n",
    "def sentence_score(s):\n",
    "    p = 0.0\n",
    "    for i in range(len(s) - 1):\n",
    "        c = s[i]  # 단어\n",
    "        w = s[i + 1] # 다음 단어\n",
    "        p += np.log(cpd[c].prob(w) + np.finfo(float).eps)  # np.finfo(float).eps: 0이 나올 경우 에러 없애기 위해\n",
    "    return np.exp(p)"
   ]
  },
  {
   "cell_type": "code",
   "execution_count": 35,
   "metadata": {},
   "outputs": [
    {
     "data": {
      "text/plain": [
       "2.740764134071561e-06"
      ]
     },
     "execution_count": 35,
     "metadata": {},
     "output_type": "execute_result"
    }
   ],
   "source": [
    "test_sentence = [\"i\", \"like\", \"the\", \"movie\", \".\"]\n",
    "sentence_score(test_sentence)"
   ]
  },
  {
   "cell_type": "code",
   "execution_count": 36,
   "metadata": {},
   "outputs": [
    {
     "data": {
      "text/plain": [
       "1.5015040140827832e-38"
      ]
     },
     "execution_count": 36,
     "metadata": {},
     "output_type": "execute_result"
    }
   ],
   "source": [
    "test_sentence = [\"like\", \"i\", \"the\", \".\", \"movie\"]\n",
    "sentence_score(test_sentence)"
   ]
  },
  {
   "cell_type": "markdown",
   "metadata": {},
   "source": [
    "단어 순서를 바꿨을 때 확률이 더 작아진다."
   ]
  },
  {
   "cell_type": "markdown",
   "metadata": {},
   "source": [
    "## 문장의 생성\n",
    "\n",
    "이 모형을 기반으로 임의의 랜덤한 문장을 생성할 수 있다."
   ]
  },
  {
   "cell_type": "code",
   "execution_count": 37,
   "metadata": {},
   "outputs": [],
   "source": [
    "def generate_sentence(seed=None):\n",
    "    if seed is not None:\n",
    "        import random\n",
    "        random.seed(seed)\n",
    "    c = \"SS\"\n",
    "    sentence = []\n",
    "    while True:\n",
    "        if c not in cpd:\n",
    "            break\n",
    "        w = cpd[c].generate() # 첫 단어 생성\n",
    "        \n",
    "        if w == \"SE\":  # 만약 첫단어가 SE이면 끝냄\n",
    "            break\n",
    "        elif w in [\"i\", \"ii\", \"iii\"]:\n",
    "            w2 = w.upper() # 대문자\n",
    "        elif w in [\"mr\", \"luc\", \"i\", \"robin\", \"williams\", \"cindy\", \"crawford\"]:\n",
    "            w2 = w.title()\n",
    "        else:\n",
    "            w2 = w\n",
    "            \n",
    "        if c == \"SS\":\n",
    "            sentence.append(w2.title())\n",
    "        elif c in [\"`\", \"\\\"\", \"'\", \"(\"]:\n",
    "            sentence.append(w2)\n",
    "        elif w in [\"'\", \".\", \",\", \")\", \":\", \";\", \"?\"]:\n",
    "            sentence.append(w2)\n",
    "        else:\n",
    "            sentence.append(\" \" + w2)\n",
    "            \n",
    "        c = w\n",
    "    return \"\".join(sentence)"
   ]
  },
  {
   "cell_type": "code",
   "execution_count": 38,
   "metadata": {},
   "outputs": [
    {
     "data": {
      "text/plain": [
       "\"Writers in one of the prison, yet, works as agent ray liotta, one of watching, we supposed to doubt that the holocaust - or the fact, the amc and don's wonderful experience, do what could either.\""
      ]
     },
     "execution_count": 38,
     "metadata": {},
     "output_type": "execute_result"
    }
   ],
   "source": [
    "generate_sentence(6)"
   ]
  },
  {
   "cell_type": "code",
   "execution_count": 39,
   "metadata": {},
   "outputs": [
    {
     "data": {
      "text/plain": [
       "'She and fine effect; frankly, and doing his son becomes shockingly lazy shortcut to her mother of \"story \"'"
      ]
     },
     "execution_count": 39,
     "metadata": {},
     "output_type": "execute_result"
    }
   ],
   "source": [
    "generate_sentence(10)"
   ]
  },
  {
   "cell_type": "markdown",
   "metadata": {},
   "source": [
    "### 이번에는 한글 자료를 이용해보자 코퍼스로는 아래의 웹사이트에 공개된 Naver sentiment movie corpus 자료를 사용한다.\n",
    "\n",
    "+ https://github.com/e9t/nsmc"
   ]
  },
  {
   "cell_type": "code",
   "execution_count": 40,
   "metadata": {},
   "outputs": [
    {
     "name": "stdout",
     "output_type": "stream",
     "text": [
      "CPU times: user 150 ms, sys: 64.1 ms, total: 214 ms\n",
      "Wall time: 8.32 s\n"
     ]
    }
   ],
   "source": [
    "%%time\n",
    "!wget -nc -q https://raw.githubusercontent.com/e9t/nsmc/master/ratings_train.txt"
   ]
  },
  {
   "cell_type": "code",
   "execution_count": 42,
   "metadata": {},
   "outputs": [
    {
     "data": {
      "text/plain": [
       "[['9976970', '아 더빙.. 진짜 짜증나네요 목소리', '0'],\n",
       " ['3819312', '흠...포스터보고 초딩영화줄....오버연기조차 가볍지 않구나', '1'],\n",
       " ['10265843', '너무재밓었다그래서보는것을추천한다', '0'],\n",
       " ['9045019', '교도소 이야기구먼 ..솔직히 재미는 없다..평점 조정', '0'],\n",
       " ['6483659',\n",
       "  '사이몬페그의 익살스런 연기가 돋보였던 영화!스파이더맨에서 늙어보이기만 했던 커스틴 던스트가 너무나도 이뻐보였다',\n",
       "  '1'],\n",
       " ['5403919', '막 걸음마 뗀 3세부터 초등학교 1학년생인 8살용영화.ㅋㅋㅋ...별반개도 아까움.', '0'],\n",
       " ['7797314', '원작의 긴장감을 제대로 살려내지못했다.', '0'],\n",
       " ['9443947',\n",
       "  '별 반개도 아깝다 욕나온다 이응경 길용우 연기생활이몇년인지..정말 발로해도 그것보단 낫겟다 납치.감금만반복반복..이드라마는 가족도없다 연기못하는사람만모엿네',\n",
       "  '0'],\n",
       " ['7156791', '액션이 없는데도 재미 있는 몇안되는 영화', '1'],\n",
       " ['5912145', '왜케 평점이 낮은건데? 꽤 볼만한데.. 헐리우드식 화려함에만 너무 길들여져 있나?', '1']]"
      ]
     },
     "execution_count": 42,
     "metadata": {},
     "output_type": "execute_result"
    }
   ],
   "source": [
    "import codecs\n",
    "with codecs.open(\"ratings_train.txt\", encoding='utf-8') as f:\n",
    "    data = [line.split('\\t') for line in f.read().splitlines()]  # 각 줄을 읽어들여서 탭 구분하여 데이터 불러오기\n",
    "    data = data[1:] # header 제외\n",
    "\n",
    "data[:10]"
   ]
  },
  {
   "cell_type": "code",
   "execution_count": 43,
   "metadata": {},
   "outputs": [
    {
     "data": {
      "text/plain": [
       "150000"
      ]
     },
     "execution_count": 43,
     "metadata": {},
     "output_type": "execute_result"
    }
   ],
   "source": [
    "docs = [row[1] for row in data] # 문장만 추출하기\n",
    "len(docs)"
   ]
  },
  {
   "cell_type": "code",
   "execution_count": 45,
   "metadata": {},
   "outputs": [
    {
     "data": {
      "text/plain": [
       "['그/Noun', '영화/Noun', '는/Josa', '아주/Noun', '재미있었어요/Adjective', './Punctuation']"
      ]
     },
     "execution_count": 45,
     "metadata": {},
     "output_type": "execute_result"
    }
   ],
   "source": [
    "# 품사를 붙인 토큰 만들기\n",
    "import warnings\n",
    "warnings.simplefilter(\"ignore\")\n",
    "\n",
    "from konlpy.tag import Okt\n",
    "tagger = Okt()\n",
    "\n",
    "def tokenize(doc):\n",
    "    tokens = ['/'.join(t) for t in tagger.pos(doc)] # 각 단어들에 품사를 붙이되, /로 합침\n",
    "    return tokens\n",
    "\n",
    "tokenize(\"그 영화는 아주 재미있었어요.\")"
   ]
  },
  {
   "cell_type": "code",
   "execution_count": 46,
   "metadata": {},
   "outputs": [
    {
     "name": "stderr",
     "output_type": "stream",
     "text": [
      "100%|██████████| 150000/150000 [05:13<00:00, 479.01it/s]\n"
     ]
    }
   ],
   "source": [
    "from tqdm import tqdm\n",
    "sentences = []\n",
    "for d in tqdm(docs):\n",
    "    tokens = tokenize(d)\n",
    "    bigram = ngrams(tokens, 2, pad_left=True, pad_right=True, left_pad_symbol=\"SS\", right_pad_symbol=\"SE\")\n",
    "    sentences += [t for t in bigram] # 인접해 있는 단어 쌍 만들기"
   ]
  },
  {
   "cell_type": "code",
   "execution_count": 47,
   "metadata": {},
   "outputs": [
    {
     "data": {
      "text/plain": [
       "[('SS', '아/Exclamation'),\n",
       " ('아/Exclamation', '더빙/Noun'),\n",
       " ('더빙/Noun', '../Punctuation'),\n",
       " ('../Punctuation', '진짜/Noun'),\n",
       " ('진짜/Noun', '짜증나네요/Adjective'),\n",
       " ('짜증나네요/Adjective', '목소리/Noun'),\n",
       " ('목소리/Noun', 'SE'),\n",
       " ('SS', '흠/Noun'),\n",
       " ('흠/Noun', '.../Punctuation'),\n",
       " ('.../Punctuation', '포스터/Noun'),\n",
       " ('포스터/Noun', '보고/Noun'),\n",
       " ('보고/Noun', '초딩/Noun'),\n",
       " ('초딩/Noun', '영화/Noun'),\n",
       " ('영화/Noun', '줄/Noun'),\n",
       " ('줄/Noun', '..../Punctuation'),\n",
       " ('..../Punctuation', '오버/Noun'),\n",
       " ('오버/Noun', '연기/Noun'),\n",
       " ('연기/Noun', '조차/Josa'),\n",
       " ('조차/Josa', '가볍지/Adjective'),\n",
       " ('가볍지/Adjective', '않구나/Verb'),\n",
       " ('않구나/Verb', 'SE'),\n",
       " ('SS', '너/Modifier'),\n",
       " ('너/Modifier', '무재/Noun'),\n",
       " ('무재/Noun', '밓었/Noun'),\n",
       " ('밓었/Noun', '다그/Noun'),\n",
       " ('다그/Noun', '래서/Noun'),\n",
       " ('래서/Noun', '보는것을/Verb'),\n",
       " ('보는것을/Verb', '추천/Noun'),\n",
       " ('추천/Noun', '한/Josa'),\n",
       " ('한/Josa', '다/Adverb')]"
      ]
     },
     "execution_count": 47,
     "metadata": {},
     "output_type": "execute_result"
    }
   ],
   "source": [
    "sentences[:30]"
   ]
  },
  {
   "cell_type": "code",
   "execution_count": 50,
   "metadata": {},
   "outputs": [],
   "source": [
    "# 모형 만들기\n",
    "cfd = ConditionalFreqDist(sentences)  # 각 문자쌍의 조건부확률 모형 만들기\n",
    "cpd = ConditionalProbDist(cfd, MLEProbDist) # 문장 전체의 확률 모형 만들기\n",
    "\n",
    "def korean_most_common(c, n, pos=None):\n",
    "    if pos is None:\n",
    "        return cfd[tokenize(c)[0]].most_common(n) # 품사 지정이 없는 경우 \n",
    "    else:\n",
    "        return cfd[\"/\".join([c, pos])].most_common(n)"
   ]
  },
  {
   "cell_type": "code",
   "execution_count": 51,
   "metadata": {},
   "outputs": [
    {
     "data": {
      "text/plain": [
       "[('는/Josa', 831),\n",
       " ('의/Josa', 339),\n",
       " ('만/Josa', 213),\n",
       " ('에게/Josa', 148),\n",
       " ('에겐/Josa', 84),\n",
       " ('랑/Josa', 81),\n",
       " ('한테/Josa', 50),\n",
       " ('참/Verb', 45),\n",
       " ('이/Determiner', 44),\n",
       " ('와도/Josa', 43)]"
      ]
     },
     "execution_count": 51,
     "metadata": {},
     "output_type": "execute_result"
    }
   ],
   "source": [
    "korean_most_common(\"나\", 10)"
   ]
  },
  {
   "cell_type": "code",
   "execution_count": 52,
   "metadata": {},
   "outputs": [
    {
     "data": {
      "text/plain": [
       "[('영화/Noun', 19),\n",
       " ('연기/Noun', 14),\n",
       " ('구심/Noun', 12),\n",
       " ('모습/Noun', 9),\n",
       " ('감독/Noun', 8),\n",
       " ('매력/Noun', 7),\n",
       " ('감동/Noun', 7),\n",
       " ('흐름/Noun', 6),\n",
       " ('그/Noun', 6),\n",
       " ('이야기/Noun', 6)]"
      ]
     },
     "execution_count": 52,
     "metadata": {},
     "output_type": "execute_result"
    }
   ],
   "source": [
    "korean_most_common(\"의\", 10)"
   ]
  },
  {
   "cell_type": "code",
   "execution_count": 55,
   "metadata": {},
   "outputs": [
    {
     "data": {
      "text/plain": [
       "[('SE', 26503),\n",
       " ('영화/Noun', 667),\n",
       " ('이/Noun', 565),\n",
       " ('정말/Noun', 480),\n",
       " ('그리고/Conjunction', 455),\n",
       " ('./Punctuation', 445),\n",
       " ('하지만/Conjunction', 369),\n",
       " ('이/Determiner', 352),\n",
       " ('그/Noun', 325),\n",
       " ('스토리/Noun', 317)]"
      ]
     },
     "execution_count": 55,
     "metadata": {},
     "output_type": "execute_result"
    }
   ],
   "source": [
    "korean_most_common(\".\", 10, \"Punctuation\")"
   ]
  },
  {
   "cell_type": "code",
   "execution_count": 56,
   "metadata": {},
   "outputs": [],
   "source": [
    "# 확률 구하기 함수\n",
    "def korean_bigram_prob(c, w):  \n",
    "    context = tokenize(c)[0]\n",
    "    word = tokenize(w)[0]\n",
    "    return cpd[context].prob(word)"
   ]
  },
  {
   "cell_type": "code",
   "execution_count": 57,
   "metadata": {},
   "outputs": [
    {
     "data": {
      "text/plain": [
       "0.4010748656417948"
      ]
     },
     "execution_count": 57,
     "metadata": {},
     "output_type": "execute_result"
    }
   ],
   "source": [
    "korean_bigram_prob(\"이\", \"영화\")"
   ]
  },
  {
   "cell_type": "code",
   "execution_count": 58,
   "metadata": {},
   "outputs": [
    {
     "data": {
      "text/plain": [
       "0.00015767585785521414"
      ]
     },
     "execution_count": 58,
     "metadata": {},
     "output_type": "execute_result"
    }
   ],
   "source": [
    "korean_bigram_prob(\"영화\", \"이\")"
   ]
  },
  {
   "cell_type": "code",
   "execution_count": 59,
   "metadata": {},
   "outputs": [],
   "source": [
    "def korean_generate_sentence(seed=None, debug=False):\n",
    "    if seed is not None:\n",
    "        import random\n",
    "        random.seed(seed)\n",
    "    c = \"SS\"\n",
    "    sentence = []\n",
    "    while True:\n",
    "        if c not in cpd:\n",
    "            break\n",
    "            \n",
    "        w = cpd[c].generate()\n",
    "\n",
    "        if w == \"SE\":\n",
    "            break\n",
    "\n",
    "        w2 = w.split(\"/\")[0]\n",
    "        pos = w.split(\"/\")[1]\n",
    "\n",
    "        if c == \"SS\":\n",
    "            sentence.append(w2.title())\n",
    "        elif c in [\"`\", \"\\\"\", \"'\", \"(\"]:\n",
    "            sentence.append(w2)\n",
    "        elif w2 in [\"'\", \".\", \",\", \")\", \":\", \";\", \"?\"]:\n",
    "            sentence.append(w2)\n",
    "        elif pos in [\"Josa\", \"Punctuation\", \"Suffix\"]:\n",
    "            sentence.append(w2)\n",
    "        elif w in [\"임/Noun\", \"것/Noun\", \"는걸/Noun\", \"릴때/Noun\",\n",
    "                   \"되다/Verb\", \"이다/Verb\", \"하다/Verb\", \"이다/Adjective\"]:\n",
    "            sentence.append(w2)\n",
    "        else:\n",
    "            sentence.append(\" \" + w2)\n",
    "        c = w\n",
    "\n",
    "        if debug:\n",
    "            print(w)\n",
    "\n",
    "    return \"\".join(sentence)"
   ]
  },
  {
   "cell_type": "code",
   "execution_count": 60,
   "metadata": {},
   "outputs": [
    {
     "data": {
      "text/plain": [
       "'미키짱과 말도 전혀 빗나가지 않던 전개로 꽥꽥대는거 보니까 요^^'"
      ]
     },
     "execution_count": 60,
     "metadata": {},
     "output_type": "execute_result"
    }
   ],
   "source": [
    "korean_generate_sentence(0)"
   ]
  },
  {
   "cell_type": "code",
   "execution_count": 61,
   "metadata": {},
   "outputs": [
    {
     "data": {
      "text/plain": [
       "'내용 일테인데 이 영화 최고의 암살 할려고 한 데 선배랑 김선아 연기도 크다. 배슬기 여배우도 있는 척 하는거지?'"
      ]
     },
     "execution_count": 61,
     "metadata": {},
     "output_type": "execute_result"
    }
   ],
   "source": [
    "korean_generate_sentence(1)"
   ]
  },
  {
   "cell_type": "code",
   "execution_count": 62,
   "metadata": {},
   "outputs": [
    {
     "data": {
      "text/plain": [
       "'도리까지 본 영화 너무... 뭔가.. 최고네요. 하지만.. 눈물 낫다는건 또 영화에 들지 않는다. 근데 뭐야 어떻게 그렇게 착했던 윤재랑은 에바 그린 드레스 소리 듣는거임\"\"\" 에리 욧의 미모로 합성 한 가수 노래와 흥행 놓친 영화다. 사투리 연기 하나 없는 ‘ 스피드 감 넘치는 스릴 넘치는 연기를 이해 되지 못 하시는 분보다 훨 재밌구만 평점을 망처 놓은 듯하다. 영화 보는이로 하여금 불편함을 느꼇을듯'"
      ]
     },
     "execution_count": 62,
     "metadata": {},
     "output_type": "execute_result"
    }
   ],
   "source": [
    "korean_generate_sentence(2)"
   ]
  },
  {
   "cell_type": "code",
   "execution_count": 63,
   "metadata": {},
   "outputs": [
    {
     "data": {
      "text/plain": [
       "'내 인생을 반헬싱이 너무 무섭고 재밌고, 칼 세이건으로 연탄가스 맡아서 죽을 같이 작업 하는구나 ㅋㅋㅋㅋㅋ 진짜'"
      ]
     },
     "execution_count": 63,
     "metadata": {},
     "output_type": "execute_result"
    }
   ],
   "source": [
    "korean_generate_sentence(3)"
   ]
  },
  {
   "cell_type": "code",
   "execution_count": 64,
   "metadata": {},
   "outputs": [
    {
     "data": {
      "text/plain": [
       "'좋았어요... ㅎㄷㄷㄷ 시나리오나 그래픽이 대단한 심리전이 미라 파스틱 함.. 너무 무섭고 나쁜세 끼는 듯 진짜 꼭 필요가 있는지도 모르겠지만 나름 그의 복수 후!!!!!!!!!!!'"
      ]
     },
     "execution_count": 64,
     "metadata": {},
     "output_type": "execute_result"
    }
   ],
   "source": [
    "korean_generate_sentence(5)"
   ]
  },
  {
   "cell_type": "markdown",
   "metadata": {},
   "source": [
    "## 확률론적 언어 모형의 활용\n",
    "\n",
    "확률론적 언어 모형은 다음과 같은 분야에 광범위하게 활용할 수 있다.\n",
    "\n",
    "+ 철자 및 문법 교정(Spell Correction)\n",
    "+ 음성 인식(Speech Recognition)\n",
    "+ 자동 번역(Machine Translation)\n",
    "+ 자동 요약(Summarization)\n",
    "+ 챗봇(Question-Answering)"
   ]
  },
  {
   "cell_type": "code",
   "execution_count": null,
   "metadata": {},
   "outputs": [],
   "source": []
  }
 ],
 "metadata": {
  "kernelspec": {
   "display_name": "Python 3",
   "language": "python",
   "name": "python3"
  },
  "language_info": {
   "codemirror_mode": {
    "name": "ipython",
    "version": 3
   },
   "file_extension": ".py",
   "mimetype": "text/x-python",
   "name": "python",
   "nbconvert_exporter": "python",
   "pygments_lexer": "ipython3",
   "version": "3.7.3"
  }
 },
 "nbformat": 4,
 "nbformat_minor": 2
}
