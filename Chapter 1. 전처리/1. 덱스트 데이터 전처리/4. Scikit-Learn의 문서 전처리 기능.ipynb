{
 "cells": [
  {
   "cell_type": "markdown",
   "metadata": {},
   "source": [
    "## BOW (Bag of Words)\n",
    "\n",
    "#### 문서를 숫자 벡터로 변환하는 가장 기본적인 방법은 BOW (Bag of Words) 이다. \n",
    "\n",
    "BOW 방법에서는 전체 문서  {𝑑1,𝑑2,…,𝑑𝑛}  를 구성하는 고정된 단어장(vocabulary)  {𝑡1,𝑡2,…,𝑡𝑚}  를 만들고  𝑑𝑖 라는 개별 문서에 단어장에 해당하는 단어들이 포함되어 있는지를 표시하는 방법이다.\n",
    "\n",
    "$$x_{i,j} = \\text{문서 $d_i$내의 단어 $t_j$의 출현 빈도}$$\n",
    "\n",
    "또는\n",
    "\n",
    "$$x_{i,j} = \n",
    "\\begin{cases}\n",
    "0, & \\text{만약 단어 $t_j$가 문서 $d_i$ 안에 없으면} \\\\\n",
    "1. & \\text{만약 단어 $t_j$가 문서 $d_i$ 안에 있으면}\n",
    "\\end{cases}$$"
   ]
  },
  {
   "cell_type": "markdown",
   "metadata": {},
   "source": [
    "## Scikit-Learn 의 문서 전처리 기능\n",
    "\n",
    "Scikit-Learn 의 feature_extraction 서브패키지와 feature_extraction.text 서브 패키지는 다음과 같은 문서 전처리용 클래스를 제공한다.\n",
    "\n",
    "+ DictVectorizer:\n",
    "    + 각 단어의 수를 세어놓은 사전에서 BOW 벡터를 만든다.\n",
    "\n",
    "+ CountVectorizer:\n",
    "    + 문서 집합에서 단어 토큰을 생성하고 각 단어의 수를 세어 BOW 인코딩한 벡터를 만든다.\n",
    "\n",
    "+ TfidfVectorizer:\n",
    "    + CountVectorizer와 비슷하지만 TF-IDF 방식으로 단어의 가중치를 조정한 BOW 벡터를 만든다.\n",
    "\n",
    "+ HashingVectorizer:\n",
    "    + 해시 함수(hash function)을 사용하여 적은 메모리와 빠른 속도로 BOW 벡터를 만든다."
   ]
  },
  {
   "cell_type": "markdown",
   "metadata": {},
   "source": [
    "### DictVectorizer\n",
    "#### DictVectorizer는 feature_extraction 서브 패키지에서 제공한다. \n",
    "\n",
    "문서에서 단어의 사용 빈도를 나타내는 딕셔너리 정보를 입력받아 BOW 인코딩한 수치 벡터로 변환한다."
   ]
  },
  {
   "cell_type": "code",
   "execution_count": 1,
   "metadata": {},
   "outputs": [],
   "source": [
    "from sklearn.feature_extraction import DictVectorizer"
   ]
  },
  {
   "cell_type": "code",
   "execution_count": 2,
   "metadata": {},
   "outputs": [
    {
     "data": {
      "text/plain": [
       "array([[1., 2., 0.],\n",
       "       [0., 3., 1.]])"
      ]
     },
     "execution_count": 2,
     "metadata": {},
     "output_type": "execute_result"
    }
   ],
   "source": [
    "v = DictVectorizer(sparse=False)\n",
    "D = [{\"A\": 1, 'B': 2}, {'B': 3, 'C': 1}] # 2 x 3 (A, B, C)\n",
    "X = v.fit_transform(D)\n",
    "X"
   ]
  },
  {
   "cell_type": "code",
   "execution_count": 3,
   "metadata": {},
   "outputs": [
    {
     "data": {
      "text/plain": [
       "['A', 'B', 'C']"
      ]
     },
     "execution_count": 3,
     "metadata": {},
     "output_type": "execute_result"
    }
   ],
   "source": [
    "v.feature_names_"
   ]
  },
  {
   "cell_type": "code",
   "execution_count": 4,
   "metadata": {},
   "outputs": [
    {
     "data": {
      "text/plain": [
       "array([[0., 0., 4.]])"
      ]
     },
     "execution_count": 4,
     "metadata": {},
     "output_type": "execute_result"
    }
   ],
   "source": [
    "v.transform({\"C\": 4, \"D\": 3}) # D는 없기 때문에 적용 안됨"
   ]
  },
  {
   "cell_type": "markdown",
   "metadata": {},
   "source": [
    "### CountVectorizer\n",
    "\n",
    "CountVectorizer는 다음과 같은 세가지 작업을 수행한다.\n",
    "\n",
    "(1) 문서를 토큰 리스트로 변환한다.\n",
    "\n",
    "(2) 각 문서에서 토큰의 출현 빈도를 센다.\n",
    "\n",
    "(3) 각 문서를 BOW 인코딩 벡터로 변환한다."
   ]
  },
  {
   "cell_type": "code",
   "execution_count": 5,
   "metadata": {},
   "outputs": [],
   "source": [
    "from sklearn.feature_extraction.text import CountVectorizer"
   ]
  },
  {
   "cell_type": "code",
   "execution_count": 6,
   "metadata": {},
   "outputs": [
    {
     "data": {
      "text/plain": [
       "{'this': 9,\n",
       " 'is': 3,\n",
       " 'the': 7,\n",
       " 'first': 2,\n",
       " 'document': 1,\n",
       " 'second': 6,\n",
       " 'and': 0,\n",
       " 'third': 8,\n",
       " 'one': 5,\n",
       " 'last': 4}"
      ]
     },
     "execution_count": 6,
     "metadata": {},
     "output_type": "execute_result"
    }
   ],
   "source": [
    "corpus = [\n",
    "    'This is the first document.',\n",
    "    'This is the second second document.',\n",
    "    'And the third one.',\n",
    "    'Is this the first document?',\n",
    "    'The last document?',\n",
    "]\n",
    "\n",
    "vect = CountVectorizer()\n",
    "vect.fit(corpus)\n",
    "vect.vocabulary_"
   ]
  },
  {
   "cell_type": "code",
   "execution_count": 7,
   "metadata": {},
   "outputs": [
    {
     "data": {
      "text/plain": [
       "array([[0, 1, 0, 1, 0, 0, 1, 1, 0, 1]])"
      ]
     },
     "execution_count": 7,
     "metadata": {},
     "output_type": "execute_result"
    }
   ],
   "source": [
    "vect.transform([\"This is the second document.\"]).toarray() # [] 리스트 타입으로 입력해야 함. 벡터로 바꿔줌"
   ]
  },
  {
   "cell_type": "code",
   "execution_count": 8,
   "metadata": {},
   "outputs": [
    {
     "data": {
      "text/plain": [
       "array([[0, 0, 0, 0, 0, 0, 0, 0, 0, 0]])"
      ]
     },
     "execution_count": 8,
     "metadata": {},
     "output_type": "execute_result"
    }
   ],
   "source": [
    "vect.transform([\"Something completely new.\"]).toarray() # 토큰 안에 들어가 있는 단어가 없기 때문에 모두 0"
   ]
  },
  {
   "cell_type": "code",
   "execution_count": 9,
   "metadata": {},
   "outputs": [
    {
     "data": {
      "text/plain": [
       "array([[0, 1, 1, 1, 0, 0, 0, 1, 0, 1],\n",
       "       [0, 1, 0, 1, 0, 0, 2, 1, 0, 1],\n",
       "       [1, 0, 0, 0, 0, 1, 0, 1, 1, 0],\n",
       "       [0, 1, 1, 1, 0, 0, 0, 1, 0, 1],\n",
       "       [0, 1, 0, 0, 1, 0, 0, 1, 0, 0]])"
      ]
     },
     "execution_count": 9,
     "metadata": {},
     "output_type": "execute_result"
    }
   ],
   "source": [
    "vect.transform(corpus).toarray()  # 5 X 10 행렬 생성"
   ]
  },
  {
   "cell_type": "markdown",
   "metadata": {},
   "source": [
    "CountVectorizer는 이러한 작업을 하기 위한 다음과 같은 인수를 가질 수 있다.\n",
    "\n",
    "+ stop_words : 문자열 {‘english’}, 리스트 또는 None (디폴트)\n",
    "    + stop words 목록.‘english’이면 영어용 스탑 워드 사용.\n",
    "+ analyzer : 문자열 {‘word’, ‘char’, ‘char_wb’} 또는 함수\n",
    "    + 단어 n-그램, 문자 n-그램, 단어 내의 문자 n-그램\n",
    "+ token_pattern : string\n",
    "    + 토큰 정의용 정규 표현식\n",
    "+ tokenizer : 함수 또는 None (디폴트)\n",
    "    + 토큰 생성 함수 .\n",
    "+ ngram_range : (min_n, max_n) 튜플\n",
    "    + n-그램 범위\n",
    "+ max_df : 정수 또는 [0.0, 1.0] 사이의 실수. 디폴트 1\n",
    "    + 단어장에 포함되기 위한 최대 빈도\n",
    "+ min_df : 정수 또는 [0.0, 1.0] 사이의 실수. 디폴트 1\n",
    "    + 단어장에 포함되기 위한 최소 빈도"
   ]
  },
  {
   "cell_type": "markdown",
   "metadata": {},
   "source": [
    "### Stop Words\n",
    "\n",
    "#### Stop Words는 문서에서 단어장을 생성할 때 무시할 수 있는 단어를 말한다. \n",
    "\n",
    "보통 영어의 관사나 접속사, 한국어의 조사 등이 여기에 해당한다. stop_words 인수로 조절할 수 있다."
   ]
  },
  {
   "cell_type": "code",
   "execution_count": 10,
   "metadata": {},
   "outputs": [
    {
     "data": {
      "text/plain": [
       "{'first': 1, 'document': 0, 'second': 4, 'third': 5, 'one': 3, 'last': 2}"
      ]
     },
     "execution_count": 10,
     "metadata": {},
     "output_type": "execute_result"
    }
   ],
   "source": [
    "vect = CountVectorizer(stop_words=[\"and\", \"is\", \"the\", \"this\"]).fit(corpus)\n",
    "vect.vocabulary_ # 사전 단어 수가 10개에서 6개로 줄어듬"
   ]
  },
  {
   "cell_type": "code",
   "execution_count": 11,
   "metadata": {},
   "outputs": [
    {
     "data": {
      "text/plain": [
       "{'document': 0, 'second': 1}"
      ]
     },
     "execution_count": 11,
     "metadata": {},
     "output_type": "execute_result"
    }
   ],
   "source": [
    "vect = CountVectorizer(stop_words=\"english\").fit(corpus)\n",
    "vect.vocabulary_  # 사전 단어 수가 2개로 감소"
   ]
  },
  {
   "cell_type": "markdown",
   "metadata": {},
   "source": [
    "### 토큰\n",
    "\n",
    "analyzer, tokenizer, token_pattern 등의 인수로 사용할 토큰 생성기를 선택할 수 있다."
   ]
  },
  {
   "cell_type": "code",
   "execution_count": 12,
   "metadata": {},
   "outputs": [
    {
     "data": {
      "text/plain": [
       "{'t': 16,\n",
       " 'h': 8,\n",
       " 'i': 9,\n",
       " 's': 15,\n",
       " ' ': 0,\n",
       " 'e': 6,\n",
       " 'f': 7,\n",
       " 'r': 14,\n",
       " 'd': 5,\n",
       " 'o': 13,\n",
       " 'c': 4,\n",
       " 'u': 17,\n",
       " 'm': 11,\n",
       " 'n': 12,\n",
       " '.': 1,\n",
       " 'a': 3,\n",
       " '?': 2,\n",
       " 'l': 10}"
      ]
     },
     "execution_count": 12,
     "metadata": {},
     "output_type": "execute_result"
    }
   ],
   "source": [
    "vect = CountVectorizer(analyzer=\"char\").fit(corpus) # 문자로 다 쪼갬\n",
    "vect.vocabulary_"
   ]
  },
  {
   "cell_type": "code",
   "execution_count": 13,
   "metadata": {},
   "outputs": [
    {
     "data": {
      "text/plain": [
       "{'this': 9,\n",
       " 'is': 3,\n",
       " 'the': 7,\n",
       " 'first': 2,\n",
       " 'document': 1,\n",
       " 'second': 6,\n",
       " 'and': 0,\n",
       " 'third': 8,\n",
       " 'one': 5,\n",
       " 'last': 4}"
      ]
     },
     "execution_count": 13,
     "metadata": {},
     "output_type": "execute_result"
    }
   ],
   "source": [
    "vect = CountVectorizer(analyzer=\"word\").fit(corpus) # 단어로 쪼갬\n",
    "vect.vocabulary_"
   ]
  },
  {
   "cell_type": "code",
   "execution_count": 14,
   "metadata": {},
   "outputs": [
    {
     "data": {
      "text/plain": [
       "{' ': 0,\n",
       " 't': 16,\n",
       " 'h': 8,\n",
       " 'i': 9,\n",
       " 's': 15,\n",
       " 'e': 6,\n",
       " 'f': 7,\n",
       " 'r': 14,\n",
       " 'd': 5,\n",
       " 'o': 13,\n",
       " 'c': 4,\n",
       " 'u': 17,\n",
       " 'm': 11,\n",
       " 'n': 12,\n",
       " '.': 1,\n",
       " 'a': 3,\n",
       " '?': 2,\n",
       " 'l': 10}"
      ]
     },
     "execution_count": 14,
     "metadata": {},
     "output_type": "execute_result"
    }
   ],
   "source": [
    "vect = CountVectorizer(analyzer=\"char_wb\").fit(corpus) # ??\n",
    "vect.vocabulary_"
   ]
  },
  {
   "cell_type": "code",
   "execution_count": 15,
   "metadata": {},
   "outputs": [
    {
     "data": {
      "text/plain": [
       "{'this': 2, 'the': 0, 'third': 1}"
      ]
     },
     "execution_count": 15,
     "metadata": {},
     "output_type": "execute_result"
    }
   ],
   "source": [
    "vect = CountVectorizer(token_pattern=\"t\\w+\").fit(corpus) # t로 시작하는 단어만 딕셔너리로 만들기\n",
    "vect.vocabulary_"
   ]
  },
  {
   "cell_type": "code",
   "execution_count": 16,
   "metadata": {},
   "outputs": [
    {
     "data": {
      "text/plain": [
       "{'this': 11,\n",
       " 'is': 5,\n",
       " 'the': 9,\n",
       " 'first': 4,\n",
       " 'document': 3,\n",
       " '.': 0,\n",
       " 'second': 8,\n",
       " 'and': 2,\n",
       " 'third': 10,\n",
       " 'one': 7,\n",
       " '?': 1,\n",
       " 'last': 6}"
      ]
     },
     "execution_count": 16,
     "metadata": {},
     "output_type": "execute_result"
    }
   ],
   "source": [
    "import nltk\n",
    "\n",
    "vect = CountVectorizer(tokenizer=nltk.word_tokenize).fit(corpus)\n",
    "vect.vocabulary_"
   ]
  },
  {
   "cell_type": "markdown",
   "metadata": {},
   "source": [
    "### n-그램\n",
    "\n",
    "#### n-그램은 단어장 생성에 사용할 토큰의 크기를 결정한다. \n",
    "\n",
    "모노그램(1-그램)은 토큰 하나만 단어로 사용하며 바이그램(2-그램)은 두 개의 연결된 토큰을 하나의 단어로 사용한다."
   ]
  },
  {
   "cell_type": "code",
   "execution_count": 17,
   "metadata": {},
   "outputs": [
    {
     "data": {
      "text/plain": [
       "{'this is': 12,\n",
       " 'is the': 2,\n",
       " 'the first': 7,\n",
       " 'first document': 1,\n",
       " 'the second': 9,\n",
       " 'second second': 6,\n",
       " 'second document': 5,\n",
       " 'and the': 0,\n",
       " 'the third': 10,\n",
       " 'third one': 11,\n",
       " 'is this': 3,\n",
       " 'this the': 13,\n",
       " 'the last': 8,\n",
       " 'last document': 4}"
      ]
     },
     "execution_count": 17,
     "metadata": {},
     "output_type": "execute_result"
    }
   ],
   "source": [
    "vect = CountVectorizer(ngram_range=(2, 2)).fit(corpus)\n",
    "vect.vocabulary_"
   ]
  },
  {
   "cell_type": "code",
   "execution_count": 18,
   "metadata": {},
   "outputs": [
    {
     "data": {
      "text/plain": [
       "{'this': 3, 'the': 0, 'this the': 4, 'third': 2, 'the third': 1}"
      ]
     },
     "execution_count": 18,
     "metadata": {},
     "output_type": "execute_result"
    }
   ],
   "source": [
    "vect = CountVectorizer(ngram_range=(1, 2), token_pattern=\"t\\w+\").fit(corpus) # t로 시작하는 단어의 한단어, 두단어로 구성된 사전 추출\n",
    "vect.vocabulary_"
   ]
  },
  {
   "cell_type": "markdown",
   "metadata": {},
   "source": [
    "### 빈도수\n",
    "\n",
    "#### max_df, min_df 인수를 사용하여 문서에서 토큰이 나타난 횟수를 기준으로 단어장을 구성할 수도 있다. \n",
    "\n",
    "토큰의 빈도가 max_df로 지정한 값을 초과 하거나 min_df로 지정한 값보다 작은 경우에는 무시한다. 인수 값은 정수인 경우 횟수, 부동소수점인 경우 비중을 뜻한다."
   ]
  },
  {
   "cell_type": "code",
   "execution_count": 19,
   "metadata": {},
   "outputs": [
    {
     "data": {
      "text/plain": [
       "{'this': 3, 'is': 2, 'first': 1, 'document': 0}"
      ]
     },
     "execution_count": 19,
     "metadata": {},
     "output_type": "execute_result"
    }
   ],
   "source": [
    "vect = CountVectorizer(max_df=4, min_df=2).fit(corpus)  # 빈도수가 2~4개로만 된 단어 사전\n",
    "vect.vocabulary_"
   ]
  },
  {
   "cell_type": "code",
   "execution_count": 20,
   "metadata": {},
   "outputs": [
    {
     "data": {
      "text/plain": [
       "{'and', 'last', 'one', 'second', 'the', 'third'}"
      ]
     },
     "execution_count": 20,
     "metadata": {},
     "output_type": "execute_result"
    }
   ],
   "source": [
    "vect.stop_words_  # 제거된 단어들"
   ]
  },
  {
   "cell_type": "code",
   "execution_count": 21,
   "metadata": {},
   "outputs": [
    {
     "data": {
      "text/plain": [
       "array([4, 2, 3, 3])"
      ]
     },
     "execution_count": 21,
     "metadata": {},
     "output_type": "execute_result"
    }
   ],
   "source": [
    "vect.transform(corpus).toarray().sum(axis=0)  # 벡터화 후 각 단어별로 횟수 구하기"
   ]
  },
  {
   "cell_type": "code",
   "execution_count": 22,
   "metadata": {},
   "outputs": [
    {
     "data": {
      "text/plain": [
       "array([[1, 1, 1, 1],\n",
       "       [1, 0, 1, 1],\n",
       "       [0, 0, 0, 0],\n",
       "       [1, 1, 1, 1],\n",
       "       [1, 0, 0, 0]])"
      ]
     },
     "execution_count": 22,
     "metadata": {},
     "output_type": "execute_result"
    }
   ],
   "source": [
    "vect.transform(corpus).toarray()"
   ]
  },
  {
   "cell_type": "markdown",
   "metadata": {},
   "source": [
    "## TF-IDF\n",
    "\n",
    "TF-IDF(Term Frequency – Inverse Document Frequency) 인코딩은 단어를 갯수 그대로 카운트하지 않고 \n",
    "#### 모든 문서에 공통적으로 들어있는 단어의 경우 문서 구별 능력이 떨어진다고 해서 가중치를 축소하는 방법이다.\n",
    "\n",
    "구제적으로는 문서  𝑑 (document)와 단어  𝑡  에 대해 다음과 같이 계산한다.\n",
    "\n",
    "$$\\text{tf-idf}(d, t) = \\text{tf}(d, t) \\cdot \\text{idf}(t)$$\n",
    "\n",
    "여기에서\n",
    "\n",
    "+ tf(𝑑,𝑡) : term frequency. 특정한 단어의 빈도수\n",
    "+ idf(𝑡)  : inverse document frequency. 특정한 단어가 들어 있는 문서의 수에 반비례하는 수\n",
    "\n",
    "$$\\text{idf}(d, t) = \\log \\dfrac{n}{1 + \\text{df}(t)}$$\n",
    "\n",
    "+ 𝑛  : 전체 문서의 수\n",
    "+ df(𝑡) : 단어  𝑡 를 가진 문서의 수"
   ]
  },
  {
   "cell_type": "code",
   "execution_count": 23,
   "metadata": {},
   "outputs": [],
   "source": [
    "from sklearn.feature_extraction.text import TfidfVectorizer"
   ]
  },
  {
   "cell_type": "code",
   "execution_count": 24,
   "metadata": {},
   "outputs": [
    {
     "data": {
      "text/plain": [
       "array([[0.        , 0.38947624, 0.55775063, 0.4629834 , 0.        ,\n",
       "        0.        , 0.        , 0.32941651, 0.        , 0.4629834 ],\n",
       "       [0.        , 0.24151532, 0.        , 0.28709733, 0.        ,\n",
       "        0.        , 0.85737594, 0.20427211, 0.        , 0.28709733],\n",
       "       [0.55666851, 0.        , 0.        , 0.        , 0.        ,\n",
       "        0.55666851, 0.        , 0.26525553, 0.55666851, 0.        ],\n",
       "       [0.        , 0.38947624, 0.55775063, 0.4629834 , 0.        ,\n",
       "        0.        , 0.        , 0.32941651, 0.        , 0.4629834 ],\n",
       "       [0.        , 0.45333103, 0.        , 0.        , 0.80465933,\n",
       "        0.        , 0.        , 0.38342448, 0.        , 0.        ]])"
      ]
     },
     "execution_count": 24,
     "metadata": {},
     "output_type": "execute_result"
    }
   ],
   "source": [
    "tfidv = TfidfVectorizer().fit(corpus)\n",
    "tfidv.transform(corpus).toarray()"
   ]
  },
  {
   "cell_type": "code",
   "execution_count": 25,
   "metadata": {},
   "outputs": [
    {
     "data": {
      "text/plain": [
       "(5, 10)"
      ]
     },
     "execution_count": 25,
     "metadata": {},
     "output_type": "execute_result"
    }
   ],
   "source": [
    "tfidv.transform(corpus).toarray().shape"
   ]
  },
  {
   "cell_type": "markdown",
   "metadata": {},
   "source": [
    "## Hashing Trick\n",
    "\n",
    "#### CountVectorizer는 모든 작업을 메모리 상에서 수행하므로 처리할 문서의 크기가 커지면 속도가 느려지거나 실행이 불가능해진다. \n",
    "\n",
    "이 때 HashingVectorizer를 사용하면 해시 함수를 사용하여 단어에 대한 인덱스 번호를 생성하기 때문에 메모리 및 실행 시간을 줄일 수 있다."
   ]
  },
  {
   "cell_type": "code",
   "execution_count": 26,
   "metadata": {},
   "outputs": [
    {
     "data": {
      "text/plain": [
       "11314"
      ]
     },
     "execution_count": 26,
     "metadata": {},
     "output_type": "execute_result"
    }
   ],
   "source": [
    "from sklearn.datasets import fetch_20newsgroups\n",
    "twenty = fetch_20newsgroups()\n",
    "len(twenty.data)"
   ]
  },
  {
   "cell_type": "code",
   "execution_count": 27,
   "metadata": {},
   "outputs": [
    {
     "name": "stdout",
     "output_type": "stream",
     "text": [
      "CPU times: user 6.19 s, sys: 139 ms, total: 6.33 s\n",
      "Wall time: 6.46 s\n"
     ]
    },
    {
     "data": {
      "text/plain": [
       "<11314x130107 sparse matrix of type '<class 'numpy.int64'>'\n",
       "\twith 1787565 stored elements in Compressed Sparse Row format>"
      ]
     },
     "execution_count": 27,
     "metadata": {},
     "output_type": "execute_result"
    }
   ],
   "source": [
    "%time CountVectorizer().fit(twenty.data).transform(twenty.data)"
   ]
  },
  {
   "cell_type": "code",
   "execution_count": 28,
   "metadata": {},
   "outputs": [],
   "source": [
    "from sklearn.feature_extraction.text import HashingVectorizer\n",
    "hv = HashingVectorizer(n_features=300000)"
   ]
  },
  {
   "cell_type": "code",
   "execution_count": 29,
   "metadata": {},
   "outputs": [
    {
     "name": "stdout",
     "output_type": "stream",
     "text": [
      "CPU times: user 3.2 s, sys: 87.8 ms, total: 3.29 s\n",
      "Wall time: 2.59 s\n"
     ]
    },
    {
     "data": {
      "text/plain": [
       "<11314x300000 sparse matrix of type '<class 'numpy.float64'>'\n",
       "\twith 1786336 stored elements in Compressed Sparse Row format>"
      ]
     },
     "execution_count": 29,
     "metadata": {},
     "output_type": "execute_result"
    }
   ],
   "source": [
    "%time hv.transform(twenty.data)"
   ]
  },
  {
   "cell_type": "markdown",
   "metadata": {},
   "source": [
    "## 사례\n",
    "\n",
    "다음은 Scikit-Learn의 문자열 분석기를 사용하여 웹사이트에 특정한 단어가 어느 정도 사용되었는지 빈도수를 알아보는 코드이다."
   ]
  },
  {
   "cell_type": "code",
   "execution_count": 30,
   "metadata": {},
   "outputs": [],
   "source": [
    "import warnings\n",
    "warnings.simplefilter(\"ignore\")\n",
    "\n",
    "import json\n",
    "import string\n",
    "from urllib.request import urlopen\n",
    "from konlpy.utils import pprint\n",
    "from konlpy.tag import Hannanum"
   ]
  },
  {
   "cell_type": "code",
   "execution_count": 31,
   "metadata": {},
   "outputs": [],
   "source": [
    "hannanum = Hannanum()\n",
    "\n",
    "f = urlopen(\"https://www.datascienceschool.net/download-notebook/708e711429a646818b9dcbb581e0c10a/\")\n",
    "json = json.loads(f.read()) # json type"
   ]
  },
  {
   "cell_type": "code",
   "execution_count": 32,
   "metadata": {},
   "outputs": [
    {
     "name": "stdout",
     "output_type": "stream",
     "text": [
      "{'cells': [{'cell_type': 'markdown',\n",
      "            'metadata': {'school_cell_uuid': '0594321f28a747eb855ffe35b7578bff'},\n",
      "            'source': ['# 도커 초간단 사용법']},\n",
      "           {'cell_type': 'markdown',\n",
      "            'metadata': {'school_cell_uuid': '03b0db4add074be9bc4836fbd330884d'},\n",
      "            'source': ['도커를 사용하기 위한 핵심 명령어를 간단히 소개한다.']},\n",
      "           {'cell_type': 'markdown',\n",
      "            'metadata': {'school_cell_uuid': 'f9906a0b03e849fabfbc3f659f5a05f6'},\n",
      "            'source': ['도커를 사용하려면 우선 이미지(Image)와 컨테이너(container)의 개념을 알아야 '\n",
      "                       '한다.']},\n",
      "           {'cell_type': 'markdown',\n",
      "            'metadata': {'school_cell_uuid': 'aa6002c468c4409a96fe38ef35d5e157'},\n",
      "            'source': ['## 도커 이미지']},\n",
      "           {'cell_type': 'markdown',\n",
      "            'metadata': {'school_cell_uuid': '3d154a5f2373493bbc88d54ccc69b2ef'},\n",
      "            'source': ['도커 이미지는 가상 머신의 원본이 저장된 파일이라고 생각하면 이해하기 쉽다.']},\n",
      "           {'cell_type': 'markdown',\n",
      "            'metadata': {'school_cell_uuid': '118b68bc745645d5bb8986a7cf852a68'},\n",
      "            'source': ['도커 이미지와 관련하여 많이 사용되는 명령어는 두 가지가 있다.\\n',\n",
      "                       '\\n',\n",
      "                       '* `docker image ls`, `docker images` : 현재 도커 이미지 목록 '\n",
      "                       '출력\\n',\n",
      "                       '* `docker image rm`, `docker rmi` : 하나 이상의 도커 이미지 삭제\\n',\n",
      "                       '\\n',\n",
      "                       '더 많은 이미지 조작 명령어는 다음 링크를 참조한다. '\n",
      "                       '(https://docs.docker.com/engine/reference/commandline/image/#child-commands)']},\n",
      "           {'cell_type': 'markdown',\n",
      "            'metadata': {'school_cell_uuid': '4a893ef8759749039634c8dcdb1516d6'},\n",
      "            'source': ['## 목록 출력 명령']},\n",
      "           {'cell_type': 'markdown',\n",
      "            'metadata': {'school_cell_uuid': '0181e120a7324cbe8259724ba81e4e47'},\n",
      "            'source': ['우선 `docker image ls` 명령은 현재 파일 시스템에 저장된 도커 이미지 목록을 '\n",
      "                       '출력한다.\\n',\n",
      "                       '\\n',\n",
      "                       '리눅스에서 도커를 사용하고 있다면 터미널을, 윈도우즈나 맥에서 도커 툴박스를 사용하고 있다면 도커 '\n",
      "                       '터미널을 시작한 후 다음과 같이 `docker image ls` 명령을 입력해 보자.']},\n",
      "           {'cell_type': 'markdown',\n",
      "            'metadata': {'school_cell_uuid': 'faf171a1ec714d20b9d9594f6cae91f4'},\n",
      "            'source': ['```\\n',\n",
      "                       '$ docker image ls\\n',\n",
      "                       'REPOSITORY                  TAG                 IMAGE '\n",
      "                       'ID            CREATED             SIZE\\n',\n",
      "                       'datascienceschool/rpython   latest              '\n",
      "                       '0f8c972cf717        4 months ago        17GB\\n',\n",
      "                       'datascienceschool/ubuntu    latest              '\n",
      "                       '5faa77abe3b5        4 months ago        4.49GB\\n',\n",
      "                       '```']},\n",
      "           {'cell_type': 'markdown',\n",
      "            'metadata': {'school_cell_uuid': '0197d289735547668baad77df6aeb403'},\n",
      "            'source': ['현재 파일 시스템에 존재하는 모든 이미지의 목록을 보여준다. \\n',\n",
      "                       '\\n',\n",
      "                       '이미지 관련 명령을 사용할 때는 이미지 이름이나 이미지 아이디(ID)를 명시해 주어야 한다. '\n",
      "                       '이미지 이름은 `REPOSITORY`와 `TAG`를 콜론(:)으로 조합한 문자열이다. '\n",
      "                       '태그(TAG)는 latest 의 경우에 생략할 수 있다. 이미지 아이디는 `IMAGE ID`열에 '\n",
      "                       '명시되어 있다. \\n',\n",
      "                       '\\n',\n",
      "                       '예를 들어 앞의 경우 `datascienceschool/rpython:latest` 이미지와 '\n",
      "                       '`0f8c972cf717` 이미지는 같은 이미지를 가리킨다. 이미지 아이디를 사용할 때 중복된 '\n",
      "                       '아이디가 없다면 앞의 문자 일부분만 사용해도 된다. 예를 들어 `0f8c972cf717` 대신 '\n",
      "                       '`0f8c`을 사용할 수도 있다. (`0f8c`로 시작하는 다른 아이디가 없을 때)']},\n",
      "           {'cell_type': 'markdown',\n",
      "            'metadata': {'school_cell_uuid': '1b7e2eea22164ddea3a8eac2a7fcaf06'},\n",
      "            'source': ['## 삭제 명령']},\n",
      "           {'cell_type': 'markdown',\n",
      "            'metadata': {'school_cell_uuid': 'eabc3fa7b982445180342c692eeb3a94'},\n",
      "            'source': ['만약 특정한 이미지를 삭제하고자 한다면 다음처럼 `docker image rm` 뒤에 이미지 이름 '\n",
      "                       '문자열이나 이미지 아이디를 추가하여 입력한다. ']},\n",
      "           {'cell_type': 'markdown',\n",
      "            'metadata': {'school_cell_uuid': '1640806d3b4f474792f442ffe3cf93ce'},\n",
      "            'source': ['```\\n', '$ docker image rm 0f8c972cf717\\n', '```']},\n",
      "           {'cell_type': 'markdown',\n",
      "            'metadata': {'school_cell_uuid': 'b5e13c9e477e4d4295966c9c9d53b841'},\n",
      "            'source': ['만약 이미지를 삭제하려고 하는데 현재 해당 이미지를 복사한 컨테이너가 존재하거나 해당 이미지에 '\n",
      "                       '의존하는 다른 이미지가 존재하면 다음과 같은 오류 메시지가 나타난다. 이때는 해당 컨테이너 등을 '\n",
      "                       '삭제한 후 이미지를 삭제해야 한다.']},\n",
      "           {'cell_type': 'markdown',\n",
      "            'metadata': {'school_cell_uuid': 'a69cab77c8f74cfda246d706769298ad'},\n",
      "            'source': ['```\\n',\n",
      "                       '$ docker image rm 0f8c972cf717\\n',\n",
      "                       'Failed to remove image (0f8c972cf717): Error response '\n",
      "                       'from daemon: conflict: unable to delete 0f8c972cf717 '\n",
      "                       '(must be forced) - image is being used by stopped '\n",
      "                       'container 2677b557058b\\n',\n",
      "                       '```']},\n",
      "           {'cell_type': 'markdown',\n",
      "            'metadata': {'school_cell_uuid': 'c1972e345f464dd8a89bbab769675454'},\n",
      "            'source': ['## 도커 컨테이너']},\n",
      "           {'cell_type': 'markdown',\n",
      "            'metadata': {'school_cell_uuid': '91e7a573916841b28a87494b5ec3dd00'},\n",
      "            'source': ['도커 컨테이너는 이미지를 가상 파일 시스템상에 올린 것으로 생각하면 된다. 따라서 하나의 '\n",
      "                       '이미지에서 여러 개의 컨테이너를 가동해도 된다. 그러면 완전히 같은 가상 컴퓨터가 여러 대 있는 '\n",
      "                       '것과 마찬가지가 된다.']},\n",
      "           {'cell_type': 'markdown',\n",
      "            'metadata': {'school_cell_uuid': 'b509170babeb475ebcdefc9b83aa0e55'},\n",
      "            'source': ['도커 컨테이너와 관련하여 많이 사용되는 명령어는 다음과 같다.\\n',\n",
      "                       '\\n',\n",
      "                       '* `docker container ls -a` : 현재 도커 컨테이너 목록 출력\\n',\n",
      "                       '* `docker container run` : 도커 컨테이너 가동\\n',\n",
      "                       '* <kbd>Ctrl</kbd>+<kbd>p</kbd>, '\n",
      "                       '<kbd>Ctrl</kbd>+<kbd>q</kbd> : 가동 중인 도커 컨테이너에서 나오기\\n',\n",
      "                       '* `docker container attach` : 가동 중인 도커 컨테이너 안으로 들어가기\\n',\n",
      "                       '* `exit` : 도커 컨테이너 중지 (컨테이너 내부에서)\\n',\n",
      "                       '* `docker container stop` : 도커 컨테이너 중지  (컨테이너 외부에서)\\n',\n",
      "                       '* `docker container start` : 도커 컨테이너 재시작  (컨테이너 '\n",
      "                       '외부에서)\\n',\n",
      "                       '* `docker container restart` : 도커 컨테이너 중지 후 재시작  (컨테이너 '\n",
      "                       '외부에서)\\n',\n",
      "                       '* `docker container rm` : 도커 컨테이너 삭제\\n',\n",
      "                       '\\n',\n",
      "                       '더 많은 컨테이너 조작 명령어는 다음 링크를 참조한다. '\n",
      "                       '(https://docs.docker.com/engine/reference/commandline/container/#description)']},\n",
      "           {'cell_type': 'markdown',\n",
      "            'metadata': {'school_cell_uuid': '3cf54a2501a74dc684bf5c911188d8a3'},\n",
      "            'source': ['도커 컨테이너 명령을 사용할 때는 컨테이너 아이디나 컨테이너 이름을 명시해야 한다.']},\n",
      "           {'cell_type': 'markdown',\n",
      "            'metadata': {'school_cell_uuid': 'e505cd63c6634eabbe92dfe382887d99'},\n",
      "            'source': ['<img '\n",
      "                       'src=\"https://datascienceschool.net/upfiles/aeb44ce8a11d45ba9c4a13bd76e16742.png\" '\n",
      "                       'style=\"width:100%;\">']},\n",
      "           {'cell_type': 'markdown',\n",
      "            'metadata': {'school_cell_uuid': 'd560a2012b5242c2996a36b44f807bcc',\n",
      "                         'sidetitle': True},\n",
      "            'source': ['그림 2.2.21 : 도커 명령어 요약']},\n",
      "           {'cell_type': 'markdown',\n",
      "            'metadata': {'school_cell_uuid': '40055887e7b046cabc6022739e6d2b45'},\n",
      "            'source': ['## 컨테이너 목록']},\n",
      "           {'cell_type': 'markdown',\n",
      "            'metadata': {'school_cell_uuid': '6fcf7072e5f54e2ba5caebe6c439c8f2'},\n",
      "            'source': ['현재 존재하는 모든 도커 컨테이너 목록을 보려면 `docker container ls -a` '\n",
      "                       '명령을 사용한다. 만약 `-a` 옵션 없이 사용하면 가동중인 컨테이너만 보인다.']},\n",
      "           {'cell_type': 'markdown',\n",
      "            'metadata': {'school_cell_uuid': 'f58ce4bd41004b4389e03fa97818c233'},\n",
      "            'source': ['```\\n',\n",
      "                       '$ docker container ls -a\\n',\n",
      "                       'CONTAINER ID  IMAGE                      '\n",
      "                       'COMMAND        CREATED     STATUS      '\n",
      "                       'PORTS                   NAMES\\n',\n",
      "                       '2677b557058b  datascienceschool/rpython '\n",
      "                       '\"/usr/bin/tini\" 23 hours ago Up 3 hours '\n",
      "                       '0.0.0.0:8888->8888/tcp, rpython\\n',\n",
      "                       '```']},\n",
      "           {'cell_type': 'markdown',\n",
      "            'metadata': {'school_cell_uuid': '8cd648e785d443c6897c7d2ec2e14d77'},\n",
      "            'source': ['도커 이미지와 마찬가지로 도커 컨테이너도 `NAMES` 열에 보인 컨테이너 이름 문자열과 '\n",
      "                       '`CONTAINER ID` 열에 보인 컨테이너 아이디로 특정 컨테이너를 지정할 수 있다. '\n",
      "                       '컨테이너를 멈추거나 삭제하는 경우에 사용한다.']},\n",
      "           {'cell_type': 'markdown',\n",
      "            'metadata': {'school_cell_uuid': 'cf55825ec936488d8982a95cf9846630'},\n",
      "            'source': ['출력에서 주의해야 할 것은 `STATUS` 항목이다.  `STATUS` 항목이 위의 예처럼 '\n",
      "                       '`Up` 이면 해당 컨테이너가 현재 작동중이라는 뜻이고 웹 브라우저를 통해 Jupyter '\n",
      "                       'Notebook을 사용할 수 있다. 만약  `STATUS` 항목이 `Exited` 이면 현재 '\n",
      "                       '동작이 멈추어 있다는 의미이다. 그 상태에서 Jupyter Notebook을 사용하려면 '\n",
      "                       '`docker container start` 를 시키거나 `docker container rm` '\n",
      "                       '명령으로 삭제한 뒤에 다시 `docker container run` 을 해야 한다.']},\n",
      "           {'cell_type': 'markdown',\n",
      "            'metadata': {'school_cell_uuid': '91e0cfb8d6b547ec959d39a71e3a8d65'},\n",
      "            'source': ['## 컨테이너 시작']},\n",
      "           {'cell_type': 'markdown',\n",
      "            'metadata': {'collapsed': True,\n",
      "                         'school_cell_uuid': 'a2ab76a7763742cba1c725f00e9c653d'},\n",
      "            'source': ['도커 컨테이너를 시작하려면 `docker container run` 명령을 사용한다. 이 명령은 '\n",
      "                       '주로 옵션과 함께 사용하는데 대표적인 옵션은 다음과 같다.']},\n",
      "           {'cell_type': 'markdown',\n",
      "            'metadata': {'school_cell_uuid': '0a4a0a53cc784c80bba092197681f8d9'},\n",
      "            'source': ['* `-it` : 터미널을 가진 대화형으로 도커 컨테이너를 시작한다.\\n',\n",
      "                       '* `-d` : 데몬(daemon)으로 도커 컨테이너를 시작한다.\\n',\n",
      "                       '* `--name` : 컨테이너에 이름을 지정한다.\\n',\n",
      "                       '* `-p` : 컨테이너와 호스트간의 포트 포워딩\\n',\n",
      "                       '* `-v` : 컨테이너와 호스트간의 폴더 공유 ']},\n",
      "           {'cell_type': 'markdown',\n",
      "            'metadata': {'school_cell_uuid': '01155b5950d44ac79c697fa3983588fe'},\n",
      "            'source': ['옵션 다음에는 가동할 이미지의 이름과 수행할 명령을 추가한다.']},\n",
      "           {'cell_type': 'markdown',\n",
      "            'metadata': {'school_cell_uuid': '0c7b5e9e54b445509dc5b7680834c187'},\n",
      "            'source': ['예를 들어 `datascienceschool/rpython` 이미지를 대화형 컨테이너로 가동하는 '\n",
      "                       '경우 다음처럼 입력할 수 있다.']},\n",
      "           {'cell_type': 'markdown',\n",
      "            'metadata': {'school_cell_uuid': 'f569331768bf43b49f7283ab1052085b'},\n",
      "            'source': ['```\\n',\n",
      "                       'docker container run -Pit --name rpython -p 8888:8888 '\n",
      "                       '-p 8787:8787 -p 6006:6006 datascienceschool/rpython\\n',\n",
      "                       '```']},\n",
      "           {'cell_type': 'markdown',\n",
      "            'metadata': {'school_cell_uuid': 'ffe2cefea4e84afa87953668f2fd661f'},\n",
      "            'source': ['위 명령은 `datascienceschool/rpython` 이미지를 `rpython`이란 '\n",
      "                       '컨테이너 이름으로 가동하며 터미널을 가진 대화형 컨테이너를 사용하고 컨테이너의 8888과 8787 '\n",
      "                       '포트를 호스트의 8888과 8787 포트와 연결하라는 의미이다. 그리고 `-Pit` 옵션은 모든 '\n",
      "                       '포트를 열고 상호 대화적 셸 사용이 가능하게 하라는 옵션이다.']},\n",
      "           {'cell_type': 'markdown',\n",
      "            'metadata': {'school_cell_uuid': 'aca27c05d8e0498b999dae99d84bd40d'},\n",
      "            'source': ['원래 `docker container run` 명령은 마지막에 `/bin/bash` 등의 명령을 '\n",
      "                       '주지만 `datascienceschool/rpython` 이미지는 아무런 명령이 없으면 자동으로 '\n",
      "                       '`/bin/bash`를 수행하도록 만들어져 있다. `docker container run` 으로 '\n",
      "                       '`/bin/bash` 를 수행하면 다음처럼 프롬프트가 바뀌며 도커 컨테이너 안으로 들어갔음을 '\n",
      "                       '보여준다.']},\n",
      "           {'cell_type': 'markdown',\n",
      "            'metadata': {'school_cell_uuid': '0a717a25c0c94567b6e54282a3988d1b'},\n",
      "            'source': ['```\\n',\n",
      "                       '$ docker container run -Pit --name rpython -p '\n",
      "                       '8888:8888 -p 8787:8787 -p 6006:6006 '\n",
      "                       'datascienceschool/rpython\\n',\n",
      "                       'dockeruser@377ad03459bf:~$\\n',\n",
      "                       '```']},\n",
      "           {'cell_type': 'markdown',\n",
      "            'metadata': {'school_cell_uuid': '871c5076a9534cf8834d75a9927d359c'},\n",
      "            'source': ['앞의 프롬프트에서 `dockeruser`는 도커 컨테이너상의 사용자 아이디를,  '\n",
      "                       '`377ad03459bf`는 도커 컨테이너 아이디를 가리킨다.']},\n",
      "           {'cell_type': 'markdown',\n",
      "            'metadata': {'school_cell_uuid': '2238a97a91c34bacb836a437d0ce999d'},\n",
      "            'source': ['## 컨테이너 나오기']},\n",
      "           {'cell_type': 'markdown',\n",
      "            'metadata': {'school_cell_uuid': '9f5aacaf1ed4459ca88cba53e9838c29'},\n",
      "            'source': ['도커 컨테이너 안에서 작업을 하다가 도커 컨테이너는 정지시키지 않고 잠시 컨테이너에서 호스트로 '\n",
      "                       '빠져나오고 싶으면 <kbd>Ctrl</kbd>+<kbd>p</kbd>, '\n",
      "                       '<kbd>Ctrl</kbd>+<kbd>q</kbd> 키를 누른다(이 때 호스트 컴퓨터의 프롬프트가 '\n",
      "                       '바로 나타나지 않으면 <kbd>Enter</kbd>키를 몇 번 누른다).']},\n",
      "           {'cell_type': 'markdown',\n",
      "            'metadata': {'school_cell_uuid': '1c2a4c9b2b7244eea5d8dd540d1b035b'},\n",
      "            'source': ['```\\n',\n",
      "                       'dockeruser@2677b557058b:~$ (Ctrl+p, Ctrl+q)\\n',\n",
      "                       'user@user-PC MINGW64 ~\\n',\n",
      "                       '$```']},\n",
      "           {'cell_type': 'markdown',\n",
      "            'metadata': {'school_cell_uuid': 'a3df9536e510428ab497a8003274f8f2'},\n",
      "            'source': ['## 컨테이너 들어가기']},\n",
      "           {'cell_type': 'markdown',\n",
      "            'metadata': {'school_cell_uuid': '2c2fb6ded7f04d9c81c532cf6dd95d43'},\n",
      "            'source': ['호스트 컴퓨터에서 작업을 끝낸 후 다시 빠져나왔던 도커 컨테이너로 들어가려면 `docker '\n",
      "                       'container attach` 명령을 입력한다. 물론 명령어 뒤에 컨테이너 아이디나 이름을 '\n",
      "                       '인수로 입력해야 한다(마찬가지로 컨테이너의 프롬프트가 바로 나타나지 않으면 '\n",
      "                       '<kbd>Enter</kbd>키를 몇 번 누른다).']},\n",
      "           {'cell_type': 'markdown',\n",
      "            'metadata': {'school_cell_uuid': '408ecafef7f845758222dd56049f0e19'},\n",
      "            'source': ['```\\n',\n",
      "                       '$ docker container attach rpython\\n',\n",
      "                       'dockeruser@2677b557058b:~\\n',\n",
      "                       '$\\n',\n",
      "                       '```']},\n",
      "           {'cell_type': 'markdown',\n",
      "            'metadata': {'school_cell_uuid': 'cd78f41f4b9549cfbeda72c3bb843ac1'},\n",
      "            'source': ['## 컨테이너 종료']},\n",
      "           {'cell_type': 'markdown',\n",
      "            'metadata': {'school_cell_uuid': '4b57a31b88fa4927b0370b53b0469afa'},\n",
      "            'source': ['만약 컨테이너 사용을 완전히 마치고 싶으면 컨테이너 안에서 `exit` 명령을 입력한다. '\n",
      "                       '컨테이너를 중지하고 호스트 컴퓨터로 빠져나온다.']},\n",
      "           {'cell_type': 'markdown',\n",
      "            'metadata': {'school_cell_uuid': '470926bbd604424b8a92d1d9917921d7'},\n",
      "            'source': ['```\\n',\n",
      "                       'dockeruser@2677b557058b:~$ exit\\n',\n",
      "                       'exit\\n',\n",
      "                       'user@user-PC MINGW64 ~\\n',\n",
      "                       '$\\n',\n",
      "                       '```']},\n",
      "           {'cell_type': 'markdown',\n",
      "            'metadata': {'school_cell_uuid': 'a33f935f25234ad6b8baed9293dab56f'},\n",
      "            'source': ['## 외부에서 컨테이너 종료']},\n",
      "           {'cell_type': 'markdown',\n",
      "            'metadata': {'school_cell_uuid': '054271afdb304a6d95485da1154b437d'},\n",
      "            'source': ['컨테이너를 중지하지 않고 빠져나온 경우에 외부에서 컨테이너를 중지하고 싶으면 `docker '\n",
      "                       'container stop` 명령을 사용한다.']},\n",
      "           {'cell_type': 'markdown',\n",
      "            'metadata': {'school_cell_uuid': '3b29548599b042678aae07a69762f3fa'},\n",
      "            'source': ['```\\n',\n",
      "                       'user@user-PC MINGW64 ~\\n',\n",
      "                       '$ docker container ls -a\\n',\n",
      "                       'CONTAINER ID IMAGE                     COMMAND         '\n",
      "                       'CREATED        STATUS       PORTS                  '\n",
      "                       'NAMES\\n',\n",
      "                       '2677b557058b datascienceschool/rpython \"/usr/bin/tini\" '\n",
      "                       '15 seconds ago Up 5 seconds 0.0.0.0:8787->8787/tcp '\n",
      "                       'rpython\\n',\n",
      "                       '\\n',\n",
      "                       'user@user-PC MINGW64 ~\\n',\n",
      "                       '$ docker container stop rpython\\n',\n",
      "                       'rpython\\n',\n",
      "                       '\\n',\n",
      "                       'user@user-PC MINGW64 ~\\n',\n",
      "                       '$ docker container ls -a\\n',\n",
      "                       'CONTAINER ID IMAGE                     COMMAND         '\n",
      "                       'CREATED        STATUS                     PORTS '\n",
      "                       'NAMES\\n',\n",
      "                       '2677b557058b datascienceschool/rpython \"/usr/bin/tini\" '\n",
      "                       '25 seconds ago Exited (143) 7 seconds ago       '\n",
      "                       'rpython\\n',\n",
      "                       '```']},\n",
      "           {'cell_type': 'markdown',\n",
      "            'metadata': {'school_cell_uuid': '505f94234fa24ef890dbdd6e28330d3d'},\n",
      "            'source': ['## 컨테이너 재시작']},\n",
      "           {'cell_type': 'markdown',\n",
      "            'metadata': {'school_cell_uuid': '26c090abfbdc4e2ab444c8b62e09885e'},\n",
      "            'source': ['컨테이너가 중지된 상태에서 다시 시작하고 싶으면 `docker container start` '\n",
      "                       '명령을 사용한다.']},\n",
      "           {'cell_type': 'markdown',\n",
      "            'metadata': {'school_cell_uuid': '390ff1d1d36847ce82d7e4048bed0eb7'},\n",
      "            'source': ['```\\n',\n",
      "                       'user@user-PC MINGW64 ~\\n',\n",
      "                       '$ docker container ls -a\\n',\n",
      "                       'CONTAINER ID  IMAGE                     COMMAND        '\n",
      "                       'CREATED       STATUS            PORTS  NAMES\\n',\n",
      "                       '2677b557058b  datascienceschool/rpython '\n",
      "                       '\"/usr/bin/tini\" 23 hours ago Exited (143) 3 hours     '\n",
      "                       'rpython\\n',\n",
      "                       '\\n',\n",
      "                       'user@user-PC MINGW64 ~\\n',\n",
      "                       '$ docker container start rpython\\n',\n",
      "                       'rpython\\n',\n",
      "                       '\\n',\n",
      "                       'user@user-PC MINGW64 ~\\n',\n",
      "                       '$ docker container ls -a\\n',\n",
      "                       'CONTAINER ID IMAGE                     COMMAND         '\n",
      "                       'CREATED        STATUS       PORTS                  '\n",
      "                       'NAMES\\n',\n",
      "                       '2677b557058b datascienceschool/rpython \"/usr/bin/tini\" '\n",
      "                       '57 seconds ago Up 5 seconds 0.0.0.0:8787->8787/tcp '\n",
      "                       'rpython\\n',\n",
      "                       '```']},\n",
      "           {'cell_type': 'markdown',\n",
      "            'metadata': {'school_cell_uuid': '24cad25f99074e7d82616f08efe0762b'},\n",
      "            'source': ['### 컨테이너 무조건 재시작']},\n",
      "           {'cell_type': 'markdown',\n",
      "            'metadata': {'school_cell_uuid': 'b86bf453b59244a895890f786e4f0f83'},\n",
      "            'source': ['컨테이너의 상태와 관계없이 (동작 중에도) 중지한 후에 다시 시작하고 싶으면 `docker '\n",
      "                       'container restart` 명령을 사용한다.']},\n",
      "           {'cell_type': 'markdown',\n",
      "            'metadata': {'school_cell_uuid': '3ee305b0244a4847ad2cd93b125d9858'},\n",
      "            'source': ['```\\n',\n",
      "                       'user@user-PC MINGW64 ~\\n',\n",
      "                       '$ docker container ls -a\\n',\n",
      "                       'CONTAINER ID IMAGE                     COMMAND         '\n",
      "                       'CREATED        STATUS                     PORTS '\n",
      "                       'NAMES\\n',\n",
      "                       '2677b557058b datascienceschool/rpython \"/usr/bin/tini\" '\n",
      "                       '53 seconds ago Up 6 seconds                     '\n",
      "                       'rpython\\n',\n",
      "                       '\\n',\n",
      "                       'user@user-PC MINGW64 ~\\n',\n",
      "                       '$ docker container restart rpython\\n',\n",
      "                       'rpython\\n',\n",
      "                       '\\n',\n",
      "                       'user@user-PC MINGW64 ~\\n',\n",
      "                       '$ docker container ls -a\\n',\n",
      "                       'CONTAINER ID IMAGE                     COMMAND         '\n",
      "                       'CREATED        STATUS       PORTS                  '\n",
      "                       'NAMES\\n',\n",
      "                       '2677b557058b datascienceschool/rpython \"/usr/bin/tini\" '\n",
      "                       '54 seconds ago Up 6seconds 0.0.0.0:8787->8787/tcp '\n",
      "                       'rpython\\n',\n",
      "                       '\\n',\n",
      "                       '```']},\n",
      "           {'cell_type': 'markdown',\n",
      "            'metadata': {'school_cell_uuid': '07ce308fb2a64cabbe3c223e51ce4c0a'},\n",
      "            'source': ['## 컨테이너 삭제']},\n",
      "           {'cell_type': 'markdown',\n",
      "            'metadata': {'school_cell_uuid': '3e076ff4297649b2ae9678f271bdf6cb'},\n",
      "            'source': ['컨테이너가 중지되었어도 컨테이너 자체는 계속 남아있다. 따라서 같은 이름으로 컨테이너를 다시 '\n",
      "                       '생성하려면 해당 이름의 컨테이너를 삭제해야 한다. 이때 `docker rm` 명령을 사용한다.']},\n",
      "           {'cell_type': 'markdown',\n",
      "            'metadata': {'school_cell_uuid': '9f4857bee6394c288dff3c314f8cad8d'},\n",
      "            'source': ['```\\n',\n",
      "                       'user@user-PC MINGW64 ~\\n',\n",
      "                       '$ docker container rm rpython\\n',\n",
      "                       'rpython\\n',\n",
      "                       '\\n',\n",
      "                       'user@user-PC MINGW64 ~\\n',\n",
      "                       '$ docker container ls -a\\n',\n",
      "                       'CONTAINER ID       IMAGE            COMMAND            '\n",
      "                       'CREATED           STATUS            PORTS           '\n",
      "                       'NAMES\\n',\n",
      "                       '```']},\n",
      "           {'cell_type': 'markdown',\n",
      "            'metadata': {'bootstrap': {'panel': {'class': 'panel-default'}},\n",
      "                         'school_cell_uuid': '5bc109b3aaef4f86be277f5142095977'},\n",
      "            'source': ['### 연습 문제 2.2.6\\n',\n",
      "                       '\\n',\n",
      "                       '`datascienceschool/rpython` 도커 이미지와 컨테이너를 사용하여 다음과 같이 '\n",
      "                       '실행해 본다.\\n',\n",
      "                       '\\n',\n",
      "                       '1. 컨테이너가 현재 가동 중인지 확인한다.  (``container ls`` 명령)\\n',\n",
      "                       '1. 만약 가동 중이면 컨테이너를 중지한다.  (``container stop`` 명령)\\n',\n",
      "                       '1. 컨테이너가 중지되었는지 확인한다.  (``container ls`` 명령)\\n',\n",
      "                       '1. 컨테이너를 다시 시작한다.   (``container start`` 명령)\\n',\n",
      "                       '1. 컨테이너가 현재 가동 중인지 확인한다.  (``container ls`` 명령)\\n',\n",
      "                       '1. 컨테이너 셸 안으로 들어간다.  (``container attach`` 명령)\\n',\n",
      "                       '1. 컨테이너를 중지하지 않고 나온다.  (``ctrl-p ctrl-q`` 명령)\\n',\n",
      "                       '1. 컨테이너를 중지한다. (``container stop`` 명령)\\n',\n",
      "                       '1. 컨테이너가 현재 가동 중인지 확인한다.  (``container ls`` 명령)\\n',\n",
      "                       '1. 컨테이너를 삭제한다. (``container rm`` 명령)\\n',\n",
      "                       '1. 컨테이너가 현재 가동 중인지 확인한다.  (``container ls`` 명령)\\n',\n",
      "                       '1. 이미지 목록을 살펴본다. (``image ls`` 명령)\\n',\n",
      "                       '1. 컨테이너를 가동한다. (``container run`` 명령)\\n',\n",
      "                       '    ']},\n",
      "           {'cell_type': 'markdown',\n",
      "            'metadata': {'school_cell_uuid': '032f2b57b34b43d7b32fb1596c5b2c32'},\n",
      "            'source': ['## 참고 문헌\\n',\n",
      "                       '\\n',\n",
      "                       '여기에서는 도커를 사용하기 위한 최소한의 내용을 설명하였다. 도커에 대해 보다 자세히 알고싶으면 '\n",
      "                       '다음 문헌을 참고 한다.\\n',\n",
      "                       '\\n',\n",
      "                       '* 가장 빨리 만나는 Docker, 이재홍, 도서출판 길벗\\n',\n",
      "                       '    * http://pyrasis.com/docker.html']}],\n",
      " 'metadata': {'kernelspec': {'display_name': 'Python 3',\n",
      "                             'language': 'python',\n",
      "                             'name': 'python3'},\n",
      "              'language_info': {'codemirror_mode': {'name': 'ipython',\n",
      "                                                    'version': 3},\n",
      "                                'file_extension': '.py',\n",
      "                                'mimetype': 'text/x-python',\n",
      "                                'name': 'python',\n",
      "                                'nbconvert_exporter': 'python',\n",
      "                                'pygments_lexer': 'ipython3',\n",
      "                                'version': '3.6.6'}},\n",
      " 'nbformat': 4,\n",
      " 'nbformat_minor': 1}\n"
     ]
    }
   ],
   "source": [
    "pprint(json)"
   ]
  },
  {
   "cell_type": "code",
   "execution_count": 33,
   "metadata": {},
   "outputs": [
    {
     "data": {
      "text/plain": [
       "['# 도커 초간단 사용법',\n",
       " '도커를 사용하기 위한 핵심 명령어를 간단히 소개한다.',\n",
       " '도커를 사용하려면 우선 이미지(Image)와 컨테이너(container)의 개념을 알아야 한다.',\n",
       " '## 도커 이미지',\n",
       " '도커 이미지는 가상 머신의 원본이 저장된 파일이라고 생각하면 이해하기 쉽다.',\n",
       " '도커 이미지와 관련하여 많이 사용되는 명령어는 두 가지가 있다.\\n\\n\\n\\n* `docker image ls`, `docker images` : 현재 도커 이미지 목록 출력\\n\\n* `docker image rm`, `docker rmi` : 하나 이상의 도커 이미지 삭제\\n\\n\\n\\n더 많은 이미지 조작 명령어는 다음 링크를 참조한다. (https://docs.docker.com/engine/reference/commandline/image/#child-commands)',\n",
       " '## 목록 출력 명령',\n",
       " '우선 `docker image ls` 명령은 현재 파일 시스템에 저장된 도커 이미지 목록을 출력한다.\\n\\n\\n\\n리눅스에서 도커를 사용하고 있다면 터미널을, 윈도우즈나 맥에서 도커 툴박스를 사용하고 있다면 도커 터미널을 시작한 후 다음과 같이 `docker image ls` 명령을 입력해 보자.',\n",
       " '```\\n\\n$ docker image ls\\n\\nREPOSITORY                  TAG                 IMAGE ID            CREATED             SIZE\\n\\ndatascienceschool/rpython   latest              0f8c972cf717        4 months ago        17GB\\n\\ndatascienceschool/ubuntu    latest              5faa77abe3b5        4 months ago        4.49GB\\n\\n```',\n",
       " '현재 파일 시스템에 존재하는 모든 이미지의 목록을 보여준다. \\n\\n\\n\\n이미지 관련 명령을 사용할 때는 이미지 이름이나 이미지 아이디(ID)를 명시해 주어야 한다. 이미지 이름은 `REPOSITORY`와 `TAG`를 콜론(:)으로 조합한 문자열이다. 태그(TAG)는 latest 의 경우에 생략할 수 있다. 이미지 아이디는 `IMAGE ID`열에 명시되어 있다. \\n\\n\\n\\n예를 들어 앞의 경우 `datascienceschool/rpython:latest` 이미지와 `0f8c972cf717` 이미지는 같은 이미지를 가리킨다. 이미지 아이디를 사용할 때 중복된 아이디가 없다면 앞의 문자 일부분만 사용해도 된다. 예를 들어 `0f8c972cf717` 대신 `0f8c`을 사용할 수도 있다. (`0f8c`로 시작하는 다른 아이디가 없을 때)',\n",
       " '## 삭제 명령',\n",
       " '만약 특정한 이미지를 삭제하고자 한다면 다음처럼 `docker image rm` 뒤에 이미지 이름 문자열이나 이미지 아이디를 추가하여 입력한다. ',\n",
       " '```\\n\\n$ docker image rm 0f8c972cf717\\n\\n```',\n",
       " '만약 이미지를 삭제하려고 하는데 현재 해당 이미지를 복사한 컨테이너가 존재하거나 해당 이미지에 의존하는 다른 이미지가 존재하면 다음과 같은 오류 메시지가 나타난다. 이때는 해당 컨테이너 등을 삭제한 후 이미지를 삭제해야 한다.',\n",
       " '```\\n\\n$ docker image rm 0f8c972cf717\\n\\nFailed to remove image (0f8c972cf717): Error response from daemon: conflict: unable to delete 0f8c972cf717 (must be forced) - image is being used by stopped container 2677b557058b\\n\\n```',\n",
       " '## 도커 컨테이너',\n",
       " '도커 컨테이너는 이미지를 가상 파일 시스템상에 올린 것으로 생각하면 된다. 따라서 하나의 이미지에서 여러 개의 컨테이너를 가동해도 된다. 그러면 완전히 같은 가상 컴퓨터가 여러 대 있는 것과 마찬가지가 된다.',\n",
       " '도커 컨테이너와 관련하여 많이 사용되는 명령어는 다음과 같다.\\n\\n\\n\\n* `docker container ls -a` : 현재 도커 컨테이너 목록 출력\\n\\n* `docker container run` : 도커 컨테이너 가동\\n\\n* <kbd>Ctrl</kbd>+<kbd>p</kbd>, <kbd>Ctrl</kbd>+<kbd>q</kbd> : 가동 중인 도커 컨테이너에서 나오기\\n\\n* `docker container attach` : 가동 중인 도커 컨테이너 안으로 들어가기\\n\\n* `exit` : 도커 컨테이너 중지 (컨테이너 내부에서)\\n\\n* `docker container stop` : 도커 컨테이너 중지  (컨테이너 외부에서)\\n\\n* `docker container start` : 도커 컨테이너 재시작  (컨테이너 외부에서)\\n\\n* `docker container restart` : 도커 컨테이너 중지 후 재시작  (컨테이너 외부에서)\\n\\n* `docker container rm` : 도커 컨테이너 삭제\\n\\n\\n\\n더 많은 컨테이너 조작 명령어는 다음 링크를 참조한다. (https://docs.docker.com/engine/reference/commandline/container/#description)',\n",
       " '도커 컨테이너 명령을 사용할 때는 컨테이너 아이디나 컨테이너 이름을 명시해야 한다.',\n",
       " '<img src=\"https://datascienceschool.net/upfiles/aeb44ce8a11d45ba9c4a13bd76e16742.png\" style=\"width:100%;\">',\n",
       " '그림 2.2.21 : 도커 명령어 요약',\n",
       " '## 컨테이너 목록',\n",
       " '현재 존재하는 모든 도커 컨테이너 목록을 보려면 `docker container ls -a` 명령을 사용한다. 만약 `-a` 옵션 없이 사용하면 가동중인 컨테이너만 보인다.',\n",
       " '```\\n\\n$ docker container ls -a\\n\\nCONTAINER ID  IMAGE                      COMMAND        CREATED     STATUS      PORTS                   NAMES\\n\\n2677b557058b  datascienceschool/rpython \"/usr/bin/tini\" 23 hours ago Up 3 hours 0.0.0.0:8888->8888/tcp, rpython\\n\\n```',\n",
       " '도커 이미지와 마찬가지로 도커 컨테이너도 `NAMES` 열에 보인 컨테이너 이름 문자열과 `CONTAINER ID` 열에 보인 컨테이너 아이디로 특정 컨테이너를 지정할 수 있다. 컨테이너를 멈추거나 삭제하는 경우에 사용한다.',\n",
       " '출력에서 주의해야 할 것은 `STATUS` 항목이다.  `STATUS` 항목이 위의 예처럼 `Up` 이면 해당 컨테이너가 현재 작동중이라는 뜻이고 웹 브라우저를 통해 Jupyter Notebook을 사용할 수 있다. 만약  `STATUS` 항목이 `Exited` 이면 현재 동작이 멈추어 있다는 의미이다. 그 상태에서 Jupyter Notebook을 사용하려면 `docker container start` 를 시키거나 `docker container rm` 명령으로 삭제한 뒤에 다시 `docker container run` 을 해야 한다.',\n",
       " '## 컨테이너 시작',\n",
       " '도커 컨테이너를 시작하려면 `docker container run` 명령을 사용한다. 이 명령은 주로 옵션과 함께 사용하는데 대표적인 옵션은 다음과 같다.',\n",
       " '* `-it` : 터미널을 가진 대화형으로 도커 컨테이너를 시작한다.\\n\\n* `-d` : 데몬(daemon)으로 도커 컨테이너를 시작한다.\\n\\n* `--name` : 컨테이너에 이름을 지정한다.\\n\\n* `-p` : 컨테이너와 호스트간의 포트 포워딩\\n\\n* `-v` : 컨테이너와 호스트간의 폴더 공유 ',\n",
       " '옵션 다음에는 가동할 이미지의 이름과 수행할 명령을 추가한다.',\n",
       " '예를 들어 `datascienceschool/rpython` 이미지를 대화형 컨테이너로 가동하는 경우 다음처럼 입력할 수 있다.',\n",
       " '```\\n\\ndocker container run -Pit --name rpython -p 8888:8888 -p 8787:8787 -p 6006:6006 datascienceschool/rpython\\n\\n```',\n",
       " '위 명령은 `datascienceschool/rpython` 이미지를 `rpython`이란 컨테이너 이름으로 가동하며 터미널을 가진 대화형 컨테이너를 사용하고 컨테이너의 8888과 8787 포트를 호스트의 8888과 8787 포트와 연결하라는 의미이다. 그리고 `-Pit` 옵션은 모든 포트를 열고 상호 대화적 셸 사용이 가능하게 하라는 옵션이다.',\n",
       " '원래 `docker container run` 명령은 마지막에 `/bin/bash` 등의 명령을 주지만 `datascienceschool/rpython` 이미지는 아무런 명령이 없으면 자동으로 `/bin/bash`를 수행하도록 만들어져 있다. `docker container run` 으로 `/bin/bash` 를 수행하면 다음처럼 프롬프트가 바뀌며 도커 컨테이너 안으로 들어갔음을 보여준다.',\n",
       " '```\\n\\n$ docker container run -Pit --name rpython -p 8888:8888 -p 8787:8787 -p 6006:6006 datascienceschool/rpython\\n\\ndockeruser@377ad03459bf:~$\\n\\n```',\n",
       " '앞의 프롬프트에서 `dockeruser`는 도커 컨테이너상의 사용자 아이디를,  `377ad03459bf`는 도커 컨테이너 아이디를 가리킨다.',\n",
       " '## 컨테이너 나오기',\n",
       " '도커 컨테이너 안에서 작업을 하다가 도커 컨테이너는 정지시키지 않고 잠시 컨테이너에서 호스트로 빠져나오고 싶으면 <kbd>Ctrl</kbd>+<kbd>p</kbd>, <kbd>Ctrl</kbd>+<kbd>q</kbd> 키를 누른다(이 때 호스트 컴퓨터의 프롬프트가 바로 나타나지 않으면 <kbd>Enter</kbd>키를 몇 번 누른다).',\n",
       " '```\\n\\ndockeruser@2677b557058b:~$ (Ctrl+p, Ctrl+q)\\n\\nuser@user-PC MINGW64 ~\\n\\n$```',\n",
       " '## 컨테이너 들어가기',\n",
       " '호스트 컴퓨터에서 작업을 끝낸 후 다시 빠져나왔던 도커 컨테이너로 들어가려면 `docker container attach` 명령을 입력한다. 물론 명령어 뒤에 컨테이너 아이디나 이름을 인수로 입력해야 한다(마찬가지로 컨테이너의 프롬프트가 바로 나타나지 않으면 <kbd>Enter</kbd>키를 몇 번 누른다).',\n",
       " '```\\n\\n$ docker container attach rpython\\n\\ndockeruser@2677b557058b:~\\n\\n$\\n\\n```',\n",
       " '## 컨테이너 종료',\n",
       " '만약 컨테이너 사용을 완전히 마치고 싶으면 컨테이너 안에서 `exit` 명령을 입력한다. 컨테이너를 중지하고 호스트 컴퓨터로 빠져나온다.',\n",
       " '```\\n\\ndockeruser@2677b557058b:~$ exit\\n\\nexit\\n\\nuser@user-PC MINGW64 ~\\n\\n$\\n\\n```',\n",
       " '## 외부에서 컨테이너 종료',\n",
       " '컨테이너를 중지하지 않고 빠져나온 경우에 외부에서 컨테이너를 중지하고 싶으면 `docker container stop` 명령을 사용한다.',\n",
       " '```\\n\\nuser@user-PC MINGW64 ~\\n\\n$ docker container ls -a\\n\\nCONTAINER ID IMAGE                     COMMAND         CREATED        STATUS       PORTS                  NAMES\\n\\n2677b557058b datascienceschool/rpython \"/usr/bin/tini\" 15 seconds ago Up 5 seconds 0.0.0.0:8787->8787/tcp rpython\\n\\n\\n\\nuser@user-PC MINGW64 ~\\n\\n$ docker container stop rpython\\n\\nrpython\\n\\n\\n\\nuser@user-PC MINGW64 ~\\n\\n$ docker container ls -a\\n\\nCONTAINER ID IMAGE                     COMMAND         CREATED        STATUS                     PORTS NAMES\\n\\n2677b557058b datascienceschool/rpython \"/usr/bin/tini\" 25 seconds ago Exited (143) 7 seconds ago       rpython\\n\\n```',\n",
       " '## 컨테이너 재시작',\n",
       " '컨테이너가 중지된 상태에서 다시 시작하고 싶으면 `docker container start` 명령을 사용한다.',\n",
       " '```\\n\\nuser@user-PC MINGW64 ~\\n\\n$ docker container ls -a\\n\\nCONTAINER ID  IMAGE                     COMMAND        CREATED       STATUS            PORTS  NAMES\\n\\n2677b557058b  datascienceschool/rpython \"/usr/bin/tini\" 23 hours ago Exited (143) 3 hours     rpython\\n\\n\\n\\nuser@user-PC MINGW64 ~\\n\\n$ docker container start rpython\\n\\nrpython\\n\\n\\n\\nuser@user-PC MINGW64 ~\\n\\n$ docker container ls -a\\n\\nCONTAINER ID IMAGE                     COMMAND         CREATED        STATUS       PORTS                  NAMES\\n\\n2677b557058b datascienceschool/rpython \"/usr/bin/tini\" 57 seconds ago Up 5 seconds 0.0.0.0:8787->8787/tcp rpython\\n\\n```',\n",
       " '### 컨테이너 무조건 재시작',\n",
       " '컨테이너의 상태와 관계없이 (동작 중에도) 중지한 후에 다시 시작하고 싶으면 `docker container restart` 명령을 사용한다.',\n",
       " '```\\n\\nuser@user-PC MINGW64 ~\\n\\n$ docker container ls -a\\n\\nCONTAINER ID IMAGE                     COMMAND         CREATED        STATUS                     PORTS NAMES\\n\\n2677b557058b datascienceschool/rpython \"/usr/bin/tini\" 53 seconds ago Up 6 seconds                     rpython\\n\\n\\n\\nuser@user-PC MINGW64 ~\\n\\n$ docker container restart rpython\\n\\nrpython\\n\\n\\n\\nuser@user-PC MINGW64 ~\\n\\n$ docker container ls -a\\n\\nCONTAINER ID IMAGE                     COMMAND         CREATED        STATUS       PORTS                  NAMES\\n\\n2677b557058b datascienceschool/rpython \"/usr/bin/tini\" 54 seconds ago Up 6seconds 0.0.0.0:8787->8787/tcp rpython\\n\\n\\n\\n```',\n",
       " '## 컨테이너 삭제',\n",
       " '컨테이너가 중지되었어도 컨테이너 자체는 계속 남아있다. 따라서 같은 이름으로 컨테이너를 다시 생성하려면 해당 이름의 컨테이너를 삭제해야 한다. 이때 `docker rm` 명령을 사용한다.',\n",
       " '```\\n\\nuser@user-PC MINGW64 ~\\n\\n$ docker container rm rpython\\n\\nrpython\\n\\n\\n\\nuser@user-PC MINGW64 ~\\n\\n$ docker container ls -a\\n\\nCONTAINER ID       IMAGE            COMMAND            CREATED           STATUS            PORTS           NAMES\\n\\n```',\n",
       " '### 연습 문제 2.2.6\\n\\n\\n\\n`datascienceschool/rpython` 도커 이미지와 컨테이너를 사용하여 다음과 같이 실행해 본다.\\n\\n\\n\\n1. 컨테이너가 현재 가동 중인지 확인한다.  (``container ls`` 명령)\\n\\n1. 만약 가동 중이면 컨테이너를 중지한다.  (``container stop`` 명령)\\n\\n1. 컨테이너가 중지되었는지 확인한다.  (``container ls`` 명령)\\n\\n1. 컨테이너를 다시 시작한다.   (``container start`` 명령)\\n\\n1. 컨테이너가 현재 가동 중인지 확인한다.  (``container ls`` 명령)\\n\\n1. 컨테이너 셸 안으로 들어간다.  (``container attach`` 명령)\\n\\n1. 컨테이너를 중지하지 않고 나온다.  (``ctrl-p ctrl-q`` 명령)\\n\\n1. 컨테이너를 중지한다. (``container stop`` 명령)\\n\\n1. 컨테이너가 현재 가동 중인지 확인한다.  (``container ls`` 명령)\\n\\n1. 컨테이너를 삭제한다. (``container rm`` 명령)\\n\\n1. 컨테이너가 현재 가동 중인지 확인한다.  (``container ls`` 명령)\\n\\n1. 이미지 목록을 살펴본다. (``image ls`` 명령)\\n\\n1. 컨테이너를 가동한다. (``container run`` 명령)\\n\\n    ',\n",
       " '## 참고 문헌\\n\\n\\n\\n여기에서는 도커를 사용하기 위한 최소한의 내용을 설명하였다. 도커에 대해 보다 자세히 알고싶으면 다음 문헌을 참고 한다.\\n\\n\\n\\n* 가장 빨리 만나는 Docker, 이재홍, 도서출판 길벗\\n\\n    * http://pyrasis.com/docker.html']"
      ]
     },
     "execution_count": 33,
     "metadata": {},
     "output_type": "execute_result"
    }
   ],
   "source": [
    "cell = [\"\\n\".join(c[\"source\"]) for c in json[\"cells\"] if c[\"cell_type\"] == \"markdown\"]  # cells 안에 있는 cell_type이 markdown인 source에 있는 내용만 추출\n",
    "cell"
   ]
  },
  {
   "cell_type": "code",
   "execution_count": 34,
   "metadata": {},
   "outputs": [
    {
     "data": {
      "text/plain": [
       "['도커',\n",
       " '초간단',\n",
       " '사용법',\n",
       " '도커',\n",
       " '사용',\n",
       " '핵심',\n",
       " '명령어',\n",
       " '소개',\n",
       " '도커',\n",
       " '사용',\n",
       " '이미지(Image)',\n",
       " '컨테이너(container)',\n",
       " '개념',\n",
       " '도커',\n",
       " '이미지',\n",
       " '도커',\n",
       " '이미지',\n",
       " '가상',\n",
       " '머신',\n",
       " '원본',\n",
       " '저장',\n",
       " '파일',\n",
       " '생각',\n",
       " '이해',\n",
       " '도커',\n",
       " '이미지',\n",
       " '관련하',\n",
       " '사용',\n",
       " '명령어',\n",
       " '두',\n",
       " '가지',\n",
       " '도커',\n",
       " '이미지',\n",
       " '목록',\n",
       " '출력',\n",
       " '하나',\n",
       " '이상',\n",
       " '도커',\n",
       " '이미지',\n",
       " '삭제',\n",
       " '이미지',\n",
       " '조작',\n",
       " '명령어',\n",
       " '다음',\n",
       " '링크',\n",
       " '참조',\n",
       " '목록',\n",
       " '출력',\n",
       " '명령',\n",
       " '명령',\n",
       " '파',\n",
       " '시스템',\n",
       " '저장',\n",
       " '도커',\n",
       " '이미지',\n",
       " '목록',\n",
       " '출력',\n",
       " '리눅스',\n",
       " '도커',\n",
       " '사용',\n",
       " '터미널',\n",
       " '윈도우즈',\n",
       " '맥',\n",
       " '도커',\n",
       " '툴박스',\n",
       " '사용',\n",
       " '도커',\n",
       " '터미널',\n",
       " '시작',\n",
       " '후',\n",
       " '다음',\n",
       " '명령',\n",
       " '입력',\n",
       " '파',\n",
       " '시스템',\n",
       " '존재',\n",
       " '이미지',\n",
       " '목록',\n",
       " '이미지',\n",
       " '관련',\n",
       " '명령',\n",
       " '사용',\n",
       " '때',\n",
       " '이미지',\n",
       " '이름',\n",
       " '이미지',\n",
       " '아이디(ID)',\n",
       " '명시해',\n",
       " '이미지',\n",
       " '이름',\n",
       " '콜론(:)',\n",
       " '조합',\n",
       " '문자열',\n",
       " '태그(TAG)',\n",
       " '의',\n",
       " '경우',\n",
       " '생략',\n",
       " '수',\n",
       " '이미지',\n",
       " '아이디',\n",
       " '열',\n",
       " '명시',\n",
       " '예',\n",
       " '앞',\n",
       " '경우',\n",
       " '이미지',\n",
       " '이미지',\n",
       " '이미지',\n",
       " '이미지',\n",
       " '아이디',\n",
       " '사용',\n",
       " '때',\n",
       " '중복',\n",
       " '아이디',\n",
       " '앞',\n",
       " '문자',\n",
       " '일부분',\n",
       " '사용해',\n",
       " '예',\n",
       " '대',\n",
       " '사용',\n",
       " '수',\n",
       " '시작',\n",
       " '아이디',\n",
       " '때',\n",
       " '삭제',\n",
       " '명령',\n",
       " '특정',\n",
       " '이미지',\n",
       " '삭제',\n",
       " '다음',\n",
       " '뒤',\n",
       " '이미지',\n",
       " '이름',\n",
       " '문자열',\n",
       " '이미지',\n",
       " '아이디',\n",
       " '추가',\n",
       " '입력',\n",
       " '이미지',\n",
       " '삭제',\n",
       " '해당',\n",
       " '이미지',\n",
       " '복사',\n",
       " '컨테이너',\n",
       " '존재',\n",
       " '해당',\n",
       " '이미지',\n",
       " '의존',\n",
       " '이미지',\n",
       " '존재',\n",
       " '다음',\n",
       " '오류',\n",
       " '메시지',\n",
       " '이때',\n",
       " '해당',\n",
       " '컨테이너',\n",
       " '등',\n",
       " '삭제',\n",
       " '후',\n",
       " '이미지',\n",
       " '삭제',\n",
       " '도커',\n",
       " '컨테이너',\n",
       " '도커',\n",
       " '컨테이너',\n",
       " '이미지',\n",
       " '가상',\n",
       " '파',\n",
       " '시스템상',\n",
       " '것',\n",
       " '생각',\n",
       " '하나',\n",
       " '이미지',\n",
       " '개',\n",
       " '컨테이너',\n",
       " '가동',\n",
       " '가상',\n",
       " '컴퓨터',\n",
       " '대',\n",
       " '것',\n",
       " '마찬가지',\n",
       " '도커',\n",
       " '컨테이너',\n",
       " '관련하',\n",
       " '사용',\n",
       " '명령어',\n",
       " '다음',\n",
       " '도커',\n",
       " '컨테이너',\n",
       " '목록',\n",
       " '출력',\n",
       " '도커',\n",
       " '컨테이너',\n",
       " '가동',\n",
       " '가동',\n",
       " '중',\n",
       " '도커',\n",
       " '컨테이너',\n",
       " '나오기',\n",
       " '가동',\n",
       " '중',\n",
       " '도커',\n",
       " '컨테이너',\n",
       " '안',\n",
       " '도커',\n",
       " '컨테이너',\n",
       " '중지',\n",
       " '컨테이너',\n",
       " '내부',\n",
       " '도커',\n",
       " '컨테이너',\n",
       " '중지',\n",
       " '컨테이너',\n",
       " '외부',\n",
       " '도커',\n",
       " '컨테이너',\n",
       " '재시작',\n",
       " '컨테이너',\n",
       " '외부',\n",
       " '도커',\n",
       " '컨테이너',\n",
       " '중지',\n",
       " '후',\n",
       " '재시작',\n",
       " '컨테이너',\n",
       " '외부',\n",
       " '도커',\n",
       " '컨테이너',\n",
       " '삭제',\n",
       " '컨테이너',\n",
       " '조작',\n",
       " '명령어',\n",
       " '다음',\n",
       " '링크',\n",
       " '참조',\n",
       " '도커',\n",
       " '컨테이너',\n",
       " '명령',\n",
       " '사용',\n",
       " '때',\n",
       " '컨테이너',\n",
       " '아이디',\n",
       " '컨테이너',\n",
       " '이름',\n",
       " '명시해',\n",
       " '도커',\n",
       " '명령어',\n",
       " '요약',\n",
       " '컨테이너',\n",
       " '목록',\n",
       " '존재',\n",
       " '도커',\n",
       " '컨테이너',\n",
       " '목록',\n",
       " '명령',\n",
       " '사용',\n",
       " '옵션',\n",
       " '사용',\n",
       " '가동',\n",
       " '컨테이너',\n",
       " '도커',\n",
       " '이미지',\n",
       " '마찬가지',\n",
       " '도커',\n",
       " '컨테이너',\n",
       " '열',\n",
       " '컨테이너',\n",
       " '이름',\n",
       " '문자열',\n",
       " '열',\n",
       " '컨테이너',\n",
       " '아이디',\n",
       " '특정',\n",
       " '컨테이너',\n",
       " '지정',\n",
       " '수',\n",
       " '컨테이너',\n",
       " '삭제',\n",
       " '경우',\n",
       " '사용',\n",
       " '출력',\n",
       " '주의해',\n",
       " '것',\n",
       " '항목',\n",
       " '항목',\n",
       " '위',\n",
       " '예',\n",
       " '이',\n",
       " '해당',\n",
       " '컨테이너',\n",
       " '작동',\n",
       " '뜻',\n",
       " '웹',\n",
       " '브라우저',\n",
       " '사용',\n",
       " '수',\n",
       " '항목',\n",
       " '이',\n",
       " '동작',\n",
       " '의미',\n",
       " '상태',\n",
       " '사용',\n",
       " '를',\n",
       " '명령',\n",
       " '삭제',\n",
       " '뒤',\n",
       " '을',\n",
       " '컨테이너',\n",
       " '시작',\n",
       " '도커',\n",
       " '컨테이너',\n",
       " '시작',\n",
       " '명령',\n",
       " '사용',\n",
       " '명령',\n",
       " '옵션',\n",
       " '사용',\n",
       " '대표적',\n",
       " '옵션',\n",
       " '다음',\n",
       " '터미널',\n",
       " '대화형',\n",
       " '도커',\n",
       " '컨테이너',\n",
       " '시작',\n",
       " '데몬(daemon)으로',\n",
       " '도커',\n",
       " '컨테이너',\n",
       " '시작',\n",
       " '컨테이너',\n",
       " '이름',\n",
       " '지정',\n",
       " '컨테이너',\n",
       " '호스트간',\n",
       " '포트',\n",
       " '포워딩',\n",
       " '컨테이너',\n",
       " '호스트간',\n",
       " '폴더',\n",
       " '공유',\n",
       " '옵션',\n",
       " '다음',\n",
       " '가동',\n",
       " '이미지',\n",
       " '이름',\n",
       " '수행',\n",
       " '명령',\n",
       " '추가',\n",
       " '예',\n",
       " '이미지',\n",
       " '대화형',\n",
       " '컨테이너',\n",
       " '가동',\n",
       " '경우',\n",
       " '다음',\n",
       " '입력',\n",
       " '수',\n",
       " '위',\n",
       " '명령',\n",
       " '이미지',\n",
       " '이',\n",
       " '컨테이너',\n",
       " '이름',\n",
       " '가동',\n",
       " '터미널',\n",
       " '대화형',\n",
       " '컨테이너',\n",
       " '사용',\n",
       " '컨테이너',\n",
       " '포트',\n",
       " '호스트',\n",
       " '포트',\n",
       " '연결',\n",
       " '의미',\n",
       " '옵션',\n",
       " '포트',\n",
       " '대화적',\n",
       " '셸',\n",
       " '사용',\n",
       " '가능',\n",
       " '옵션',\n",
       " '명령',\n",
       " '마지막',\n",
       " '등',\n",
       " '명령',\n",
       " '이미지는',\n",
       " '명령',\n",
       " '자동',\n",
       " '수행',\n",
       " '으',\n",
       " '를',\n",
       " '수행',\n",
       " '다음',\n",
       " '프롬프트',\n",
       " '도커',\n",
       " '컨테이너',\n",
       " '안',\n",
       " 'dockeruser@377ad03459bf',\n",
       " '앞',\n",
       " '프롬프트',\n",
       " '도커',\n",
       " '컨테이너상',\n",
       " '사용자',\n",
       " '아이디',\n",
       " '도커',\n",
       " '컨테이너',\n",
       " '아이디',\n",
       " '컨테이너',\n",
       " '도커',\n",
       " '컨테이너',\n",
       " '안',\n",
       " '작업',\n",
       " '도커',\n",
       " '컨테이너',\n",
       " '정지',\n",
       " '컨테이너',\n",
       " '호스트',\n",
       " '키',\n",
       " '누른다(',\n",
       " '때',\n",
       " '호스트',\n",
       " '컴퓨터',\n",
       " '프롬프트',\n",
       " '키',\n",
       " '몇',\n",
       " '번',\n",
       " 'dockeruser@2677b557058b:~$',\n",
       " 'Ctrl+q',\n",
       " 'MINGW64',\n",
       " '컨테이너',\n",
       " '호스트',\n",
       " '컴퓨터',\n",
       " '작업',\n",
       " '후',\n",
       " '도커',\n",
       " '컨테이너',\n",
       " '명령',\n",
       " '입력',\n",
       " '명령어',\n",
       " '뒤',\n",
       " '컨테이너',\n",
       " '아이디',\n",
       " '이름',\n",
       " '수',\n",
       " '입력',\n",
       " '한다(마찬가지',\n",
       " '컨테이너',\n",
       " '프롬프트',\n",
       " '키',\n",
       " '몇',\n",
       " '번',\n",
       " 'dockeruser@2677b557058b',\n",
       " '컨테이너',\n",
       " '종료',\n",
       " '컨테이너',\n",
       " '사용',\n",
       " '컨테이너',\n",
       " '안',\n",
       " '명령',\n",
       " '입력',\n",
       " '컨테이너',\n",
       " '중지',\n",
       " '호스트',\n",
       " '컴퓨터',\n",
       " 'dockeruser@2677b557058b:~$',\n",
       " 'MINGW64',\n",
       " '외부',\n",
       " '컨테이너',\n",
       " '종료',\n",
       " '컨테이너',\n",
       " '중지',\n",
       " '경우',\n",
       " '외부',\n",
       " '컨테이너',\n",
       " '중지',\n",
       " '명령',\n",
       " '사용',\n",
       " 'MINGW64',\n",
       " 'MINGW64',\n",
       " 'MINGW64',\n",
       " '컨테이너',\n",
       " '재시작',\n",
       " '컨테이너',\n",
       " '중지',\n",
       " '상태',\n",
       " '시작',\n",
       " '명령',\n",
       " '사용',\n",
       " 'MINGW64',\n",
       " 'MINGW64',\n",
       " 'MINGW64',\n",
       " '컨테이너',\n",
       " '재시작',\n",
       " '컨테이너',\n",
       " '상태',\n",
       " '동작',\n",
       " '중',\n",
       " '중지',\n",
       " '후',\n",
       " '시작',\n",
       " '명령',\n",
       " '사용',\n",
       " 'MINGW64',\n",
       " 'MINGW64',\n",
       " 'MINGW64',\n",
       " '컨테이너',\n",
       " '삭제',\n",
       " '컨테이너',\n",
       " '중지',\n",
       " '컨테이너',\n",
       " '자체',\n",
       " '이름',\n",
       " '컨테이너',\n",
       " '생성',\n",
       " '해당',\n",
       " '이름',\n",
       " '컨테이너',\n",
       " '삭제',\n",
       " '이때',\n",
       " '명령',\n",
       " '사용',\n",
       " 'MINGW64',\n",
       " 'MINGW64',\n",
       " '연습',\n",
       " '문제',\n",
       " '도커',\n",
       " '이미지',\n",
       " '컨테이너',\n",
       " '사용',\n",
       " '다음',\n",
       " '실행',\n",
       " '컨테이너',\n",
       " '가동',\n",
       " '중',\n",
       " '확인',\n",
       " '명령',\n",
       " '가동',\n",
       " '중',\n",
       " '컨테이너',\n",
       " '중지',\n",
       " '명령',\n",
       " '컨테이너',\n",
       " '중지',\n",
       " '확인',\n",
       " '명령',\n",
       " '컨테이너',\n",
       " '시작',\n",
       " '명령',\n",
       " '컨테이너',\n",
       " '가동',\n",
       " '중',\n",
       " '확인',\n",
       " '명령',\n",
       " '컨테이너',\n",
       " '셸',\n",
       " '안',\n",
       " '명령',\n",
       " '컨테이너',\n",
       " '중지',\n",
       " '명령',\n",
       " '컨테이너',\n",
       " '중지',\n",
       " '명령',\n",
       " '컨테이너',\n",
       " '가동',\n",
       " '중',\n",
       " '확인',\n",
       " '명령',\n",
       " '컨테이너',\n",
       " '삭제',\n",
       " '명령',\n",
       " '컨테이너',\n",
       " '가동',\n",
       " '중',\n",
       " '확인',\n",
       " '명령',\n",
       " '이미지',\n",
       " '목록',\n",
       " '명령',\n",
       " '컨테이너',\n",
       " '가동',\n",
       " '명령',\n",
       " '문헌',\n",
       " '여기',\n",
       " '도커',\n",
       " '사용',\n",
       " '최소한',\n",
       " '내용',\n",
       " '설명',\n",
       " '도커',\n",
       " '다음',\n",
       " '문헌',\n",
       " '이재홍',\n",
       " '도서출판',\n",
       " '길벗']"
      ]
     },
     "execution_count": 34,
     "metadata": {},
     "output_type": "execute_result"
    }
   ],
   "source": [
    "# 숫자 제거, 부호 제거한 후 명사만 추출\n",
    "docs = [\n",
    "    w for w in hannanum.nouns(\" \".join(cell))\n",
    "    if ((not w[0].isnumeric()) and (w[0] not in string.punctuation))\n",
    "]\n",
    "\n",
    "docs"
   ]
  },
  {
   "cell_type": "markdown",
   "metadata": {},
   "source": [
    "여기에서는 하나의 문서가 하나의 단어로만 이루어져 있다. 따라서 CountVectorizer로 이 문서 집합을 처리하면 각 문서는 하나의 원소만 1이고 나머지 원소는 0인 벡터가 된다. 이 벡터의 합으로 빈도를 알아보았다."
   ]
  },
  {
   "cell_type": "code",
   "execution_count": 35,
   "metadata": {},
   "outputs": [],
   "source": [
    "import matplotlib.pylab as plt\n",
    "import matplotlib as mpl\n",
    "import matplotlib.font_manager as fm\n",
    "import seaborn as sns\n",
    "import numpy as np\n",
    "\n",
    "sns.set_style(\"whitegrid\")\n",
    "mpl.rcParams['axes.unicode_minus'] = False\n",
    "plt.rcParams['font.size'] = 12\n",
    "\n",
    "path = \"/Library/Fonts/NanumGothic.otf\"\n",
    "font_name = fm.FontProperties(fname=path, size=20).get_name()\n",
    "\n",
    "plt.rc('font', family=font_name)"
   ]
  },
  {
   "cell_type": "code",
   "execution_count": 36,
   "metadata": {},
   "outputs": [
    {
     "data": {
      "image/png": "[encoded data removed]",
      "text/plain": [
       "<Figure size 432x288 with 1 Axes>"
      ]
     },
     "metadata": {
      "needs_background": "light"
     },
     "output_type": "display_data"
    }
   ],
   "source": [
    "vect = CountVectorizer().fit(docs)\n",
    "count = vect.transform(docs).toarray().sum(axis=0)\n",
    "idx = np.argsort(-count) # sorting index 내림차순으로 바꾸기\n",
    "count = count[idx]\n",
    "feature_name = np.array(vect.get_feature_names())[idx] # 단어도 내림차순으로 바꾸기\n",
    "plt.bar(range(len(count)), count)\n",
    "plt.show()"
   ]
  },
  {
   "cell_type": "code",
   "execution_count": 37,
   "metadata": {},
   "outputs": [
    {
     "name": "stdout",
     "output_type": "stream",
     "text": [
      "[('컨테이너', 83),\n",
      " ('도커', 41),\n",
      " ('명령', 34),\n",
      " ('이미지', 34),\n",
      " ('사용', 26),\n",
      " ('가동', 14),\n",
      " ('중지', 13),\n",
      " ('mingw64', 13),\n",
      " ('다음', 12),\n",
      " ('삭제', 12)]\n"
     ]
    }
   ],
   "source": [
    "pprint(list(zip(feature_name, count))[:10]) # 상위 10개만 추출"
   ]
  },
  {
   "cell_type": "code",
   "execution_count": null,
   "metadata": {},
   "outputs": [],
   "source": []
  },
  {
   "cell_type": "code",
   "execution_count": null,
   "metadata": {},
   "outputs": [],
   "source": []
  }
 ],
 "metadata": {
  "kernelspec": {
   "display_name": "Python 3",
   "language": "python",
   "name": "python3"
  },
  "language_info": {
   "codemirror_mode": {
    "name": "ipython",
    "version": 3
   },
   "file_extension": ".py",
   "mimetype": "text/x-python",
   "name": "python",
   "nbconvert_exporter": "python",
   "pygments_lexer": "ipython3",
   "version": "3.7.3"
  }
 },
 "nbformat": 4,
 "nbformat_minor": 2
}
