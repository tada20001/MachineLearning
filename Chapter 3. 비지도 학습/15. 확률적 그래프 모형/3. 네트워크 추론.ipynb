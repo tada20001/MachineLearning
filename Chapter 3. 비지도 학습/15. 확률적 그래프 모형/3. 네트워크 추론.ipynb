{
 "cells": [
  {
   "cell_type": "markdown",
   "metadata": {},
   "source": [
    "## 네트워크 추론\n",
    "\n",
    "확률모형에서 일부 확률변수의 값이 주어졌을 때 다른 확률변수의 값이 얼마인지를 알아내는 것을 추론(inference)라고 한다.\n",
    "\n",
    "조건부 확률분포함수  𝑝(𝑋unknown|{𝑋}known) 를 알면 일부 확률변수의 값  {𝑋}known 이 주어졌을 때 다른 확률변수  𝑋unknown 의 확률  𝑝(𝑋unknown) 을 알 수 있으므로 추론은 조건부 확률분포함수  𝑝(𝑋unknown|{𝑋}known) 를 알아내는 것과 같다.\n",
    "\n",
    "앞에서 사용했던 예를 다시 들어보자. 확률변수  𝐴,𝐵,𝐶 가 각각 어떤 학생의\n",
    "\n",
    "+ A: 건강 상태\n",
    "+ B: 공부 시간\n",
    "+ C: 시험 성적\n",
    "\n",
    "을 나타낸 것이고 이 확률변수는 각각  {0,1,2} 라는 값을 가질 수 있는데 하(0), 중(1), 상(2)의 상태를 나타낸다."
   ]
  },
  {
   "cell_type": "code",
   "execution_count": 3,
   "metadata": {},
   "outputs": [],
   "source": [
    "from IPython.core.display import Image\n",
    "from networkx.drawing.nx_pydot import to_pydot\n",
    "\n",
    "from pgmpy.factors.discrete import TabularCPD\n",
    "from pgmpy.models import BayesianModel\n",
    "\n",
    "import numpy as np"
   ]
  },
  {
   "cell_type": "code",
   "execution_count": 4,
   "metadata": {},
   "outputs": [
    {
     "data": {
      "image/png": "[encoded data removed]",
      "text/plain": [
       "<IPython.core.display.Image object>"
      ]
     },
     "execution_count": 4,
     "metadata": {
      "image/png": {
       "width": 600
      }
     },
     "output_type": "execute_result"
    }
   ],
   "source": [
    "P_A = TabularCPD('A', 3, [[0.1, 0.6, 0.3]])\n",
    "P_B_I_A = TabularCPD('B', 3, np.array([[0.6, 0.2, 0.2], [0.3, 0.5, 0.2], [0.1, 0.3, 0.6]]), evidence=['A'], evidence_card=[3])\n",
    "P_C_I_B = TabularCPD('C', 3, np.array([[0.8, 0.1, 0.1], [0.1, 0.8, 0.1], [0.1, 0.1, 0.8]]), evidence=['B'], evidence_card=[3])\n",
    "\n",
    "model = BayesianModel([('A', 'B'), ('B', 'C')])\n",
    "model.add_cpds(P_A, P_B_I_A, P_C_I_B)\n",
    "\n",
    "d = to_pydot(model)\n",
    "d.set_dpi(300)\n",
    "d.set_margin(0.2)\n",
    "d.set_rankdir('LR')\n",
    "Image(d.create_png(), width=600)"
   ]
  },
  {
   "cell_type": "markdown",
   "metadata": {},
   "source": [
    "이 그래프 확률모형을 기반으로 다음과 같은 문제를 풀어보자.\n",
    "\n",
    "(1) 이 학생의 시험 성적이 어떤 확률분포를 가질 것인가? 어떤 성적을 맞을 확률이 가장 높은가?\n",
    "\n",
    "(2) 이 학생의 건강 상태가 좋았다. 어떤 성적을 맞을 확률이 가장 높은가?\n",
    "\n",
    "(3) 이 학생의 공부 시간이 적었지만 시험 성적은 좋았다. 건강 상태가 어땠을까?\n",
    "\n",
    "1번 문제는 무조건부 확률분포함수  𝑃(𝐶) 를 찾는 것이다. 2번 문제는 조건부 확률분포함수  𝑃(𝐶|𝐴=2) 를 찾는 것이고 3번 문제는 조건부 확률분포함수  𝑃(𝐴|𝐵=0,𝐶=2) 를 찾는 문제이다.\n",
    "\n",
    "베이지안 네트워크나 마코프 네트워크와 같은 그래프 확률모형에서 추론을 하려면\n",
    "\n",
    "+ 변수제거(variable elimination)\n",
    "+ 신뢰전파(belief propagation)\n",
    "\n",
    "방법을 사용한다."
   ]
  },
  {
   "cell_type": "markdown",
   "metadata": {},
   "source": [
    "## 변수제거\n",
    "\n",
    "위에서 예로 든 모형의 경우 결합확률분포는 다음과 같다.\n",
    "\n",
    "$$P(A, B, C) = P(A)P(B|A)P(C|B)$$\n",
    "\n",
    "우선 특정한 확률변수의 무조건부 확률분포를 구하는 방법을 알아보자. 우선  𝐶  분포함수를 알 때  𝐵 의 분포함수는 다음과 같이 구한다.\n",
    "\n",
    "\\begin{eqnarray}\n",
    "P(B=0) \n",
    "&=& \\sum_A P(B=0|A)P(A) \\\\\n",
    "&=& P(B=0|A=0)P(A=0) + P(B=0|A=1)P(A=1) + P(B=0|A=2)P(A=2) \\\\\n",
    "\\end{eqnarray}\n",
    "\n",
    "𝐵=1, 𝐵=2 인 경우에도 같은 방법으로 계산한다.\n",
    "\n",
    "이번에는  𝐶 의 분포함수를 계산하자.\n",
    "\n",
    "\\begin{eqnarray}\n",
    "P(C) \n",
    "&=& \\sum_{A, B} P(C|B)P(B|A)P(A) \\\\\n",
    "\\end{eqnarray}"
   ]
  },
  {
   "cell_type": "markdown",
   "metadata": {},
   "source": [
    "여기에서  ∑ _𝐴,𝐵 는  𝐴,𝐵 가 가질 수 있는 모든 조합의 경우를 뜻한다.\n",
    "\n",
    "$$\\sum_{A, B} = \\sum_{A} \\sum_{B}$$\n",
    "\n",
    "따라서\n",
    "\n",
    "\\begin{eqnarray}\n",
    "P(C=0) \n",
    "&=& P(C=0|B=0)P(B=0|A=0)P(A=0) + P(C=0|B=0)P(B=0|A=1)P(A=1) + P(C=0|B=0)P(B=0|A=2)P(A=2) + \\\\\n",
    "& & P(C=0|B=1)P(B=1|A=0)P(A=0) + P(C=0|B=1)P(B=1|A=1)P(A=1) + P(C=0|B=1)P(B=1|A=2)P(A=2) + \\\\\n",
    "& & P(C=0|B=2)P(B=2|A=0)P(A=0) + P(C=0|B=2)P(B=2|A=1)P(A=1) + P(C=0|B=2)P(B=2|A=2)P(A=2) \\\\\n",
    "\\end{eqnarray}\n",
    "\n",
    "와 같이  𝑃(𝐶=0) 을 구할 수 있다. 이제 계산량을 줄이기 위해 같은 계산은 인수분해로 묶어보면\n",
    "\n",
    "\\begin{eqnarray}\n",
    "P(C=0) \n",
    "&=& P(C=0|B=0) \\big( P(B=0|A=0)P(A=0) + P(B=0|A=1)P(A=1) + P(B=0|A=2)P(A=2) \\big) + \\\\\n",
    "& & P(C=0|B=1) \\big( P(B=1|A=0)P(A=0) + P(B=1|A=1)P(A=1) + P(B=1|A=2)P(A=2) \\big) + \\\\\n",
    "& & P(C=0|B=2) \\big( P(B=2|A=0)P(A=0) + P(B=2|A=1)P(A=1) + P(B=2|A=2)P(A=2) \\big) \\\\\n",
    "&=& P(C=0|B=0) P(B=0) + \\\\\n",
    "& & P(C=0|B=1) P(B=1) + \\\\\n",
    "& & P(C=0|B=2) P(B=2) \\\\\n",
    "\\end{eqnarray}"
   ]
  },
  {
   "cell_type": "markdown",
   "metadata": {},
   "source": [
    "즉, 확률변수  𝐵 의 분포가 이미 계산된 상태라면 확률변수  𝐴 의 영향은 없어진다.\n",
    "\n",
    "$$P(C) = \\sum_{B} P(C|B)P(B)$$\n",
    "\n",
    "#### 이런 식으로 값을 알고 있는 확률변수 혹은 무조건부 확률변수분포를 알고 있는 확률변수부터 네트워크를 따라 차례대로 확률분포를 계산하는 방식을 변수제거(variable elimination) 방법이라고 한다.\n",
    "\n",
    "#### pgmpy에서는 VariableElimination 클래스를 사용하여 변수제거법을 적용할 수 있다. 생성자 인수로 네트워크 모형을 넣으며 query 메서드를 지원한다.\n",
    "\n",
    "+ query(variable_list, evidence)\n",
    "\n",
    "variable_list는 확률분포를 구하려는 확률변수의 리스트이고 evidence는 알고 있는 확률변수 값의 딕셔너리이다.\n",
    "\n",
    "아무런 조건이 없을 경우 시험성적의 분포는 다음과 같다. 보통의 성적을 받을 가능성이 가장 높다."
   ]
  },
  {
   "cell_type": "code",
   "execution_count": 6,
   "metadata": {},
   "outputs": [
    {
     "name": "stderr",
     "output_type": "stream",
     "text": [
      "Finding Elimination Order: : 100%|██████████| 2/2 [00:00<00:00, 773.36it/s]\n",
      "Eliminating: A: 100%|██████████| 2/2 [00:00<00:00, 330.86it/s]"
     ]
    },
    {
     "name": "stdout",
     "output_type": "stream",
     "text": [
      "+------+----------+\n",
      "| C    |   phi(C) |\n",
      "+======+==========+\n",
      "| C(0) |   0.2680 |\n",
      "+------+----------+\n",
      "| C(1) |   0.3730 |\n",
      "+------+----------+\n",
      "| C(2) |   0.3590 |\n",
      "+------+----------+\n"
     ]
    },
    {
     "name": "stderr",
     "output_type": "stream",
     "text": [
      "\n"
     ]
    }
   ],
   "source": [
    "from pgmpy.inference import VariableElimination\n",
    "\n",
    "infer = VariableElimination(model)\n",
    "print(infer.query([\"C\"]))"
   ]
  },
  {
   "cell_type": "markdown",
   "metadata": {},
   "source": [
    "이는 A, B의 순서로 marginalize한 것과 같다.\n",
    "\n",
    "$$P(C) = \\sum_A \\sum_B P(A,B,C) = \\sum_A \\sum_B P(C|B)P(B|A)P(A)$$"
   ]
  },
  {
   "cell_type": "code",
   "execution_count": 7,
   "metadata": {},
   "outputs": [
    {
     "name": "stdout",
     "output_type": "stream",
     "text": [
      "+------+-------+\n",
      "| C(0) | 0.268 |\n",
      "+------+-------+\n",
      "| C(1) | 0.373 |\n",
      "+------+-------+\n",
      "| C(2) | 0.359 |\n",
      "+------+-------+\n"
     ]
    }
   ],
   "source": [
    "P_B = (P_B_I_A * P_A).marginalize(['A'], inplace=False)\n",
    "P_C = (P_C_I_B * P_B).marginalize(['B'], inplace=False)\n",
    "print(P_C)"
   ]
  },
  {
   "cell_type": "markdown",
   "metadata": {},
   "source": [
    "만약 건강 상태가 좋았으면 evidence={\"A\": 2} 인수를 적용한다. 좋은 성적을 받을 가능성이 가장 높다."
   ]
  },
  {
   "cell_type": "code",
   "execution_count": 10,
   "metadata": {},
   "outputs": [
    {
     "name": "stderr",
     "output_type": "stream",
     "text": [
      "Finding Elimination Order: : 100%|██████████| 1/1 [00:00<00:00, 543.16it/s]\n",
      "Eliminating: B: 100%|██████████| 1/1 [00:00<00:00, 320.13it/s]"
     ]
    },
    {
     "name": "stdout",
     "output_type": "stream",
     "text": [
      "+------+----------+\n",
      "| C    |   phi(C) |\n",
      "+======+==========+\n",
      "| C(0) |   0.2400 |\n",
      "+------+----------+\n",
      "| C(1) |   0.2400 |\n",
      "+------+----------+\n",
      "| C(2) |   0.5200 |\n",
      "+------+----------+\n"
     ]
    },
    {
     "name": "stderr",
     "output_type": "stream",
     "text": [
      "\n"
     ]
    }
   ],
   "source": [
    "print(infer.query([\"C\"], evidence={\"A\": 2}))"
   ]
  },
  {
   "cell_type": "markdown",
   "metadata": {},
   "source": [
    "이 결과는  𝐴=2 라는 확률분포에서 marginalize한 것과 같다."
   ]
  },
  {
   "cell_type": "code",
   "execution_count": 11,
   "metadata": {},
   "outputs": [
    {
     "name": "stdout",
     "output_type": "stream",
     "text": [
      "+------+------+\n",
      "| C(0) | 0.24 |\n",
      "+------+------+\n",
      "| C(1) | 0.24 |\n",
      "+------+------+\n",
      "| C(2) | 0.52 |\n",
      "+------+------+\n"
     ]
    }
   ],
   "source": [
    "P_A2 = TabularCPD('A', 3, [[0, 0, 1]])\n",
    "P_B = (P_B_I_A * P_A2).marginalize([\"A\"], inplace=False)\n",
    "P_C = (P_C_I_B * P_B).marginalize([\"B\"], inplace=False)\n",
    "print(P_C)"
   ]
  },
  {
   "cell_type": "markdown",
   "metadata": {},
   "source": [
    "시험 성적과 공부 시간을 알고 있다면 다음과 같이 건강 상태를 유추할 수도 있다."
   ]
  },
  {
   "cell_type": "code",
   "execution_count": 12,
   "metadata": {},
   "outputs": [
    {
     "name": "stderr",
     "output_type": "stream",
     "text": [
      "Finding Elimination Order: : : 0it [00:00, ?it/s]\n",
      "0it [00:00, ?it/s]"
     ]
    },
    {
     "name": "stdout",
     "output_type": "stream",
     "text": [
      "+------+----------+\n",
      "| A    |   phi(A) |\n",
      "+======+==========+\n",
      "| A(0) |   0.2500 |\n",
      "+------+----------+\n",
      "| A(1) |   0.5000 |\n",
      "+------+----------+\n",
      "| A(2) |   0.2500 |\n",
      "+------+----------+\n"
     ]
    },
    {
     "name": "stderr",
     "output_type": "stream",
     "text": [
      "\n"
     ]
    }
   ],
   "source": [
    "print(infer.query([\"A\"], evidence={\"B\": 0, \"C\": 2}))"
   ]
  },
  {
   "cell_type": "markdown",
   "metadata": {},
   "source": [
    "B를 알고 있는 경우 A와 C는 서로 독립이다. 즉, 공부시간을 알고 있으면 시험성적과 관계없이 건강상태를 유추할 수 있다."
   ]
  },
  {
   "cell_type": "code",
   "execution_count": 13,
   "metadata": {},
   "outputs": [
    {
     "name": "stderr",
     "output_type": "stream",
     "text": [
      "Finding Elimination Order: : 100%|██████████| 1/1 [00:00<00:00, 384.76it/s]\n",
      "Eliminating: C: 100%|██████████| 1/1 [00:00<00:00, 687.25it/s]"
     ]
    },
    {
     "name": "stdout",
     "output_type": "stream",
     "text": [
      "+------+----------+\n",
      "| A    |   phi(A) |\n",
      "+======+==========+\n",
      "| A(0) |   0.2500 |\n",
      "+------+----------+\n",
      "| A(1) |   0.5000 |\n",
      "+------+----------+\n",
      "| A(2) |   0.2500 |\n",
      "+------+----------+\n"
     ]
    },
    {
     "name": "stderr",
     "output_type": "stream",
     "text": [
      "\n"
     ]
    }
   ],
   "source": [
    "print(infer.query([\"A\"], evidence={\"B\": 0}))"
   ]
  },
  {
   "cell_type": "markdown",
   "metadata": {},
   "source": [
    "이 추론은 조건부확률  𝑃(𝐴|𝐵) 를 구하는 것과 같다.\n",
    "\n",
    "$$P(A|B) = P(B|A)P(A)/P(B)$$\n",
    "\n",
    "𝑃(𝐵) 는 동일하므로 무시할 수 있다.\n",
    "\n",
    "$$P(A|B) \\propto P(B|A)P(A)$$"
   ]
  },
  {
   "cell_type": "code",
   "execution_count": 14,
   "metadata": {},
   "outputs": [
    {
     "name": "stdout",
     "output_type": "stream",
     "text": [
      "+------+----------------------+------+------+\n",
      "| A    | A(0)                 | A(1) | A(2) |\n",
      "+------+----------------------+------+------+\n",
      "| B(0) | 0.06                 | 0.12 | 0.06 |\n",
      "+------+----------------------+------+------+\n",
      "| B(1) | 0.03                 | 0.3  | 0.06 |\n",
      "+------+----------------------+------+------+\n",
      "| B(2) | 0.010000000000000002 | 0.18 | 0.18 |\n",
      "+------+----------------------+------+------+\n"
     ]
    }
   ],
   "source": [
    "print(P_B_I_A * P_A)"
   ]
  },
  {
   "cell_type": "code",
   "execution_count": 15,
   "metadata": {},
   "outputs": [
    {
     "name": "stdout",
     "output_type": "stream",
     "text": [
      "+------+---------------------+--------------------+------+\n",
      "| A    | A(0)                | A(1)               | A(2) |\n",
      "+------+---------------------+--------------------+------+\n",
      "| B(0) | 0.3                 | 0.6                | 0.3  |\n",
      "+------+---------------------+--------------------+------+\n",
      "| B(1) | 0.15                | 1.4999999999999998 | 0.3  |\n",
      "+------+---------------------+--------------------+------+\n",
      "| B(2) | 0.01666666666666667 | 0.3                | 0.3  |\n",
      "+------+---------------------+--------------------+------+\n"
     ]
    }
   ],
   "source": [
    "print(P_B_I_A * P_A / P_B)"
   ]
  },
  {
   "cell_type": "markdown",
   "metadata": {},
   "source": [
    "#### 특정한 값에 대한 조건 확률을 구하기 위해 factor로 바꾼 뒤 reduce 메소스를 수행한다."
   ]
  },
  {
   "cell_type": "code",
   "execution_count": 16,
   "metadata": {},
   "outputs": [
    {
     "name": "stdout",
     "output_type": "stream",
     "text": [
      "+------+----------+\n",
      "| A    |   phi(A) |\n",
      "+======+==========+\n",
      "| A(0) |   0.2500 |\n",
      "+------+----------+\n",
      "| A(1) |   0.5000 |\n",
      "+------+----------+\n",
      "| A(2) |   0.2500 |\n",
      "+------+----------+\n"
     ]
    }
   ],
   "source": [
    "print((P_B_I_A * P_A).to_factor().reduce([(\"B\", 0)], inplace=False).normalize(inplace=False))"
   ]
  },
  {
   "cell_type": "markdown",
   "metadata": {},
   "source": [
    "## 몬티 홀 문제\n",
    "\n",
    "베이지안 네트워크를 사용하여 몬티 홀 문제를 풀어보자. 0, 1, 2로 표시된 3개의 문 중에서 자동차(car)가 있는 문을 나타내는 확률변수는 C, 참가자(player)가 고른 문은 P, 진행자(host)가 여는 문을 H라고 하자.\n",
    "\n",
    "자동차가 어떤 문에 있는가와 참가자가 어떤 문을 고르는지는 모두 같은 확률을 가진다.\n",
    "\n",
    "#### 1. 확률변수를 만든다."
   ]
  },
  {
   "cell_type": "code",
   "execution_count": 17,
   "metadata": {},
   "outputs": [],
   "source": [
    "from pgmpy.factors.discrete import TabularCPD"
   ]
  },
  {
   "cell_type": "code",
   "execution_count": 18,
   "metadata": {},
   "outputs": [
    {
     "name": "stdout",
     "output_type": "stream",
     "text": [
      "+------+------+\n",
      "| C(0) | 0.33 |\n",
      "+------+------+\n",
      "| C(1) | 0.33 |\n",
      "+------+------+\n",
      "| C(2) | 0.33 |\n",
      "+------+------+\n"
     ]
    }
   ],
   "source": [
    "P_C = TabularCPD('C', 3, [[0.33, 0.33, 0.33]])  # 자동차가 있는 문 확률변수\n",
    "print(P_C) "
   ]
  },
  {
   "cell_type": "code",
   "execution_count": 19,
   "metadata": {},
   "outputs": [
    {
     "name": "stdout",
     "output_type": "stream",
     "text": [
      "+------+------+\n",
      "| P(0) | 0.33 |\n",
      "+------+------+\n",
      "| P(1) | 0.33 |\n",
      "+------+------+\n",
      "| P(2) | 0.33 |\n",
      "+------+------+\n"
     ]
    }
   ],
   "source": [
    "P_P = TabularCPD('P', 3, [[0.33, 0.33, 0.33]] )  # 참가자가 고른 문 확률변수\n",
    "print(P_P)"
   ]
  },
  {
   "cell_type": "markdown",
   "metadata": {},
   "source": [
    "하지만 진행자가 여는 문은 자동차의 위치와 참가자의 선택에 따라 달라진다. 진행자는 항상 참가자가 고르지 않은 문 중에서 자동차가 없는 문을 연다."
   ]
  },
  {
   "cell_type": "code",
   "execution_count": 21,
   "metadata": {},
   "outputs": [
    {
     "name": "stdout",
     "output_type": "stream",
     "text": [
      "+------+------+------+------+------+------+------+------+------+------+\n",
      "| C    | C(0) | C(0) | C(0) | C(1) | C(1) | C(1) | C(2) | C(2) | C(2) |\n",
      "+------+------+------+------+------+------+------+------+------+------+\n",
      "| P    | P(0) | P(1) | P(2) | P(0) | P(1) | P(2) | P(0) | P(1) | P(2) |\n",
      "+------+------+------+------+------+------+------+------+------+------+\n",
      "| H(0) | 0.0  | 0.0  | 0.0  | 0.0  | 0.5  | 1.0  | 0.0  | 1.0  | 0.5  |\n",
      "+------+------+------+------+------+------+------+------+------+------+\n",
      "| H(1) | 0.5  | 0.0  | 1.0  | 0.0  | 0.0  | 0.0  | 1.0  | 0.0  | 0.5  |\n",
      "+------+------+------+------+------+------+------+------+------+------+\n",
      "| H(2) | 0.5  | 1.0  | 0.0  | 1.0  | 0.5  | 0.0  | 0.0  | 0.0  | 0.0  |\n",
      "+------+------+------+------+------+------+------+------+------+------+\n"
     ]
    }
   ],
   "source": [
    "P_H_I_CP = TabularCPD('H', 3, [[0, 0, 0, 0, 0.5, 1, 0, 1, 0.5], \n",
    "                               [0.5, 0, 1, 0, 0, 0, 1, 0, 0.5], \n",
    "                               [0.5, 1, 0, 1, 0.5, 0, 0, 0, 0]], \n",
    "                      evidence=['C', 'P'], evidence_card=[3, 3])\n",
    "print(P_H_I_CP)"
   ]
  },
  {
   "cell_type": "markdown",
   "metadata": {},
   "source": [
    "#### 2. 베이지안 네트워크로 확률모형을 만든다. 진행자의 선택 H는 자동차 위치 C와 참가자 선택 P에 모두 영향을 받는 머리-머리 결합이다."
   ]
  },
  {
   "cell_type": "code",
   "execution_count": 22,
   "metadata": {},
   "outputs": [
    {
     "data": {
      "image/png": "[encoded data removed]",
      "text/plain": [
       "<IPython.core.display.Image object>"
      ]
     },
     "execution_count": 22,
     "metadata": {
      "image/png": {
       "width": 400
      }
     },
     "output_type": "execute_result"
    }
   ],
   "source": [
    "from pgmpy.models import BayesianModel\n",
    "from IPython.core.display import Image\n",
    "from networkx.drawing.nx_pydot import to_pydot\n",
    "\n",
    "model_monty = BayesianModel([('C', 'H'), ('P', 'H')])\n",
    "model_monty.add_cpds(P_C, P_P, P_H_I_CP)\n",
    "\n",
    "d = to_pydot(model_monty)\n",
    "d.set_dpi(300)\n",
    "d.set_margin(0.2)\n",
    "Image(d.create_png(), width=400)"
   ]
  },
  {
   "cell_type": "markdown",
   "metadata": {},
   "source": [
    "#### 3. 변수제거 방법을 사용하여 이 문제를 푼다."
   ]
  },
  {
   "cell_type": "code",
   "execution_count": 23,
   "metadata": {},
   "outputs": [],
   "source": [
    "from pgmpy.inference import VariableElimination\n",
    "\n",
    "infer = VariableElimination(model_monty)"
   ]
  },
  {
   "cell_type": "markdown",
   "metadata": {},
   "source": [
    "만약 참가자가 0번 문을 선택하면 진행자는 1번 혹은 2번 문을 연다."
   ]
  },
  {
   "cell_type": "code",
   "execution_count": 47,
   "metadata": {},
   "outputs": [
    {
     "name": "stderr",
     "output_type": "stream",
     "text": [
      "Finding Elimination Order: : : 0it [00:00, ?it/s]\n",
      "0it [00:00, ?it/s]"
     ]
    },
    {
     "name": "stdout",
     "output_type": "stream",
     "text": [
      "+------+------+------------+\n",
      "| C    | H    |   phi(C,H) |\n",
      "+======+======+============+\n",
      "| C(0) | H(0) |     0.0000 |\n",
      "+------+------+------------+\n",
      "| C(0) | H(1) |     0.1667 |\n",
      "+------+------+------------+\n",
      "| C(0) | H(2) |     0.1667 |\n",
      "+------+------+------------+\n",
      "| C(1) | H(0) |     0.0000 |\n",
      "+------+------+------------+\n",
      "| C(1) | H(1) |     0.0000 |\n",
      "+------+------+------------+\n",
      "| C(1) | H(2) |     0.3333 |\n",
      "+------+------+------------+\n",
      "| C(2) | H(0) |     0.0000 |\n",
      "+------+------+------------+\n",
      "| C(2) | H(1) |     0.3333 |\n",
      "+------+------+------------+\n",
      "| C(2) | H(2) |     0.0000 |\n",
      "+------+------+------------+\n"
     ]
    },
    {
     "name": "stderr",
     "output_type": "stream",
     "text": [
      "\n"
     ]
    }
   ],
   "source": [
    "posteriors = infer.query(['C', 'H'], evidence={'P': 0})  \n",
    "print(posteriors)"
   ]
  },
  {
   "cell_type": "markdown",
   "metadata": {},
   "source": [
    "참가자가 0번 문을 선택하고 진행자가 1번 문을 열면 차가 2번 문에 있을 확률이 0번 문에 있을 확률의 2배이다."
   ]
  },
  {
   "cell_type": "code",
   "execution_count": 48,
   "metadata": {},
   "outputs": [
    {
     "name": "stderr",
     "output_type": "stream",
     "text": [
      "Finding Elimination Order: : : 0it [00:00, ?it/s]\n",
      "0it [00:00, ?it/s]"
     ]
    },
    {
     "name": "stdout",
     "output_type": "stream",
     "text": [
      "+------+----------+\n",
      "| C    |   phi(C) |\n",
      "+======+==========+\n",
      "| C(0) |   0.3333 |\n",
      "+------+----------+\n",
      "| C(1) |   0.0000 |\n",
      "+------+----------+\n",
      "| C(2) |   0.6667 |\n",
      "+------+----------+\n"
     ]
    },
    {
     "name": "stderr",
     "output_type": "stream",
     "text": [
      "\n"
     ]
    }
   ],
   "source": [
    "posterior_c = infer.query([\"C\"], evidence={\"P\": 0, \"H\": 1})\n",
    "print(posterior_c)"
   ]
  },
  {
   "cell_type": "markdown",
   "metadata": {},
   "source": [
    "같은 상황에서 진행자가 2번 문을 열면 차가 1번 문에 있을 확률이 0번 문에 있을 확률의 2배이다. 따라서 참가자는 항상 선택을 바꾸는 것이 좋다."
   ]
  },
  {
   "cell_type": "code",
   "execution_count": 50,
   "metadata": {},
   "outputs": [
    {
     "name": "stderr",
     "output_type": "stream",
     "text": [
      "Finding Elimination Order: : : 0it [00:00, ?it/s]\n",
      "0it [00:00, ?it/s]"
     ]
    },
    {
     "name": "stdout",
     "output_type": "stream",
     "text": [
      "+------+----------+\n",
      "| C    |   phi(C) |\n",
      "+======+==========+\n",
      "| C(0) |   0.6667 |\n",
      "+------+----------+\n",
      "| C(1) |   0.3333 |\n",
      "+------+----------+\n",
      "| C(2) |   0.0000 |\n",
      "+------+----------+\n"
     ]
    },
    {
     "name": "stderr",
     "output_type": "stream",
     "text": [
      "\n"
     ]
    }
   ],
   "source": [
    "posterior_c = infer.query([\"C\"], evidence={\"P\": 1, \"H\": 2})\n",
    "print(posterior_c)"
   ]
  },
  {
   "cell_type": "markdown",
   "metadata": {},
   "source": [
    "## 신뢰전파\n",
    "\n",
    "신뢰전파(belief propagation) 방법은 메시지 전달(message passin) 방법이라고도 한다. 여기에서는 선형 체인(linear chain) 형태의 마코프 네트워크를 예로 들어 설명하겠지만 일반적인 형태의 네트워크에서도 성립한다.\n",
    "\n",
    "𝑋1  …,  𝑋𝑁 의  𝑁 개 확률변수가 선형사슬로 연결된 마코프 네트워크에서 결합확률분포는\n",
    "\n",
    "$$p(X_1, \\ldots, X_N) = \\dfrac{1}{Z}\\psi(X_1, X_2) \\psi(X_2, X_3) \\cdots \\psi(X_{N-1}, X_{N})$$\n",
    "\n",
    "이다. 사슬 중간에 있는  𝑋𝑛 의 확률분포를 알아내려면 전체확률의 법칙을 사용하여  𝑋𝑛 을 제외한 나머지 확률변수들이 가질 수 있는 모든 경우의 확률을 더한다.\n",
    "\n",
    "\\begin{eqnarray}\n",
    "p(X_n) \n",
    "&=& \\sum_{X_1} \\cdots \\sum_{X_{n-1}} \\sum_{X_{n+1}} \\cdots \\sum_{X_N} p(X_1, \\ldots, X_N) \\\\\n",
    "&=& \\dfrac{1}{Z} \\sum_{X_1} \\cdots \\sum_{X_{n-1}} \\sum_{X_{n+1}} \\cdots \\sum_{X_N} \\psi(X_1, X_2) \\psi(X_2, X_3) \\cdots \\psi(X_{N-1}, X_{N}) \\\\\n",
    "\\end{eqnarray}"
   ]
  },
  {
   "cell_type": "markdown",
   "metadata": {},
   "source": [
    "이 수식을 정리하면 다음처럼 쓸 수 있다.\n",
    "\n",
    "$$p(X_n) = \\dfrac{1}{Z} \\\\\n",
    "\\underbrace{\\left(\\sum_{X_{n-1}} \\psi(X_{n-1}, X_n) \\left( \\sum_{X_{n-2}} \\psi(X_{n-2}, X_{n-1}) \\cdots \\left( \\sum_{X_1} \\psi(X_1, X_2) \\right) \\right)\\right)}_{\\mu_{\\alpha}(X_n)} \\\\\n",
    "\\underbrace{\\left( \\sum_{X_{n+1}} \\psi(X_{n}, X_{n+1}) \\left( \\sum_{X_{n+2}} \\psi(X_{n+1}, X_{n+2}) \\cdots \\left( \\sum_{X_N} \\psi(X_{N-1}, X_{N}) \\right) \\right) \\right)}_{\\mu_{\\beta}(X_n)} \\\\\n",
    "= \\dfrac{1}{Z} \\mu_{\\alpha}(X_n) \\mu_{\\beta}(X_n)$$\n",
    "\n",
    "이 식에서  𝜇_𝛼(𝑋_𝑛) 와  𝜇_𝛽(𝑋_𝑛) 를     𝑋_𝑛 에 도달하는 좌측, 우측 메시지(message) 함수라고 한다."
   ]
  },
  {
   "cell_type": "markdown",
   "metadata": {},
   "source": [
    "메시지 함수는 재귀적으로 계산할 수 있다.\n",
    "\n",
    "\\begin{eqnarray}\n",
    "\\mu_{\\alpha}(X_n)\n",
    "&=& \\sum_{X_{n-1}} \\psi(X_{n-1}, X_n) \\left( \\sum_{X_{n-2}} \\psi(X_{n-2}, X_{n-1}) \\cdots \\left( \\sum_{X_1} \\psi(X_1, X_2) \\right) \\right) \\\\\n",
    "&=& \\sum_{X_{n-1}} \\psi(X_{n-1}, X_n) \\mu_{\\alpha}(X_{n-1}) \\\\\n",
    "\\mu_{\\alpha}(X_2) &=& \\sum_{X_1} \\psi(X_1, X_2)\n",
    "\\end{eqnarray}\n",
    "\n",
    "[그림] https://datascienceschool.net/upfiles/2f773a48123b461fa29f82f69c73d699.png"
   ]
  },
  {
   "cell_type": "markdown",
   "metadata": {},
   "source": [
    "건강 상태 및 시험 성적과 관련된 예제를 마코프 네트워크로 변형하여 신뢰전파를 적용해보자."
   ]
  },
  {
   "cell_type": "code",
   "execution_count": 51,
   "metadata": {},
   "outputs": [
    {
     "data": {
      "image/png": "[encoded data removed]",
      "text/plain": [
       "<IPython.core.display.Image object>"
      ]
     },
     "execution_count": 51,
     "metadata": {
      "image/png": {
       "width": 400
      }
     },
     "output_type": "execute_result"
    }
   ],
   "source": [
    "model2 = model.to_markov_model()\n",
    "\n",
    "d = to_pydot(model2)\n",
    "d.set_dpi(300)\n",
    "d.set_margin(0.2)\n",
    "d.set_rankdir('LR')\n",
    "Image(d.create_png(), width=400)"
   ]
  },
  {
   "cell_type": "markdown",
   "metadata": {},
   "source": [
    "#### pgmpy에서는 BeliefPropagation 클래스를 사용하여 신뢰전파법을 적용할 수 있다. 사용법은 VariableElimination과 같다."
   ]
  },
  {
   "cell_type": "code",
   "execution_count": 52,
   "metadata": {},
   "outputs": [
    {
     "name": "stderr",
     "output_type": "stream",
     "text": [
      "Eliminating: B: 100%|██████████| 1/1 [00:00<00:00, 398.70it/s]"
     ]
    },
    {
     "name": "stdout",
     "output_type": "stream",
     "text": [
      "+------+----------+\n",
      "| C    |   phi(C) |\n",
      "+======+==========+\n",
      "| C(0) |   0.2680 |\n",
      "+------+----------+\n",
      "| C(1) |   0.3730 |\n",
      "+------+----------+\n",
      "| C(2) |   0.3590 |\n",
      "+------+----------+\n"
     ]
    },
    {
     "name": "stderr",
     "output_type": "stream",
     "text": [
      "\n"
     ]
    }
   ],
   "source": [
    "from pgmpy.inference import BeliefPropagation\n",
    "infer = BeliefPropagation(model)\n",
    "print(infer.query([\"C\"]))"
   ]
  },
  {
   "cell_type": "code",
   "execution_count": 53,
   "metadata": {},
   "outputs": [
    {
     "name": "stderr",
     "output_type": "stream",
     "text": [
      "Eliminating: B: 100%|██████████| 1/1 [00:00<00:00, 272.18it/s]"
     ]
    },
    {
     "name": "stdout",
     "output_type": "stream",
     "text": [
      "+------+----------+\n",
      "| C    |   phi(C) |\n",
      "+======+==========+\n",
      "| C(0) |   0.0720 |\n",
      "+------+----------+\n",
      "| C(1) |   0.0720 |\n",
      "+------+----------+\n",
      "| C(2) |   0.1560 |\n",
      "+------+----------+\n"
     ]
    },
    {
     "name": "stderr",
     "output_type": "stream",
     "text": [
      "\n"
     ]
    }
   ],
   "source": [
    "print(infer.query([\"C\"], evidence={\"A\": 2})) # 건강상태가 상인 경우 시험성적 확률은 최상(2)일 확률이 높다."
   ]
  },
  {
   "cell_type": "code",
   "execution_count": 54,
   "metadata": {},
   "outputs": [
    {
     "name": "stderr",
     "output_type": "stream",
     "text": [
      "\r",
      "0it [00:00, ?it/s]"
     ]
    },
    {
     "name": "stdout",
     "output_type": "stream",
     "text": [
      "+------+----------+\n",
      "| A    |   phi(A) |\n",
      "+======+==========+\n",
      "| A(0) |   0.2500 |\n",
      "+------+----------+\n",
      "| A(1) |   0.5000 |\n",
      "+------+----------+\n",
      "| A(2) |   0.2500 |\n",
      "+------+----------+\n"
     ]
    },
    {
     "name": "stderr",
     "output_type": "stream",
     "text": [
      "\n"
     ]
    }
   ],
   "source": [
    "print(infer.query([\"A\"], evidence={\"B\": 0, \"C\": 2}))  # 공부시간이 적었으나 성적이 최상일때 건강상태는 좋았을 확률(1)이 높다."
   ]
  },
  {
   "cell_type": "code",
   "execution_count": null,
   "metadata": {},
   "outputs": [],
   "source": []
  }
 ],
 "metadata": {
  "kernelspec": {
   "display_name": "Python 3",
   "language": "python",
   "name": "python3"
  },
  "language_info": {
   "codemirror_mode": {
    "name": "ipython",
    "version": 3
   },
   "file_extension": ".py",
   "mimetype": "text/x-python",
   "name": "python",
   "nbconvert_exporter": "python",
   "pygments_lexer": "ipython3",
   "version": "3.7.3"
  }
 },
 "nbformat": 4,
 "nbformat_minor": 2
}
