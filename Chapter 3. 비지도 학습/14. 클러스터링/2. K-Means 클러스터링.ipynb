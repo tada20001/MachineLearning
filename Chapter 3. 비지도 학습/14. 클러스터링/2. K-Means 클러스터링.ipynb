{
 "cells": [
  {
   "cell_type": "markdown",
   "metadata": {},
   "source": [
    "## K-Means\n",
    "\n",
    "K-Means 클러스터링 알고리즘은 가장 단순하고 빠른 클러스터링 알고리즘의 하나이다. \n",
    "\n",
    "#### 다음과 같은 목적함수 값이 최소화될 때까지 클러스터의 중심(centroid) 위치와 각 데이터가 소속될 클러스터를 반복해서 찾는다. 이 값을 inertia라고도 한다.\n",
    "\n",
    "$$J = \\sum_{k=1}^K \\sum_{i \\in C_k} d(x_i, \\mu_k)$$\n",
    "\n",
    "이 식에서  𝐾 는 클러스터의 갯수이고  𝐶𝑘 는  𝑘 번째 클러스터에 속하는 데이터의 집합,   𝜇𝑘 는  𝑘 번째 클러스터의 중심 위치,  𝑑 는  𝑥𝑖, 𝜇𝑘  두 데이터 사이의 거리(distance) 혹은 비유사도(dissimilarity)로 정의한다. 만약 유클리드 거리를 사용한다면 다음과 같다.\n",
    "\n",
    "$$d(x_i, \\mu_k) = || x_i - \\mu_k ||^2$$\n",
    "\n",
    "세부 알고리즘은 다음과 같다.\n",
    "\n",
    "(1) 임의의 중심값  𝜇𝑘  를 고른다. 보통 데이터 샘플 중에서  𝐾 개를 선택한다.\n",
    "\n",
    "(2) 중심에서 각 데이터까지의 거리를 계산\n",
    "\n",
    "(3) 각 데이터에서 가장 가까운 중심을 선택하여 클러스터 갱신\n",
    "\n",
    "(4) 다시 만들어진 클러스터에 대해 중심을 다시 계산하고 1 ~ 4를 반복한다."
   ]
  },
  {
   "cell_type": "markdown",
   "metadata": {},
   "source": [
    "#### scikit-learn의 cluster 서브패키지는 KMeans 클러스터링을 위한 KMeans 클래스를 제공한다. 다음과 같은 인수를 받을 수 있다.\n",
    "\n",
    "+ n_clusters: 클러스터의 갯수\n",
    "+ init : 초기화 방법. \"random\"이면 무작위, \"k-means++\"이면 K-Means++ 방법. 또는 각 데이터의 클러스터 라벨.\n",
    "+ n_init: 초기 중심값 시도 횟수. 디폴트는 10이고 10개의 무작위 중심값 목록 중 가장 좋은 값을 선택한다.\n",
    "+ max_iter: 최대 반복 횟수.\n",
    "+ random_state: 시드값."
   ]
  },
  {
   "cell_type": "markdown",
   "metadata": {},
   "source": [
    "다음은 make_blobs 명령으로 만든 데이터를 2개로 K-means 클러스터링하는 과정을 나타낸 것이다. 마커(marker)의 모양은 클러스터를 나타내고 크기가 큰 마커가 중심값 위치이다. 각 단계에서 중심값은 전단계의 클러스터의 평균으로 다시 계산된다."
   ]
  },
  {
   "cell_type": "code",
   "execution_count": 1,
   "metadata": {},
   "outputs": [],
   "source": [
    "import warnings\n",
    "warnings.filterwarnings(action='ignore')\n",
    "\n",
    "import matplotlib.pylab as plt\n",
    "import matplotlib as mpl\n",
    "import matplotlib.font_manager as fm\n",
    "import seaborn as sns\n",
    "import numpy as np\n",
    "\n",
    "sns.set_style(\"whitegrid\")\n",
    "mpl.rcParams['axes.unicode_minus'] = False\n",
    "plt.rcParams['font.size'] = 12\n",
    "\n",
    "path = \"/Library/Fonts/NanumGothic.otf\"\n",
    "font_name = fm.FontProperties(fname=path, size=20).get_name()\n",
    "\n",
    "plt.rc('font', family=font_name)"
   ]
  },
  {
   "cell_type": "code",
   "execution_count": 3,
   "metadata": {},
   "outputs": [
    {
     "data": {
      "image/png": "[encoded data removed]",
      "text/plain": [
       "<Figure size 576x576 with 4 Axes>"
      ]
     },
     "metadata": {
      "needs_background": "light"
     },
     "output_type": "display_data"
    }
   ],
   "source": [
    "from sklearn.datasets import make_blobs\n",
    "from sklearn.cluster import KMeans\n",
    "\n",
    "X, _ = make_blobs(n_samples=20, random_state=4)\n",
    "\n",
    "def plot_KMeans(n):\n",
    "    model = KMeans(n_clusters=2, init=\"random\", n_init=1, max_iter=n, random_state=8).fit(X) \n",
    "    # 클러스터 2개, 초기화는 random, 초기중심(n_init) 1, 최대 반복횟수 n\n",
    "    c0, c1 = model.cluster_centers_\n",
    "    plt.scatter(X[model.labels_ == 0, 0], X[model.labels_ == 0, 1], marker='v', facecolor='r', edgecolors='k')\n",
    "    plt.scatter(X[model.labels_ == 1, 0], X[model.labels_ == 1, 1], marker='^', facecolor='y', edgecolors='k')\n",
    "    plt.scatter(c0[0], c0[1], marker='v', c='r', s=200)\n",
    "    plt.scatter(c1[0], c1[1], marker='^', c='y', s=200)\n",
    "    plt.grid(False)\n",
    "    plt.title(\"iteration={}, score={:5.2f}\".format(n, model.score(X)))\n",
    "    \n",
    "plt.figure(figsize=(8, 8))\n",
    "plt.subplot(221)\n",
    "plot_KMeans(1)\n",
    "plt.subplot(222)\n",
    "plot_KMeans(2)\n",
    "plt.subplot(223)\n",
    "plot_KMeans(3)\n",
    "plt.subplot(224)\n",
    "plot_KMeans(4)\n",
    "plt.tight_layout()\n",
    "plt.show()"
   ]
  },
  {
   "cell_type": "markdown",
   "metadata": {},
   "source": [
    "## K-Means++\n",
    "\n",
    "K-Means++ 알고리즘은 초기 중심값을 설정하기 위한 알고리즘이다. 다음과 같은 방법을 통해 되도록 멀리 떨어진 중심값 집합을 찾아낸다.\n",
    "\n",
    "(1) 중심값을 저장할 집합  𝑀  준비\n",
    "\n",
    "(2) 일단 하나의 중심  𝜇0 를 랜덤하게 선택하여  𝑀 에 넣는다.\n",
    "\n",
    "(3) 𝑀 에 속하지 않는 모든 샘플  𝑥𝑖 에 대해 거리  𝑑(𝑀,𝑥𝑖) 를 계산.  𝑑(𝑀,𝑥𝑖) 는  𝑀 안의 모든 샘플  𝜇𝑘 에 대해 𝑑(𝜇𝑘,𝑥𝑖) 를 계산하여 가장 작은 값 선택\n",
    "\n",
    "(4) 𝑑(𝑀,𝑥𝑖) 에 비례한 확률로 다음 중심  𝜇 를 선택.\n",
    "\n",
    "(5) 𝐾 개의 중심을 선택할 때까지 반복\n",
    "\n",
    "(6) K-Means 알고리즘 사용"
   ]
  },
  {
   "cell_type": "markdown",
   "metadata": {},
   "source": [
    "다음은 KMean 방법을 사용하여 MNIST Digit 이미지 데이터를 클러스터링한 결과이다. 각 클러스터에서 10개씩의 데이터만 표시하였다."
   ]
  },
  {
   "cell_type": "code",
   "execution_count": 4,
   "metadata": {},
   "outputs": [
    {
     "data": {
      "text/plain": [
       "array([5, 7, 7, ..., 7, 3, 3], dtype=int32)"
      ]
     },
     "execution_count": 4,
     "metadata": {},
     "output_type": "execute_result"
    }
   ],
   "source": [
    "from sklearn.datasets import load_digits\n",
    "\n",
    "digits = load_digits()\n",
    "\n",
    "model = KMeans(init=\"k-means++\", n_clusters=10, random_state=0)\n",
    "model.fit(digits.data)\n",
    "y_pred = model.labels_\n",
    "\n",
    "y_pred"
   ]
  },
  {
   "cell_type": "code",
   "execution_count": 5,
   "metadata": {},
   "outputs": [
    {
     "data": {
      "text/plain": [
       "(1797,)"
      ]
     },
     "execution_count": 5,
     "metadata": {},
     "output_type": "execute_result"
    }
   ],
   "source": [
    "y_pred.shape"
   ]
  },
  {
   "cell_type": "code",
   "execution_count": 6,
   "metadata": {},
   "outputs": [
    {
     "data": {
      "image/png": "[encoded data removed]",
      "text/plain": [
       "<Figure size 576x144 with 10 Axes>"
      ]
     },
     "metadata": {},
     "output_type": "display_data"
    },
    {
     "data": {
      "image/png": "[encoded data removed]",
      "text/plain": [
       "<Figure size 576x144 with 10 Axes>"
      ]
     },
     "metadata": {},
     "output_type": "display_data"
    },
    {
     "data": {
      "image/png": "[encoded data removed]",
      "text/plain": [
       "<Figure size 576x144 with 10 Axes>"
      ]
     },
     "metadata": {},
     "output_type": "display_data"
    },
    {
     "data": {
      "image/png": "[encoded data removed]",
      "text/plain": [
       "<Figure size 576x144 with 10 Axes>"
      ]
     },
     "metadata": {},
     "output_type": "display_data"
    },
    {
     "data": {
      "image/png": "[encoded data removed]",
      "text/plain": [
       "<Figure size 576x144 with 10 Axes>"
      ]
     },
     "metadata": {},
     "output_type": "display_data"
    },
    {
     "data": {
      "image/png": "[encoded data removed]",
      "text/plain": [
       "<Figure size 576x144 with 10 Axes>"
      ]
     },
     "metadata": {},
     "output_type": "display_data"
    },
    {
     "data": {
      "image/png": "[encoded data removed]",
      "text/plain": [
       "<Figure size 576x144 with 10 Axes>"
      ]
     },
     "metadata": {},
     "output_type": "display_data"
    },
    {
     "data": {
      "image/png": "[encoded data removed]",
      "text/plain": [
       "<Figure size 576x144 with 10 Axes>"
      ]
     },
     "metadata": {},
     "output_type": "display_data"
    },
    {
     "data": {
      "image/png": "[encoded data removed]",
      "text/plain": [
       "<Figure size 576x144 with 10 Axes>"
      ]
     },
     "metadata": {},
     "output_type": "display_data"
    },
    {
     "data": {
      "image/png": "[encoded data removed]",
      "text/plain": [
       "<Figure size 576x144 with 10 Axes>"
      ]
     },
     "metadata": {},
     "output_type": "display_data"
    }
   ],
   "source": [
    "def show_digits(images, labels):\n",
    "    f = plt.figure(figsize=(8, 2))\n",
    "    i = 0\n",
    "    while(i < 10 and i < images.shape[0]):\n",
    "        ax = f.add_subplot(1, 10, i+1)\n",
    "        ax.imshow(images[i], cmap=plt.cm.bone)\n",
    "        ax.grid(False)\n",
    "        ax.set_title(labels[i])\n",
    "        ax.xaxis.set_ticks([])\n",
    "        ax.yaxis.set_ticks([])\n",
    "        plt.tight_layout()\n",
    "        i += 1\n",
    "        \n",
    "def show_cluster(images, y_pred, cluster_number):\n",
    "    images = images[y_pred == cluster_number]\n",
    "    y_pred = y_pred[y_pred == cluster_number]\n",
    "    show_digits(images, y_pred)\n",
    "    \n",
    "for i in range(10):\n",
    "    show_cluster(digits.images, y_pred, i)  "
   ]
  },
  {
   "cell_type": "markdown",
   "metadata": {},
   "source": [
    "이미지의 제목에 있는 숫자는 클러스터 번호에 지나지 않으므로 원래 숫자의 번호와 일치하지 않는다. 하지만 이를 예측문제라고 가정하고 분류결과행렬을 만들면 다음과 같다."
   ]
  },
  {
   "cell_type": "code",
   "execution_count": 7,
   "metadata": {},
   "outputs": [
    {
     "data": {
      "text/plain": [
       "array([[  1,   0,   0,   0,   0, 177,   0,   0,   0,   0],\n",
       "       [  0,   1,   1,   0,   0,   0,  55,  99,  24,   2],\n",
       "       [  0,  13,   0,   2,   3,   1,   2,   8, 148,   0],\n",
       "       [  0, 154,   2,  13,   7,   0,   0,   7,   0,   0],\n",
       "       [163,   0,   0,   0,   7,   0,   7,   4,   0,   0],\n",
       "       [  2,   0, 136,  43,   0,   0,   0,   0,   0,   1],\n",
       "       [  0,   0,   0,   0,   0,   1,   1,   2,   0, 177],\n",
       "       [  0,   0,   0,   0, 177,   0,   0,   2,   0,   0],\n",
       "       [  0,   2,   4,  53,   5,   0,   5, 100,   3,   2],\n",
       "       [  0,   6,   6, 139,   7,   0,  20,   2,   0,   0]])"
      ]
     },
     "execution_count": 7,
     "metadata": {},
     "output_type": "execute_result"
    }
   ],
   "source": [
    "from sklearn.metrics import confusion_matrix\n",
    "\n",
    "confusion_matrix(digits.target, y_pred)"
   ]
  },
  {
   "cell_type": "code",
   "execution_count": 8,
   "metadata": {},
   "outputs": [
    {
     "name": "stdout",
     "output_type": "stream",
     "text": [
      "              precision    recall  f1-score   support\n",
      "\n",
      "           0       0.01      0.01      0.01       178\n",
      "           1       0.01      0.01      0.01       182\n",
      "           2       0.00      0.00      0.00       177\n",
      "           3       0.05      0.07      0.06       183\n",
      "           4       0.03      0.04      0.04       181\n",
      "           5       0.00      0.00      0.00       182\n",
      "           6       0.01      0.01      0.01       181\n",
      "           7       0.01      0.01      0.01       179\n",
      "           8       0.02      0.02      0.02       174\n",
      "           9       0.00      0.00      0.00       180\n",
      "\n",
      "    accuracy                           0.02      1797\n",
      "   macro avg       0.01      0.02      0.01      1797\n",
      "weighted avg       0.01      0.02      0.01      1797\n",
      "\n"
     ]
    }
   ],
   "source": [
    "from sklearn.metrics import classification_report\n",
    "print(classification_report(digits.target, y_pred))"
   ]
  },
  {
   "cell_type": "markdown",
   "metadata": {},
   "source": [
    "이 클러스터링 결과의 ARI, AMI, 실루엣 계수값은 다음과 같다."
   ]
  },
  {
   "cell_type": "code",
   "execution_count": 9,
   "metadata": {},
   "outputs": [],
   "source": [
    "from sklearn.metrics.cluster import adjusted_mutual_info_score, adjusted_rand_score, silhouette_score"
   ]
  },
  {
   "cell_type": "code",
   "execution_count": 11,
   "metadata": {},
   "outputs": [
    {
     "name": "stdout",
     "output_type": "stream",
     "text": [
      "ARI: 0.6686991223627669\n",
      "AMI: 0.7397973157276612\n",
      "Silhouette Score: 0.18251916424600556\n"
     ]
    }
   ],
   "source": [
    "print(\"ARI:\", adjusted_rand_score(digits.target, y_pred))  # 모든 쌍의 경우에 대해 정답인 쌍의 갯수 비율로 정의\n",
    "print(\"AMI:\", adjusted_mutual_info_score(digits.target, y_pred)) # 정답과 결과를 이산확률변수로 보고 상호의존성을 측정한 값\n",
    "print(\"Silhouette Score:\", silhouette_score(digits.data, y_pred)) # 모든 쌍의 거리 혹은 비유사도로 측정"
   ]
  },
  {
   "cell_type": "markdown",
   "metadata": {},
   "source": [
    "### 연습 문제 1\n",
    "\n",
    "붓꽃 데이터를 K=3인 K-Means 클러스터링하여 adjusted Rand index, adjusted mutual information, 실루엣 계수를 각각 계산하라."
   ]
  },
  {
   "cell_type": "code",
   "execution_count": 12,
   "metadata": {},
   "outputs": [
    {
     "data": {
      "text/plain": [
       "array([1, 1, 1, 1, 1, 1, 1, 1, 1, 1, 1, 1, 1, 1, 1, 1, 1, 1, 1, 1, 1, 1,\n",
       "       1, 1, 1, 1, 1, 1, 1, 1, 1, 1, 1, 1, 1, 1, 1, 1, 1, 1, 1, 1, 1, 1,\n",
       "       1, 1, 1, 1, 1, 1, 0, 0, 2, 0, 0, 0, 0, 0, 0, 0, 0, 0, 0, 0, 0, 0,\n",
       "       0, 0, 0, 0, 0, 0, 0, 0, 0, 0, 0, 2, 0, 0, 0, 0, 0, 0, 0, 0, 0, 0,\n",
       "       0, 0, 0, 0, 0, 0, 0, 0, 0, 0, 0, 0, 2, 0, 2, 2, 2, 2, 0, 2, 2, 2,\n",
       "       2, 2, 2, 0, 0, 2, 2, 2, 2, 0, 2, 0, 2, 0, 2, 2, 0, 0, 2, 2, 2, 2,\n",
       "       2, 0, 2, 2, 2, 2, 0, 2, 2, 2, 0, 2, 2, 2, 0, 2, 2, 0], dtype=int32)"
      ]
     },
     "execution_count": 12,
     "metadata": {},
     "output_type": "execute_result"
    }
   ],
   "source": [
    "from sklearn.datasets import load_iris\n",
    "iris = load_iris()\n",
    "\n",
    "model = KMeans(init='k-means++', n_clusters=3, random_state=0)\n",
    "model.fit(iris.data)\n",
    "y_pred = model.labels_\n",
    "y_pred"
   ]
  },
  {
   "cell_type": "code",
   "execution_count": 13,
   "metadata": {},
   "outputs": [
    {
     "name": "stdout",
     "output_type": "stream",
     "text": [
      "ARI: 0.7302382722834697\n",
      "AMI: 0.7483723933229485\n",
      "Silhouette Score: 0.5528190123564091\n"
     ]
    }
   ],
   "source": [
    "print(\"ARI:\", adjusted_rand_score(iris.target, y_pred))\n",
    "print(\"AMI:\", adjusted_mutual_info_score(iris.target, y_pred))\n",
    "print(\"Silhouette Score:\", silhouette_score(iris.data, y_pred))"
   ]
  },
  {
   "cell_type": "code",
   "execution_count": 14,
   "metadata": {},
   "outputs": [
    {
     "data": {
      "text/plain": [
       "array([[ 0, 50,  0],\n",
       "       [48,  0,  2],\n",
       "       [14,  0, 36]])"
      ]
     },
     "execution_count": 14,
     "metadata": {},
     "output_type": "execute_result"
    }
   ],
   "source": [
    "confusion_matrix(iris.target, y_pred)"
   ]
  },
  {
   "cell_type": "code",
   "execution_count": null,
   "metadata": {},
   "outputs": [],
   "source": []
  }
 ],
 "metadata": {
  "kernelspec": {
   "display_name": "Python 3",
   "language": "python",
   "name": "python3"
  },
  "language_info": {
   "codemirror_mode": {
    "name": "ipython",
    "version": 3
   },
   "file_extension": ".py",
   "mimetype": "text/x-python",
   "name": "python",
   "nbconvert_exporter": "python",
   "pygments_lexer": "ipython3",
   "version": "3.7.3"
  }
 },
 "nbformat": 4,
 "nbformat_minor": 2
}
