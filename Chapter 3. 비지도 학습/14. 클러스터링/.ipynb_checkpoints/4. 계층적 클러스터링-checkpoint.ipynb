{
 "cells": [
  {
   "cell_type": "markdown",
   "metadata": {},
   "source": [
    "#### 계층적 클러스터링은 하나의 데이터 샘플을 하나의 클러스터로 보고 가장 유사도가 높은 클러스터를 합치면서 클러스터 갯수를 줄여 가는 방법을 말한다."
   ]
  },
  {
   "cell_type": "markdown",
   "metadata": {},
   "source": [
    "## 클러스터간의 거리 측정\n",
    "\n",
    "클러스터간의 비유사도(dissimilarity) 혹은 거리(distance)를 측정하는 방법에는 다음과 같은 것이 있다.\n",
    "\n",
    "### 1. 비귀납적 방법\n",
    "#### 1-1 centroid\n",
    "두 클러스터의 중심점(centroid)를 정의한 다음 두 중심점의 거리를 클러스터간의 거리로 정의한다.\n",
    "\n",
    "$$d(u,v) = \\|c_u - c_v\\|_2$$\n",
    "\n",
    "여기에서  𝑐𝑢  와  𝑐𝑣  는 각각 두 클러스터  𝑢  와  𝑣  의 중심점이다.\n",
    "\n",
    "#### 1-2 single\n",
    "\n",
    "클러스터  𝑢 의 모든 데이터  𝑖 와 클러스터  𝑣 의 모든 데이터  𝑗 의 모든 조합에 대해 거리를 측정해서 최소값을 구한다. 최소 거리(Nearest Point) 방법이라고도 한다.\n",
    "\n",
    "$$d(u,v) = \\min(dist(u[i],v[j]))$$\n",
    "\n",
    "#### 1-3 complete\n",
    "클러스터  𝑢 의 모든 데이터  𝑖 와 클러스터  𝑣 의 모든 데이터  𝑗 의 모든 조합에 대해 거리를 측정한 후 가장 큰 값을 구한다. Farthest Point Algorithm 또는 Voor Hees Algorithm 이라고도 한다.\n",
    "\n",
    "$$d(u, v) = \\max(dist(u[i],v[j]))$$\n",
    "\n",
    "#### 1-4 average\n",
    "\n",
    "클러스터  𝑢 의 모든 데이터  𝑖 와 클러스터  𝑣 의 모든 데이터  𝑗 의 모든 조합에 대해 거리를 측정한 후 평균을 구한다.  |𝑢| 와  |𝑣| 는 각각 두 클러스터의 원소의 갯수를 뜻한다.\n",
    "\n",
    "$$d(u,v) = \\sum_{ij} \\frac{d(u[i], v[j])}{|u||v|}$$"
   ]
  },
  {
   "cell_type": "markdown",
   "metadata": {},
   "source": [
    "### 2. 귀납적 방법\n",
    "\n",
    "#### 2-1 median\n",
    "\n",
    "이 방법은 Agglomerative Clustering 에서 사용할 수 있는 귀납적 방법으로 centroid 방법의 변형이다. 만약 클러스터  𝑢 가 클러스터  𝑠 와 클러스터  𝑡 가 결합하여 생겼다면 클러스터  𝑢 의 중심점은 새로 계산하지 않고 원래 클러스터의 두 클러스터의 중심점의 평균을 사용한다.\n",
    "\n",
    "#### 2-2 weighted\n",
    "\n",
    "이 방법은 Agglomerative Clustering 에서 사용할 수 있는 귀납적 방법이다. 만약 클러스터  𝑢 가 클러스터  𝑠 와 클러스터  𝑡 가 결합하여 생겼다면 다음과 같이 원래 클러스터까지의 두 거리의 평균을 사용한다.\n",
    "\n",
    "$$d(u,v) = (dist(s,v) + dist(t,v))/2$$\n",
    "\n",
    "#### 2-3 Ward\n",
    "\n",
    "이 방법은 Agglomerative Clustering 에서 사용할 수 있는 귀납적 방법이다. 만약 클러스터  𝑢 가 클러스터  𝑠 와 클러스터  𝑡 가 결합하여 생겼다면 다음과 같이 두 클러스터의 거리의 가중 평균에서 원래의 두 클래스터 사이의 거리를 보정한 값을 사용한다.\n",
    "\n",
    "$$d(u,v) = \\sqrt{\\frac{|v|+|s|}{|v|+|s|+|t|}d(v,s)^2 + \\frac{|v|+|t|}{|v|+|s|+|t|}d(v,t)^2 - \\frac{|v|}{|v|+|s|+|t|}d(s,t)^2}$$\n",
    "\n",
    "이 식에서  |⋅|  기호는 클러스터의 원소의 갯수를 말한다."
   ]
  },
  {
   "cell_type": "markdown",
   "metadata": {},
   "source": [
    "## SciPy의 계층적 클러스터링\n",
    "\n",
    "#### 파이썬으로 계층적 클러스터링을 하려면 SciPy 패키지의 linkage 명령을 사용하거나 scikit-learn 패키지의 AgglomerativeClustering 클래스를 사용한다.\n",
    "\n",
    "각각 장단점이 있는데 SciPy 패키지는 클러스터링 결과를 tree 형태로 시각화해주는 dendrogram 명령도 지원한다.\n",
    "\n",
    "MNIST digit 이미지 중 20개의 이미지를 무작위로 골라 계층적 클러스터링을 적용해보자."
   ]
  },
  {
   "cell_type": "code",
   "execution_count": 1,
   "metadata": {},
   "outputs": [],
   "source": [
    "import warnings\n",
    "warnings.filterwarnings(action='ignore')\n",
    "\n",
    "import matplotlib.pylab as plt\n",
    "import matplotlib as mpl\n",
    "import matplotlib.font_manager as fm\n",
    "import seaborn as sns\n",
    "import numpy as np\n",
    "\n",
    "sns.set_style(\"whitegrid\")\n",
    "mpl.rcParams['axes.unicode_minus'] = False\n",
    "plt.rcParams['font.size'] = 12\n",
    "\n",
    "path = \"/Library/Fonts/NanumGothic.otf\"\n",
    "font_name = fm.FontProperties(fname=path, size=20).get_name()\n",
    "\n",
    "plt.rc('font', family=font_name)"
   ]
  },
  {
   "cell_type": "code",
   "execution_count": 2,
   "metadata": {},
   "outputs": [
    {
     "data": {
      "image/png": "[encoded data removed]",
      "text/plain": [
       "<Figure size 864x72 with 20 Axes>"
      ]
     },
     "metadata": {},
     "output_type": "display_data"
    }
   ],
   "source": [
    "from sklearn.datasets import load_digits\n",
    "\n",
    "digits = load_digits()\n",
    "n_image = 20\n",
    "np.random.seed(0)\n",
    "idx = np.random.choice(range(len(digits.data)), n_image)\n",
    "X = digits.data[idx]\n",
    "images = digits.images[idx]\n",
    "\n",
    "plt.figure(figsize=(12, 1))\n",
    "for i in range(n_image):\n",
    "    plt.subplot(1, n_image, i+1)\n",
    "    plt.imshow(images[i], cmap=plt.cm.bone)\n",
    "    plt.grid(False)\n",
    "    plt.xticks([])\n",
    "    plt.yticks([])\n",
    "    plt.title(i)"
   ]
  },
  {
   "cell_type": "code",
   "execution_count": 3,
   "metadata": {},
   "outputs": [],
   "source": [
    "from scipy.cluster.hierarchy import linkage, dendrogram"
   ]
  },
  {
   "cell_type": "code",
   "execution_count": 4,
   "metadata": {},
   "outputs": [
    {
     "data": {
      "text/plain": [
       "array([[ 3.        , 18.        , 23.51595203,  2.        ],\n",
       "       [13.        , 19.        , 25.27844932,  2.        ],\n",
       "       [ 1.        , 14.        , 28.67054237,  2.        ],\n",
       "       [17.        , 21.        , 31.04298096,  3.        ],\n",
       "       [ 4.        ,  7.        , 31.51190251,  2.        ],\n",
       "       [ 6.        ,  8.        , 32.54228019,  2.        ],\n",
       "       [ 9.        , 10.        , 33.36165464,  2.        ],\n",
       "       [ 0.        , 24.        , 34.51086785,  3.        ],\n",
       "       [ 2.        , 22.        , 37.03151811,  3.        ],\n",
       "       [11.        , 26.        , 43.25505751,  3.        ],\n",
       "       [12.        , 15.        , 45.31004304,  2.        ],\n",
       "       [16.        , 20.        , 45.36151085,  3.        ],\n",
       "       [ 5.        , 27.        , 53.54437412,  4.        ],\n",
       "       [30.        , 32.        , 56.6892112 ,  6.        ],\n",
       "       [25.        , 29.        , 60.16809786,  5.        ],\n",
       "       [28.        , 34.        , 66.61618922,  8.        ],\n",
       "       [31.        , 33.        , 70.35228813,  9.        ],\n",
       "       [23.        , 36.        , 80.11172754, 12.        ],\n",
       "       [35.        , 37.        , 93.57946712, 20.        ]])"
      ]
     },
     "execution_count": 4,
     "metadata": {},
     "output_type": "execute_result"
    }
   ],
   "source": [
    "Z = linkage(X, 'ward')  # ward : 클러스터 간 거리의 가중평균을 이용해 두 클러스터 사이의 거리 보정\n",
    "Z"
   ]
  },
  {
   "cell_type": "code",
   "execution_count": 8,
   "metadata": {},
   "outputs": [
    {
     "data": {
      "image/png": "[encoded data removed]",
      "text/plain": [
       "<Figure size 720x288 with 1 Axes>"
      ]
     },
     "metadata": {
      "needs_background": "light"
     },
     "output_type": "display_data"
    }
   ],
   "source": [
    "from matplotlib.offsetbox import OffsetImage, AnnotationBbox\n",
    "\n",
    "plt.figure(figsize=(10, 4))\n",
    "ax = plt.subplot()\n",
    "\n",
    "ddata = dendrogram(Z)\n",
    "\n",
    "dcoord = np.array(ddata[\"dcoord\"])\n",
    "icoord = np.array(ddata[\"icoord\"])\n",
    "leaves = np.array(ddata[\"leaves\"])\n",
    "idx = np.argsort(dcoord[:, 2])\n",
    "dcoord = dcoord[idx, :]\n",
    "icoord = icoord[idx, :]\n",
    "idx = np.argsort(Z[:, :2].ravel())\n",
    "label_pos = icoord[:, 1:3].ravel()[idx][:20]\n",
    "\n",
    "for i in range(20):\n",
    "    imagebox = OffsetImage(images[i], cmap=plt.cm.bone_r, interpolation=\"bilinear\", zoom=3)\n",
    "    ab = AnnotationBbox(imagebox, (label_pos[i], 0), box_alignment=(0.5, -0.1), bboxprops={'edgecolor': \"none\"})\n",
    "    ax.add_artist(ab)\n",
    "    \n",
    "plt.show()"
   ]
  },
  {
   "cell_type": "code",
   "execution_count": null,
   "metadata": {},
   "outputs": [],
   "source": []
  }
 ],
 "metadata": {
  "kernelspec": {
   "display_name": "Python 3",
   "language": "python",
   "name": "python3"
  },
  "language_info": {
   "codemirror_mode": {
    "name": "ipython",
    "version": 3
   },
   "file_extension": ".py",
   "mimetype": "text/x-python",
   "name": "python",
   "nbconvert_exporter": "python",
   "pygments_lexer": "ipython3",
   "version": "3.7.3"
  }
 },
 "nbformat": 4,
 "nbformat_minor": 2
}
