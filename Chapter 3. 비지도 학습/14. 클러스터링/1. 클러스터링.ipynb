{
 "cells": [
  {
   "cell_type": "markdown",
   "metadata": {},
   "source": [
    "#### 주어진 데이터 집합을 유사한 데이터들의 그룹으로 나누는 것을 클러스터링(clustering)이라고 하고 이렇게 나누어진 유사한 데이터의 그룹을 클러스터(cluster)라 한다.\n",
    "\n",
    "클러스터링은 예측(prediction) 문제와 달리 특정한 독립변수와 종속변수의 구분도 없고 학습을 위한 목표값(target value)도 필요로 하지 않는 비지도학습(unsupervised learning)의 일종이다."
   ]
  },
  {
   "cell_type": "markdown",
   "metadata": {},
   "source": [
    "## 클러스터링 방법\n",
    "\n",
    "대부분의 클러스터링 방법들도 예측모형과 같이 특정한 목표함수의 값을 최소화 혹은 최대화하지만,\n",
    "\n",
    "#### 예측모형과 달리 다만 목표함수가 명확히 주어지지 않았기 때문에 목표함수의 정의 및 최적화 방법들이 각기 다른 다양한 클러스터링 방법이 존재한다. \n",
    "\n",
    "다음과 같은 클러스터링 방법이 많이 쓰인다.\n",
    "\n",
    "+ K-means\n",
    "+ DBSCAN\n",
    "+ Spectral Clustering\n",
    "+ Affinity Propagation\n",
    "+ 계층적 클러스터링(Hierarchical Clustering)\n",
    "\n",
    "클러스터링 방법은 사용법과 모수 등이 서로 다르다. \n",
    "\n",
    "#### 예를 들어 K-means, Spectral Clustering 등은 클러스터의 갯수를 미리 지정해주어햐 하지만 DBSCAN이나 Affinity Propagation 등은 클러스터의 갯수를 지정할 필요가 없다. \n",
    "\n",
    "다만 이 경우에는 다른 종류의 모수를 지정해주어야 하는데 이 모수의 값에 따라 클러스터링 갯수가 달라질 수 있다.\n",
    "\n",
    "다음은 몇가지 예제 데이터에 대해 이 클러스터링 방법을 적용한 결과이다. 같은 색상의 데이터는 같은 클러스터로 분류된 것이다. 그림에서 보다시피 각 클러스터링 방법마다 특성이 다르므로 원하는 목적과 데이터 유형에 맞게 사용해야 한다. \n",
    "\n",
    "#### 또한 지정된 모수의 값에 따라 성능이 달라질 수 있다. 이 결과는 최적화된 모수를 사용한 결과는 아니라는 점에 유의하라."
   ]
  },
  {
   "cell_type": "code",
   "execution_count": 1,
   "metadata": {},
   "outputs": [],
   "source": [
    "import warnings\n",
    "warnings.filterwarnings(action='ignore')\n",
    "\n",
    "import matplotlib.pylab as plt\n",
    "import matplotlib as mpl\n",
    "import matplotlib.font_manager as fm\n",
    "import seaborn as sns\n",
    "import numpy as np\n",
    "\n",
    "sns.set_style(\"whitegrid\")\n",
    "mpl.rcParams['axes.unicode_minus'] = False\n",
    "plt.rcParams['font.size'] = 12\n",
    "\n",
    "path = \"/Library/Fonts/NanumGothic.otf\"\n",
    "font_name = fm.FontProperties(fname=path, size=20).get_name()\n",
    "\n",
    "plt.rc('font', family=font_name)"
   ]
  },
  {
   "cell_type": "code",
   "execution_count": 2,
   "metadata": {},
   "outputs": [],
   "source": [
    "from sklearn.datasets import *\n",
    "from sklearn.cluster import *\n",
    "from sklearn.preprocessing import StandardScaler\n",
    "from sklearn.utils.testing import ignore_warnings"
   ]
  },
  {
   "cell_type": "code",
   "execution_count": 3,
   "metadata": {},
   "outputs": [],
   "source": [
    "np.random.seed(0)\n",
    "n_samples = 1500\n",
    "blobs = make_blobs(n_samples=n_samples, random_state=8)\n",
    "X, y = make_blobs(n_samples=n_samples, random_state=170)\n",
    "anisotropic = (np.dot(X, [[0.6, -0.6], [-0.4, 0.8]]), y)\n",
    "varied = make_blobs(n_samples=n_samples, cluster_std=[1.0, 2.5, 0.5], random_state=170)\n",
    "noisy_circles = make_circles(n_samples=n_samples, factor=.5, noise=.05)"
   ]
  },
  {
   "cell_type": "code",
   "execution_count": null,
   "metadata": {},
   "outputs": [],
   "source": []
  }
 ],
 "metadata": {
  "kernelspec": {
   "display_name": "Python 3",
   "language": "python",
   "name": "python3"
  },
  "language_info": {
   "codemirror_mode": {
    "name": "ipython",
    "version": 3
   },
   "file_extension": ".py",
   "mimetype": "text/x-python",
   "name": "python",
   "nbconvert_exporter": "python",
   "pygments_lexer": "ipython3",
   "version": "3.7.3"
  }
 },
 "nbformat": 4,
 "nbformat_minor": 2
}
