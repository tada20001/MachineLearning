{
 "cells": [
  {
   "cell_type": "markdown",
   "metadata": {},
   "source": [
    "로지스틱(Logistic) 회귀분석은 그 명칭과 달리 회귀분석 문제와 분류문제 모두에 사용할 수 있다. \n",
    "\n",
    "#### 로지스틱 회귀분석 모형에서는 종속변수가 이항 분포를 따르고 그 모수  𝜇 가 독립 변수  𝑥 에 의존한다고 가정한다.\n",
    "\n",
    "$$p(y \\mid x) = \\text{Bin} (y; \\mu(x), N)$$\n",
    "\n",
    "위 식에서 보듯이 로지스틱함수는  𝑦 의 값이 특정한 구간내의 값( 0∼𝑁 )만 가질 수 있기 때문에 종속변수가 이러한 특성을 가진 경우에 회귀분석 방법으로 쓸 수 있다.\n",
    "\n",
    "#### 또는 이항 분포의 특별한 경우( 𝑁=1 )로  𝑦 가 베르누이 확률분포인 경우도 있을 수 있다. 여기에서는 베르누이 확률분포를 따르는 로지스틱 회귀분석만 고려하기로 한다.\n",
    "\n",
    "$$p(y \\mid x) = \\text{Bern} (y; \\mu(x) )$$\n",
    "\n",
    "종속변수  𝑦 가 0또는 1인 분류 예측 문제를 풀 때는  𝑥  값에 따라  𝜇(𝑥) 를 예측한 후 다음 기준에 따라 y를 예측한다.\n",
    "\n",
    "$$\\hat{y} = \\begin{cases} 1 & \\text{ if } \\mu(x) \\geq 0.5 \\\\ 0 & \\text{ if } \\mu(x) < 0.5 \\end{cases}$$\n",
    "\n",
    "또는  𝑦̂  로  𝑦=1 이 될 확률값  𝜇(𝑥) 를 직접 출력할 수도 있다.\n",
    "\n",
    "$$\\hat{y} = \\mu(x)$$"
   ]
  },
  {
   "cell_type": "markdown",
   "metadata": {},
   "source": [
    "## 시그모이드함수\n",
    "\n",
    "로지스틱 회귀모형에서는 베르누이 확률분포의 모수  𝜇 가 x의 함수라고 가정한다.  \n",
    "\n",
    "#### 𝜇(𝑥) 는 x에 대한 선형함수를 0부터 1사이의 값만 나올 수 있도록 시그모이드함수(sigmoid function)라는 함수를 사용하여 변형한 것을 사용한다.\n",
    "\n",
    "$$\\mu = f(w^Tx)$$"
   ]
  },
  {
   "cell_type": "markdown",
   "metadata": {},
   "source": [
    "모수  𝜇 는 일반적인 회귀분석의 종속변수와 달리 0 부터 1까지의 실수값만 가질 수 있기 때문에 시그모이드함수이라 불리는 특별한 형태의 함수  𝑓 를 사용해야 한다. 시그모이드함수는 종속변수의 모든 실수 값에 대해\n",
    "\n",
    "+ 유한한 구간  (𝑎,𝑏)  사이의 한정된(bounded) 값과\n",
    "+ 항상 양의 기울기를 가지는 (단조증가)\n",
    "\n",
    "함수의 집합을 말한다. 실제로는 다음과 같은 함수들이 주로 사용된다.\n",
    "\n",
    "+ 로지스틱(Logistic)함수\n",
    "\n",
    "$$\\text{logitstic}(z) = \\sigma(z) = \\dfrac{1}{1+\\exp{(-z)}}$$\n",
    "\n",
    "+ 하이퍼볼릭탄젠트(Hyperbolic tangent)함수\n",
    "\n",
    "$$\\tanh(z) = \\frac{\\sinh z}{\\cosh z} = \\frac{(e^z - e^{-z})/2}{(e^z + e^{-z})/2} = 2 \\sigma(2z) - 1$$\n",
    "\n",
    "+ 오차(Error)함수\n",
    "\n",
    "$$\\text{erf}(z) = \\frac{2}{\\sqrt\\pi}\\int_0^z e^{-t^2}\\,dt$$"
   ]
  },
  {
   "cell_type": "code",
   "execution_count": 1,
   "metadata": {},
   "outputs": [],
   "source": [
    "import matplotlib.pylab as plt\n",
    "import matplotlib as mpl\n",
    "import matplotlib.font_manager as fm\n",
    "import seaborn as sns\n",
    "import numpy as np\n",
    "\n",
    "sns.set_style(\"whitegrid\")\n",
    "mpl.rcParams['axes.unicode_minus'] = False\n",
    "plt.rcParams['font.size'] = 13\n",
    "\n",
    "path = \"/Library/Fonts/NanumGothic.otf\"\n",
    "font_name = fm.FontProperties(fname=path, size=20).get_name()\n",
    "\n",
    "plt.rc('font', family=font_name)\n",
    "\n",
    "import warnings\n",
    "warnings.filterwarnings(action='ignore')"
   ]
  },
  {
   "cell_type": "code",
   "execution_count": 2,
   "metadata": {},
   "outputs": [
    {
     "data": {
      "image/png": "[encoded data removed]",
      "text/plain": [
       "<Figure size 432x288 with 1 Axes>"
      ]
     },
     "metadata": {
      "needs_background": "light"
     },
     "output_type": "display_data"
    }
   ],
   "source": [
    "import scipy as sp\n",
    "\n",
    "xx = np.linspace(-5, 5, 1000)\n",
    "plt.plot(xx, 1/(1+np.exp(-xx)), 'r-', label=\"로지스틱 함수\")\n",
    "plt.plot(xx, sp.special.erf(0.5 * np.sqrt(np.pi) *xx), 'g:', label=\"오차함수\")\n",
    "plt.plot(xx, np.tanh(xx), \"b--\", label=\"하이퍼볼릭탄젠트함수\")\n",
    "plt.ylim([-1.1, 1.1])\n",
    "plt.legend(loc=2)\n",
    "plt.xlabel(\"x\")\n",
    "plt.show()"
   ]
  },
  {
   "cell_type": "markdown",
   "metadata": {},
   "source": [
    "## 로지스틱함수\n",
    "\n",
    "로지스틱함수는 무한대의 실수값을 0부터 1사이의 실수값을 1대1 대응시키는 시그모이드함수다. 다음 과정을 통해 정의되었다.\n",
    "\n",
    "베르누이 시도에서 1이 나올 확률  𝜇  과 0이 나올 확률  1−𝜇  의 비(ratio)는 다음과 같은 수식이 되며 이를 승산비(odds ratio)라고 한다.\n",
    "\n",
    "$$\\text{odds ratio} = \\dfrac{\\mu}{1-\\mu}$$\n",
    "\n",
    "#### 0부터 1사이의 값만 가지는  𝜇 를 승산비로 변환하면 0부터  ∞ 의 값을 가질 수 있다.\n",
    "\n",
    "승산비를 로그 변환한 것이 로지트함수(Logit function)다.\n",
    "\n",
    "$$z = \\text{logit}(\\text{odds ratio}) = \\log \\left(\\dfrac{\\mu}{1-\\mu}\\right)$$\n",
    "\n",
    "로지트함수의 값은 로그 변환에 의해  −∞ 부터  ∞ 까지의 값을 가질 수 있다.\n",
    "\n",
    "#### 로지스틱함수(Logistic function)는 로지트함수의 역함수이다. 즉  −∞ 부터  ∞ 까지의 값을 가지는 변수를 0부터 1사의 값으로 변환한 결과이다.\n",
    "\n",
    "$$\\text{logitstic}(z) = \\mu(z) = \\dfrac{1}{1+\\exp{(-z)}}$$"
   ]
  },
  {
   "cell_type": "markdown",
   "metadata": {},
   "source": [
    "## 선형 판별함수\n",
    "\n",
    "로지스틱함수  𝜎(𝑧) 를 사용하는 경우에는  𝑧 값과  𝜇 값은 다음과 같은 관계가 있다.\n",
    "\n",
    "+ 𝑧 = 0 일 때  𝜇 = 0.5 \n",
    "+ 𝑧 > 0 일 때  𝜇 > 0.5 → 𝑦̂ = 1 \n",
    "+ 𝑧 < 0 일 때  𝜇 < 0.5 → 𝑦̂ = 0\n",
    "\n",
    "#### 즉  𝑧 가 분류 모형의 판별함수(decision function)의 역할을 한다.\n",
    "\n",
    "$$z = w^Tx$$\n",
    "\n",
    "에서 로지스틱 회귀모형의 영역 경계면은 선형이라는 것을 알 수 있다."
   ]
  },
  {
   "cell_type": "markdown",
   "metadata": {},
   "source": [
    "## 로지스틱 회귀분석 모형의 모수 추정\n",
    "\n",
    "로지스틱 회귀분석 모형은 일종의 비선형 회귀모형이지만 다음과 같이 최대가능도(Maximum Likelihood Estimation, MLE)방법으로 모수  𝑤 를 추정할 수 있다.\n",
    "\n",
    "$$p(y \\mid x) = \\text{Bern} (y;\\mu(x;w) ) = \\mu(x;w)^y ( 1 - \\mu(x;w) )^{1-y}$$\n",
    "\n",
    "𝜇 를 로지스틱함수 형태로 표현하면 다음과 같다.\n",
    "\n",
    "$$\\mu(x;w) = \\dfrac{1}{1 + \\exp{(-w^Tx)}}$$\n",
    "\n",
    "즉,\n",
    "\n",
    "\\begin{eqnarray}\n",
    "p(y \\mid x) \n",
    "&=& \\left(  \\dfrac{1}{1 + \\exp{(-w^Tx)}} \\right) ^y \\left(  1 - \\dfrac{1}{1 + \\exp{(-w^Tx)}} \\right) ^{1-y} \\\\\n",
    "&=& \\left(  \\dfrac{1}{1 + \\exp{(-w^Tx)}} \\right) ^y \\left( \\dfrac{\\exp{(-w^Tx)}}{1 + \\exp{(-w^Tx)}} \\right) ^{1-y} \\\\\n",
    "\\end{eqnarray}"
   ]
  },
  {
   "cell_type": "markdown",
   "metadata": {},
   "source": [
    "데이터 표본이  {𝑥𝑖,𝑦𝑖}1:𝑁 일 경우 로그가능도  LL  를 구하면 다음과 같다.\n",
    "\n",
    "베르누이 확률분포의 정의에서\n",
    "\n",
    "$$\\begin{eqnarray}\n",
    "\\text{LL} \n",
    "&=& \\log \\prod_{i=1}^N \\mu(x_i;w)^{y_i} (1-\\mu(x_i;w))^{1-y_i} \\\\\n",
    "&=& \\sum_{i=1}^N \\left( y_i \\log\\mu(x_i;w) +  (1-y_i)\\log(1-\\mu(x_i;w)) \\right) \\\\\n",
    "&=& \\sum_{i=1}^N \\left( y_i \\log\\left(\\dfrac{1}{1 + \\exp{(-w^Tx_i)}}\\right) + (1-y_i)\\log\\left(\\dfrac{\\exp{(-w^Tx_i)}}{1 + \\exp{(-w^Tx_i)}}\\right) \\right) \\\\\n",
    "\\end{eqnarray}$$\n",
    "\n",
    "가 된다.\n",
    "\n",
    "로그가능도를 최대화하는  𝑤  값을 구하기 위해 다음과 같이 미분을 한다.\n",
    "\n",
    "$$\\dfrac{\\partial\\text{LL}}{\\partial w}  = \\sum_{i=1}^N \\dfrac{\\partial\\text{LL}}{\\partial \\mu(x_i;w)} \\dfrac{\\partial\\mu(x_i;w)}{\\partial w}$$"
   ]
  },
  {
   "cell_type": "markdown",
   "metadata": {},
   "source": [
    "우선  𝜇 를  𝑤 로 미분하면\n",
    "\n",
    "$$\\dfrac{\\partial \\mu(x_i;w)}{\\partial w} \n",
    "= \\dfrac{\\partial}{\\partial w} \\dfrac{1}{1 + \\exp{(-w^Tx_i)}} \\ \n",
    "= \\dfrac{\\exp{(-w^Tx_i)}}{(1 + \\exp{(-w^Tx_i)})^2} x_i \\ \n",
    "= \\mu(x_i;w)(1-\\mu(x_i;w)) x_i$$\n",
    "\n",
    "LL을  𝜇 로 미분하면\n",
    "\n",
    "$$\\dfrac{\\partial\\text{LL}}{\\partial \\mu(x_i;w)} =  \\left( y_i \\dfrac{1}{\\mu(x_i;w)} - (1-y_i)\\dfrac{1}{1-\\mu(x_i;w)} \\right)$$\n",
    "\n",
    "두 식을 곱하면\n",
    "\n",
    "\\begin{eqnarray}\n",
    "\\dfrac{\\partial \\text{LL}}{\\partial w} \n",
    "&=& \\sum_{i=1}^N \\left( y_i \\dfrac{1}{\\mu(x_i;w)} - (1-y_i)\\dfrac{1}{1-\\mu(x_i;w)} \\right) \\mu(x_i;w)(1-\\mu(x_i;w)) x_i   \\\\\n",
    "&=& \\sum_{i=1}^N \\big( y_i (1-\\mu(x_i;w)) - (1-y_i)\\mu(x_i;w)  \\big)  x_i \\\\\n",
    "&=& \\sum_{i=1}^N \\big( y_i  - \\mu(x_i;w) \\big) x_i \\\\\n",
    "\\end{eqnarray}"
   ]
  },
  {
   "cell_type": "markdown",
   "metadata": {},
   "source": [
    "이 값은  𝑤 에 대한 비선형 함수이므로 선형 모형과 같이 간단하게 그레디언트가 0이 되는 모수  𝑤  값에 대한 수식을 구할 수 없으며 수치적인 최적화 방법(numerical optimization)을 통해 최적 모수  𝑤 의 값을 구해야 한다."
   ]
  },
  {
   "cell_type": "markdown",
   "metadata": {},
   "source": [
    "## 수치적 최적화\n",
    "\n",
    "로그 가능도함수  𝐿𝐿 을 최대화하는 것은 다음 목적함수를 최소화하는 것과 같다.\n",
    "\n",
    "$$J = -LL$$\n",
    "\n",
    "최대경사도(Steepest Gradient Descent)방법을 사용하자.\n",
    "\n",
    "그레디언트 벡터는\n",
    "\n",
    "$$g_k = \\dfrac{d}{dw}(-LL)$$\n",
    "\n",
    "이고, 이 방향으로 스텝사이즈  𝜂𝑘 만큼 이동한다.\n",
    "\n",
    "\\begin{eqnarray}\n",
    "w_{k+1} \n",
    "&=& w_{k} - \\eta_k g_k \\\\\n",
    "&=& w_{k} + \\eta_k \\sum_{i=1}^N \\big( y_i  - \\mu(x_i; w_k) \\big) x_i\\\\\n",
    "\\end{eqnarray}"
   ]
  },
  {
   "cell_type": "markdown",
   "metadata": {},
   "source": [
    "## 정규화\n",
    "\n",
    "로지스틱 회귀에서도 과최적화를 방지하기 위해 릿지, 라소, 일레스틱넷 방식의 정규화 페널티를 목적 함수인 로그가능도함수에 추가할 수 있다. 예를 들어 릿지 정규화를 하면 다음과 같은 목적 함수를 최소화하는 것과 같다.\n",
    "\n",
    "$$J = -\\text{LL} + \\lambda \\| w \\|^2$$"
   ]
  },
  {
   "cell_type": "markdown",
   "metadata": {},
   "source": [
    "## StatsModels 패키지의 로지스틱 회귀\n",
    "\n",
    "다음과 같은 1차원 독립변수를 가지는 분류문제를 풀어보자."
   ]
  },
  {
   "cell_type": "code",
   "execution_count": 3,
   "metadata": {},
   "outputs": [
    {
     "data": {
      "image/png": "[encoded data removed]",
      "text/plain": [
       "<Figure size 432x288 with 1 Axes>"
      ]
     },
     "metadata": {
      "needs_background": "light"
     },
     "output_type": "display_data"
    }
   ],
   "source": [
    "from sklearn.datasets import make_classification\n",
    "import statsmodels.api as sm\n",
    "import pandas as pd\n",
    "\n",
    "X0, y = make_classification(n_features=1, n_redundant=0, n_informative=1, n_clusters_per_class=1, random_state=4)\n",
    "\n",
    "X = sm.add_constant(X0)\n",
    "\n",
    "plt.scatter(X0, y, c=y, s=100, edgecolors='k', lw=1)\n",
    "sns.distplot(X0[y==0, :], label=\"y=0\", hist=False)\n",
    "sns.distplot(X0[y==1, :], label=\"y=1\", hist=False)\n",
    "plt.ylim(-0.2, 1.2)\n",
    "plt.show()"
   ]
  },
  {
   "cell_type": "markdown",
   "metadata": {},
   "source": [
    "StatsModels 패키지는 베르누이 분포를 따르는 로지스틱 회귀 모형 Logit 를 제공한다. 사용방법은 OLS 와 동일하다."
   ]
  },
  {
   "cell_type": "code",
   "execution_count": 4,
   "metadata": {},
   "outputs": [
    {
     "name": "stdout",
     "output_type": "stream",
     "text": [
      "                           Logit Regression Results                           \n",
      "==============================================================================\n",
      "Dep. Variable:                      y   No. Observations:                  100\n",
      "Model:                          Logit   Df Residuals:                       98\n",
      "Method:                           MLE   Df Model:                            1\n",
      "Date:                Sun, 25 Aug 2019   Pseudo R-squ.:                  0.7679\n",
      "Time:                        11:46:29   Log-Likelihood:                -16.084\n",
      "converged:                       True   LL-Null:                       -69.295\n",
      "Covariance Type:            nonrobust   LLR p-value:                 5.963e-25\n",
      "==============================================================================\n",
      "                 coef    std err          z      P>|z|      [0.025      0.975]\n",
      "------------------------------------------------------------------------------\n",
      "const          0.2515      0.477      0.527      0.598      -0.683       1.186\n",
      "x1             4.2382      0.902      4.699      0.000       2.470       6.006\n",
      "==============================================================================\n"
     ]
    }
   ],
   "source": [
    "logit_mod = sm.Logit(y, X)\n",
    "logit_res = logit_mod.fit(disp=0)\n",
    "print(logit_res.summary())"
   ]
  },
  {
   "cell_type": "code",
   "execution_count": 10,
   "metadata": {},
   "outputs": [
    {
     "data": {
      "image/png": "[encoded data removed]",
      "text/plain": [
       "<Figure size 432x288 with 1 Axes>"
      ]
     },
     "metadata": {
      "needs_background": "light"
     },
     "output_type": "display_data"
    }
   ],
   "source": [
    "xx = np.linspace(-3, 3, 100)\n",
    "mu = logit_res.predict(sm.add_constant(xx))  # 상수항 추가된 형태로 집어 넣어야 함\n",
    "plt.plot(xx, mu, lw=3)\n",
    "plt.scatter(X0, y, c=y, s=100, edgecolors='k', lw=1)\n",
    "plt.scatter(X0, logit_res.predict(X), label=\"$\\hat{y}$\", marker='s', c=y, s=100, edgecolors='k', lw=1)\n",
    "plt.xlim(-3, 3)\n",
    "plt.xlabel(\"x\")\n",
    "plt.ylabel(\"$\\mu$\")\n",
    "plt.title(\"$\\hat{y} = \\mu(x)$\")\n",
    "plt.legend()\n",
    "plt.show()"
   ]
  },
  {
   "cell_type": "markdown",
   "metadata": {},
   "source": [
    "## 판별함수\n",
    "\n",
    "#### Logit 모형의 결과 객체에는 fittedvalues라는 속성으로 판별함수  𝑧=𝑤𝑇𝑥  값이 들어가 있다."
   ]
  },
  {
   "cell_type": "code",
   "execution_count": 13,
   "metadata": {},
   "outputs": [
    {
     "data": {
      "image/png": "[encoded data removed]",
      "text/plain": [
       "<Figure size 432x288 with 1 Axes>"
      ]
     },
     "metadata": {
      "needs_background": "light"
     },
     "output_type": "display_data"
    }
   ],
   "source": [
    "plt.scatter(X0, y, s=100, c=y, edgecolors='k', lw=1, label=\"데이터\")\n",
    "plt.plot(X0, logit_res.fittedvalues * 0.1, label=\"판별함수값\")\n",
    "plt.legend()\n",
    "plt.show()"
   ]
  },
  {
   "cell_type": "markdown",
   "metadata": {},
   "source": [
    "## 성능 측정\n",
    "\n",
    "로지스틱 회귀 성능은 McFadden pseudo R square 값으로 측정한다.\n",
    "\n",
    "$$R^2_{\\text{pseudo}} = 1 - \\dfrac{G^2}{G^2_0}$$\n",
    "\n",
    "𝐺2 는 deviance 라고 하는 양으로 다음과 같이 정의된다. 로그 손실(log loss)이라고도 한다.\n",
    "\n",
    "$$G^2 = 2\\sum_{i=1}^N \\left( y_i\\log\\dfrac{y_i}{\\hat{y}_i} + (1-y_i)\\log\\dfrac{1-y_i}{1-\\hat{y}_i} \\right)$$\n",
    "\n",
    "여기에서  𝑦̂  는 다음과 같이  𝑦=1 일 확률을 뜻한다.\n",
    "\n",
    "$$\\hat{y}_i = \\mu(x_i)$$\n",
    "\n",
    "#### deviance는 모형이 100% 정확한 경우에는 0이 되고 모형의 성능이 나빠질 수록 값이 커진다.\n",
    "\n",
    "이 값은 로그 가능도의 음수값과 같다.\n",
    "\n",
    "$$G^2 = - LL$$"
   ]
  },
  {
   "cell_type": "markdown",
   "metadata": {},
   "source": [
    "𝐺2 는 현재 deviance이고  𝐺20 는 귀무모형(null model)으로 측정한 deviance이다.\n",
    "\n",
    "귀무모형이란 모든  𝑥 가  𝑦 를 예측하는데 전혀 영향을 미치지 않는 모형을 말한다. 즉, 무조건부 확률  𝑝(𝑦) 에 따라  𝑥 에 상관없이 동일하게  𝑦 를 예측하는 모형을 말한다.\n",
    "\n",
    "$$\\mu_{\\text{null}} = \\dfrac{\\text{number of $Y=1$ data}}{\\text{number of all data}}$$\n",
    "\n",
    "#### scikit-learn 패키지의 metric 서브패키지에는 로그 손실을 계산하는 log_loss 함수가 있다. normalize=False로 놓으면 위와 같은 값을 구한다. \n",
    "\n",
    "#### normalize 인수의 디폴트 값은 True이고 이 때는 로그 손실의 평균값을 출력한다.\n",
    "\n",
    "위 예제에서 최적 모형의 로그 손실은 약 16이다."
   ]
  },
  {
   "cell_type": "code",
   "execution_count": 14,
   "metadata": {},
   "outputs": [
    {
     "data": {
      "text/plain": [
       "16.084355200413036"
      ]
     },
     "execution_count": 14,
     "metadata": {},
     "output_type": "execute_result"
    }
   ],
   "source": [
    "# 1. 최적 모형의 로그손실 구하기 : 현재 로그손실\n",
    "from sklearn.metrics import log_loss\n",
    "\n",
    "y_hat = logit_res.predict(X)\n",
    "log_loss(y, y_hat, normalize=False)"
   ]
  },
  {
   "cell_type": "markdown",
   "metadata": {},
   "source": [
    "귀무 모형의 모수값을 구하면 0.51이고 이 값으로 로그 손실을 계산하면 약 69이다."
   ]
  },
  {
   "cell_type": "code",
   "execution_count": 15,
   "metadata": {},
   "outputs": [
    {
     "data": {
      "text/plain": [
       "0.51"
      ]
     },
     "execution_count": 15,
     "metadata": {},
     "output_type": "execute_result"
    }
   ],
   "source": [
    "# 2. 귀무모형의 모수값 구하기\n",
    "mu_null = np.sum(y) / len(y)\n",
    "mu_null"
   ]
  },
  {
   "cell_type": "code",
   "execution_count": 17,
   "metadata": {},
   "outputs": [
    {
     "data": {
      "text/plain": [
       "69.29471672244784"
      ]
     },
     "execution_count": 17,
     "metadata": {},
     "output_type": "execute_result"
    }
   ],
   "source": [
    "# 3. 귀무모형의 모수값을 적용하여 귀모모형 로그손실 계산하기\n",
    "y_null = np.ones_like(y) * mu_null  # 모두 mu_null 값을 갖는 y size 배열\n",
    "log_loss(y, y_null, normalize=False)"
   ]
  },
  {
   "cell_type": "markdown",
   "metadata": {},
   "source": [
    "두 값을 이용하여 McFadden pseudo R square 값을 계산할 수 있다."
   ]
  },
  {
   "cell_type": "code",
   "execution_count": 18,
   "metadata": {},
   "outputs": [
    {
     "data": {
      "text/plain": [
       "0.7678848264170398"
      ]
     },
     "execution_count": 18,
     "metadata": {},
     "output_type": "execute_result"
    }
   ],
   "source": [
    "# 4. McFadden pseudo R square 값 측정\n",
    "1 - (log_loss(y, y_hat) / log_loss(y, y_null))"
   ]
  },
  {
   "cell_type": "markdown",
   "metadata": {},
   "source": [
    "## Scikit-Learn 패키지의 로지스틱 회귀\n",
    "\n",
    "Scikit-Learn 패키지는 로지스틱 회귀 모형 LogisticRegression 를 제공한다."
   ]
  },
  {
   "cell_type": "code",
   "execution_count": 29,
   "metadata": {},
   "outputs": [
    {
     "data": {
      "image/png": "[encoded data removed]",
      "text/plain": [
       "<Figure size 432x288 with 1 Axes>"
      ]
     },
     "metadata": {
      "needs_background": "light"
     },
     "output_type": "display_data"
    }
   ],
   "source": [
    "from sklearn.linear_model import LogisticRegression\n",
    "\n",
    "model_sk = LogisticRegression().fit(X0, y)\n",
    "\n",
    "xx = np.linspace(-3, 3, 100)\n",
    "mu = 1.0 / (1 + np.exp(-model_sk.coef_[0][0] * xx - model_sk.intercept_[0]))  # 모형 추정 모수를 적용한 로지스틱함수\n",
    "plt.plot(xx, mu)  # 로지스틱함수 y 값 분포\n",
    "plt.scatter(X0, y, c=y, s=100, edgecolors='k', lw=1)\n",
    "plt.scatter(X0, model_sk.predict(X0), label=\"$\\hat{y}$\", marker='s', c=y, s=100, edgecolors='k', lw=1, alpha=0.5)\n",
    "plt.xlim(-3, 3)\n",
    "plt.ylim(-0.05, 1.1)\n",
    "plt.xlabel(\"x\")\n",
    "plt.ylabel(\"$\\mu$\")\n",
    "plt.title(\"$\\hat{y}$ = sign $\\mu(x)$\")\n",
    "plt.legend()\n",
    "plt.show()"
   ]
  },
  {
   "cell_type": "markdown",
   "metadata": {},
   "source": [
    "## 로지스틱 회귀를 사용한 이진 분류의 예\n",
    "\n",
    "다음 데이터는 미국 의대생의 입학관련 데이터이다. 데이터의 의미는 다음과 같다.\n",
    "\n",
    "+ Acceptance: 0이면 불합격, 1이면 합격\n",
    "+ BCPM: Bio/Chem/Physics/Math 과목의 학점 평균\n",
    "+ GPA: 전체과목 학점 평균\n",
    "+ VR: MCAT Verbal reasoning 과목 점수\n",
    "+ PS: MCAT Physical sciences 과목 점수\n",
    "+ WS: MCAT Writing sample 과목 점수\n",
    "+ BS: MCAT Biological sciences 과목 점수\n",
    "+ MCAT: MCAT 총점\n",
    "+ Apps: 의대 지원 횟수"
   ]
  },
  {
   "cell_type": "code",
   "execution_count": 30,
   "metadata": {},
   "outputs": [
    {
     "data": {
      "text/html": [
       "<div>\n",
       "<style scoped>\n",
       "    .dataframe tbody tr th:only-of-type {\n",
       "        vertical-align: middle;\n",
       "    }\n",
       "\n",
       "    .dataframe tbody tr th {\n",
       "        vertical-align: top;\n",
       "    }\n",
       "\n",
       "    .dataframe thead th {\n",
       "        text-align: right;\n",
       "    }\n",
       "</style>\n",
       "<table border=\"1\" class=\"dataframe\">\n",
       "  <thead>\n",
       "    <tr style=\"text-align: right;\">\n",
       "      <th></th>\n",
       "      <th>Accept</th>\n",
       "      <th>Acceptance</th>\n",
       "      <th>Sex</th>\n",
       "      <th>BCPM</th>\n",
       "      <th>GPA</th>\n",
       "      <th>VR</th>\n",
       "      <th>PS</th>\n",
       "      <th>WS</th>\n",
       "      <th>BS</th>\n",
       "      <th>MCAT</th>\n",
       "      <th>Apps</th>\n",
       "    </tr>\n",
       "  </thead>\n",
       "  <tbody>\n",
       "    <tr>\n",
       "      <th>50</th>\n",
       "      <td>D</td>\n",
       "      <td>0</td>\n",
       "      <td>M</td>\n",
       "      <td>2.41</td>\n",
       "      <td>2.72</td>\n",
       "      <td>8</td>\n",
       "      <td>8</td>\n",
       "      <td>8.0</td>\n",
       "      <td>8</td>\n",
       "      <td>32</td>\n",
       "      <td>7</td>\n",
       "    </tr>\n",
       "    <tr>\n",
       "      <th>51</th>\n",
       "      <td>D</td>\n",
       "      <td>0</td>\n",
       "      <td>M</td>\n",
       "      <td>3.51</td>\n",
       "      <td>3.56</td>\n",
       "      <td>11</td>\n",
       "      <td>8</td>\n",
       "      <td>6.0</td>\n",
       "      <td>9</td>\n",
       "      <td>34</td>\n",
       "      <td>6</td>\n",
       "    </tr>\n",
       "    <tr>\n",
       "      <th>52</th>\n",
       "      <td>A</td>\n",
       "      <td>1</td>\n",
       "      <td>F</td>\n",
       "      <td>3.43</td>\n",
       "      <td>3.48</td>\n",
       "      <td>7</td>\n",
       "      <td>10</td>\n",
       "      <td>7.0</td>\n",
       "      <td>10</td>\n",
       "      <td>34</td>\n",
       "      <td>14</td>\n",
       "    </tr>\n",
       "    <tr>\n",
       "      <th>53</th>\n",
       "      <td>D</td>\n",
       "      <td>0</td>\n",
       "      <td>M</td>\n",
       "      <td>2.61</td>\n",
       "      <td>2.80</td>\n",
       "      <td>7</td>\n",
       "      <td>5</td>\n",
       "      <td>NaN</td>\n",
       "      <td>6</td>\n",
       "      <td>18</td>\n",
       "      <td>6</td>\n",
       "    </tr>\n",
       "    <tr>\n",
       "      <th>54</th>\n",
       "      <td>D</td>\n",
       "      <td>0</td>\n",
       "      <td>M</td>\n",
       "      <td>3.36</td>\n",
       "      <td>3.44</td>\n",
       "      <td>11</td>\n",
       "      <td>11</td>\n",
       "      <td>8.0</td>\n",
       "      <td>9</td>\n",
       "      <td>39</td>\n",
       "      <td>1</td>\n",
       "    </tr>\n",
       "  </tbody>\n",
       "</table>\n",
       "</div>"
      ],
      "text/plain": [
       "   Accept  Acceptance Sex  BCPM   GPA  VR  PS   WS  BS  MCAT  Apps\n",
       "50      D           0   M  2.41  2.72   8   8  8.0   8    32     7\n",
       "51      D           0   M  3.51  3.56  11   8  6.0   9    34     6\n",
       "52      A           1   F  3.43  3.48   7  10  7.0  10    34    14\n",
       "53      D           0   M  2.61  2.80   7   5  NaN   6    18     6\n",
       "54      D           0   M  3.36  3.44  11  11  8.0   9    39     1"
      ]
     },
     "execution_count": 30,
     "metadata": {},
     "output_type": "execute_result"
    }
   ],
   "source": [
    "data_med = sm.datasets.get_rdataset(\"MedGPA\", package=\"Stat2Data\")\n",
    "df_med = data_med.data\n",
    "df_med.tail()"
   ]
  },
  {
   "cell_type": "markdown",
   "metadata": {},
   "source": [
    "일단 학점(GPA)과 합격여부의 관계를 살펴보자."
   ]
  },
  {
   "cell_type": "code",
   "execution_count": 35,
   "metadata": {},
   "outputs": [
    {
     "data": {
      "image/png": "[encoded data removed]",
      "text/plain": [
       "<Figure size 432x288 with 1 Axes>"
      ]
     },
     "metadata": {
      "needs_background": "light"
     },
     "output_type": "display_data"
    }
   ],
   "source": [
    "sns.stripplot(x='GPA', y='Acceptance', data=df_med, jitter=True, orient='h', order=[1, 0])\n",
    "plt.grid(True)\n",
    "plt.show()"
   ]
  },
  {
   "cell_type": "markdown",
   "metadata": {},
   "source": [
    "로지스틱 회귀분석을 실시한다. MCAT = VR + PS + WS + BS이므로 이 MCAT은 독립 변수에서 제외해야 한다."
   ]
  },
  {
   "cell_type": "code",
   "execution_count": 37,
   "metadata": {},
   "outputs": [
    {
     "name": "stdout",
     "output_type": "stream",
     "text": [
      "Optimization terminated successfully.\n",
      "         Current function value: 0.280736\n",
      "         Iterations 9\n",
      "                           Logit Regression Results                           \n",
      "==============================================================================\n",
      "Dep. Variable:             Acceptance   No. Observations:                   54\n",
      "Model:                          Logit   Df Residuals:                       45\n",
      "Method:                           MLE   Df Model:                            8\n",
      "Date:                Sun, 25 Aug 2019   Pseudo R-squ.:                  0.5913\n",
      "Time:                        12:48:15   Log-Likelihood:                -15.160\n",
      "converged:                       True   LL-Null:                       -37.096\n",
      "Covariance Type:            nonrobust   LLR p-value:                 6.014e-07\n",
      "==============================================================================\n",
      "                 coef    std err          z      P>|z|      [0.025      0.975]\n",
      "------------------------------------------------------------------------------\n",
      "Intercept    -46.6414     15.600     -2.990      0.003     -77.216     -16.067\n",
      "Sex[T.M]      -2.2835      1.429     -1.597      0.110      -5.085       0.518\n",
      "BCPM          -6.1633      6.963     -0.885      0.376     -19.811       7.484\n",
      "GPA           12.3973      8.611      1.440      0.150      -4.479      29.274\n",
      "VR             0.0790      0.311      0.254      0.799      -0.530       0.688\n",
      "PS             1.1673      0.539      2.164      0.030       0.110       2.225\n",
      "WS            -0.7784      0.396     -1.968      0.049      -1.554      -0.003\n",
      "BS             1.9184      0.682      2.814      0.005       0.582       3.255\n",
      "Apps           0.0512      0.147      0.348      0.728      -0.237       0.340\n",
      "==============================================================================\n"
     ]
    }
   ],
   "source": [
    "model_med = sm.Logit.from_formula(\"Acceptance ~ Sex + BCPM + GPA + VR + PS + WS + BS + Apps\", data=df_med)\n",
    "result_med = model_med.fit()\n",
    "print(result_med.summary())"
   ]
  },
  {
   "cell_type": "code",
   "execution_count": 38,
   "metadata": {},
   "outputs": [
    {
     "data": {
      "image/png": "[encoded data removed]",
      "text/plain": [
       "<Figure size 432x288 with 1 Axes>"
      ]
     },
     "metadata": {
      "needs_background": "light"
     },
     "output_type": "display_data"
    }
   ],
   "source": [
    "df_med[\"Prediction\"] = result_med.predict(df_med)\n",
    "sns.boxplot(x=\"Acceptance\", y=\"Prediction\", data=df_med)\n",
    "plt.show()"
   ]
  },
  {
   "cell_type": "markdown",
   "metadata": {},
   "source": [
    "### 연습 문제 1\n",
    "\n",
    "(1) 붓꽃 분류문제에서 클래스가 세토사와 베르시칼라 데이터만 사용하고 (setosa=0, versicolor=1) 독립변수로는 꽃받침 길이(Sepal Length)와 상수항만 사용하여 StatsModels 패키지의 로지스틱 회귀모형으로 결과를 예측하고 보고서를 출력한다. 이 보고서에서 어떤 값이 세토사와 베르시칼라를 구분하는 기준값(threshold)으로 사용되고 있는가?\n",
    "\n",
    "(2) 위 결과를 분류결과표(confusion matrix)와 분류결과보고서(classification report)로 나타내라.\n",
    "\n",
    "(3) 이 모형에 대해 ROC커브를 그리고 AUC를 구한다. 이 때 Scikit-Learn의 LogisticRegression을 사용하지 않고 위에서 StatsModels로 구한 모형을 사용한다."
   ]
  },
  {
   "cell_type": "code",
   "execution_count": 41,
   "metadata": {},
   "outputs": [
    {
     "data": {
      "text/plain": [
       "((100, 4), (100,))"
      ]
     },
     "execution_count": 41,
     "metadata": {},
     "output_type": "execute_result"
    }
   ],
   "source": [
    "from sklearn.datasets import load_iris\n",
    "iris = load_iris()\n",
    "idx = np.in1d(iris.target, [0, 1])\n",
    "X = iris.data[idx, :]\n",
    "y = iris.target[idx]\n",
    "X.shape, y.shape"
   ]
  },
  {
   "cell_type": "code",
   "execution_count": 45,
   "metadata": {},
   "outputs": [
    {
     "data": {
      "text/html": [
       "<div>\n",
       "<style scoped>\n",
       "    .dataframe tbody tr th:only-of-type {\n",
       "        vertical-align: middle;\n",
       "    }\n",
       "\n",
       "    .dataframe tbody tr th {\n",
       "        vertical-align: top;\n",
       "    }\n",
       "\n",
       "    .dataframe thead th {\n",
       "        text-align: right;\n",
       "    }\n",
       "</style>\n",
       "<table border=\"1\" class=\"dataframe\">\n",
       "  <thead>\n",
       "    <tr style=\"text-align: right;\">\n",
       "      <th></th>\n",
       "      <th>sepal length (cm)</th>\n",
       "      <th>sepal width (cm)</th>\n",
       "      <th>petal length (cm)</th>\n",
       "      <th>petal width (cm)</th>\n",
       "      <th>species</th>\n",
       "    </tr>\n",
       "  </thead>\n",
       "  <tbody>\n",
       "    <tr>\n",
       "      <th>0</th>\n",
       "      <td>5.1</td>\n",
       "      <td>3.5</td>\n",
       "      <td>1.4</td>\n",
       "      <td>0.2</td>\n",
       "      <td>0</td>\n",
       "    </tr>\n",
       "    <tr>\n",
       "      <th>1</th>\n",
       "      <td>4.9</td>\n",
       "      <td>3.0</td>\n",
       "      <td>1.4</td>\n",
       "      <td>0.2</td>\n",
       "      <td>0</td>\n",
       "    </tr>\n",
       "    <tr>\n",
       "      <th>2</th>\n",
       "      <td>4.7</td>\n",
       "      <td>3.2</td>\n",
       "      <td>1.3</td>\n",
       "      <td>0.2</td>\n",
       "      <td>0</td>\n",
       "    </tr>\n",
       "    <tr>\n",
       "      <th>3</th>\n",
       "      <td>4.6</td>\n",
       "      <td>3.1</td>\n",
       "      <td>1.5</td>\n",
       "      <td>0.2</td>\n",
       "      <td>0</td>\n",
       "    </tr>\n",
       "    <tr>\n",
       "      <th>4</th>\n",
       "      <td>5.0</td>\n",
       "      <td>3.6</td>\n",
       "      <td>1.4</td>\n",
       "      <td>0.2</td>\n",
       "      <td>0</td>\n",
       "    </tr>\n",
       "  </tbody>\n",
       "</table>\n",
       "</div>"
      ],
      "text/plain": [
       "   sepal length (cm)  sepal width (cm)  petal length (cm)  petal width (cm)  \\\n",
       "0                5.1               3.5                1.4               0.2   \n",
       "1                4.9               3.0                1.4               0.2   \n",
       "2                4.7               3.2                1.3               0.2   \n",
       "3                4.6               3.1                1.5               0.2   \n",
       "4                5.0               3.6                1.4               0.2   \n",
       "\n",
       "   species  \n",
       "0        0  \n",
       "1        0  \n",
       "2        0  \n",
       "3        0  \n",
       "4        0  "
      ]
     },
     "execution_count": 45,
     "metadata": {},
     "output_type": "execute_result"
    }
   ],
   "source": [
    "df_iris = pd.DataFrame(X, columns=iris.feature_names)\n",
    "df_iris[\"species\"] = y\n",
    "df_iris.head()"
   ]
  },
  {
   "cell_type": "code",
   "execution_count": 51,
   "metadata": {},
   "outputs": [
    {
     "name": "stdout",
     "output_type": "stream",
     "text": [
      "Optimization terminated successfully.\n",
      "         Current function value: 0.321056\n",
      "         Iterations 8\n",
      "                           Logit Regression Results                           \n",
      "==============================================================================\n",
      "Dep. Variable:                species   No. Observations:                  100\n",
      "Model:                          Logit   Df Residuals:                       98\n",
      "Method:                           MLE   Df Model:                            1\n",
      "Date:                Sun, 25 Aug 2019   Pseudo R-squ.:                  0.5368\n",
      "Time:                        13:13:12   Log-Likelihood:                -32.106\n",
      "converged:                       True   LL-Null:                       -69.315\n",
      "Covariance Type:            nonrobust   LLR p-value:                 6.320e-18\n",
      "=====================================================================================\n",
      "                        coef    std err          z      P>|z|      [0.025      0.975]\n",
      "-------------------------------------------------------------------------------------\n",
      "const               -27.8315      5.434     -5.122      0.000     -38.481     -17.182\n",
      "sepal length (cm)     5.1403      1.007      5.107      0.000       3.168       7.113\n",
      "=====================================================================================\n"
     ]
    }
   ],
   "source": [
    "# 1. 로지스틱 회귀모형 결과 예측\n",
    "X0 = df_iris[\"sepal length (cm)\"]\n",
    "y = df_iris[\"species\"]\n",
    "X = sm.add_constant(X0)\n",
    "iris_mod = sm.Logit(y, X)\n",
    "result_iris = iris_mod.fit()\n",
    "print(result_iris.summary())"
   ]
  },
  {
   "cell_type": "markdown",
   "metadata": {},
   "source": [
    "꽃받침 길이 5.1403cm를 기준값으로 사용하고 있음 "
   ]
  },
  {
   "cell_type": "code",
   "execution_count": 52,
   "metadata": {},
   "outputs": [],
   "source": [
    "# 분류결과표(confusion matrix)와 분류결과보고서(classification report)\n",
    "from sklearn.metrics import confusion_matrix, classification_report"
   ]
  },
  {
   "cell_type": "code",
   "execution_count": 82,
   "metadata": {},
   "outputs": [
    {
     "data": {
      "text/plain": [
       "array([[45,  5],\n",
       "       [ 6, 44]])"
      ]
     },
     "execution_count": 82,
     "metadata": {},
     "output_type": "execute_result"
    }
   ],
   "source": [
    "y_hat = result_iris.predict(X)\n",
    "y_hat[y_hat>0.5] = 1\n",
    "y_hat[y_hat < 0.5] = 0\n",
    "confusion_matrix(y, y_hat)"
   ]
  },
  {
   "cell_type": "code",
   "execution_count": 83,
   "metadata": {},
   "outputs": [
    {
     "name": "stdout",
     "output_type": "stream",
     "text": [
      "              precision    recall  f1-score   support\n",
      "\n",
      "      setosa       0.88      0.90      0.89        50\n",
      "  versicolor       0.90      0.88      0.89        50\n",
      "\n",
      "    accuracy                           0.89       100\n",
      "   macro avg       0.89      0.89      0.89       100\n",
      "weighted avg       0.89      0.89      0.89       100\n",
      "\n"
     ]
    }
   ],
   "source": [
    "print(classification_report(y, y_hat, target_names=[iris.target_names[0], iris.target_names[1]]))"
   ]
  },
  {
   "cell_type": "code",
   "execution_count": 85,
   "metadata": {},
   "outputs": [
    {
     "data": {
      "text/plain": [
       "(array([0.  , 0.  , 0.  , 0.  , 0.  , 0.  , 0.  , 0.  , 0.  , 0.  , 0.  ,\n",
       "        0.02, 0.06, 0.06, 0.1 , 0.2 , 0.22, 0.28, 0.44, 0.6 , 0.68, 0.78,\n",
       "        0.82, 0.9 , 0.92, 0.98, 1.  ]),\n",
       " array([0.  , 0.02, 0.06, 0.12, 0.16, 0.18, 0.22, 0.28, 0.32, 0.48, 0.52,\n",
       "        0.58, 0.68, 0.78, 0.88, 0.9 , 0.9 , 0.92, 0.94, 0.98, 1.  , 1.  ,\n",
       "        1.  , 1.  , 1.  , 1.  , 1.  ]),\n",
       " array([ 9.15090198,  8.15090198,  7.12283475,  6.60880114,  6.09476752,\n",
       "         5.58073391,  5.0667003 ,  4.55266668,  4.03863307,  3.01056584,\n",
       "         2.49653223,  1.98249861,  1.468465  ,  0.95443139,  0.44039777,\n",
       "        -0.07363584, -0.58766946, -1.10170307, -1.61573668, -2.1297703 ,\n",
       "        -2.64380391, -3.15783753, -3.67187114, -4.18590475, -4.69993837,\n",
       "        -5.21397198, -5.72800559]))"
      ]
     },
     "execution_count": 85,
     "metadata": {},
     "output_type": "execute_result"
    }
   ],
   "source": [
    "# ROC커브, AUC 구하기\n",
    "from sklearn.metrics import roc_curve, auc\n",
    "\n",
    "# 타겟 y값과 판별함수 벡터를 넣고 변화되는 기준값과 그 기준값을 사용했을때 재현율과 위양성률을 반환함\n",
    "# 따라서 logit 모델의 객체의 fittedvalues 속성인 판별함수 값을 넣어 roc_curve를 구함\n",
    "fpr, tpr, thresholds = roc_curve(y, result_iris.fittedvalues)\n",
    "fpr, tpr, thresholds"
   ]
  },
  {
   "cell_type": "code",
   "execution_count": 87,
   "metadata": {},
   "outputs": [
    {
     "data": {
      "image/png": "[encoded data removed]",
      "text/plain": [
       "<Figure size 432x288 with 1 Axes>"
      ]
     },
     "metadata": {
      "needs_background": "light"
     },
     "output_type": "display_data"
    }
   ],
   "source": [
    "plt.plot(fpr, tpr, 'o-', label=\"Logistic Regression\")\n",
    "plt.plot([0, 1], [0, 1], 'k--', label=\"random guess\")\n",
    "plt.plot([fallout], [recall], 'ro', ms=10)\n",
    "plt.xlabel(\"위양성률(Fall-out)\")\n",
    "plt.ylabel(\"재현률(Recall)\")\n",
    "plt.legend()\n",
    "plt.show()"
   ]
  },
  {
   "cell_type": "code",
   "execution_count": 88,
   "metadata": {},
   "outputs": [
    {
     "data": {
      "text/plain": [
       "0.9326"
      ]
     },
     "execution_count": 88,
     "metadata": {},
     "output_type": "execute_result"
    }
   ],
   "source": [
    "auc(fpr, tpr)"
   ]
  },
  {
   "cell_type": "markdown",
   "metadata": {},
   "source": [
    "AUC가 1에 가까운 값으로 나타나고 있어 좋은 모형이라고 할 수 있다."
   ]
  },
  {
   "cell_type": "markdown",
   "metadata": {},
   "source": [
    "### 연습 문제 2\n",
    "\n",
    "(1) 붓꽃 분류문제에서 클래스가 베르시칼라(versicolor)와 버지니카(virginica) 데이터만 사용하여(versicolor=0, virginica=1) 로지스틱 회귀모형으로 결과를 예측하고 보고서를 출력한다. 독립변수는 모두 사용한다. 이 보고서에서 세토사와 베르시칼라를 구분하는 경계면의 방정식을 찾아라.\n",
    "\n",
    "(2) 위 결과를 분류결과표와 분류결과보고서로 나타내라.\n",
    "\n",
    "(3) 이 모형에 대해 ROC커브를 그리고 AUC를 구하라. 이 때 Scikit-Learn의 LogisticRegression을 사용하지 않고 위에서 StatsModels로 구한 모형을 사용한다."
   ]
  },
  {
   "cell_type": "code",
   "execution_count": 125,
   "metadata": {},
   "outputs": [
    {
     "data": {
      "text/plain": [
       "array(['setosa', 'versicolor', 'virginica'], dtype='<U10')"
      ]
     },
     "execution_count": 125,
     "metadata": {},
     "output_type": "execute_result"
    }
   ],
   "source": [
    "iris.target_names"
   ]
  },
  {
   "cell_type": "code",
   "execution_count": 128,
   "metadata": {},
   "outputs": [
    {
     "data": {
      "text/html": [
       "<div>\n",
       "<style scoped>\n",
       "    .dataframe tbody tr th:only-of-type {\n",
       "        vertical-align: middle;\n",
       "    }\n",
       "\n",
       "    .dataframe tbody tr th {\n",
       "        vertical-align: top;\n",
       "    }\n",
       "\n",
       "    .dataframe thead th {\n",
       "        text-align: right;\n",
       "    }\n",
       "</style>\n",
       "<table border=\"1\" class=\"dataframe\">\n",
       "  <thead>\n",
       "    <tr style=\"text-align: right;\">\n",
       "      <th></th>\n",
       "      <th>sepal length (cm)</th>\n",
       "      <th>sepal width (cm)</th>\n",
       "      <th>petal length (cm)</th>\n",
       "      <th>petal width (cm)</th>\n",
       "      <th>species</th>\n",
       "    </tr>\n",
       "  </thead>\n",
       "  <tbody>\n",
       "    <tr>\n",
       "      <th>95</th>\n",
       "      <td>6.7</td>\n",
       "      <td>3.0</td>\n",
       "      <td>5.2</td>\n",
       "      <td>2.3</td>\n",
       "      <td>1</td>\n",
       "    </tr>\n",
       "    <tr>\n",
       "      <th>96</th>\n",
       "      <td>6.3</td>\n",
       "      <td>2.5</td>\n",
       "      <td>5.0</td>\n",
       "      <td>1.9</td>\n",
       "      <td>1</td>\n",
       "    </tr>\n",
       "    <tr>\n",
       "      <th>97</th>\n",
       "      <td>6.5</td>\n",
       "      <td>3.0</td>\n",
       "      <td>5.2</td>\n",
       "      <td>2.0</td>\n",
       "      <td>1</td>\n",
       "    </tr>\n",
       "    <tr>\n",
       "      <th>98</th>\n",
       "      <td>6.2</td>\n",
       "      <td>3.4</td>\n",
       "      <td>5.4</td>\n",
       "      <td>2.3</td>\n",
       "      <td>1</td>\n",
       "    </tr>\n",
       "    <tr>\n",
       "      <th>99</th>\n",
       "      <td>5.9</td>\n",
       "      <td>3.0</td>\n",
       "      <td>5.1</td>\n",
       "      <td>1.8</td>\n",
       "      <td>1</td>\n",
       "    </tr>\n",
       "  </tbody>\n",
       "</table>\n",
       "</div>"
      ],
      "text/plain": [
       "    sepal length (cm)  sepal width (cm)  petal length (cm)  petal width (cm)  \\\n",
       "95                6.7               3.0                5.2               2.3   \n",
       "96                6.3               2.5                5.0               1.9   \n",
       "97                6.5               3.0                5.2               2.0   \n",
       "98                6.2               3.4                5.4               2.3   \n",
       "99                5.9               3.0                5.1               1.8   \n",
       "\n",
       "    species  \n",
       "95        1  \n",
       "96        1  \n",
       "97        1  \n",
       "98        1  \n",
       "99        1  "
      ]
     },
     "execution_count": 128,
     "metadata": {},
     "output_type": "execute_result"
    }
   ],
   "source": [
    "idx = np.in1d(iris.target, [1, 2])\n",
    "X = iris.data[idx, :]\n",
    "y = iris.target[idx] - 1 # 1, 2 값을 0, 1로 바꿈\n",
    "\n",
    "dfX = pd.DataFrame(X, columns=iris.feature_names)\n",
    "dfy = pd.DataFrame(y, columns=[\"species\"])\n",
    "df = pd.concat([dfX, dfy], axis=1)\n",
    "df.tail()"
   ]
  },
  {
   "cell_type": "code",
   "execution_count": 129,
   "metadata": {},
   "outputs": [
    {
     "name": "stdout",
     "output_type": "stream",
     "text": [
      "Optimization terminated successfully.\n",
      "         Current function value: 0.108399\n",
      "         Iterations 10\n"
     ]
    }
   ],
   "source": [
    "model = sm.Logit(dfy, dfX)\n",
    "result = model.fit()"
   ]
  },
  {
   "cell_type": "code",
   "execution_count": 130,
   "metadata": {},
   "outputs": [
    {
     "name": "stdout",
     "output_type": "stream",
     "text": [
      "                           Logit Regression Results                           \n",
      "==============================================================================\n",
      "Dep. Variable:                species   No. Observations:                  100\n",
      "Model:                          Logit   Df Residuals:                       96\n",
      "Method:                           MLE   Df Model:                            3\n",
      "Date:                Sun, 25 Aug 2019   Pseudo R-squ.:                  0.8436\n",
      "Time:                        14:37:19   Log-Likelihood:                -10.840\n",
      "converged:                       True   LL-Null:                       -69.315\n",
      "Covariance Type:            nonrobust   LLR p-value:                 3.502e-25\n",
      "=====================================================================================\n",
      "                        coef    std err          z      P>|z|      [0.025      0.975]\n",
      "-------------------------------------------------------------------------------------\n",
      "sepal length (cm)    -6.3277      2.479     -2.552      0.011     -11.187      -1.468\n",
      "sepal width (cm)     -6.6182      2.529     -2.616      0.009     -11.576      -1.661\n",
      "petal length (cm)     8.4338      3.470      2.431      0.015       1.633      15.235\n",
      "petal width (cm)     10.2825      3.459      2.972      0.003       3.502      17.063\n",
      "=====================================================================================\n",
      "\n",
      "Possibly complete quasi-separation: A fraction 0.21 of observations can be\n",
      "perfectly predicted. This might indicate that there is complete\n",
      "quasi-separation. In this case some parameters will not be identified.\n"
     ]
    }
   ],
   "source": [
    "print(result.summary())"
   ]
  },
  {
   "cell_type": "code",
   "execution_count": 132,
   "metadata": {},
   "outputs": [],
   "source": [
    "# 분류결과표와 분류결과보고서\n",
    "y_hat = result.predict(dfX)\n",
    "y_hat[y_hat >= 0.5] = 1\n",
    "y_hat[y_hat < 0.5] = 0"
   ]
  },
  {
   "cell_type": "code",
   "execution_count": 133,
   "metadata": {},
   "outputs": [
    {
     "data": {
      "text/plain": [
       "array([[47,  3],\n",
       "       [ 2, 48]])"
      ]
     },
     "execution_count": 133,
     "metadata": {},
     "output_type": "execute_result"
    }
   ],
   "source": [
    "confusion_matrix(dfy, y_hat)"
   ]
  },
  {
   "cell_type": "code",
   "execution_count": 134,
   "metadata": {},
   "outputs": [
    {
     "name": "stdout",
     "output_type": "stream",
     "text": [
      "              precision    recall  f1-score   support\n",
      "\n",
      "  versicolor       0.96      0.94      0.95        50\n",
      "   virginica       0.94      0.96      0.95        50\n",
      "\n",
      "    accuracy                           0.95       100\n",
      "   macro avg       0.95      0.95      0.95       100\n",
      "weighted avg       0.95      0.95      0.95       100\n",
      "\n"
     ]
    }
   ],
   "source": [
    "print(classification_report(dfy, y_hat, target_names=[iris.target_names[1], iris.target_names[2]]))"
   ]
  },
  {
   "cell_type": "code",
   "execution_count": 135,
   "metadata": {},
   "outputs": [
    {
     "data": {
      "text/plain": [
       "(array([0.  , 0.  , 0.  , 0.  , 0.  , 0.02, 0.02, 0.06, 0.06, 0.08, 0.08,\n",
       "        1.  ]),\n",
       " array([0.  , 0.02, 0.28, 0.32, 0.76, 0.76, 0.94, 0.94, 0.98, 0.98, 1.  ,\n",
       "        1.  ]),\n",
       " array([ 16.91235593,  15.91235593,   8.48344054,   7.97934417,\n",
       "          3.88070404,   3.62903709,   1.16994954,   0.33934392,\n",
       "         -0.04602122,  -0.4159487 ,  -0.59667563, -13.47443692]))"
      ]
     },
     "execution_count": 135,
     "metadata": {},
     "output_type": "execute_result"
    }
   ],
   "source": [
    "# ROC커브, AUC\n",
    "fpr, tpr, thresholds = roc_curve(dfy, result.fittedvalues)\n",
    "fpr, tpr, thresholds"
   ]
  },
  {
   "cell_type": "code",
   "execution_count": 136,
   "metadata": {},
   "outputs": [
    {
     "data": {
      "text/plain": [
       "(0.94, 0.04)"
      ]
     },
     "execution_count": 136,
     "metadata": {},
     "output_type": "execute_result"
    }
   ],
   "source": [
    "recall = 47 / (47 + 3)\n",
    "fallout = 2 / (2 + 48)\n",
    "recall, fallout"
   ]
  },
  {
   "cell_type": "code",
   "execution_count": 137,
   "metadata": {},
   "outputs": [
    {
     "data": {
      "image/png": "[encoded data removed]",
      "text/plain": [
       "<Figure size 432x288 with 1 Axes>"
      ]
     },
     "metadata": {
      "needs_background": "light"
     },
     "output_type": "display_data"
    }
   ],
   "source": [
    "plt.plot(fpr, tpr, 'o-', label=\"Logistic Regression\")\n",
    "plt.plot([0, 1], [0, 1], 'k--', label=\"random guess\")\n",
    "plt.plot([fallout], [recall], 'ro', ms=10)\n",
    "plt.xlabel(\"위양성률(Fall-out)\")\n",
    "plt.ylabel(\"재현률(Recall)\")\n",
    "plt.legend()\n",
    "plt.show()"
   ]
  },
  {
   "cell_type": "code",
   "execution_count": 138,
   "metadata": {},
   "outputs": [
    {
     "data": {
      "text/plain": [
       "0.9924000000000001"
      ]
     },
     "execution_count": 138,
     "metadata": {},
     "output_type": "execute_result"
    }
   ],
   "source": [
    "auc(fpr, tpr)"
   ]
  },
  {
   "cell_type": "markdown",
   "metadata": {},
   "source": [
    "AUC 값이 거의 1에 가까운 값이므로 좋은 모형이라고 할 수 있다. "
   ]
  },
  {
   "cell_type": "markdown",
   "metadata": {},
   "source": [
    "## 로지스틱 회귀를 사용한 회귀분석\n",
    "\n",
    "로지스틱 회귀는 분류문제뿐만 아니라 종속변수  𝑦 가 0부터 1까지 막혀있는 회귀분석 문제에도 사용할 수 있다. 이때는 다음처럼  𝜇  값을 종속변수 y의 예측값으로 사용한다.\n",
    "\n",
    "$$\\hat{y} = \\mu(x)$$\n",
    "\n",
    "#### 만약 실제 y의 범위가 0부터 1이 아니면 스케일링을 통해 바꿔야 한다."
   ]
  },
  {
   "cell_type": "markdown",
   "metadata": {},
   "source": [
    "### 예제\n",
    "\n",
    "다음 데이터는 1974년도에 \"여성은 가정을 보살피고 국가를 운영하는 일은 남자에게 맡겨두어야 한다.\"라는 주장에 대한 찬성, 반대 입장을 조사한 결과이다. 각 열은 다음을 뜻한다.\n",
    "\n",
    "+ education: 교육 기간\n",
    "+ sex: 성별\n",
    "+ agree: 찬성 인원\n",
    "+ disagree: 반대 인원\n",
    "+ ratio: 찬성 비율"
   ]
  },
  {
   "cell_type": "code",
   "execution_count": 139,
   "metadata": {},
   "outputs": [
    {
     "data": {
      "text/html": [
       "<div>\n",
       "<style scoped>\n",
       "    .dataframe tbody tr th:only-of-type {\n",
       "        vertical-align: middle;\n",
       "    }\n",
       "\n",
       "    .dataframe tbody tr th {\n",
       "        vertical-align: top;\n",
       "    }\n",
       "\n",
       "    .dataframe thead th {\n",
       "        text-align: right;\n",
       "    }\n",
       "</style>\n",
       "<table border=\"1\" class=\"dataframe\">\n",
       "  <thead>\n",
       "    <tr style=\"text-align: right;\">\n",
       "      <th></th>\n",
       "      <th>education</th>\n",
       "      <th>sex</th>\n",
       "      <th>agree</th>\n",
       "      <th>disagree</th>\n",
       "      <th>ratio</th>\n",
       "    </tr>\n",
       "  </thead>\n",
       "  <tbody>\n",
       "    <tr>\n",
       "      <th>37</th>\n",
       "      <td>16</td>\n",
       "      <td>Female</td>\n",
       "      <td>13</td>\n",
       "      <td>115</td>\n",
       "      <td>0.101562</td>\n",
       "    </tr>\n",
       "    <tr>\n",
       "      <th>38</th>\n",
       "      <td>17</td>\n",
       "      <td>Female</td>\n",
       "      <td>3</td>\n",
       "      <td>28</td>\n",
       "      <td>0.096774</td>\n",
       "    </tr>\n",
       "    <tr>\n",
       "      <th>39</th>\n",
       "      <td>18</td>\n",
       "      <td>Female</td>\n",
       "      <td>0</td>\n",
       "      <td>21</td>\n",
       "      <td>0.000000</td>\n",
       "    </tr>\n",
       "    <tr>\n",
       "      <th>40</th>\n",
       "      <td>19</td>\n",
       "      <td>Female</td>\n",
       "      <td>1</td>\n",
       "      <td>2</td>\n",
       "      <td>0.333333</td>\n",
       "    </tr>\n",
       "    <tr>\n",
       "      <th>41</th>\n",
       "      <td>20</td>\n",
       "      <td>Female</td>\n",
       "      <td>2</td>\n",
       "      <td>4</td>\n",
       "      <td>0.333333</td>\n",
       "    </tr>\n",
       "  </tbody>\n",
       "</table>\n",
       "</div>"
      ],
      "text/plain": [
       "    education     sex  agree  disagree     ratio\n",
       "37         16  Female     13       115  0.101562\n",
       "38         17  Female      3        28  0.096774\n",
       "39         18  Female      0        21  0.000000\n",
       "40         19  Female      1         2  0.333333\n",
       "41         20  Female      2         4  0.333333"
      ]
     },
     "execution_count": 139,
     "metadata": {},
     "output_type": "execute_result"
    }
   ],
   "source": [
    "data_wrole = sm.datasets.get_rdataset(\"womensrole\", package=\"HSAUR\")\n",
    "df_wrole = data_wrole.data\n",
    "df_wrole[\"ratio\"] = df_wrole.agree / (df_wrole.agree + df_wrole.disagree)\n",
    "df_wrole.tail()"
   ]
  },
  {
   "cell_type": "markdown",
   "metadata": {},
   "source": [
    "교육을 많이 받은 사람일수록 찬성 비율이 감소하는 것을 볼 수 있다."
   ]
  },
  {
   "cell_type": "code",
   "execution_count": 140,
   "metadata": {},
   "outputs": [
    {
     "data": {
      "image/png": "[encoded data removed]",
      "text/plain": [
       "<Figure size 432x288 with 1 Axes>"
      ]
     },
     "metadata": {
      "needs_background": "light"
     },
     "output_type": "display_data"
    }
   ],
   "source": [
    "sns.scatterplot(x=\"education\", y=\"ratio\", data=df_wrole, style=\"sex\")\n",
    "plt.grid(True)\n",
    "plt.show()"
   ]
  },
  {
   "cell_type": "markdown",
   "metadata": {},
   "source": [
    "분석 결과는 다음과 같다."
   ]
  },
  {
   "cell_type": "code",
   "execution_count": 141,
   "metadata": {},
   "outputs": [
    {
     "name": "stdout",
     "output_type": "stream",
     "text": [
      "Optimization terminated successfully.\n",
      "         Current function value: 0.448292\n",
      "         Iterations 6\n",
      "                           Logit Regression Results                           \n",
      "==============================================================================\n",
      "Dep. Variable:                  ratio   No. Observations:                   41\n",
      "Model:                          Logit   Df Residuals:                       38\n",
      "Method:                           MLE   Df Model:                            2\n",
      "Date:                Sun, 25 Aug 2019   Pseudo R-squ.:                  0.3435\n",
      "Time:                        15:13:59   Log-Likelihood:                -18.380\n",
      "converged:                       True   LL-Null:                       -27.997\n",
      "Covariance Type:            nonrobust   LLR p-value:                 6.660e-05\n",
      "===============================================================================\n",
      "                  coef    std err          z      P>|z|      [0.025      0.975]\n",
      "-------------------------------------------------------------------------------\n",
      "Intercept       2.0442      0.889      2.299      0.022       0.302       3.787\n",
      "sex[T.Male]    -0.1968      0.736     -0.267      0.789      -1.640       1.247\n",
      "education      -0.2127      0.071     -2.987      0.003      -0.352      -0.073\n",
      "===============================================================================\n"
     ]
    }
   ],
   "source": [
    "model_wrole = sm.Logit.from_formula(\"ratio ~ education + sex\", data=df_wrole)\n",
    "result_wrole = model_wrole.fit()\n",
    "print(result_wrole.summary())"
   ]
  },
  {
   "cell_type": "markdown",
   "metadata": {},
   "source": [
    "교육 수준과 찬성 비율이 반비례함을 알 수 있고, 성별은 유의확률이 78%로 귀무가설을 기각할 수 없는 수준이므로 의미가 없다."
   ]
  },
  {
   "cell_type": "markdown",
   "metadata": {},
   "source": [
    "성별은 유의하지 않다는 것을 알게되었으므로 성별을 제외하고 다시 모형을 구한다."
   ]
  },
  {
   "cell_type": "code",
   "execution_count": 142,
   "metadata": {},
   "outputs": [
    {
     "name": "stdout",
     "output_type": "stream",
     "text": [
      "Optimization terminated successfully.\n",
      "         Current function value: 0.449186\n",
      "         Iterations 6\n",
      "                           Logit Regression Results                           \n",
      "==============================================================================\n",
      "Dep. Variable:                  ratio   No. Observations:                   41\n",
      "Model:                          Logit   Df Residuals:                       39\n",
      "Method:                           MLE   Df Model:                            1\n",
      "Date:                Sun, 25 Aug 2019   Pseudo R-squ.:                  0.3422\n",
      "Time:                        15:17:35   Log-Likelihood:                -18.417\n",
      "converged:                       True   LL-Null:                       -27.997\n",
      "Covariance Type:            nonrobust   LLR p-value:                 1.202e-05\n",
      "==============================================================================\n",
      "                 coef    std err          z      P>|z|      [0.025      0.975]\n",
      "------------------------------------------------------------------------------\n",
      "Intercept      1.9345      0.781      2.478      0.013       0.405       3.464\n",
      "education     -0.2117      0.071     -2.983      0.003      -0.351      -0.073\n",
      "==============================================================================\n"
     ]
    }
   ],
   "source": [
    "model_wrole2 = sm.Logit.from_formula(\"ratio ~ education\", data=df_wrole)\n",
    "result_wrole2 = model_wrole2.fit()\n",
    "print(result_wrole2.summary())"
   ]
  },
  {
   "cell_type": "code",
   "execution_count": 143,
   "metadata": {},
   "outputs": [
    {
     "data": {
      "image/png": "[encoded data removed]",
      "text/plain": [
       "<Figure size 432x288 with 1 Axes>"
      ]
     },
     "metadata": {
      "needs_background": "light"
     },
     "output_type": "display_data"
    }
   ],
   "source": [
    "sns.scatterplot(x=\"education\", y=\"ratio\", data=df_wrole)\n",
    "xx = np.linspace(0, 20, 100)\n",
    "df_wrole_p = pd.DataFrame({\"education\": xx})  # x_test\n",
    "plt.plot(xx, result_wrole2.predict(df_wrole_p), \"r-\", lw=4, label=\"예측\")\n",
    "plt.legend()\n",
    "plt.show()"
   ]
  },
  {
   "cell_type": "code",
   "execution_count": null,
   "metadata": {},
   "outputs": [],
   "source": []
  }
 ],
 "metadata": {
  "kernelspec": {
   "display_name": "Python 3",
   "language": "python",
   "name": "python3"
  },
  "language_info": {
   "codemirror_mode": {
    "name": "ipython",
    "version": 3
   },
   "file_extension": ".py",
   "mimetype": "text/x-python",
   "name": "python",
   "nbconvert_exporter": "python",
   "pygments_lexer": "ipython3",
   "version": "3.7.4"
  }
 },
 "nbformat": 4,
 "nbformat_minor": 2
}
