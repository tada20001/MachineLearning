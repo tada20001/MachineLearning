{
 "cells": [
  {
   "cell_type": "markdown",
   "metadata": {},
   "source": [
    "#### 머신 러닝 모형이 완성된 후에는 최적화 과정을 통해 예측 성능을 향상시킨다."
   ]
  },
  {
   "cell_type": "markdown",
   "metadata": {},
   "source": [
    "## Scikit-Learn 의 모형 하이퍼 파라미터 튜닝 도구\n",
    "\n",
    "Scikit-Learn에서는 다음과 같은 모형 최적화 도구를 지원한다.\n",
    "\n",
    "+ validation_curve\n",
    "    + 단일 하이퍼 파라미터 최적화\n",
    "+ GridSearchCV\n",
    "    + 그리드를 사용한 복수 하이퍼 파라미터 최적화\n",
    "+ ParameterGrid\n",
    "    + 복수 파라미터 최적화용 그리드"
   ]
  },
  {
   "cell_type": "markdown",
   "metadata": {},
   "source": [
    "## validation_curve\n",
    "\n",
    "validation_curve 함수는 최적화할 파라미터 이름과 범위, 그리고 성능 기준을 param_name, param_range, scoring 인수로 받아 파라미터 범위의 모든 경우에 대해 성능 기준을 계산한다."
   ]
  },
  {
   "cell_type": "code",
   "execution_count": 3,
   "metadata": {},
   "outputs": [],
   "source": [
    "from sklearn.datasets import load_digits\n",
    "from sklearn.svm import SVC\n",
    "from sklearn.model_selection import validation_curve"
   ]
  },
  {
   "cell_type": "code",
   "execution_count": 5,
   "metadata": {},
   "outputs": [],
   "source": [
    "digits = load_digits()\n",
    "X, y = digits.data, digits.target\n",
    "\n",
    "import numpy as np\n",
    "param_range = np.logspace(-6, -1, 10)"
   ]
  },
  {
   "cell_type": "code",
   "execution_count": 6,
   "metadata": {},
   "outputs": [
    {
     "name": "stdout",
     "output_type": "stream",
     "text": [
      "CPU times: user 51.9 s, sys: 692 ms, total: 52.5 s\n",
      "Wall time: 55.4 s\n"
     ]
    }
   ],
   "source": [
    "%%time\n",
    "train_scores, test_scores = \\\n",
    "    validation_curve(SVC(), X, y, param_name=\"gamma\", param_range=param_range, cv=10, scoring=\"accuracy\", n_jobs=1)"
   ]
  },
  {
   "cell_type": "code",
   "execution_count": 9,
   "metadata": {},
   "outputs": [],
   "source": [
    "import warnings\n",
    "warnings.filterwarnings(action='ignore')\n",
    "\n",
    "import matplotlib.pylab as plt\n",
    "import matplotlib as mpl\n",
    "import matplotlib.font_manager as fm\n",
    "import seaborn as sns\n",
    "import numpy as np\n",
    "\n",
    "sns.set_style(\"whitegrid\")\n",
    "mpl.rcParams['axes.unicode_minus'] = False\n",
    "plt.rcParams['font.size'] = 12\n",
    "\n",
    "path = \"/Library/Fonts/NanumGothic.otf\"\n",
    "font_name = fm.FontProperties(fname=path, size=20).get_name()\n",
    "\n",
    "plt.rc('font', family=font_name)"
   ]
  },
  {
   "cell_type": "code",
   "execution_count": 10,
   "metadata": {},
   "outputs": [
    {
     "data": {
      "image/png": "[encoded data removed]",
      "text/plain": [
       "<Figure size 432x288 with 1 Axes>"
      ]
     },
     "metadata": {
      "needs_background": "light"
     },
     "output_type": "display_data"
    }
   ],
   "source": [
    "train_scores_mean = train_scores.mean(axis=1)\n",
    "train_scores_std = train_scores.std(axis=1)\n",
    "test_scores_mean = test_scores.mean(axis=1)\n",
    "test_scores_std = test_scores.std(axis=1)\n",
    "\n",
    "mpl.rcParams[\"font.family\"] = \"DejaVu Sans\"\n",
    "plt.semilogx(param_range, train_scores_mean, label=\"Training score\", color='r')\n",
    "plt.fill_between(param_range, train_scores_mean-train_scores_std, train_scores_mean+train_scores_std, alpha=0.2, color='r')\n",
    "plt.semilogx(param_range, test_scores_mean, label=\"Cross-validation score\", color='g')\n",
    "plt.fill_between(param_range, test_scores_mean-test_scores_std, test_scores_mean+test_scores_std, alpha=0.2, color='g')\n",
    "plt.legend(loc=\"best\")\n",
    "plt.title(\"Validation Curve with SVM\")\n",
    "plt.xlabel(\"$\\gamma$\")\n",
    "plt.ylabel(\"Score\")\n",
    "plt.ylim(0.0, 1.1)\n",
    "plt.show()"
   ]
  },
  {
   "cell_type": "markdown",
   "metadata": {},
   "source": [
    "## GridSearchCV\n",
    "\n",
    "GridSearchCV 클래스는 validation_curve 함수와 달리 모형 래퍼(Wrapper) 성격의 클래스이다. 클래스 객체에 fit 메서드를 호출하면 grid search를 사용하여 자동으로 복수개의 내부 모형을 생성하고 이를 모두 실행시켜서 최적 파라미터를 찾아준다. 생성된 복수개와 내부 모형과 실행 결과는 다음 속성에 저장된다.\n",
    "\n",
    "+ grid_scores_\n",
    "    + param_grid 의 모든 파리미터 조합에 대한 성능 결과. 각각의 원소는 다음 요소로 이루어진 튜플이다.\n",
    "    + parameters: 사용된 파라미터\n",
    "    + mean_validation_score: 교차 검증(cross-validation) 결과의 평균값\n",
    "    + cv_validation_scores: 모든 교차 검증(cross-validation) 결과\n",
    "+ best_score_\n",
    "    + 최고 점수\n",
    "+ best_params_\n",
    "    + 최고 점수를 낸 파라미터\n",
    "+ best_estimator_\n",
    "    + 최고 점수를 낸 파라미터를 가진 모형"
   ]
  },
  {
   "cell_type": "code",
   "execution_count": 13,
   "metadata": {},
   "outputs": [
    {
     "name": "stdout",
     "output_type": "stream",
     "text": [
      "CPU times: user 4min 17s, sys: 1.5 s, total: 4min 19s\n",
      "Wall time: 4min 18s\n"
     ]
    }
   ],
   "source": [
    "from sklearn.model_selection import GridSearchCV\n",
    "from sklearn.pipeline import Pipeline\n",
    "from sklearn.preprocessing import StandardScaler\n",
    "from sklearn.svm import SVC\n",
    "\n",
    "pipe_svc = Pipeline([('scl', StandardScaler()), ('clf', SVC(random_state=1))])\n",
    "param_range = [0.0001, 0.001, 0.01, 0.1, 1.0, 10.0, 100.0, 1000.0]\n",
    "param_grid = [\n",
    "    {'clf__C': param_range, 'clf__kernel': ['linear']},\n",
    "    {'clf__C': param_range, 'clf__gamma': param_range, 'clf__kernel': ['rbf']}\n",
    "]\n",
    "gs = GridSearchCV(estimator=pipe_svc, param_grid=param_grid, scoring='accuracy', cv=10, n_jobs=1)\n",
    "%time gs = gs.fit(X, y)"
   ]
  },
  {
   "cell_type": "code",
   "execution_count": 14,
   "metadata": {},
   "outputs": [
    {
     "data": {
      "text/plain": [
       "[{'clf__C': 0.0001, 'clf__kernel': 'linear'},\n",
       " {'clf__C': 0.001, 'clf__kernel': 'linear'},\n",
       " {'clf__C': 0.01, 'clf__kernel': 'linear'},\n",
       " {'clf__C': 0.1, 'clf__kernel': 'linear'},\n",
       " {'clf__C': 1.0, 'clf__kernel': 'linear'},\n",
       " {'clf__C': 10.0, 'clf__kernel': 'linear'},\n",
       " {'clf__C': 100.0, 'clf__kernel': 'linear'},\n",
       " {'clf__C': 1000.0, 'clf__kernel': 'linear'},\n",
       " {'clf__C': 0.0001, 'clf__gamma': 0.0001, 'clf__kernel': 'rbf'},\n",
       " {'clf__C': 0.0001, 'clf__gamma': 0.001, 'clf__kernel': 'rbf'},\n",
       " {'clf__C': 0.0001, 'clf__gamma': 0.01, 'clf__kernel': 'rbf'},\n",
       " {'clf__C': 0.0001, 'clf__gamma': 0.1, 'clf__kernel': 'rbf'},\n",
       " {'clf__C': 0.0001, 'clf__gamma': 1.0, 'clf__kernel': 'rbf'},\n",
       " {'clf__C': 0.0001, 'clf__gamma': 10.0, 'clf__kernel': 'rbf'},\n",
       " {'clf__C': 0.0001, 'clf__gamma': 100.0, 'clf__kernel': 'rbf'},\n",
       " {'clf__C': 0.0001, 'clf__gamma': 1000.0, 'clf__kernel': 'rbf'},\n",
       " {'clf__C': 0.001, 'clf__gamma': 0.0001, 'clf__kernel': 'rbf'},\n",
       " {'clf__C': 0.001, 'clf__gamma': 0.001, 'clf__kernel': 'rbf'},\n",
       " {'clf__C': 0.001, 'clf__gamma': 0.01, 'clf__kernel': 'rbf'},\n",
       " {'clf__C': 0.001, 'clf__gamma': 0.1, 'clf__kernel': 'rbf'},\n",
       " {'clf__C': 0.001, 'clf__gamma': 1.0, 'clf__kernel': 'rbf'},\n",
       " {'clf__C': 0.001, 'clf__gamma': 10.0, 'clf__kernel': 'rbf'},\n",
       " {'clf__C': 0.001, 'clf__gamma': 100.0, 'clf__kernel': 'rbf'},\n",
       " {'clf__C': 0.001, 'clf__gamma': 1000.0, 'clf__kernel': 'rbf'},\n",
       " {'clf__C': 0.01, 'clf__gamma': 0.0001, 'clf__kernel': 'rbf'},\n",
       " {'clf__C': 0.01, 'clf__gamma': 0.001, 'clf__kernel': 'rbf'},\n",
       " {'clf__C': 0.01, 'clf__gamma': 0.01, 'clf__kernel': 'rbf'},\n",
       " {'clf__C': 0.01, 'clf__gamma': 0.1, 'clf__kernel': 'rbf'},\n",
       " {'clf__C': 0.01, 'clf__gamma': 1.0, 'clf__kernel': 'rbf'},\n",
       " {'clf__C': 0.01, 'clf__gamma': 10.0, 'clf__kernel': 'rbf'},\n",
       " {'clf__C': 0.01, 'clf__gamma': 100.0, 'clf__kernel': 'rbf'},\n",
       " {'clf__C': 0.01, 'clf__gamma': 1000.0, 'clf__kernel': 'rbf'},\n",
       " {'clf__C': 0.1, 'clf__gamma': 0.0001, 'clf__kernel': 'rbf'},\n",
       " {'clf__C': 0.1, 'clf__gamma': 0.001, 'clf__kernel': 'rbf'},\n",
       " {'clf__C': 0.1, 'clf__gamma': 0.01, 'clf__kernel': 'rbf'},\n",
       " {'clf__C': 0.1, 'clf__gamma': 0.1, 'clf__kernel': 'rbf'},\n",
       " {'clf__C': 0.1, 'clf__gamma': 1.0, 'clf__kernel': 'rbf'},\n",
       " {'clf__C': 0.1, 'clf__gamma': 10.0, 'clf__kernel': 'rbf'},\n",
       " {'clf__C': 0.1, 'clf__gamma': 100.0, 'clf__kernel': 'rbf'},\n",
       " {'clf__C': 0.1, 'clf__gamma': 1000.0, 'clf__kernel': 'rbf'},\n",
       " {'clf__C': 1.0, 'clf__gamma': 0.0001, 'clf__kernel': 'rbf'},\n",
       " {'clf__C': 1.0, 'clf__gamma': 0.001, 'clf__kernel': 'rbf'},\n",
       " {'clf__C': 1.0, 'clf__gamma': 0.01, 'clf__kernel': 'rbf'},\n",
       " {'clf__C': 1.0, 'clf__gamma': 0.1, 'clf__kernel': 'rbf'},\n",
       " {'clf__C': 1.0, 'clf__gamma': 1.0, 'clf__kernel': 'rbf'},\n",
       " {'clf__C': 1.0, 'clf__gamma': 10.0, 'clf__kernel': 'rbf'},\n",
       " {'clf__C': 1.0, 'clf__gamma': 100.0, 'clf__kernel': 'rbf'},\n",
       " {'clf__C': 1.0, 'clf__gamma': 1000.0, 'clf__kernel': 'rbf'},\n",
       " {'clf__C': 10.0, 'clf__gamma': 0.0001, 'clf__kernel': 'rbf'},\n",
       " {'clf__C': 10.0, 'clf__gamma': 0.001, 'clf__kernel': 'rbf'},\n",
       " {'clf__C': 10.0, 'clf__gamma': 0.01, 'clf__kernel': 'rbf'},\n",
       " {'clf__C': 10.0, 'clf__gamma': 0.1, 'clf__kernel': 'rbf'},\n",
       " {'clf__C': 10.0, 'clf__gamma': 1.0, 'clf__kernel': 'rbf'},\n",
       " {'clf__C': 10.0, 'clf__gamma': 10.0, 'clf__kernel': 'rbf'},\n",
       " {'clf__C': 10.0, 'clf__gamma': 100.0, 'clf__kernel': 'rbf'},\n",
       " {'clf__C': 10.0, 'clf__gamma': 1000.0, 'clf__kernel': 'rbf'},\n",
       " {'clf__C': 100.0, 'clf__gamma': 0.0001, 'clf__kernel': 'rbf'},\n",
       " {'clf__C': 100.0, 'clf__gamma': 0.001, 'clf__kernel': 'rbf'},\n",
       " {'clf__C': 100.0, 'clf__gamma': 0.01, 'clf__kernel': 'rbf'},\n",
       " {'clf__C': 100.0, 'clf__gamma': 0.1, 'clf__kernel': 'rbf'},\n",
       " {'clf__C': 100.0, 'clf__gamma': 1.0, 'clf__kernel': 'rbf'},\n",
       " {'clf__C': 100.0, 'clf__gamma': 10.0, 'clf__kernel': 'rbf'},\n",
       " {'clf__C': 100.0, 'clf__gamma': 100.0, 'clf__kernel': 'rbf'},\n",
       " {'clf__C': 100.0, 'clf__gamma': 1000.0, 'clf__kernel': 'rbf'},\n",
       " {'clf__C': 1000.0, 'clf__gamma': 0.0001, 'clf__kernel': 'rbf'},\n",
       " {'clf__C': 1000.0, 'clf__gamma': 0.001, 'clf__kernel': 'rbf'},\n",
       " {'clf__C': 1000.0, 'clf__gamma': 0.01, 'clf__kernel': 'rbf'},\n",
       " {'clf__C': 1000.0, 'clf__gamma': 0.1, 'clf__kernel': 'rbf'},\n",
       " {'clf__C': 1000.0, 'clf__gamma': 1.0, 'clf__kernel': 'rbf'},\n",
       " {'clf__C': 1000.0, 'clf__gamma': 10.0, 'clf__kernel': 'rbf'},\n",
       " {'clf__C': 1000.0, 'clf__gamma': 100.0, 'clf__kernel': 'rbf'},\n",
       " {'clf__C': 1000.0, 'clf__gamma': 1000.0, 'clf__kernel': 'rbf'}]"
      ]
     },
     "execution_count": 14,
     "metadata": {},
     "output_type": "execute_result"
    }
   ],
   "source": [
    "gs.cv_results_[\"params\"]"
   ]
  },
  {
   "cell_type": "code",
   "execution_count": 15,
   "metadata": {},
   "outputs": [
    {
     "data": {
      "text/plain": [
       "72"
      ]
     },
     "execution_count": 15,
     "metadata": {},
     "output_type": "execute_result"
    }
   ],
   "source": [
    "len(gs.cv_results_['params'])"
   ]
  },
  {
   "cell_type": "code",
   "execution_count": 16,
   "metadata": {},
   "outputs": [
    {
     "data": {
      "text/plain": [
       "array([0.20868114, 0.91819699, 0.95269894, 0.95826377, 0.95826377,\n",
       "       0.95826377, 0.95826377, 0.95826377, 0.11908737, 0.12020033,\n",
       "       0.1213133 , 0.10350584, 0.10127991, 0.11185309, 0.10183639,\n",
       "       0.10127991, 0.11908737, 0.12020033, 0.1213133 , 0.10350584,\n",
       "       0.10127991, 0.11185309, 0.10183639, 0.10127991, 0.11908737,\n",
       "       0.12020033, 0.13967724, 0.10350584, 0.10127991, 0.11185309,\n",
       "       0.10183639, 0.10127991, 0.11908737, 0.68614357, 0.91207568,\n",
       "       0.40567613, 0.10127991, 0.11185309, 0.10183639, 0.10127991,\n",
       "       0.70339455, 0.93266555, 0.9638286 , 0.90984975, 0.11908737,\n",
       "       0.10127991, 0.10127991, 0.10127991, 0.934335  , 0.95659432,\n",
       "       0.97161937, 0.9115192 , 0.12966055, 0.10127991, 0.10127991,\n",
       "       0.10127991, 0.95548136, 0.96160267, 0.97161937, 0.9115192 ,\n",
       "       0.12966055, 0.10127991, 0.10127991, 0.10127991, 0.95993322,\n",
       "       0.96215915, 0.97161937, 0.9115192 , 0.12966055, 0.10127991,\n",
       "       0.10127991, 0.10127991])"
      ]
     },
     "execution_count": 16,
     "metadata": {},
     "output_type": "execute_result"
    }
   ],
   "source": [
    "gs.cv_results_[\"mean_test_score\"]"
   ]
  },
  {
   "cell_type": "code",
   "execution_count": 17,
   "metadata": {},
   "outputs": [
    {
     "data": {
      "text/plain": [
       "50"
      ]
     },
     "execution_count": 17,
     "metadata": {},
     "output_type": "execute_result"
    }
   ],
   "source": [
    "gs.cv_results_[\"mean_test_score\"].argmax()"
   ]
  },
  {
   "cell_type": "code",
   "execution_count": 18,
   "metadata": {},
   "outputs": [
    {
     "data": {
      "text/plain": [
       "{'clf__C': 10.0, 'clf__gamma': 0.01, 'clf__kernel': 'rbf'}"
      ]
     },
     "execution_count": 18,
     "metadata": {},
     "output_type": "execute_result"
    }
   ],
   "source": [
    "gs.cv_results_['params'][50]  # 가장 테스트 스코어가 높은 모형"
   ]
  },
  {
   "cell_type": "code",
   "execution_count": 19,
   "metadata": {},
   "outputs": [
    {
     "data": {
      "text/plain": [
       "0.9716193656093489"
      ]
     },
     "execution_count": 19,
     "metadata": {},
     "output_type": "execute_result"
    }
   ],
   "source": [
    "gs.best_score_"
   ]
  },
  {
   "cell_type": "code",
   "execution_count": 20,
   "metadata": {},
   "outputs": [
    {
     "data": {
      "text/plain": [
       "0.9716193656093489"
      ]
     },
     "execution_count": 20,
     "metadata": {},
     "output_type": "execute_result"
    }
   ],
   "source": [
    "gs.cv_results_[\"mean_test_score\"][50]"
   ]
  },
  {
   "cell_type": "code",
   "execution_count": 21,
   "metadata": {},
   "outputs": [
    {
     "data": {
      "text/plain": [
       "{'clf__C': 10.0, 'clf__gamma': 0.01, 'clf__kernel': 'rbf'}"
      ]
     },
     "execution_count": 21,
     "metadata": {},
     "output_type": "execute_result"
    }
   ],
   "source": [
    "gs.best_params_"
   ]
  },
  {
   "cell_type": "markdown",
   "metadata": {},
   "source": [
    "## ParameterGrid\n",
    "\n",
    "때로는 scikit-learn 이 제공하는 GridSearchCV 이외의 방법으로 그리드 탐색을 해야 하는 경우도 있다. \n",
    "#### 이 경우 파라미터를 조합하여 탐색 그리드를 생성해 주는 명령어가 ParameterGrid 이다. ParameterGrid 는 탐색을 위한 iterator 역할을 한다."
   ]
  },
  {
   "cell_type": "code",
   "execution_count": 22,
   "metadata": {},
   "outputs": [],
   "source": [
    "from sklearn.model_selection import ParameterGrid"
   ]
  },
  {
   "cell_type": "code",
   "execution_count": 23,
   "metadata": {},
   "outputs": [
    {
     "data": {
      "text/plain": [
       "[{'a': 1, 'b': True},\n",
       " {'a': 1, 'b': False},\n",
       " {'a': 2, 'b': True},\n",
       " {'a': 2, 'b': False}]"
      ]
     },
     "execution_count": 23,
     "metadata": {},
     "output_type": "execute_result"
    }
   ],
   "source": [
    "param_grid = {'a': [1, 2], 'b': [True, False]}\n",
    "list(ParameterGrid(param_grid))"
   ]
  },
  {
   "cell_type": "code",
   "execution_count": 24,
   "metadata": {},
   "outputs": [
    {
     "data": {
      "text/plain": [
       "[{'kernel': 'linear'},\n",
       " {'gamma': 1, 'kernel': 'rbf'},\n",
       " {'gamma': 10, 'kernel': 'rbf'}]"
      ]
     },
     "execution_count": 24,
     "metadata": {},
     "output_type": "execute_result"
    }
   ],
   "source": [
    "param_grid = [{'kernel': ['linear']}, {'kernel': ['rbf'], 'gamma': [1, 10]}]\n",
    "list(ParameterGrid(param_grid))"
   ]
  },
  {
   "cell_type": "markdown",
   "metadata": {},
   "source": [
    "## 병렬 처리\n",
    "\n",
    "#### GridSearchCV 명령에는 n_jobs 라는 인수가 있다. \n",
    "\n",
    "디폴트 값은 1인데 이 값을 증가시키면 내부적으로 멀티 프로세스를 사용하여 그리드서치를 수행한다. 만약 CPU 코어의 수가 충분하다면 n_jobs를 늘릴 수록 속도가 증가한다."
   ]
  },
  {
   "cell_type": "code",
   "execution_count": 25,
   "metadata": {},
   "outputs": [],
   "source": [
    "param_grid = {'gamma': np.logspace(-6, -1, 10)}\n",
    "gs1 = GridSearchCV(estimator=SVC(), param_grid=param_grid, scoring='accuracy', cv=5, n_jobs=1)\n",
    "gs2 = GridSearchCV(estimator=SVC(), param_grid=param_grid, scoring='accuracy', cv=5, n_jobs=2)"
   ]
  },
  {
   "cell_type": "code",
   "execution_count": 26,
   "metadata": {},
   "outputs": [
    {
     "name": "stdout",
     "output_type": "stream",
     "text": [
      "CPU times: user 14.4 s, sys: 104 ms, total: 14.5 s\n",
      "Wall time: 14.9 s\n"
     ]
    },
    {
     "data": {
      "text/plain": [
       "GridSearchCV(cv=5, error_score='raise-deprecating',\n",
       "             estimator=SVC(C=1.0, cache_size=200, class_weight=None, coef0=0.0,\n",
       "                           decision_function_shape='ovr', degree=3,\n",
       "                           gamma='auto_deprecated', kernel='rbf', max_iter=-1,\n",
       "                           probability=False, random_state=None, shrinking=True,\n",
       "                           tol=0.001, verbose=False),\n",
       "             iid='warn', n_jobs=1,\n",
       "             param_grid={'gamma': array([1.00000000e-06, 3.59381366e-06, 1.29154967e-05, 4.64158883e-05,\n",
       "       1.66810054e-04, 5.99484250e-04, 2.15443469e-03, 7.74263683e-03,\n",
       "       2.78255940e-02, 1.00000000e-01])},\n",
       "             pre_dispatch='2*n_jobs', refit=True, return_train_score=False,\n",
       "             scoring='accuracy', verbose=0)"
      ]
     },
     "execution_count": 26,
     "metadata": {},
     "output_type": "execute_result"
    }
   ],
   "source": [
    "%%time \n",
    "gs1.fit(X, y)"
   ]
  },
  {
   "cell_type": "code",
   "execution_count": 27,
   "metadata": {},
   "outputs": [
    {
     "name": "stdout",
     "output_type": "stream",
     "text": [
      "CPU times: user 370 ms, sys: 72.3 ms, total: 443 ms\n",
      "Wall time: 9.1 s\n"
     ]
    },
    {
     "data": {
      "text/plain": [
       "GridSearchCV(cv=5, error_score='raise-deprecating',\n",
       "             estimator=SVC(C=1.0, cache_size=200, class_weight=None, coef0=0.0,\n",
       "                           decision_function_shape='ovr', degree=3,\n",
       "                           gamma='auto_deprecated', kernel='rbf', max_iter=-1,\n",
       "                           probability=False, random_state=None, shrinking=True,\n",
       "                           tol=0.001, verbose=False),\n",
       "             iid='warn', n_jobs=2,\n",
       "             param_grid={'gamma': array([1.00000000e-06, 3.59381366e-06, 1.29154967e-05, 4.64158883e-05,\n",
       "       1.66810054e-04, 5.99484250e-04, 2.15443469e-03, 7.74263683e-03,\n",
       "       2.78255940e-02, 1.00000000e-01])},\n",
       "             pre_dispatch='2*n_jobs', refit=True, return_train_score=False,\n",
       "             scoring='accuracy', verbose=0)"
      ]
     },
     "execution_count": 27,
     "metadata": {},
     "output_type": "execute_result"
    }
   ],
   "source": [
    "%%time\n",
    "gs2.fit(X, y)"
   ]
  },
  {
   "cell_type": "code",
   "execution_count": null,
   "metadata": {},
   "outputs": [],
   "source": []
  }
 ],
 "metadata": {
  "kernelspec": {
   "display_name": "Python 3",
   "language": "python",
   "name": "python3"
  },
  "language_info": {
   "codemirror_mode": {
    "name": "ipython",
    "version": 3
   },
   "file_extension": ".py",
   "mimetype": "text/x-python",
   "name": "python",
   "nbconvert_exporter": "python",
   "pygments_lexer": "ipython3",
   "version": "3.7.3"
  }
 },
 "nbformat": 4,
 "nbformat_minor": 2
}
