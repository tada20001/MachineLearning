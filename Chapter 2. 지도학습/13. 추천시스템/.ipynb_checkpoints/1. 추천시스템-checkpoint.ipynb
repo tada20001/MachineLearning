{
 "cells": [
  {
   "cell_type": "markdown",
   "metadata": {},
   "source": [
    "추천 시스템(recommender system)이란 사용자(user)가 선호하는 상품(item)을 예측하는 시스템이다.\n",
    "\n",
    "Amazon과 같은 인터넷 쇼핑 사이트나 Netflix 등의 온라인 비디오 콘텐츠 제공 사이트는 사용자가 각각의 상품에 대해 평가한 평점(rate)을 가지고 있다. 이 기록을 기반으로 해서 사용자에게 어떤 상품을 추천할지 예측하게 된다."
   ]
  },
  {
   "cell_type": "markdown",
   "metadata": {},
   "source": [
    "## Surprise 패키지\n",
    "\n",
    "파이썬의 Surprise패키지는 다양한 추천 시스템 알고리즘을 제공한다."
   ]
  },
  {
   "cell_type": "code",
   "execution_count": 1,
   "metadata": {},
   "outputs": [],
   "source": [
    "import surprise"
   ]
  },
  {
   "cell_type": "markdown",
   "metadata": {},
   "source": [
    "## 평점 데이터\n",
    "\n",
    "surprise 패키지에서는 MovieLense라는 영화 추천 웹사이트의 데이터를 샘플 평점 데이터로 제공한다. MovieLense 데이터 중 10만개의 샘플 데이터세트는 다음과 같이 로드한다."
   ]
  },
  {
   "cell_type": "code",
   "execution_count": 3,
   "metadata": {},
   "outputs": [],
   "source": [
    "data = surprise.Dataset.load_builtin('ml-100k')"
   ]
  },
  {
   "cell_type": "markdown",
   "metadata": {},
   "source": [
    "이 데이터는 다음과 같이 데이터프레임으로 변환할 수 있다."
   ]
  },
  {
   "cell_type": "code",
   "execution_count": 5,
   "metadata": {},
   "outputs": [
    {
     "data": {
      "text/html": [
       "<div>\n",
       "<style scoped>\n",
       "    .dataframe tbody tr th:only-of-type {\n",
       "        vertical-align: middle;\n",
       "    }\n",
       "\n",
       "    .dataframe tbody tr th {\n",
       "        vertical-align: top;\n",
       "    }\n",
       "\n",
       "    .dataframe thead th {\n",
       "        text-align: right;\n",
       "    }\n",
       "</style>\n",
       "<table border=\"1\" class=\"dataframe\">\n",
       "  <thead>\n",
       "    <tr style=\"text-align: right;\">\n",
       "      <th></th>\n",
       "      <th>user</th>\n",
       "      <th>item</th>\n",
       "      <th>rate</th>\n",
       "    </tr>\n",
       "  </thead>\n",
       "  <tbody>\n",
       "    <tr>\n",
       "      <th>0</th>\n",
       "      <td>196</td>\n",
       "      <td>242</td>\n",
       "      <td>3.0</td>\n",
       "    </tr>\n",
       "    <tr>\n",
       "      <th>1</th>\n",
       "      <td>186</td>\n",
       "      <td>302</td>\n",
       "      <td>3.0</td>\n",
       "    </tr>\n",
       "    <tr>\n",
       "      <th>2</th>\n",
       "      <td>22</td>\n",
       "      <td>377</td>\n",
       "      <td>1.0</td>\n",
       "    </tr>\n",
       "    <tr>\n",
       "      <th>3</th>\n",
       "      <td>244</td>\n",
       "      <td>51</td>\n",
       "      <td>2.0</td>\n",
       "    </tr>\n",
       "    <tr>\n",
       "      <th>4</th>\n",
       "      <td>166</td>\n",
       "      <td>346</td>\n",
       "      <td>1.0</td>\n",
       "    </tr>\n",
       "    <tr>\n",
       "      <th>5</th>\n",
       "      <td>298</td>\n",
       "      <td>474</td>\n",
       "      <td>4.0</td>\n",
       "    </tr>\n",
       "    <tr>\n",
       "      <th>6</th>\n",
       "      <td>115</td>\n",
       "      <td>265</td>\n",
       "      <td>2.0</td>\n",
       "    </tr>\n",
       "    <tr>\n",
       "      <th>7</th>\n",
       "      <td>253</td>\n",
       "      <td>465</td>\n",
       "      <td>5.0</td>\n",
       "    </tr>\n",
       "    <tr>\n",
       "      <th>8</th>\n",
       "      <td>305</td>\n",
       "      <td>451</td>\n",
       "      <td>3.0</td>\n",
       "    </tr>\n",
       "    <tr>\n",
       "      <th>9</th>\n",
       "      <td>6</td>\n",
       "      <td>86</td>\n",
       "      <td>3.0</td>\n",
       "    </tr>\n",
       "  </tbody>\n",
       "</table>\n",
       "</div>"
      ],
      "text/plain": [
       "  user item  rate\n",
       "0  196  242   3.0\n",
       "1  186  302   3.0\n",
       "2   22  377   1.0\n",
       "3  244   51   2.0\n",
       "4  166  346   1.0\n",
       "5  298  474   4.0\n",
       "6  115  265   2.0\n",
       "7  253  465   5.0\n",
       "8  305  451   3.0\n",
       "9    6   86   3.0"
      ]
     },
     "execution_count": 5,
     "metadata": {},
     "output_type": "execute_result"
    }
   ],
   "source": [
    "import pandas as pd\n",
    "\n",
    "df = pd.DataFrame(data.raw_ratings, columns=[\"user\", \"item\", \"rate\", \"id\"])\n",
    "del df[\"id\"]\n",
    "df.head(10)"
   ]
  },
  {
   "cell_type": "markdown",
   "metadata": {},
   "source": [
    "여기에서 user 열은 사용자 아이디, item 열은 상품 아이디, rate 열은 평점이다. 즉, 196번 사용자는 242번 영화에 대해 평점 3점을 주었음을 알 수 있다."
   ]
  },
  {
   "cell_type": "markdown",
   "metadata": {},
   "source": [
    "이 데이터프레임에서 볼 수 있듯이\n",
    "\n",
    "#### 추천 시스템은 사용자 아이디와 상품 아이디라는 두 개의 카테고리 입력과 평점 출력을 가지는 예측 시스템\n",
    "\n",
    "이다.\n",
    "\n",
    "이 데이터를 다음과 같이 피봇테이블(pivot table) 형태로 만들면 x축이 상품, y축이 사용자 아이디인 평점 행렬(rate matrix)  𝑅  이 된다.\n",
    "\n",
    "평점 행렬  𝑅 의 행은 특정 사용자의 평점이고 평점 행렬  𝑅 의 열은 특정 상품의 평점이다."
   ]
  },
  {
   "cell_type": "code",
   "execution_count": 11,
   "metadata": {},
   "outputs": [],
   "source": [
    "df_table = df.set_index([\"user\", \"item\"]).unstack()"
   ]
  },
  {
   "cell_type": "code",
   "execution_count": 20,
   "metadata": {},
   "outputs": [
    {
     "data": {
      "text/plain": [
       "(943, 1682)"
      ]
     },
     "execution_count": 20,
     "metadata": {},
     "output_type": "execute_result"
    }
   ],
   "source": [
    "df_table.shape "
   ]
  },
  {
   "cell_type": "code",
   "execution_count": 21,
   "metadata": {},
   "outputs": [
    {
     "data": {
      "text/html": [
       "<div>\n",
       "<style scoped>\n",
       "    .dataframe tbody tr th:only-of-type {\n",
       "        vertical-align: middle;\n",
       "    }\n",
       "\n",
       "    .dataframe tbody tr th {\n",
       "        vertical-align: top;\n",
       "    }\n",
       "\n",
       "    .dataframe thead tr th {\n",
       "        text-align: left;\n",
       "    }\n",
       "\n",
       "    .dataframe thead tr:last-of-type th {\n",
       "        text-align: right;\n",
       "    }\n",
       "</style>\n",
       "<table border=\"1\" class=\"dataframe\">\n",
       "  <thead>\n",
       "    <tr>\n",
       "      <th></th>\n",
       "      <th colspan=\"21\" halign=\"left\">rate</th>\n",
       "    </tr>\n",
       "    <tr>\n",
       "      <th>item</th>\n",
       "      <th>1</th>\n",
       "      <th>10</th>\n",
       "      <th>100</th>\n",
       "      <th>1000</th>\n",
       "      <th>1001</th>\n",
       "      <th>1002</th>\n",
       "      <th>1003</th>\n",
       "      <th>1004</th>\n",
       "      <th>1005</th>\n",
       "      <th>1006</th>\n",
       "      <th>...</th>\n",
       "      <th>990</th>\n",
       "      <th>991</th>\n",
       "      <th>992</th>\n",
       "      <th>993</th>\n",
       "      <th>994</th>\n",
       "      <th>995</th>\n",
       "      <th>996</th>\n",
       "      <th>997</th>\n",
       "      <th>998</th>\n",
       "      <th>999</th>\n",
       "    </tr>\n",
       "    <tr>\n",
       "      <th>user</th>\n",
       "      <th></th>\n",
       "      <th></th>\n",
       "      <th></th>\n",
       "      <th></th>\n",
       "      <th></th>\n",
       "      <th></th>\n",
       "      <th></th>\n",
       "      <th></th>\n",
       "      <th></th>\n",
       "      <th></th>\n",
       "      <th></th>\n",
       "      <th></th>\n",
       "      <th></th>\n",
       "      <th></th>\n",
       "      <th></th>\n",
       "      <th></th>\n",
       "      <th></th>\n",
       "      <th></th>\n",
       "      <th></th>\n",
       "      <th></th>\n",
       "      <th></th>\n",
       "    </tr>\n",
       "  </thead>\n",
       "  <tbody>\n",
       "    <tr>\n",
       "      <th>1</th>\n",
       "      <td>5.0</td>\n",
       "      <td>3.0</td>\n",
       "      <td>5.0</td>\n",
       "      <td>NaN</td>\n",
       "      <td>NaN</td>\n",
       "      <td>NaN</td>\n",
       "      <td>NaN</td>\n",
       "      <td>NaN</td>\n",
       "      <td>NaN</td>\n",
       "      <td>NaN</td>\n",
       "      <td>...</td>\n",
       "      <td>NaN</td>\n",
       "      <td>NaN</td>\n",
       "      <td>NaN</td>\n",
       "      <td>NaN</td>\n",
       "      <td>NaN</td>\n",
       "      <td>NaN</td>\n",
       "      <td>NaN</td>\n",
       "      <td>NaN</td>\n",
       "      <td>NaN</td>\n",
       "      <td>NaN</td>\n",
       "    </tr>\n",
       "    <tr>\n",
       "      <th>10</th>\n",
       "      <td>4.0</td>\n",
       "      <td>NaN</td>\n",
       "      <td>5.0</td>\n",
       "      <td>NaN</td>\n",
       "      <td>NaN</td>\n",
       "      <td>NaN</td>\n",
       "      <td>NaN</td>\n",
       "      <td>NaN</td>\n",
       "      <td>NaN</td>\n",
       "      <td>NaN</td>\n",
       "      <td>...</td>\n",
       "      <td>NaN</td>\n",
       "      <td>NaN</td>\n",
       "      <td>NaN</td>\n",
       "      <td>NaN</td>\n",
       "      <td>NaN</td>\n",
       "      <td>NaN</td>\n",
       "      <td>NaN</td>\n",
       "      <td>NaN</td>\n",
       "      <td>NaN</td>\n",
       "      <td>NaN</td>\n",
       "    </tr>\n",
       "    <tr>\n",
       "      <th>100</th>\n",
       "      <td>NaN</td>\n",
       "      <td>NaN</td>\n",
       "      <td>NaN</td>\n",
       "      <td>NaN</td>\n",
       "      <td>NaN</td>\n",
       "      <td>NaN</td>\n",
       "      <td>NaN</td>\n",
       "      <td>NaN</td>\n",
       "      <td>NaN</td>\n",
       "      <td>NaN</td>\n",
       "      <td>...</td>\n",
       "      <td>3.0</td>\n",
       "      <td>NaN</td>\n",
       "      <td>NaN</td>\n",
       "      <td>NaN</td>\n",
       "      <td>NaN</td>\n",
       "      <td>NaN</td>\n",
       "      <td>NaN</td>\n",
       "      <td>NaN</td>\n",
       "      <td>NaN</td>\n",
       "      <td>NaN</td>\n",
       "    </tr>\n",
       "    <tr>\n",
       "      <th>101</th>\n",
       "      <td>3.0</td>\n",
       "      <td>NaN</td>\n",
       "      <td>NaN</td>\n",
       "      <td>NaN</td>\n",
       "      <td>NaN</td>\n",
       "      <td>NaN</td>\n",
       "      <td>NaN</td>\n",
       "      <td>NaN</td>\n",
       "      <td>NaN</td>\n",
       "      <td>NaN</td>\n",
       "      <td>...</td>\n",
       "      <td>NaN</td>\n",
       "      <td>NaN</td>\n",
       "      <td>NaN</td>\n",
       "      <td>NaN</td>\n",
       "      <td>NaN</td>\n",
       "      <td>NaN</td>\n",
       "      <td>NaN</td>\n",
       "      <td>NaN</td>\n",
       "      <td>NaN</td>\n",
       "      <td>NaN</td>\n",
       "    </tr>\n",
       "    <tr>\n",
       "      <th>102</th>\n",
       "      <td>3.0</td>\n",
       "      <td>NaN</td>\n",
       "      <td>NaN</td>\n",
       "      <td>NaN</td>\n",
       "      <td>NaN</td>\n",
       "      <td>NaN</td>\n",
       "      <td>NaN</td>\n",
       "      <td>NaN</td>\n",
       "      <td>NaN</td>\n",
       "      <td>NaN</td>\n",
       "      <td>...</td>\n",
       "      <td>NaN</td>\n",
       "      <td>NaN</td>\n",
       "      <td>NaN</td>\n",
       "      <td>2.0</td>\n",
       "      <td>NaN</td>\n",
       "      <td>NaN</td>\n",
       "      <td>NaN</td>\n",
       "      <td>NaN</td>\n",
       "      <td>NaN</td>\n",
       "      <td>NaN</td>\n",
       "    </tr>\n",
       "  </tbody>\n",
       "</table>\n",
       "<p>5 rows × 1682 columns</p>\n",
       "</div>"
      ],
      "text/plain": [
       "     rate                                               ...                    \\\n",
       "item    1   10  100 1000 1001 1002 1003 1004 1005 1006  ...  990 991 992  993   \n",
       "user                                                    ...                     \n",
       "1     5.0  3.0  5.0  NaN  NaN  NaN  NaN  NaN  NaN  NaN  ...  NaN NaN NaN  NaN   \n",
       "10    4.0  NaN  5.0  NaN  NaN  NaN  NaN  NaN  NaN  NaN  ...  NaN NaN NaN  NaN   \n",
       "100   NaN  NaN  NaN  NaN  NaN  NaN  NaN  NaN  NaN  NaN  ...  3.0 NaN NaN  NaN   \n",
       "101   3.0  NaN  NaN  NaN  NaN  NaN  NaN  NaN  NaN  NaN  ...  NaN NaN NaN  NaN   \n",
       "102   3.0  NaN  NaN  NaN  NaN  NaN  NaN  NaN  NaN  NaN  ...  NaN NaN NaN  2.0   \n",
       "\n",
       "                              \n",
       "item 994 995 996 997 998 999  \n",
       "user                          \n",
       "1    NaN NaN NaN NaN NaN NaN  \n",
       "10   NaN NaN NaN NaN NaN NaN  \n",
       "100  NaN NaN NaN NaN NaN NaN  \n",
       "101  NaN NaN NaN NaN NaN NaN  \n",
       "102  NaN NaN NaN NaN NaN NaN  \n",
       "\n",
       "[5 rows x 1682 columns]"
      ]
     },
     "execution_count": 21,
     "metadata": {},
     "output_type": "execute_result"
    }
   ],
   "source": [
    "df_table.head()"
   ]
  },
  {
   "cell_type": "markdown",
   "metadata": {},
   "source": [
    "유저 943, item 1682"
   ]
  },
  {
   "cell_type": "code",
   "execution_count": 23,
   "metadata": {},
   "outputs": [
    {
     "data": {
      "text/plain": [
       "(943,)"
      ]
     },
     "execution_count": 23,
     "metadata": {},
     "output_type": "execute_result"
    }
   ],
   "source": [
    "df[\"user\"].unique().shape"
   ]
  },
  {
   "cell_type": "markdown",
   "metadata": {},
   "source": [
    "이 평점 행렬의 일부만 살펴보면 다음과 같이 평점 데이터가 일부 위치에만 존재하는 sparse 행렬임을 알 수 있다."
   ]
  },
  {
   "cell_type": "code",
   "execution_count": 24,
   "metadata": {},
   "outputs": [
    {
     "data": {
      "text/html": [
       "<div>\n",
       "<style scoped>\n",
       "    .dataframe tbody tr th:only-of-type {\n",
       "        vertical-align: middle;\n",
       "    }\n",
       "\n",
       "    .dataframe tbody tr th {\n",
       "        vertical-align: top;\n",
       "    }\n",
       "\n",
       "    .dataframe thead tr th {\n",
       "        text-align: left;\n",
       "    }\n",
       "\n",
       "    .dataframe thead tr:last-of-type th {\n",
       "        text-align: right;\n",
       "    }\n",
       "</style>\n",
       "<table border=\"1\" class=\"dataframe\">\n",
       "  <thead>\n",
       "    <tr>\n",
       "      <th></th>\n",
       "      <th colspan=\"9\" halign=\"left\">rate</th>\n",
       "    </tr>\n",
       "    <tr>\n",
       "      <th>item</th>\n",
       "      <th>211</th>\n",
       "      <th>212</th>\n",
       "      <th>213</th>\n",
       "      <th>214</th>\n",
       "      <th>215</th>\n",
       "      <th>216</th>\n",
       "      <th>217</th>\n",
       "      <th>218</th>\n",
       "      <th>219</th>\n",
       "    </tr>\n",
       "    <tr>\n",
       "      <th>user</th>\n",
       "      <th></th>\n",
       "      <th></th>\n",
       "      <th></th>\n",
       "      <th></th>\n",
       "      <th></th>\n",
       "      <th></th>\n",
       "      <th></th>\n",
       "      <th></th>\n",
       "      <th></th>\n",
       "    </tr>\n",
       "  </thead>\n",
       "  <tbody>\n",
       "    <tr>\n",
       "      <th>290</th>\n",
       "      <td>3</td>\n",
       "      <td></td>\n",
       "      <td></td>\n",
       "      <td></td>\n",
       "      <td></td>\n",
       "      <td>4</td>\n",
       "      <td></td>\n",
       "      <td>2</td>\n",
       "      <td></td>\n",
       "    </tr>\n",
       "    <tr>\n",
       "      <th>291</th>\n",
       "      <td></td>\n",
       "      <td>4</td>\n",
       "      <td></td>\n",
       "      <td>4</td>\n",
       "      <td>4</td>\n",
       "      <td></td>\n",
       "      <td></td>\n",
       "      <td>4</td>\n",
       "      <td>4</td>\n",
       "    </tr>\n",
       "    <tr>\n",
       "      <th>292</th>\n",
       "      <td></td>\n",
       "      <td></td>\n",
       "      <td></td>\n",
       "      <td>3</td>\n",
       "      <td></td>\n",
       "      <td></td>\n",
       "      <td></td>\n",
       "      <td></td>\n",
       "      <td></td>\n",
       "    </tr>\n",
       "    <tr>\n",
       "      <th>293</th>\n",
       "      <td>4</td>\n",
       "      <td></td>\n",
       "      <td>3</td>\n",
       "      <td></td>\n",
       "      <td>4</td>\n",
       "      <td>4</td>\n",
       "      <td>3</td>\n",
       "      <td>2</td>\n",
       "      <td></td>\n",
       "    </tr>\n",
       "    <tr>\n",
       "      <th>294</th>\n",
       "      <td></td>\n",
       "      <td></td>\n",
       "      <td></td>\n",
       "      <td></td>\n",
       "      <td></td>\n",
       "      <td></td>\n",
       "      <td></td>\n",
       "      <td></td>\n",
       "      <td></td>\n",
       "    </tr>\n",
       "    <tr>\n",
       "      <th>295</th>\n",
       "      <td></td>\n",
       "      <td></td>\n",
       "      <td>5</td>\n",
       "      <td></td>\n",
       "      <td>5</td>\n",
       "      <td>5</td>\n",
       "      <td>4</td>\n",
       "      <td>5</td>\n",
       "      <td></td>\n",
       "    </tr>\n",
       "    <tr>\n",
       "      <th>296</th>\n",
       "      <td>4</td>\n",
       "      <td></td>\n",
       "      <td></td>\n",
       "      <td></td>\n",
       "      <td></td>\n",
       "      <td></td>\n",
       "      <td></td>\n",
       "      <td></td>\n",
       "      <td></td>\n",
       "    </tr>\n",
       "    <tr>\n",
       "      <th>297</th>\n",
       "      <td>4</td>\n",
       "      <td></td>\n",
       "      <td>3</td>\n",
       "      <td></td>\n",
       "      <td>2</td>\n",
       "      <td>4</td>\n",
       "      <td></td>\n",
       "      <td>3</td>\n",
       "      <td></td>\n",
       "    </tr>\n",
       "    <tr>\n",
       "      <th>298</th>\n",
       "      <td>5</td>\n",
       "      <td></td>\n",
       "      <td>3</td>\n",
       "      <td></td>\n",
       "      <td>5</td>\n",
       "      <td></td>\n",
       "      <td></td>\n",
       "      <td></td>\n",
       "      <td></td>\n",
       "    </tr>\n",
       "    <tr>\n",
       "      <th>299</th>\n",
       "      <td>4</td>\n",
       "      <td>4</td>\n",
       "      <td>5</td>\n",
       "      <td></td>\n",
       "      <td></td>\n",
       "      <td>5</td>\n",
       "      <td></td>\n",
       "      <td></td>\n",
       "      <td></td>\n",
       "    </tr>\n",
       "  </tbody>\n",
       "</table>\n",
       "</div>"
      ],
      "text/plain": [
       "     rate                                \n",
       "item  211 212 213 214 215 216 217 218 219\n",
       "user                                     \n",
       "290     3                   4       2    \n",
       "291         4       4   4           4   4\n",
       "292                 3                    \n",
       "293     4       3       4   4   3   2    \n",
       "294                                      \n",
       "295             5       5   5   4   5    \n",
       "296     4                                \n",
       "297     4       3       2   4       3    \n",
       "298     5       3       5                \n",
       "299     4   4   5           5            "
      ]
     },
     "execution_count": 24,
     "metadata": {},
     "output_type": "execute_result"
    }
   ],
   "source": [
    "df_table.iloc[212:222, 808:817].fillna(\"\")"
   ]
  },
  {
   "cell_type": "markdown",
   "metadata": {},
   "source": [
    "평점 행렬의 빈칸을 흰색, 점수를 검은색으로 시각화 하면 다음과 같다."
   ]
  },
  {
   "cell_type": "code",
   "execution_count": 25,
   "metadata": {},
   "outputs": [],
   "source": [
    "import warnings\n",
    "warnings.filterwarnings(action='ignore')\n",
    "\n",
    "import matplotlib.pylab as plt\n",
    "import matplotlib as mpl\n",
    "import matplotlib.font_manager as fm\n",
    "import seaborn as sns\n",
    "import numpy as np\n",
    "\n",
    "sns.set_style(\"whitegrid\")\n",
    "mpl.rcParams['axes.unicode_minus'] = False\n",
    "plt.rcParams['font.size'] = 12\n",
    "\n",
    "path = \"/Library/Fonts/NanumGothic.otf\"\n",
    "font_name = fm.FontProperties(fname=path, size=20).get_name()\n",
    "\n",
    "plt.rc('font', family=font_name)"
   ]
  },
  {
   "cell_type": "code",
   "execution_count": 28,
   "metadata": {},
   "outputs": [
    {
     "data": {
      "image/png": "[encoded data removed]",
      "text/plain": [
       "<Figure size 720x720 with 1 Axes>"
      ]
     },
     "metadata": {
      "needs_background": "light"
     },
     "output_type": "display_data"
    }
   ],
   "source": [
    "plt.figure(figsize=(10, 10))\n",
    "plt.imshow(df_table)\n",
    "plt.grid(False)\n",
    "plt.xlabel(\"item\")\n",
    "plt.ylabel(\"user\")\n",
    "plt.title(\"Rate Matrix\")\n",
    "plt.show()"
   ]
  },
  {
   "cell_type": "markdown",
   "metadata": {},
   "source": [
    "## 추천 시스템 알고리즘\n",
    "\n",
    "#### 추천 시스템은 두 개의 카테고리 값 입력에서 하나의 실수 값 출력을 예측하는 회귀 모형이지만 여러가지 방법으로 예측 성능을 향상시키고 있다. \n",
    "\n",
    "추천 시스템에서 사용되는 알고리즘은 다음과 같다.\n",
    "\n",
    "(1) 베이스라인 모형\n",
    "\n",
    "(2) Collaborative Filtering\n",
    "\n",
    "    2-1. Neighborhood Models\n",
    "        \n",
    "        User-based CF\n",
    "\n",
    "        Item-based CF\n",
    "\n",
    "    2-2. Latent Factor Models\n",
    "\n",
    "        Matrix Factorization\n",
    "        \n",
    "        SVD\n",
    "\n",
    "(3) Content-Based Recommendation"
   ]
  },
  {
   "cell_type": "markdown",
   "metadata": {},
   "source": [
    "## 베이스라인 모형\n",
    "\n",
    "베이스라인 모형(baseline model)은 사용자 아이디  𝑢 , 상품 아이디  𝑖 , 두 개의 카테고리 값 입력에서 평점  𝑟(𝑢,𝑖) 의 예측치  𝑟̂ (𝑢,𝑖)  을 예측하는 가장 단순한 회귀분석모형으로 다음과 같이 \n",
    "\n",
    "#### 사용자와 상품 특성에 의한 평균 평점의 합으로 나타난다.\n",
    "\n",
    "$$\\hat{r}(u,i) = \\mu + b(u) + b(i)$$\n",
    "\n",
    "이 식에서  𝜇 는 전체 평점의 평균이고,  𝑏(𝑢) 는 동일한 사용자에 의한 평점 조정값,  𝑏(𝑖) 는 동일한 상품에 대한 평점 조정값이다.\n",
    "\n",
    "베이스라인 모형은 다음 오차 함수를 최소화하도록 구해진다.\n",
    "\n",
    "$$\\sum_{u,i \\in R_{train}} \\left(r(u,i) - \\hat{r}(u,i))\\right)^2$$\n",
    "\n",
    "여기에서  𝑅𝑡𝑟𝑎𝑖𝑛 는 실제 평점이 존재하는 학습용 데이터 집합이다.\n",
    "\n",
    "과최적화를 피하기 위해 다음과 같이 정규화 항을 추가할 수 있다.\n",
    "\n",
    "$$\\sum_{u,i \\in R_{train}} \\left(r(u,i) - \\hat{r}(u,i))\\right)^2 + \\lambda \\left(b(u)^2 + b(i)^2 \\right)$$"
   ]
  },
  {
   "cell_type": "markdown",
   "metadata": {},
   "source": [
    "surprise 패키지는 오차 함수를 최소화하기 위해 다음과 같은 두 가지 최적화 알고리즘을 제공한다. 알고리즘의 선택은 method 인수를 사용한다. 최적화 알고리즘에 따라 나머지 최적화 인수가 달라진다.\n",
    "\n",
    "+ SGD (Stochastic Gradient Descent)의 인수\n",
    "    + reg: 정규화 가중치. 디폴트는 0.02.\n",
    "    + learning_rate: 최적화 스텝 사이즈. 디폴트는 0.005.\n",
    "    + n_epochs: 최적화 반복 횟수. 디폴트는 20.\n",
    "+ ALS (Alternating Least Squares)의 인수\n",
    "    + reg_i: 상품에 대한 정규화 가중치. 디폴트는 10.\n",
    "    + reg_u: 사용자에 대한 정규화 가중치. 디폴트는 15.\n",
    "    + n_epochs: 최적화 반복 횟수. 디폴트는 10."
   ]
  },
  {
   "cell_type": "markdown",
   "metadata": {},
   "source": [
    "### 1. 모형 사용법\n",
    "\n",
    "베이스라인 모형을 비롯한 surprise 패키지 모형을 사용하기 위해서는 다음과 같은 순서를 거친다.\n",
    "\n",
    "(1) 데이터세트의 split, folds 메소드를 사용하여 K-Fold 트레이닝 데이터셋과 테스트 데이터셋을 만든다.\n",
    "\n",
    "(2) 모형 알고리즘 객체를 생성한다.\n",
    "\n",
    "(3) 모형 알고리즘 객체의 train 메서드와 트레이닝 데이터셋으로 모수를 추정한 후, test 메서드로 테스트 데이터셋에 대한 예측을 실시한다.\n",
    "\n",
    "(4) accuracy 서브패키지의 성능평가 함수를 사용하여 예측 성능을 계산한다.\n",
    "\n",
    "이 과정은 evaluate 명령으로 단축할 수도 있다.\n",
    "\n",
    "surprise 패키지는 베이스라인 모형을 위한 BaselineOnly 클래스를 제공한다.\n",
    "\n",
    "우선 베이스라인 모형으로 다음과 같이 MovieLens 데이터를 처리해 보자. FCP(Fraction of Concordant Pairs)로 계산한 평가 점수는 약 0.70점이다.\n",
    "\n",
    "### 2. 추천성능 평가기준\n",
    "\n",
    "accuracy 서브패키지에서는 다음과 같은 추천성능 평가기준을 제공한다. 이 식에서  𝑅̂  은 테스트 데이터셋을 뜻한다.\n",
    "\n",
    "+ RMSE (Root Mean Squared Error)\n",
    "\n",
    "$$\\text{RMSE} = \\sqrt{\\frac{1}{|\\hat{R}|} \\sum_{\\hat{r}(u,i) \\in \\hat{R}}(r(u,i) - \\hat{r}(u,i))^2}$$"
   ]
  },
  {
   "cell_type": "markdown",
   "metadata": {},
   "source": [
    "+ MAE (Mean Absolute Error)\n",
    "\n",
    "$$\\text{MAE} = \\dfrac{1}{|\\hat{R}|} \\sum_{\\hat{r}(u,i) \\in \\hat{R}}|r(u,i) - \\hat{r}(u,i)|$$\n",
    "\n",
    "+ FCP (Fraction of Concordant Pairs)\n",
    "\n",
    "$$\\text{FCP} = \\dfrac{\\text{number of concordant pairs}}{\\text{number of discordant pairs}}$$\n",
    "\n",
    "회귀 분석에서  𝑖 번째 데이터와  𝑗 번째 데이터에 대해 실제 데이터  𝑦𝑖,𝑦𝑗 와 예측 데이터  𝑦̂ 𝑖,𝑦̂ 𝑗 사이의 증가 방향이 같으면 condordant pair라고 한다.\n",
    "\n",
    "$$\\text{sign}(y_i - y_j) = \\text{sign}(\\hat{y}_i - \\hat{y}_j)$$"
   ]
  },
  {
   "cell_type": "code",
   "execution_count": 30,
   "metadata": {},
   "outputs": [
    {
     "name": "stdout",
     "output_type": "stream",
     "text": [
      "Estimating biases using als...\n",
      "RMSE: 0.9453\n",
      "Estimating biases using als...\n",
      "RMSE: 0.9377\n",
      "Estimating biases using als...\n",
      "RMSE: 0.9500\n"
     ]
    },
    {
     "data": {
      "text/plain": [
       "0.9443304984013942"
      ]
     },
     "execution_count": 30,
     "metadata": {},
     "output_type": "execute_result"
    }
   ],
   "source": [
    "from surprise.model_selection import KFold\n",
    "\n",
    "bsl_options = {\n",
    "    'method': 'als',  # ALS(Alternating Least Squares)\n",
    "    'n_epochs': 5,  # 최적화 반복 횟수 디폴트는 10\n",
    "    'reg_u': 12,    # 사용자에 대한 정규화 가중치. 디폴트 15\n",
    "    'reg_i': 5,     # 상품에 대한 정규화 가중치. 디폴트 10\n",
    "}\n",
    "\n",
    "algo = surprise.BaselineOnly(bsl_options)\n",
    "\n",
    "np.random.seed(0)\n",
    "acc = np.zeros(3)\n",
    "cv = KFold(3)\n",
    "\n",
    "for i, (trainset, testset) in enumerate(cv.split(data)):  # 1. trainset, testset을 3개 만듦\n",
    "    algo.fit(trainset)   # 2. 트레이닝\n",
    "    predictions = algo.test(testset)  # 3. 각 테스트 데이터셋으로 예측\n",
    "    acc[i] = surprise.accuracy.rmse(predictions, verbose=True) # Root Mean Squared Error(오차크기 측정방법)  4. 정확도 측정\n",
    "    \n",
    "acc.mean()"
   ]
  },
  {
   "cell_type": "markdown",
   "metadata": {},
   "source": [
    "정확도는 0.94"
   ]
  },
  {
   "cell_type": "markdown",
   "metadata": {},
   "source": [
    "cross_validate 명령을 사용하면 위 코드를 다음과 같이 단축할 수 있다."
   ]
  },
  {
   "cell_type": "code",
   "execution_count": 31,
   "metadata": {},
   "outputs": [
    {
     "name": "stdout",
     "output_type": "stream",
     "text": [
      "Estimating biases using als...\n",
      "Estimating biases using als...\n",
      "Estimating biases using als...\n",
      "Estimating biases using als...\n",
      "Estimating biases using als...\n"
     ]
    },
    {
     "data": {
      "text/plain": [
       "{'test_rmse': array([0.9384446 , 0.94651657, 0.93612815, 0.94221861, 0.94428787]),\n",
       " 'test_mae': array([0.74477853, 0.75124267, 0.73975393, 0.745764  , 0.74659098]),\n",
       " 'fit_time': (0.148040771484375,\n",
       "  0.40060997009277344,\n",
       "  0.2580249309539795,\n",
       "  0.1765890121459961,\n",
       "  0.16548585891723633),\n",
       " 'test_time': (0.22562408447265625,\n",
       "  0.47998785972595215,\n",
       "  0.16492581367492676,\n",
       "  0.13782310485839844,\n",
       "  0.12791895866394043)}"
      ]
     },
     "execution_count": 31,
     "metadata": {},
     "output_type": "execute_result"
    }
   ],
   "source": [
    "from surprise.model_selection import cross_validate\n",
    "\n",
    "cross_validate(algo, data)"
   ]
  },
  {
   "cell_type": "markdown",
   "metadata": {},
   "source": [
    "MAE (Mean Absolute Error)의 측정값은 RMSE 보다 작은 것으로 나타난다. "
   ]
  },
  {
   "cell_type": "markdown",
   "metadata": {},
   "source": [
    "## Collaborative Filter\n",
    "\n",
    "CF(Collaborative Filter) 방법은 모든 사용자의 데이터를 균일하게 사용하는 것이 아니라, \n",
    "\n",
    "#### 평점 행렬이 가진 특정한 패턴을 찾아서 이를 평점 예측에 사용하는 방법이다. \n",
    "\n",
    "CF 방법도 \n",
    "\n",
    "(1) 사용자나 상품 기준으로 평점의 유사성을 살피는 Neighborhood 모형과 \n",
    "\n",
    "(2) 행렬의 수치적 특징을 이용하는 Latent Factor 모형\n",
    "\n",
    "이 있다."
   ]
  },
  {
   "cell_type": "markdown",
   "metadata": {},
   "source": [
    "### 1. Neighborhood 모형\n",
    "\n",
    "Neighborhood 모형은 Memory-based CF라고도 한다. \n",
    "\n",
    "#### 이 방법은 특정 사용자의 평점을 예측하기 위해 사용하는 것이 아니라 해당 사용자와 유사한(similar) 사용자에 대해 가중치를 준다.\n",
    "\n",
    "특히 해당 사용자와 유사한 사용자를 찾는 방법 \n",
    "#### (사용자특성 기준) 즉, 평점 행렬에서 유사한 사용자 행 벡터를 찾아서 이를 기반으로 빈 데이터를 계산하는 방법을 사용자 기반 (User-based) CF라고 한다.\n",
    "\n",
    "이와 달리 특정한 상품에 대해 사용자가 준 점수 즉, \n",
    "#### (상품특성 기준) 평점 행렬의 상품 열 벡터의 유사성을 찾고 특정 상품과 유사한 평점 정보를 가지는 상품들로 해당 상품의 빈 데이터를 예측하는 방법을 상품 기반 (Item-based) CF라고 한다."
   ]
  },
  {
   "cell_type": "markdown",
   "metadata": {},
   "source": [
    "### 유사도 계산\n",
    "\n",
    "사용자 특성 벡터(평점 행렬의 행 벡터)이나 상품 특성 벡터(평점 행렬의 열 벡터)의 유사도(similarity)을 비교하기 위한 기준도 여러가지가 있을 수 있다.\n",
    "\n",
    "surprise 패키지에서는 다음과 같은 유사도 기준을 제공한다.\n",
    "\n",
    "+ 평균제곱차이 유사도 (Mean Squared Difference Similarity)\n",
    "+ 코사인 유사도 (Cosine Similarity)\n",
    "+ 피어슨 유사도 (Pearson Similarity)\n",
    "+ 피어슨-베이스라인 유사도 (Pearson-Baseline Similarity)"
   ]
  },
  {
   "cell_type": "markdown",
   "metadata": {},
   "source": [
    "### 1-1 평균제곱차이 유사도\n",
    "\n",
    "#### 평균제곱차이(Mean Squared Difference, MSD)유사도는 유클리드 공간에서의 거리 제곱에 비례하는 값이다. \n",
    "\n",
    "일단 다음과 같이 msd값을 구하고 그 역수로 유사도를 정의한다. msd값이 0이 되는 경우를 대비하여 1을 더해 준다.\n",
    "\n",
    "$$\\begin{split}\\text{msd_sim}(u, v) &= \\frac{1}{\\text{msd}(u, v) + 1}\\\\\n",
    "\\text{msd_sim}(i, j) &= \\frac{1}{\\text{msd}(i, j) + 1}\\end{split}$$\n",
    "\n",
    "+ 사용자  𝑢 와 사용자  𝑣 간의 msd\n",
    "\n",
    "$$\\text{msd}(u, v) = \\frac{1}{|I_{uv}|} \\cdot \\sum\\limits_{i \\in I_{uv}} (r(u,i) - r_(v,i))^2$$\n",
    "\n",
    "위 식에서  𝐼𝑢𝑣 는 사용자  𝑢 와 사용자  𝑣  모두에 의해 평가된 상품의 집합이고  |𝐼𝑢𝑣| 는 사용자  𝑢 와 사용자  𝑣  모두에 의해 평가된 상품의 수\n",
    "\n",
    "+ 상품  𝑖 와 상품  𝑗 간의 msd\n",
    "\n",
    "$$\\text{msd}(i, j) = \\frac{1}{|U_{ij}|} \\cdot \\sum\\limits_{u \\in U_{ij}} (r(u,i) - r(u,j))^2$$\n",
    "\n",
    "위 식에서  𝑈𝑖𝑗 는 상품  𝑖 와 상품  𝑗  모두를 평가한 사용자의 집합이고  |𝑈𝑖𝑗| 는 상품  𝑖 와 상품  𝑗 모두를 평가한 사용자의 수"
   ]
  },
  {
   "cell_type": "code",
   "execution_count": 32,
   "metadata": {},
   "outputs": [
    {
     "name": "stdout",
     "output_type": "stream",
     "text": [
      "Computing the msd similarity matrix...\n",
      "Done computing similarity matrix.\n",
      "Computing the msd similarity matrix...\n",
      "Done computing similarity matrix.\n",
      "Computing the msd similarity matrix...\n",
      "Done computing similarity matrix.\n",
      "Computing the msd similarity matrix...\n",
      "Done computing similarity matrix.\n",
      "Computing the msd similarity matrix...\n",
      "Done computing similarity matrix.\n"
     ]
    },
    {
     "data": {
      "text/plain": [
       "{'test_rmse': array([0.97650906, 0.98346442, 0.97032533, 0.98330974, 0.9818553 ]),\n",
       " 'test_mae': array([0.77163701, 0.77538984, 0.7665685 , 0.77493766, 0.77486794]),\n",
       " 'fit_time': (0.42951488494873047,\n",
       "  0.4409480094909668,\n",
       "  0.43782496452331543,\n",
       "  0.4365971088409424,\n",
       "  0.4355428218841553),\n",
       " 'test_time': (3.7685000896453857,\n",
       "  3.924804210662842,\n",
       "  3.801453113555908,\n",
       "  3.8030920028686523,\n",
       "  4.471879243850708)}"
      ]
     },
     "execution_count": 32,
     "metadata": {},
     "output_type": "execute_result"
    }
   ],
   "source": [
    "sim_options = {'name': 'msd'}  # 평균제곱차이 유사도 적용\n",
    "algo = surprise.KNNBasic(sim_options=sim_options)  # Neighborhood 모형 적용\n",
    "cross_validate(algo, data)"
   ]
  },
  {
   "cell_type": "code",
   "execution_count": 33,
   "metadata": {},
   "outputs": [
    {
     "name": "stdout",
     "output_type": "stream",
     "text": [
      "Computing the msd similarity matrix...\n",
      "Done computing similarity matrix.\n",
      "Computing the msd similarity matrix...\n",
      "Done computing similarity matrix.\n",
      "Computing the msd similarity matrix...\n",
      "Done computing similarity matrix.\n",
      "Computing the msd similarity matrix...\n",
      "Done computing similarity matrix.\n",
      "Computing the msd similarity matrix...\n",
      "Done computing similarity matrix.\n"
     ]
    }
   ],
   "source": [
    "acc = cross_validate(algo, data)"
   ]
  },
  {
   "cell_type": "code",
   "execution_count": 35,
   "metadata": {},
   "outputs": [
    {
     "data": {
      "text/plain": [
       "0.7737474445929894"
      ]
     },
     "execution_count": 35,
     "metadata": {},
     "output_type": "execute_result"
    }
   ],
   "source": [
    "acc[\"test_mae\"].mean()  # MAE (Mean Absolute Error) 평균"
   ]
  },
  {
   "cell_type": "code",
   "execution_count": 36,
   "metadata": {},
   "outputs": [
    {
     "data": {
      "text/plain": [
       "0.9796767936557412"
      ]
     },
     "execution_count": 36,
     "metadata": {},
     "output_type": "execute_result"
    }
   ],
   "source": [
    "acc[\"test_rmse\"].mean()  # RMSE 평균값 cv=5"
   ]
  },
  {
   "cell_type": "markdown",
   "metadata": {},
   "source": [
    "### 1-2 코사인 유사도\n",
    "\n",
    "코사인 유사도(Cosine Similarity)는 두 특성 벡터의 각도에 대한 코사인 값을 말한다. 벡터  𝑥 와 벡터  𝑦  사이의 각도  𝜃  는 두 벡터의 내적  𝑥⋅𝑦 와 다음과 같은 관계가 있다. 각도  𝜃 가 0도이면 코사인 유사도는 1이다. 반대로 각도  𝜃 가 90도이면 코사인 유사도는 0이다.\n",
    "\n",
    "$$x \\cdot y = |x| |y| \\cos\\theta$$\n",
    "\n",
    "$$\\cos\\theta = \\dfrac{x \\cdot y}{|x| |y|}$$\n",
    "\n",
    "+ 사용자  𝑢 와 사용자  𝑣 간의 코사인 유사도\n",
    "\n",
    "$$\\text{cosine_sim}(u, v) = \\frac{\n",
    "\\sum\\limits_{i \\in I_{uv}} r(u,i) \\cdot r(v,i)}\n",
    "{\\sqrt{\\sum\\limits_{i \\in I_{uv}} r(u,i)^2} \\cdot\n",
    "\\sqrt{\\sum\\limits_{i \\in I_{uv}} r(v,i)^2}\n",
    "}$$\n",
    "\n",
    "+ 상품  𝑖 와 상품  𝑗 간의 코사인 유사도\n",
    "\n",
    "$$\\text{cosine_sim}(i, j) = \\frac{\n",
    "\\sum\\limits_{u \\in U_{ij}} r(u,i) \\cdot r(u,j)}\n",
    "{\\sqrt{\\sum\\limits_{u \\in U_{ij}} r(u,i)^2} \\cdot\n",
    "\\sqrt{\\sum\\limits_{u \\in U_{ij}} r(u,j)^2}\n",
    "}$$"
   ]
  },
  {
   "cell_type": "code",
   "execution_count": 38,
   "metadata": {},
   "outputs": [
    {
     "name": "stdout",
     "output_type": "stream",
     "text": [
      "Computing the cosine similarity matrix...\n",
      "Done computing similarity matrix.\n",
      "Computing the cosine similarity matrix...\n",
      "Done computing similarity matrix.\n",
      "Computing the cosine similarity matrix...\n",
      "Done computing similarity matrix.\n",
      "Computing the cosine similarity matrix...\n",
      "Done computing similarity matrix.\n",
      "Computing the cosine similarity matrix...\n",
      "Done computing similarity matrix.\n"
     ]
    }
   ],
   "source": [
    "sim_options = {\"name\": \"cosine\"}\n",
    "algo = surprise.KNNBasic(sim_options=sim_options)\n",
    "acc = cross_validate(algo, data)"
   ]
  },
  {
   "cell_type": "code",
   "execution_count": 39,
   "metadata": {},
   "outputs": [
    {
     "name": "stdout",
     "output_type": "stream",
     "text": [
      "1.0178760814755203\n",
      "0.8046069578983592\n"
     ]
    }
   ],
   "source": [
    "print(acc[\"test_rmse\"].mean())\n",
    "print(acc[\"test_mae\"].mean())"
   ]
  },
  {
   "cell_type": "markdown",
   "metadata": {},
   "source": [
    "### 1-3. 피어슨 유사도\n",
    "\n",
    "피어슨 유사도(Pearson Similarity)는 두 벡터의 상관계수(Pearson correlation coefficient)를 말하며 다음과 같이 정의한다.\n",
    "\n",
    "+ 사용자  𝑢 와 사용자  𝑣 간의 피어슨 유사도\n",
    "\n",
    "$$\\text{pearson_sim}(u, v) = \\frac{\n",
    "\\sum\\limits_{i \\in I_{uv}} (r(u,i) -  \\mu(u)) \\cdot (r(v,i) - \\mu(v))}\n",
    "{\\sqrt{\\sum\\limits_{i \\in I_{uv}} (r(u,i) -  \\mu(u))^2} \\cdot\n",
    "\\sqrt{\\sum\\limits_{i \\in I_{uv}} (r(v,i) -  \\mu(v))^2}\n",
    "}$$\n",
    "\n",
    "위 식에서  𝜇(𝑢) 는 사용자  𝑢 의 평균 평점이다.\n",
    "\n",
    "+ 상품  𝑖 와 상품  𝑗 간의 피어슨 유사도\n",
    "\n",
    "$$\\text{pearson_sim}(i, j) = \\frac{\n",
    "\\sum\\limits_{u \\in U_{ij}} (r(u,i) -  \\mu(i)) \\cdot (r(u,j) - \\mu(j))}\n",
    "{\\sqrt{\\sum\\limits_{u \\in U_{ij}} (r(u,i) -  \\mu(i))^2} \\cdot\n",
    "\\sqrt{\\sum\\limits_{u \\in U_{ij}} (r(u,j) -  \\mu(j))^2}\n",
    "}$$\n",
    "\n",
    "위 식에서  𝜇(𝑖) 는 상품  𝑖 의 평균 평점이다.\n",
    "\n",
    "상관계수는 가장 높은 경우의 값이 1이고 무상관인 경우에는 0이다."
   ]
  },
  {
   "cell_type": "code",
   "execution_count": 40,
   "metadata": {},
   "outputs": [
    {
     "name": "stdout",
     "output_type": "stream",
     "text": [
      "Computing the pearson similarity matrix...\n",
      "Done computing similarity matrix.\n",
      "Computing the pearson similarity matrix...\n",
      "Done computing similarity matrix.\n",
      "Computing the pearson similarity matrix...\n",
      "Done computing similarity matrix.\n",
      "Computing the pearson similarity matrix...\n",
      "Done computing similarity matrix.\n",
      "Computing the pearson similarity matrix...\n",
      "Done computing similarity matrix.\n"
     ]
    }
   ],
   "source": [
    "sim_options = {'name': 'pearson'}\n",
    "algo = surprise.KNNBasic(sim_options=sim_options)\n",
    "acc = cross_validate(algo, data)"
   ]
  },
  {
   "cell_type": "code",
   "execution_count": 41,
   "metadata": {},
   "outputs": [
    {
     "name": "stdout",
     "output_type": "stream",
     "text": [
      "1.0116374772190597\n",
      "0.8032325217041816\n"
     ]
    }
   ],
   "source": [
    "print(acc['test_rmse'].mean())\n",
    "print(acc['test_mae'].mean())"
   ]
  },
  {
   "cell_type": "markdown",
   "metadata": {},
   "source": [
    "### 1-4. 피어슨-베이스라인 유사도\n",
    "\n",
    "피어슨-베이스라인(Pearson-Baseline Similarity) 유사도는 피어슨 유사도와 같이 상관계수를 구하지만 \n",
    "\n",
    "#### 각 벡터의 기댓값을 단순 평균이 아니라 베이스라인 모형에서 예측한 값을 사용한다.\n",
    "\n",
    "+ 사용자  𝑢 와 사용자  𝑣 간의 msd\n",
    "\n",
    "$$\\text{pearson_baseline_sim}(u, v) = \\hat{\\rho}_{uv} = \\frac{\n",
    "\\sum\\limits_{i \\in I_{uv}} (r(u,i) -  b(u,i)) \\cdot (r(v,i) - b(v,i))}\n",
    "{\\sqrt{\\sum\\limits_{i \\in I_{uv}} (r(u,i) -  b(u,i))^2} \\cdot\n",
    "\\sqrt{\\sum\\limits_{i \\in I_{uv}} (r(v,i) -  b(v,i))^2}}$$\n",
    "\n",
    "+ 상품  𝑖 와 상품  𝑗 간의 msd\n",
    "\n",
    "$$\\text{pearson_baseline_sim}(i, j) = \\hat{\\rho}_{ij} = \\frac{\n",
    "\\sum\\limits_{u \\in U_{ij}} (r(u,i) -  b(u,i)) \\cdot (r(u,j) - b(u,j))}\n",
    "{\\sqrt{\\sum\\limits_{u \\in U_{ij}} (r(u,i) -  b(u,i))^2} \\cdot\n",
    "\\sqrt{\\sum\\limits_{u \\in U_{ij}} (r(u,j) -  b(u,j))^2}}$$\n",
    "\n",
    "#### 피어슨-베이스라인 유사도는 벡터의 차원 즉, 두 사용자나 상품에 공통적으로 있는 평점 원소의 갯수를 이용하여 정규화를 하는 shrinkage를 추가하여 사용한다.\n",
    "\n",
    "$$\\begin{split}\\text{pearson_baseline_shrunk_sim}(u, v) &= \\frac{|I_{uv}| - 1}\n",
    "{|I_{uv}| - 1 + \\text{shrinkage}} \\cdot \\hat{\\rho}_{uv}\\end{split}$$\n",
    "\n",
    "$$\\begin{split}\\text{pearson_baseline_shrunk_sim}(i, j) &= \\frac{|U_{ij}| - 1}\n",
    "{|U_{ij}| - 1 + \\text{shrinkage}} \\cdot \\hat{\\rho}_{ij}\\end{split}$$"
   ]
  },
  {
   "cell_type": "code",
   "execution_count": 42,
   "metadata": {},
   "outputs": [
    {
     "name": "stdout",
     "output_type": "stream",
     "text": [
      "Estimating biases using als...\n",
      "Computing the pearson_baseline similarity matrix...\n",
      "Done computing similarity matrix.\n",
      "Estimating biases using als...\n",
      "Computing the pearson_baseline similarity matrix...\n",
      "Done computing similarity matrix.\n",
      "Estimating biases using als...\n",
      "Computing the pearson_baseline similarity matrix...\n",
      "Done computing similarity matrix.\n",
      "Estimating biases using als...\n",
      "Computing the pearson_baseline similarity matrix...\n",
      "Done computing similarity matrix.\n",
      "Estimating biases using als...\n",
      "Computing the pearson_baseline similarity matrix...\n",
      "Done computing similarity matrix.\n"
     ]
    }
   ],
   "source": [
    "sim_options = {'name': 'pearson_baseline'}\n",
    "algo = surprise.KNNBasic(sim_options=sim_options)\n",
    "acc = cross_validate(algo, data)"
   ]
  },
  {
   "cell_type": "code",
   "execution_count": 44,
   "metadata": {},
   "outputs": [
    {
     "data": {
      "text/plain": [
       "{'test_rmse': array([0.99316137, 1.00559327, 0.99815001, 1.00358822, 0.99883717]),\n",
       " 'test_mae': array([0.78527354, 0.79630404, 0.78900737, 0.7934303 , 0.79185397]),\n",
       " 'fit_time': (1.4423439502716064,\n",
       "  1.4226949214935303,\n",
       "  1.450943946838379,\n",
       "  1.4058549404144287,\n",
       "  1.4170608520507812),\n",
       " 'test_time': (3.765414237976074,\n",
       "  3.804600954055786,\n",
       "  3.7776939868927,\n",
       "  4.204774856567383,\n",
       "  3.896700143814087)}"
      ]
     },
     "execution_count": 44,
     "metadata": {},
     "output_type": "execute_result"
    }
   ],
   "source": [
    "acc"
   ]
  },
  {
   "cell_type": "code",
   "execution_count": 45,
   "metadata": {},
   "outputs": [
    {
     "name": "stdout",
     "output_type": "stream",
     "text": [
      "0.7911738451689001\n"
     ]
    }
   ],
   "source": [
    "print(acc[\"test_mae\"].mean())"
   ]
  },
  {
   "cell_type": "markdown",
   "metadata": {},
   "source": [
    "### KNN 가중치 예측 방법\n",
    "\n",
    "일단 유사도가 구해지면 \n",
    "\n",
    "#### 평점을 예측하고자 하는 사용자(또는 상품)와 유사도가 큰  𝑘 개의 사용자(또는 상품) 벡터를 사용하여 가중 평균을 구해서 가중치를 예측한다. \n",
    "\n",
    "이러한 방법을 KNN(K Nearest Neighbors) 기반 예측 방법이라고 한다.\n",
    "\n",
    "surprise 패키지에서는 다음과 같은 3가지의 KNN 기반 가중치 예측 알고리즘 클래스를 제공한다.\n",
    "\n",
    "+ KNNBasic : 평점들을 단순히 가중 평균한다. \n",
    "\n",
    "다음 식에서  𝑁𝑘 는  𝑘 개의 가장 유사도가 큰 벡터의 집합이다.\n",
    "\n",
    "$$\\hat{r}(u,i) = \\frac{\n",
    "        \\sum\\limits_{v \\in N^k_i(u)} \\text{sim}(u, v) \\cdot r(v,i)}\n",
    "        {\\sum\\limits_{v \\in N^k_i(u)} \\text{sim}(u, v)}$$\n",
    "        \n",
    "또는 \n",
    "\n",
    "$$\\hat{r}(u,i) = \\frac{\n",
    "        \\sum\\limits_{j \\in N^k_u(i)} \\text{sim}(i, j) \\cdot r(u,j)}\n",
    "        {\\sum\\limits_{j \\in N^k_u(j)} \\text{sim}(i, j)}$$"
   ]
  },
  {
   "cell_type": "markdown",
   "metadata": {},
   "source": [
    "+ KNNWithMeans : 평점들을 평균값 기준으로 가중 평균한다.\n",
    "\n",
    "$$\\hat{r}(u,i) = \\mu(u) + \n",
    "\\frac{\\sum\\limits_{v \\in N^k_i(u)} \\text{sim}(u, v) \\cdot (r(v,i) - \\mu(v))}{\\sum\\limits_{v \\in N^k_i(u)} \\text{sim}(u, v)}$$\n",
    "\n",
    "또는\n",
    "\n",
    "$$\\hat{r}(u,i) = \\mu(i) + \n",
    "\\frac{\\sum\\limits_{j \\in N^k_u(i)}\\text{sim}(i, j) \\cdot (r(u,j) - \\mu(j))} {\\sum\\limits_{j \\in N^k_u(i)} \\text{sim}(i, j)}$$"
   ]
  },
  {
   "cell_type": "markdown",
   "metadata": {},
   "source": [
    "+ KNNBaseline : 평점들을 베이스라인 모형의 값 기준으로 가중 평균한다.\n",
    "\n",
    "$$\\hat{r}(u,i) = b(u,i) + \\frac{ \\sum\\limits_{v \\in N^k_i(u)}\n",
    "\\text{sim}(u, v) \\cdot (r(v,i) - b(v,i))} {\\sum\\limits_{v \\in\n",
    "N^k_i(u)} \\text{sim}(u, v)}$$\n",
    "\n",
    "또는\n",
    "\n",
    "$$\\hat{r}(u,i) = b(u,i) + \\frac{ \\sum\\limits_{j \\in N^k_u(i)}\n",
    "\\text{sim}(i, j) \\cdot (r(u,j) - b(u,j))} {\\sum\\limits_{j \\in\n",
    "N^k_u(j)} \\text{sim}(i, j)}$$"
   ]
  },
  {
   "cell_type": "code",
   "execution_count": 46,
   "metadata": {},
   "outputs": [
    {
     "name": "stdout",
     "output_type": "stream",
     "text": [
      "Estimating biases using als...\n",
      "Computing the pearson_baseline similarity matrix...\n",
      "Done computing similarity matrix.\n",
      "Estimating biases using als...\n",
      "Computing the pearson_baseline similarity matrix...\n",
      "Done computing similarity matrix.\n",
      "Estimating biases using als...\n",
      "Computing the pearson_baseline similarity matrix...\n",
      "Done computing similarity matrix.\n",
      "Estimating biases using als...\n",
      "Computing the pearson_baseline similarity matrix...\n",
      "Done computing similarity matrix.\n",
      "Estimating biases using als...\n",
      "Computing the pearson_baseline similarity matrix...\n",
      "Done computing similarity matrix.\n"
     ]
    }
   ],
   "source": [
    "# 가중치 설정 바꾸기 : KNNWithMeans 평점들을 평균값 기준으로 가중평균 \n",
    "sim_options = {'name': 'pearson_baseline'}\n",
    "algo = surprise.KNNWithMeans(sim_options=sim_options)\n",
    "acc = cross_validate(algo, data)"
   ]
  },
  {
   "cell_type": "code",
   "execution_count": 47,
   "metadata": {},
   "outputs": [
    {
     "data": {
      "text/plain": [
       "{'test_rmse': array([0.93960922, 0.92989621, 0.94359357, 0.93047967, 0.94191645]),\n",
       " 'test_mae': array([0.73101426, 0.72355947, 0.73434632, 0.72678205, 0.73374179]),\n",
       " 'fit_time': (1.4763288497924805,\n",
       "  1.4735159873962402,\n",
       "  1.538883924484253,\n",
       "  1.5120289325714111,\n",
       "  1.5420260429382324),\n",
       " 'test_time': (4.037575960159302,\n",
       "  4.259652137756348,\n",
       "  4.329622030258179,\n",
       "  4.152673959732056,\n",
       "  3.9575700759887695)}"
      ]
     },
     "execution_count": 47,
     "metadata": {},
     "output_type": "execute_result"
    }
   ],
   "source": [
    "acc"
   ]
  },
  {
   "cell_type": "code",
   "execution_count": 48,
   "metadata": {},
   "outputs": [
    {
     "data": {
      "text/plain": [
       "0.7298887762484759"
      ]
     },
     "execution_count": 48,
     "metadata": {},
     "output_type": "execute_result"
    }
   ],
   "source": [
    "acc[\"test_mae\"].mean()"
   ]
  },
  {
   "cell_type": "code",
   "execution_count": 49,
   "metadata": {},
   "outputs": [
    {
     "name": "stdout",
     "output_type": "stream",
     "text": [
      "Estimating biases using als...\n",
      "Computing the pearson_baseline similarity matrix...\n",
      "Done computing similarity matrix.\n",
      "Estimating biases using als...\n",
      "Computing the pearson_baseline similarity matrix...\n",
      "Done computing similarity matrix.\n",
      "Estimating biases using als...\n",
      "Computing the pearson_baseline similarity matrix...\n",
      "Done computing similarity matrix.\n",
      "Estimating biases using als...\n",
      "Computing the pearson_baseline similarity matrix...\n",
      "Done computing similarity matrix.\n",
      "Estimating biases using als...\n",
      "Computing the pearson_baseline similarity matrix...\n",
      "Done computing similarity matrix.\n"
     ]
    }
   ],
   "source": [
    "# KNNBaseline : 베이스라인 모형의 기준값으로 가중평균\n",
    "sim_options = {'name': \"pearson_baseline\"}\n",
    "algo = surprise.KNNBaseline(sim_options=sim_options)\n",
    "acc = cross_validate(algo, data)"
   ]
  },
  {
   "cell_type": "code",
   "execution_count": 50,
   "metadata": {},
   "outputs": [
    {
     "data": {
      "text/plain": [
       "{'test_rmse': array([0.92307608, 0.91637289, 0.92309955, 0.92319378, 0.92164502]),\n",
       " 'test_mae': array([0.72135563, 0.7169102 , 0.72371109, 0.7214194 , 0.72234576]),\n",
       " 'fit_time': (1.4668831825256348,\n",
       "  1.4062550067901611,\n",
       "  1.4158599376678467,\n",
       "  1.4074912071228027,\n",
       "  1.4173929691314697),\n",
       " 'test_time': (4.4532411098480225,\n",
       "  4.561751842498779,\n",
       "  4.465704917907715,\n",
       "  4.581180810928345,\n",
       "  4.645801067352295)}"
      ]
     },
     "execution_count": 50,
     "metadata": {},
     "output_type": "execute_result"
    }
   ],
   "source": [
    "acc"
   ]
  },
  {
   "cell_type": "code",
   "execution_count": 51,
   "metadata": {},
   "outputs": [
    {
     "data": {
      "text/plain": [
       "0.7211484159690038"
      ]
     },
     "execution_count": 51,
     "metadata": {},
     "output_type": "execute_result"
    }
   ],
   "source": [
    "acc['test_mae'].mean()"
   ]
  },
  {
   "cell_type": "markdown",
   "metadata": {},
   "source": [
    "### 2. Latent Factor 모형\n",
    "\n",
    "사용자의 특성 벡터나 상품의 특성 벡터의 길이는 수천에서 수십억에 달하는 긴 크기가 될 수도 있다.\n",
    "\n",
    "#### Latent Factor 모형은 이렇게 긴 사용자 특성이나 상품 특성을 몇 개의 요인 벡터로 간략화(approximate)할 수 있다는 가정에서 출발한 모형이다.\n",
    "\n",
    "#### PCA(Principle Component Analysis)를 사용하면 긴 특성 벡터를 소수의 차원으로 차원 축소할 수 있듯이 사용자의 특성도 차원 축소 할 수 있다.\n",
    "\n",
    "영화에 대한 평점을 주는 경우, 코미디, 액션, 드라마 등 몇 개의 장르 요인이 있어서 사용자는 특정한 장르 요소에 대해 더 점수를 많이 주거나 적게 줄 수 있다. 그리고 영화 자체도 이러한 장르 요인을 가지고 있다면 해당 사용자의 그 영화에 대한 평점은 사용자의 장르 요인 벡터와 영화의 장르 요인 벡터의 내적으로 표시할 수 있다.\n",
    "\n",
    "예를 들어 액션을 싫어하고(-1) 코미디(2)나 드라마(3)를 좋아하는 사용자의 요인 벡터는 다음과 같다.\n",
    "\n",
    "$$p(u)^T = (-1, 2, 3)$$\n",
    "\n",
    "어떤 영화가 액션 요소가 2이고 코미디 요소가 1이고, 드라마 요소가 1이라면\n",
    "\n",
    "$$q(i)^T = (2, 1, 1)$$\n",
    "\n",
    "평점은 다음과 같을 것이다.\n",
    "\n",
    "$$r(u,i) = q(i)^Tp(u) = -1 \\cdot 2 + 2 \\cdot 1 + 3 \\cdot 1 = 3$$"
   ]
  },
  {
   "cell_type": "markdown",
   "metadata": {},
   "source": [
    "### 2-1 Matrix Factorization\n",
    "\n",
    "Matrix Factorization 방법은 모든 사용자와 상품에 대해 다음 오차 함수를 최소화하는 요인 벡터를 찾아낸다. 즉 다음과 같은 행렬  𝑃 ,  𝑄 를 찾는다.\n",
    "\n",
    "$$R \\approx PQ^T$$\n",
    "\n",
    "여기에서\n",
    "\n",
    "+ 𝑅∈𝐑𝑚×𝑛  :  𝑚  사용자와  𝑛  상품의 평점 행렬\n",
    "+ 𝑃∈𝐑𝑚×𝑘  :  𝑚  사용자와  𝑘  요인의 관계 행렬\n",
    "+ 𝑄∈𝐑𝑛×𝑘  :  𝑛  상품과  𝑘  요인의 관계 행렬"
   ]
  },
  {
   "cell_type": "markdown",
   "metadata": {},
   "source": [
    "### 2-2. SVD (Singular Value Decomposition)\n",
    "\n",
    "SVD (Singular Value Decomposition) 는 Matrix Factorization 문제를 푸는 방법 중 하나이다.\n",
    "\n",
    "𝑚×𝑛  크기의 행렬  𝑅 은 다음과 같이 세 행렬의 곱으로 나타낼 수 있다. 이를 특이치 분해(Singular Value Decomposition) 라고 한다.\n",
    "\n",
    "$$R =  U \\Sigma V^T$$\n",
    "\n",
    "이 식에서\n",
    "\n",
    "+ 𝑈  는  𝑚×𝑚  크기의 행렬로 역행렬이 대칭 행렬\n",
    "+ Σ  는  𝑚×𝑛  크기의 행렬로 비대각 성분이 0\n",
    "+ 𝑉  는  𝑛×𝑛  크기의 행렬로 역행렬이 대칭 행렬\n",
    "\n",
    "Σ 의 대각 성분은 특이치라고 하며 전체 특이치 중에서 가장 값이 큰 𝑘개의 특이치만을 사용하여 (Truncated SVD), 다음과 같은 행렬을 만들수 있다.\n",
    "\n",
    "+ 𝑈̂  는 𝑈에서 가장 값이 큰 𝑘개의 특이치에 대응하는 𝑘개의 성분만을 남긴 𝑚×𝑘 크기의 행렬\n",
    "+ Σ̂  는 가장 값이 큰 𝑘개의 특이치에 대응하는 𝑘개의 성분만을 남긴 𝑘×𝑘 크기의 대각 행렬\n",
    "+ 𝑉̂  는 𝑉에서 가장 값이 큰 𝑘개의 특이치에 대응하는 𝑘개의 성분만을 남긴 𝑘×𝑛 크기의 행렬"
   ]
  },
  {
   "cell_type": "markdown",
   "metadata": {},
   "source": [
    "이 행렬을 다시 조합하면 원래의 행렬과 같은 크기를 가지고 유사한 원소를 가지는 행렬을 만들 수 있다.\n",
    "\n",
    "$$\\hat{U} \\hat{\\Sigma} \\hat{V}^T =  \\hat{R} \\approx R$$\n",
    "\n",
    "하지만 실제로 평점 행렬은 빈 원소가 많은 sparse 행렬로서 SVD를 바로 적용하기 힘들기 때문에 행렬  𝑃 ,  𝑄 는 다음과 같은 모형에 대해 오차 함수를 최소화하여 구한다.\n",
    "\n",
    "$$\\hat{r}(u,i) = \\mu + b(u) + b(i) + q(i)^Tp(u)$$\n",
    "\n",
    "$$\\sum_{u,i \\in R_{train}} \\left(r(u,i) - \\hat{r}(u,i) \\right)^2 +\n",
    "\\lambda\\left(b(i)^2 + b(u)^2 + ||q(i)||^2 + ||p(u)||^2\\right)$$"
   ]
  },
  {
   "cell_type": "code",
   "execution_count": 52,
   "metadata": {},
   "outputs": [
    {
     "name": "stdout",
     "output_type": "stream",
     "text": [
      "CPU times: user 28.7 s, sys: 180 ms, total: 28.9 s\n",
      "Wall time: 29.5 s\n"
     ]
    }
   ],
   "source": [
    "%%time\n",
    "algo = surprise.SVD(n_factors=100)  # n_factors : 가장 큰 특이치 갯수 설정\n",
    "acc = cross_validate(algo, data)"
   ]
  },
  {
   "cell_type": "code",
   "execution_count": 53,
   "metadata": {},
   "outputs": [
    {
     "data": {
      "text/plain": [
       "{'test_rmse': array([0.94018105, 0.93233839, 0.93449604, 0.93268035, 0.93132456]),\n",
       " 'test_mae': array([0.74167633, 0.73523941, 0.73628882, 0.73699523, 0.73264263]),\n",
       " 'fit_time': (5.496145963668823,\n",
       "  5.500312089920044,\n",
       "  5.603233814239502,\n",
       "  5.441827297210693,\n",
       "  5.523452997207642),\n",
       " 'test_time': (0.1590890884399414,\n",
       "  0.16191983222961426,\n",
       "  0.16141104698181152,\n",
       "  0.31709790229797363,\n",
       "  0.19185614585876465)}"
      ]
     },
     "execution_count": 53,
     "metadata": {},
     "output_type": "execute_result"
    }
   ],
   "source": [
    "acc"
   ]
  },
  {
   "cell_type": "code",
   "execution_count": 54,
   "metadata": {},
   "outputs": [
    {
     "data": {
      "text/plain": [
       "0.7365684847263315"
      ]
     },
     "execution_count": 54,
     "metadata": {},
     "output_type": "execute_result"
    }
   ],
   "source": [
    "acc['test_mae'].mean()"
   ]
  },
  {
   "cell_type": "markdown",
   "metadata": {},
   "source": [
    "### 2-3 NMF(Non-negative matrix factorization)"
   ]
  },
  {
   "cell_type": "code",
   "execution_count": 55,
   "metadata": {},
   "outputs": [
    {
     "name": "stdout",
     "output_type": "stream",
     "text": [
      "CPU times: user 1min 29s, sys: 747 ms, total: 1min 30s\n",
      "Wall time: 1min 34s\n"
     ]
    }
   ],
   "source": [
    "%%time\n",
    "algo = surprise.NMF(n_factors=100)  # n_factors : 가장 큰 특이치 갯수 설정\n",
    "acc = cross_validate(algo, data)"
   ]
  },
  {
   "cell_type": "code",
   "execution_count": 56,
   "metadata": {},
   "outputs": [
    {
     "data": {
      "text/plain": [
       "{'test_rmse': array([1.10215303, 1.09909519, 1.09974446, 1.10041   , 1.10701935]),\n",
       " 'test_mae': array([0.83703054, 0.83800781, 0.83624366, 0.83953024, 0.84186648]),\n",
       " 'fit_time': (19.293351888656616,\n",
       "  18.777509927749634,\n",
       "  18.162184953689575,\n",
       "  18.678910970687866,\n",
       "  17.32020401954651),\n",
       " 'test_time': (0.13978028297424316,\n",
       "  0.1411299705505371,\n",
       "  0.31037211418151855,\n",
       "  0.13761687278747559,\n",
       "  0.13979601860046387)}"
      ]
     },
     "execution_count": 56,
     "metadata": {},
     "output_type": "execute_result"
    }
   ],
   "source": [
    "acc"
   ]
  },
  {
   "cell_type": "code",
   "execution_count": 57,
   "metadata": {},
   "outputs": [
    {
     "data": {
      "text/plain": [
       "0.838535743496668"
      ]
     },
     "execution_count": 57,
     "metadata": {},
     "output_type": "execute_result"
    }
   ],
   "source": [
    "acc['test_mae'].mean()"
   ]
  },
  {
   "cell_type": "code",
   "execution_count": null,
   "metadata": {},
   "outputs": [],
   "source": []
  }
 ],
 "metadata": {
  "kernelspec": {
   "display_name": "Python 3",
   "language": "python",
   "name": "python3"
  },
  "language_info": {
   "codemirror_mode": {
    "name": "ipython",
    "version": 3
   },
   "file_extension": ".py",
   "mimetype": "text/x-python",
   "name": "python",
   "nbconvert_exporter": "python",
   "pygments_lexer": "ipython3",
   "version": "3.7.3"
  }
 },
 "nbformat": 4,
 "nbformat_minor": 2
}
