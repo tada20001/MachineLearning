{
 "cells": [
  {
   "cell_type": "markdown",
   "metadata": {},
   "source": [
    "선형판별분석법((linear discriminant analysis, LDA)과 이차판별분석법(quadratic discriminant analysis, QDA)는 대표적인 확률론적 생성모형(generative model)이다. \n",
    "\n",
    "#### 가능도 즉, y의 클래스값에 따른 x의 분포에 대한 정보를 먼저 알아낸 후, 베이즈 정리를 사용하여 주어진 x에 대한 y의 확률분포를 찾아낸다."
   ]
  },
  {
   "cell_type": "markdown",
   "metadata": {},
   "source": [
    "## 생성모형\n",
    "\n",
    "생성모형에서는 베이즈 정리를 사용하여 조건부확률  𝑝(𝑦=𝑘∣𝑥)  을 계산한다.\n",
    "\n",
    "$$P(y = k \\mid x) = \\dfrac{P(x \\mid y = k)\\; P(y = k)}{P(x)}$$\n",
    "\n",
    "분류문제를 풀기 위해서는 각 클래스  𝑘 에 대한 확률을 비교하여 가장 큰 값을 선택한다. 따라서 모든 클래스에 대해 값이 같은 분모  𝑃(𝑥) 은 굳이 계산하지 않아도 괜찮다.\n",
    "\n",
    "$$P(y = k \\mid x) \\;\\; \\propto \\;\\; P(x \\mid y = k) \\; P(y = k)$$\n",
    "\n",
    "여기에서 사전확률  𝑃(𝑦=𝑘) 는 특별한 정보가 없는 경우, 다음과 같이 계산한다.\n",
    "\n",
    "$$P(y = k) \\approx \\frac{\\;\\;\\;\\; y = k \\text{인 데이터의 수 } \\text{ }\\;\\;\\;\\;\\;\\; }{{\\text{ }}\\text{    모든 데이터의 수    }\\;\\;\\;\\;\\;\\;\\;\\;}$$\n",
    "\n",
    "만약 다른 지식이나 정보로 알고 있는 사전확률값이 있다면 그 값을 사용하면 된다."
   ]
  },
  {
   "cell_type": "markdown",
   "metadata": {},
   "source": [
    "𝑦 에 대한  𝑥 의 조건부확률인 가능도는 다음과 같이 계산한다.\n",
    "\n",
    "(1) 𝑃(𝑥∣𝑦=𝑘)  가 특정한 확률분포 모형을 따른다고 가정한다. 즉, 확률밀도함수의 형태를 가정한다.\n",
    "\n",
    "(2) 𝑘 번째 클래스에 속하는 학습 데이터  {𝑥1,⋯,𝑥𝑁} 을 사용하여 이 모형의 모수값을 구한다.\n",
    "\n",
    "(3) 모수값을 알고 있으므로  𝑃(𝑥∣𝑦=𝑘) 의 확률 밀도 함수를 구한다. 즉, 새로운 독립변수 값  𝑥 가 어떤 값이 되더라도  𝑃(𝑥∣𝑦=𝑘) 의 값을 계산할 수 있다."
   ]
  },
  {
   "cell_type": "markdown",
   "metadata": {},
   "source": [
    "## 이차판별분석법\n",
    "\n",
    "이차판별분석법에서는 독립변수  𝑥 가 실수이고 확률분포가 다변수 정규분포라고 가정한다. 단  𝑥  분포의 위치와 형태는 클래스에 따라 달라질 수 있다.\n",
    "\n",
    "$$p(x \\mid y = k) = \\dfrac{1}{(2\\pi)^{D/2} |\\Sigma_k|^{1/2}} \\exp \\left( -\\dfrac{1}{2} (x-\\mu_k)^T \\Sigma_k^{-1} (x-\\mu_k) \\right)$$\n",
    "\n",
    "이 분포들을 알고 있으면 독립변수  𝑥 에 대한  𝑦  클래스의 조건부확률분포는 다음과 같이 베이즈 정리와 전체 확률의 법칙으로 구할 수 있다.\n",
    "\n",
    "$$P(y=k \\mid x) = \\dfrac{p(x \\mid y = k)P(y=k)}{p(x)} = \\dfrac{p(x \\mid y = k)P(y=k)}{\\sum_l p(x \\mid y = l)P(y=l) }$$"
   ]
  },
  {
   "cell_type": "markdown",
   "metadata": {},
   "source": [
    "예를 들어  𝑦 가 1, 2, 3 이라는 3개의 클래스를 가지고 각 클래스에서의  𝑥 의 확률분포가 다음과 같은 기대값 및 공분산 행렬을 가진다고 가정하자.\n",
    "\n",
    "$$\\mu_1 = \\begin{bmatrix}  0 \\\\ 0 \\end{bmatrix}, \\;\\;\n",
    "\\mu_2 = \\begin{bmatrix}  1 \\\\ 1 \\end{bmatrix}, \\;\\;\n",
    "\\mu_3 = \\begin{bmatrix}-1  \\\\ 1 \\end{bmatrix}$$\n",
    "\n",
    "$$\\Sigma_1 = \\begin{bmatrix} 0.7 &   0 \\\\ 0   & 0.7 \\end{bmatrix}, \\;\\;\n",
    "\\Sigma_2 = \\begin{bmatrix} 0.8 & 0.2 \\\\ 0.2 & 0.8 \\end{bmatrix}, \\;\\;\n",
    "\\Sigma_3 = \\begin{bmatrix} 0.8 & 0.2 \\\\ 0.2 & 0.8 \\end{bmatrix}$$\n",
    "\n",
    "𝑦 의 사전 확률은 다음과 같이 동일하다\n",
    "\n",
    "$$P(Y=1) = P(Y=2) = P(Y=3) = \\dfrac{1}{3}$$"
   ]
  },
  {
   "cell_type": "code",
   "execution_count": 1,
   "metadata": {},
   "outputs": [],
   "source": [
    "import matplotlib.pylab as plt\n",
    "import matplotlib as mpl\n",
    "import matplotlib.font_manager as fm\n",
    "import seaborn as sns\n",
    "import numpy as np\n",
    "\n",
    "sns.set_style(\"whitegrid\")\n",
    "mpl.rcParams['axes.unicode_minus'] = False\n",
    "plt.rcParams['font.size'] = 15\n",
    "\n",
    "path = \"/Library/Fonts/NanumGothic.otf\"\n",
    "font_name = fm.FontProperties(fname=path, size=20).get_name()\n",
    "\n",
    "plt.rc('font', family=font_name)\n",
    "\n",
    "import warnings\n",
    "warnings.filterwarnings(action='ignore')"
   ]
  },
  {
   "cell_type": "code",
   "execution_count": 4,
   "metadata": {},
   "outputs": [
    {
     "data": {
      "text/plain": [
       "(100, 2)"
      ]
     },
     "execution_count": 4,
     "metadata": {},
     "output_type": "execute_result"
    }
   ],
   "source": [
    "import scipy as sp\n",
    "import scipy.stats\n",
    "\n",
    "N = 100\n",
    "rv1 = sp.stats.multivariate_normal([0, 0], [[0.7, 0.0], [0.0, 0.7]])\n",
    "rv2 = sp.stats.multivariate_normal([1, 1], [[0.8, 0.2], [0.2, 0.8]])\n",
    "rv3 = sp.stats.multivariate_normal([-1, 1], [[0.8, 0.2], [0.2, 0.8]])\n",
    "\n",
    "np.random.seed(0)\n",
    "X1 = rv1.rvs(N)\n",
    "X2 = rv2.rvs(N)\n",
    "X3 = rv3.rvs(N)\n",
    "\n",
    "y1 = np.zeros(N)\n",
    "y2 = np.ones(N)\n",
    "y3 = np.ones(N) + 1\n",
    "X1.shape"
   ]
  },
  {
   "cell_type": "code",
   "execution_count": 5,
   "metadata": {},
   "outputs": [
    {
     "data": {
      "image/png": "[encoded data removed]",
      "text/plain": [
       "<Figure size 432x288 with 1 Axes>"
      ]
     },
     "metadata": {
      "needs_background": "light"
     },
     "output_type": "display_data"
    }
   ],
   "source": [
    "X = np.vstack([X1, X2, X3])\n",
    "y = np.hstack([y1, y2, y3])\n",
    "\n",
    "plt.scatter(X1[:, 0], X1[:, 1], s=50, marker=\"o\", alpha=0.8, color='r', label=\"class 1\")\n",
    "plt.scatter(X2[:, 0], X2[:, 1], s=50, marker=\"s\", alpha=0.8, color='g', label=\"class 2\")\n",
    "plt.scatter(X3[:, 0], X3[:, 1], s=50, marker=\"x\", alpha=0.8, color='b', label=\"class 3\")\n",
    "plt.xlim(-5, 5)\n",
    "plt.ylim(-4, 5)\n",
    "plt.xlabel(\"$X_1$\")\n",
    "plt.ylabel(\"$X_2$\")\n",
    "plt.legend()\n",
    "plt.show()"
   ]
  },
  {
   "cell_type": "markdown",
   "metadata": {},
   "source": [
    "#### Scikit-Learn은 이차판별분석법을 위한 QuadraticDiscriminantAnalysis 클래스를 제공한다.\n",
    "\n"
   ]
  },
  {
   "cell_type": "code",
   "execution_count": 10,
   "metadata": {},
   "outputs": [],
   "source": [
    "from sklearn.discriminant_analysis import QuadraticDiscriminantAnalysis\n",
    "qda = QuadraticDiscriminantAnalysis(store_covariance=True).fit(X, y)"
   ]
  },
  {
   "cell_type": "markdown",
   "metadata": {},
   "source": [
    "학습용 데이터에서 가능도를 추정한 후에는 다음과 같은 속성을 가지게 된다.\n",
    "\n",
    "+ priors_: 각 클래스  𝑘 의 사전확률.\n",
    "+ means_: 각 클래스  𝑘 에서  𝑥 의 기댓값 벡터  𝜇𝑘 의 추정치 벡터.\n",
    "+ covariance_: 각 클래스  𝑘 에서  𝑥 의 공분산 행렬  Σ𝑘 의 추정치 행렬. (생성자 인수 store_covariance 값이 True인 경우에만 제공)"
   ]
  },
  {
   "cell_type": "code",
   "execution_count": 11,
   "metadata": {},
   "outputs": [
    {
     "data": {
      "text/plain": [
       "array([0.33333333, 0.33333333, 0.33333333])"
      ]
     },
     "execution_count": 11,
     "metadata": {},
     "output_type": "execute_result"
    }
   ],
   "source": [
    "qda.priors_"
   ]
  },
  {
   "cell_type": "code",
   "execution_count": 12,
   "metadata": {},
   "outputs": [
    {
     "data": {
      "text/plain": [
       "array([[-8.01254084e-04,  1.19457204e-01],\n",
       "       [ 1.16303727e+00,  1.03930605e+00],\n",
       "       [-8.64060404e-01,  1.02295794e+00]])"
      ]
     },
     "execution_count": 12,
     "metadata": {},
     "output_type": "execute_result"
    }
   ],
   "source": [
    "qda.means_"
   ]
  },
  {
   "cell_type": "code",
   "execution_count": 29,
   "metadata": {},
   "outputs": [
    {
     "data": {
      "image/png": "[encoded data removed]",
      "text/plain": [
       "<Figure size 432x288 with 1 Axes>"
      ]
     },
     "metadata": {
      "needs_background": "light"
     },
     "output_type": "display_data"
    }
   ],
   "source": [
    "plt.scatter(qda.means_[0][0], qda.means_[0][1], color='r', s=100, label=\"class 1\")\n",
    "plt.scatter(qda.means_[1][0], qda.means_[1][1], color='g', s=100, label=\"class 2\")\n",
    "plt.scatter(qda.means_[2][0], qda.means_[2][1], color='b', s=100, label=\"class 3\")\n",
    "plt.legend()\n",
    "plt.title(\"추정한 기댓값\")\n",
    "plt.show()"
   ]
  },
  {
   "cell_type": "code",
   "execution_count": 18,
   "metadata": {},
   "outputs": [
    {
     "data": {
      "text/plain": [
       "array([[ 0.73846319, -0.01762041],\n",
       "       [-0.01762041,  0.72961278]])"
      ]
     },
     "execution_count": 18,
     "metadata": {},
     "output_type": "execute_result"
    }
   ],
   "source": [
    "qda.covariance_[0]"
   ]
  },
  {
   "cell_type": "code",
   "execution_count": 19,
   "metadata": {},
   "outputs": [
    {
     "data": {
      "text/plain": [
       "array([[0.66534246, 0.21132313],\n",
       "       [0.21132313, 0.78806006]])"
      ]
     },
     "execution_count": 19,
     "metadata": {},
     "output_type": "execute_result"
    }
   ],
   "source": [
    "qda.covariance_[1]"
   ]
  },
  {
   "cell_type": "code",
   "execution_count": 20,
   "metadata": {},
   "outputs": [
    {
     "data": {
      "text/plain": [
       "array([[0.9351386 , 0.22880955],\n",
       "       [0.22880955, 0.79142383]])"
      ]
     },
     "execution_count": 20,
     "metadata": {},
     "output_type": "execute_result"
    }
   ],
   "source": [
    "qda.covariance_[2]"
   ]
  },
  {
   "cell_type": "markdown",
   "metadata": {},
   "source": [
    "이 확률분포를 사용하여 분류를 한 결과는 다음과 같다."
   ]
  },
  {
   "cell_type": "code",
   "execution_count": 44,
   "metadata": {},
   "outputs": [
    {
     "data": {
      "image/png": "[encoded data removed]",
      "text/plain": [
       "<Figure size 432x288 with 1 Axes>"
      ]
     },
     "metadata": {
      "needs_background": "light"
     },
     "output_type": "display_data"
    }
   ],
   "source": [
    "x1min, x1max = -5, 5\n",
    "x2min, x2max = -4, 5\n",
    "XX1, XX2 = np.meshgrid(np.arange(x1min, x1max, (x1max-x1min)/1000),\n",
    "                      np.arange(x2min, x2max, (x2max-x2min)/1000))\n",
    "YY = np.reshape(qda.predict(np.array([XX1.ravel(), XX2.ravel()]).T), XX1.shape)\n",
    "cmap = mpl.colors.ListedColormap(sns.color_palette([\"r\", \"g\", \"b\"]).as_hex())\n",
    "plt.contourf(XX1, XX2, YY, cmap=cmap, alpha=0.3)  \n",
    "plt.scatter(X1[:, 0], X1[:, 1], alpha=0.8, s=50, marker='o', color='r', label=\"클래스 1\")\n",
    "plt.scatter(X2[:, 0], X2[:, 1], alpha=0.8, s=50, marker='s', color='g', label=\"클래스 2\")\n",
    "plt.scatter(X3[:, 0], X3[:, 1], alpha=0.8, s=50, marker='x', color='b', label=\"클래스 3\")\n",
    "plt.xlim(x1min, x1max)\n",
    "plt.ylim(x2min, x2max)\n",
    "plt.xlabel(\"$X_1$\")\n",
    "plt.ylabel(\"$X_2$\")\n",
    "plt.legend()\n",
    "plt.title(\"이차판별분석법 결과\")\n",
    "plt.show()"
   ]
  },
  {
   "cell_type": "markdown",
   "metadata": {},
   "source": [
    "### 연습 문제 1\n",
    "\n",
    "이차판별분석법을 사용하여 붓꽃 분류문제를 풀고 성능을 분류결과표와 분류보고서를 출력하라. 그리고 각 클래스에 대한 ROC 커브를 그려라."
   ]
  },
  {
   "cell_type": "code",
   "execution_count": 45,
   "metadata": {},
   "outputs": [],
   "source": [
    "from sklearn.datasets import load_iris\n",
    "iris = load_iris()\n",
    "X = iris.data\n",
    "y = iris.target\n",
    "\n",
    "qda = QuadraticDiscriminantAnalysis(store_covariance=True).fit(X, y)"
   ]
  },
  {
   "cell_type": "code",
   "execution_count": 47,
   "metadata": {},
   "outputs": [
    {
     "data": {
      "text/plain": [
       "(1001, 1000)"
      ]
     },
     "execution_count": 47,
     "metadata": {},
     "output_type": "execute_result"
    }
   ],
   "source": [
    "plt.scatter(X[:, ])"
   ]
  },
  {
   "cell_type": "code",
   "execution_count": 50,
   "metadata": {},
   "outputs": [
    {
     "data": {
      "text/plain": [
       "array([0.33333333, 0.33333333, 0.33333333])"
      ]
     },
     "execution_count": 50,
     "metadata": {},
     "output_type": "execute_result"
    }
   ],
   "source": [
    "qda.priors_"
   ]
  },
  {
   "cell_type": "code",
   "execution_count": 51,
   "metadata": {},
   "outputs": [
    {
     "data": {
      "text/plain": [
       "array([[5.006, 3.428, 1.462, 0.246],\n",
       "       [5.936, 2.77 , 4.26 , 1.326],\n",
       "       [6.588, 2.974, 5.552, 2.026]])"
      ]
     },
     "execution_count": 51,
     "metadata": {},
     "output_type": "execute_result"
    }
   ],
   "source": [
    "qda.means_"
   ]
  },
  {
   "cell_type": "code",
   "execution_count": 52,
   "metadata": {},
   "outputs": [
    {
     "data": {
      "text/plain": [
       "array([[0.12424898, 0.09921633, 0.0163551 , 0.01033061],\n",
       "       [0.09921633, 0.1436898 , 0.01169796, 0.00929796],\n",
       "       [0.0163551 , 0.01169796, 0.03015918, 0.00606939],\n",
       "       [0.01033061, 0.00929796, 0.00606939, 0.01110612]])"
      ]
     },
     "execution_count": 52,
     "metadata": {},
     "output_type": "execute_result"
    }
   ],
   "source": [
    "qda.covariance_[0]"
   ]
  },
  {
   "cell_type": "code",
   "execution_count": 53,
   "metadata": {},
   "outputs": [
    {
     "data": {
      "text/plain": [
       "array([[50,  0,  0],\n",
       "       [ 0, 48,  2],\n",
       "       [ 0,  1, 49]])"
      ]
     },
     "execution_count": 53,
     "metadata": {},
     "output_type": "execute_result"
    }
   ],
   "source": [
    "from sklearn.metrics import confusion_matrix, classification_report\n",
    "confusion_matrix(y, qda.predict(X))"
   ]
  },
  {
   "cell_type": "code",
   "execution_count": 55,
   "metadata": {},
   "outputs": [
    {
     "name": "stdout",
     "output_type": "stream",
     "text": [
      "              precision    recall  f1-score   support\n",
      "\n",
      "      setosa       1.00      1.00      1.00        50\n",
      "  versicolor       0.98      0.96      0.97        50\n",
      "   virginica       0.96      0.98      0.97        50\n",
      "\n",
      "    accuracy                           0.98       150\n",
      "   macro avg       0.98      0.98      0.98       150\n",
      "weighted avg       0.98      0.98      0.98       150\n",
      "\n"
     ]
    }
   ],
   "source": [
    "print(classification_report(y, qda.predict(X), target_names=iris.target_names))"
   ]
  },
  {
   "cell_type": "code",
   "execution_count": 56,
   "metadata": {},
   "outputs": [],
   "source": [
    "# 각 클래스별 ROC curve\n",
    "from sklearn.metrics import roc_curve, auc"
   ]
  },
  {
   "cell_type": "code",
   "execution_count": 60,
   "metadata": {},
   "outputs": [
    {
     "data": {
      "image/png": "[encoded data removed]",
      "text/plain": [
       "<Figure size 432x288 with 1 Axes>"
      ]
     },
     "metadata": {
      "needs_background": "light"
     },
     "output_type": "display_data"
    }
   ],
   "source": [
    "from sklearn.preprocessing import label_binarize\n",
    "X = iris.data\n",
    "y = label_binarize(iris.target, [0, 1, 2])\n",
    "\n",
    "fpr = [None] * 3\n",
    "tpr = [None] * 3\n",
    "thr = [None] * 3\n",
    "\n",
    "for i in range(3):\n",
    "    model = QuadraticDiscriminantAnalysis().fit(X, y[:, i])\n",
    "    fpr[i], tpr[i], thr[i] = roc_curve(y[:, i], model.predict(X))\n",
    "    plt.plot(fpr[i], tpr[i])\n",
    "    \n",
    "plt.xlabel(\"위양성률(Fall-Out)\")\n",
    "plt.ylabel(\"재현률(Recall)\")\n",
    "plt.show()"
   ]
  },
  {
   "cell_type": "code",
   "execution_count": 62,
   "metadata": {},
   "outputs": [
    {
     "name": "stdout",
     "output_type": "stream",
     "text": [
      "class 1:  1.0\n",
      "class 2:  0.955\n",
      "class 3:  0.96\n"
     ]
    }
   ],
   "source": [
    "# auc 구하기\n",
    "for i in range(3):\n",
    "    print(\"class {}: \".format(i+1), auc(fpr[i], tpr[i]))"
   ]
  },
  {
   "cell_type": "markdown",
   "metadata": {},
   "source": [
    "class 1이 모형이 가장 좋다."
   ]
  },
  {
   "cell_type": "markdown",
   "metadata": {},
   "source": [
    "## 선형판별분석법\n",
    "\n",
    "선형판별분석법에서는 각 Y 클래스에 대한 독립변수 X의 조건부확률분포가 공통된 공분산 행렬을 가지는 다변수 정규분포(multivariate Gaussian normal distribution)이라고 가정한다. 즉\n",
    "\n",
    "$$\\Sigma_k = \\Sigma \\;\\;\\; \\text{ for all } k$$"
   ]
  },
  {
   "cell_type": "markdown",
   "metadata": {},
   "source": [
    "이다.\n",
    "\n",
    "이 때는 조건부확률분포를 다음과 같이 정리할 수 있다.\n",
    "\n",
    "\\begin{eqnarray}\n",
    "\\log p(x \\mid y = k) \n",
    "&=& \\log \\dfrac{1}{(2\\pi)^{D/2} |\\Sigma|^{1/2}} -  \\dfrac{1}{2} (x-\\mu_k)^T \\Sigma^{-1} (x-\\mu_k) \\\\\n",
    "&=& C_0 - \\dfrac{1}{2} (x-\\mu_k)^T \\Sigma^{-1} (x-\\mu_k) \\\\\n",
    "&=& C_0 - \\dfrac{1}{2} \\left( x^T\\Sigma^{-1}x - 2\\mu_k^T \\Sigma^{-1}x + \\mu_k^T \\Sigma^{-1}\\mu_k \\right) \\\\\n",
    "&=& C(x)  + \\mu_k^T \\Sigma^{-1}x - \\dfrac{1}{2} \\mu_k^T \\Sigma^{-1}\\mu_k \\\\\n",
    "\\end{eqnarray}\n",
    "\n",
    "\\begin{eqnarray}\n",
    "p(x \\mid y = k) \n",
    "&=& C'(x)\\exp(w_k^Tx + w_{k0}) \\\\\n",
    "\\end{eqnarray}\n",
    "\n",
    "이 식에서  𝐶′(𝑥)=exp𝐶(𝑥) 이다.\n",
    "\n",
    "\\begin{eqnarray}\n",
    "P(y=k \\mid x) \n",
    "&=& \\dfrac{p(x \\mid y = k)P(y=k)}{\\sum_l p(x \\mid y = l)P(y=l) } \\\\\n",
    "&=& \\dfrac{C'(x)\\exp(w_k^Tx + w_{k0}) P(y=k)}{\\sum_l C'(x)\\exp(w_l^Tx + w_{l0})P(y=l) } \\\\\n",
    "&=& \\dfrac{C'(x)\\exp(w_k^Tx + w_{k0}) P(y=k)}{C'(x)\\sum_l \\exp(w_l^Tx + w_{l0})P(y=l) } \\\\\n",
    "&=& \\dfrac{P(y=k) \\exp(w_k^Tx + w_{k0}) }{\\sum_l P(y=l) \\exp(w_l^Tx + w_{k0})} \\\\\n",
    "&=& \\dfrac{P(y=k) \\exp(w_k^Tx + w_{k0}) }{P(x)} \\\\\n",
    "\\end{eqnarray}\n",
    "\n",
    "이 식에서  𝑃(𝑥) 는  𝑦  클래스값에 영향을 받지 않는다.\n",
    "\n",
    "따라서\n",
    "\n",
    "$$\\log P(y=k \\mid x) = \\log P(y=k) + w_k^Tx + w_{k0} - \\log{P(x)} = w_k^Tx + C''_k$$\n",
    "\n",
    "모든 클래스  𝑘 에 대해 위와 같은 식이 성립하므로 클래스  𝑘1 과 클래스  𝑘2 의 경계선, 즉 두 클래스에 대한 확률값이 같아지는  𝑥  위치를 찾으면 다음과 같다.\n",
    "\n",
    "$$w_{k_1}^Tx + C''_{k_1} = w_{k_2}^Tx + C''_{k_2}$$\n",
    "$$(w_{k_1} - w_{k_2})^Tx + (C''_{k_1} - C''_{k_2}) = 0$$\n",
    "\n",
    "$$w^Tx + C = 0$$"
   ]
  },
  {
   "cell_type": "markdown",
   "metadata": {},
   "source": [
    "즉, 판별함수가 x에 대한 선형방정식이 되고 경계선의 모양이 직선이 된다.\n",
    "\n",
    "#### Scikit-Learn은 선형판별분석법을 위한 LinearDiscriminantAnalysis 클래스를 제공한다."
   ]
  },
  {
   "cell_type": "code",
   "execution_count": 63,
   "metadata": {},
   "outputs": [],
   "source": [
    "N = 100\n",
    "rv1 = sp.stats.multivariate_normal([0, 0], [[0.7, 0.0], [0.0, 0.7]])\n",
    "rv2 = sp.stats.multivariate_normal([1, 1], [[0.8, 0.2], [0.2, 0.8]])\n",
    "rv3 = sp.stats.multivariate_normal([-1, 1], [[0.8, 0.2], [0.2, 0.8]])\n",
    "\n",
    "np.random.seed(0)\n",
    "X1 = rv1.rvs(N)\n",
    "X2 = rv2.rvs(N)\n",
    "X3 = rv3.rvs(N)\n",
    "\n",
    "y1 = np.zeros(N)\n",
    "y2 = np.ones(N)\n",
    "y3 = np.ones(N) + 1\n",
    "\n",
    "X = np.vstack([X1, X2, X3])\n",
    "y = np.hstack([y1, y2, y3])"
   ]
  },
  {
   "cell_type": "code",
   "execution_count": 64,
   "metadata": {},
   "outputs": [],
   "source": [
    "from sklearn.discriminant_analysis import LinearDiscriminantAnalysis\n",
    "\n",
    "lda = LinearDiscriminantAnalysis(n_components=3, solver=\"svd\", store_covariance=True).fit(X, y)"
   ]
  },
  {
   "cell_type": "markdown",
   "metadata": {},
   "source": [
    "선형판별분석법에서는 기댓값 벡터만 클래스에 따라 달라지고 공분산 행렬은 공통으로 추정한다."
   ]
  },
  {
   "cell_type": "code",
   "execution_count": 65,
   "metadata": {},
   "outputs": [
    {
     "data": {
      "text/plain": [
       "array([[-8.01254084e-04,  1.19457204e-01],\n",
       "       [ 1.16303727e+00,  1.03930605e+00],\n",
       "       [-8.64060404e-01,  1.02295794e+00]])"
      ]
     },
     "execution_count": 65,
     "metadata": {},
     "output_type": "execute_result"
    }
   ],
   "source": [
    "lda.means_"
   ]
  },
  {
   "cell_type": "code",
   "execution_count": 66,
   "metadata": {},
   "outputs": [
    {
     "data": {
      "text/plain": [
       "array([[0.7718516 , 0.13942905],\n",
       "       [0.13942905, 0.7620019 ]])"
      ]
     },
     "execution_count": 66,
     "metadata": {},
     "output_type": "execute_result"
    }
   ],
   "source": [
    "lda.covariance_"
   ]
  },
  {
   "cell_type": "markdown",
   "metadata": {},
   "source": [
    "결과는 다음과 같이 직선인 경계선을 가진다."
   ]
  },
  {
   "cell_type": "code",
   "execution_count": 68,
   "metadata": {},
   "outputs": [
    {
     "data": {
      "image/png": "[encoded data removed]",
      "text/plain": [
       "<Figure size 432x288 with 1 Axes>"
      ]
     },
     "metadata": {
      "needs_background": "light"
     },
     "output_type": "display_data"
    }
   ],
   "source": [
    "x1min, x1max = -5, 5\n",
    "x2min, x2max = -4, 5\n",
    "XX1, XX2 = np.meshgrid(np.arange(x1min, x1max, (x1max-x1min)/1000), np.arange(x2min, x2max, (x2max-x2min)/1000))\n",
    "YY = np.reshape(lda.predict(np.array([XX1.ravel(), XX2.ravel()]).T), XX1.shape)\n",
    "cmap = mpl.colors.ListedColormap(sns.color_palette([\"r\", \"g\", \"b\"]).as_hex())\n",
    "\n",
    "plt.contourf(XX1, XX2, YY, cmap=cmap, alpha=0.2)\n",
    "plt.scatter(X1[:, 0], X1[:, 1], alpha=0.8, s=50, marker='o', color='r', label=\"클래스 1\")\n",
    "plt.scatter(X2[:, 0], X2[:, 1], alpha=0.8, s=50, marker='s', color='g', label=\"클래스 2\")\n",
    "plt.scatter(X3[:, 0], X3[:, 1], alpha=0.8, s=50, marker='x', color='b', label=\"클래스 3\")\n",
    "plt.xlim(x1min, x1max)\n",
    "plt.ylim(x2min, x2max)\n",
    "plt.xlabel(\"$X_1$\")\n",
    "plt.ylabel(\"$X_2$\")\n",
    "plt.legend()\n",
    "plt.title(\"LDA 분석결과\")\n",
    "plt.show()"
   ]
  },
  {
   "cell_type": "markdown",
   "metadata": {},
   "source": [
    "### 연습 문제 2\n",
    "\n",
    "선형판별분석법을 사용하여 붓꽃 분류문제를 풀고 성능을 분류결과표와 분류보고서를 출력하라. 그리고 각 클래스에 대한 ROC 커브를 그려라."
   ]
  },
  {
   "cell_type": "code",
   "execution_count": 69,
   "metadata": {},
   "outputs": [],
   "source": [
    "X = iris.data\n",
    "y = iris.target\n",
    "\n",
    "model = LinearDiscriminantAnalysis(n_components=3, solver='svd', store_covariance=True).fit(X, y)"
   ]
  },
  {
   "cell_type": "code",
   "execution_count": 70,
   "metadata": {},
   "outputs": [
    {
     "data": {
      "text/plain": [
       "array([[5.006, 3.428, 1.462, 0.246],\n",
       "       [5.936, 2.77 , 4.26 , 1.326],\n",
       "       [6.588, 2.974, 5.552, 2.026]])"
      ]
     },
     "execution_count": 70,
     "metadata": {},
     "output_type": "execute_result"
    }
   ],
   "source": [
    "model.means_"
   ]
  },
  {
   "cell_type": "code",
   "execution_count": 71,
   "metadata": {},
   "outputs": [
    {
     "data": {
      "text/plain": [
       "array([[0.259708  , 0.09086667, 0.164164  , 0.03763333],\n",
       "       [0.09086667, 0.11308   , 0.05413867, 0.032056  ],\n",
       "       [0.164164  , 0.05413867, 0.181484  , 0.041812  ],\n",
       "       [0.03763333, 0.032056  , 0.041812  , 0.041044  ]])"
      ]
     },
     "execution_count": 71,
     "metadata": {},
     "output_type": "execute_result"
    }
   ],
   "source": [
    "model.covariance_"
   ]
  },
  {
   "cell_type": "code",
   "execution_count": 72,
   "metadata": {},
   "outputs": [
    {
     "data": {
      "text/plain": [
       "array([[50,  0,  0],\n",
       "       [ 0, 48,  2],\n",
       "       [ 0,  1, 49]])"
      ]
     },
     "execution_count": 72,
     "metadata": {},
     "output_type": "execute_result"
    }
   ],
   "source": [
    "confusion_matrix(y, model.predict(X))"
   ]
  },
  {
   "cell_type": "code",
   "execution_count": 73,
   "metadata": {},
   "outputs": [
    {
     "name": "stdout",
     "output_type": "stream",
     "text": [
      "              precision    recall  f1-score   support\n",
      "\n",
      "      setosa       1.00      1.00      1.00        50\n",
      "  versicolor       0.98      0.96      0.97        50\n",
      "   virginica       0.96      0.98      0.97        50\n",
      "\n",
      "    accuracy                           0.98       150\n",
      "   macro avg       0.98      0.98      0.98       150\n",
      "weighted avg       0.98      0.98      0.98       150\n",
      "\n"
     ]
    }
   ],
   "source": [
    "print(classification_report(y, model.predict(X), target_names=iris.target_names))"
   ]
  },
  {
   "cell_type": "code",
   "execution_count": 76,
   "metadata": {},
   "outputs": [
    {
     "data": {
      "image/png": "[encoded data removed]",
      "text/plain": [
       "<Figure size 432x288 with 1 Axes>"
      ]
     },
     "metadata": {
      "needs_background": "light"
     },
     "output_type": "display_data"
    }
   ],
   "source": [
    "fpr = [None] * 3\n",
    "tpr = [None] * 3\n",
    "thr = [None] * 3\n",
    "\n",
    "X = iris.data\n",
    "y = label_binarize(iris.target, [0, 1, 2])\n",
    "\n",
    "for i in range(3):\n",
    "    model = LinearDiscriminantAnalysis().fit(X, y[:, i])\n",
    "    fpr[i], tpr[i], thr[i] = roc_curve(y[:, i], model.predict(X))\n",
    "    plt.plot(fpr[i], tpr[i], label=\"class{}\".format(i+1))\n",
    "    \n",
    "plt.xlabel(\"위양성률(Fall-Out)\")\n",
    "plt.ylabel(\"재현률(Recall)\")\n",
    "plt.legend()\n",
    "plt.show()"
   ]
  },
  {
   "cell_type": "code",
   "execution_count": 75,
   "metadata": {},
   "outputs": [
    {
     "name": "stdout",
     "output_type": "stream",
     "text": [
      "class 1: 1.0\n",
      "class 2: 0.6699999999999999\n",
      "class 3: 0.9249999999999999\n"
     ]
    }
   ],
   "source": [
    "for i in range(3):\n",
    "    print(\"class {}:\".format(i+1), auc(fpr[i], tpr[i]))"
   ]
  },
  {
   "cell_type": "markdown",
   "metadata": {},
   "source": [
    "클래스 2의 모형 성능은 좋지 않다."
   ]
  },
  {
   "cell_type": "code",
   "execution_count": null,
   "metadata": {},
   "outputs": [],
   "source": []
  }
 ],
 "metadata": {
  "kernelspec": {
   "display_name": "Python 3",
   "language": "python",
   "name": "python3"
  },
  "language_info": {
   "codemirror_mode": {
    "name": "ipython",
    "version": 3
   },
   "file_extension": ".py",
   "mimetype": "text/x-python",
   "name": "python",
   "nbconvert_exporter": "python",
   "pygments_lexer": "ipython3",
   "version": "3.7.4"
  }
 },
 "nbformat": 4,
 "nbformat_minor": 2
}
